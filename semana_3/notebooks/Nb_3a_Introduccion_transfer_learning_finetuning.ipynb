{
  "cells": [
    {
      "cell_type": "markdown",
      "metadata": {
        "id": "WfubKCC9jIFU"
      },
      "source": [
        "## Introducción a pre-trained models, transfer learning and fine tuning\n",
        "\n",
        "```\n",
        "Última actualización 04/08/2025\n",
        "```\n",
        "\n"
      ]
    },
    {
      "cell_type": "markdown",
      "source": [
        "[![Open In Colab](https://colab.research.google.com/assets/colab-badge.svg)](https://colab.research.google.com/github/jeffersonrodriguezc/deep-learning-en-3-semanas/blob/main/semana_3/notebooks/Nb_3a_Introduccion_transfer_learning_finetuning.ipynb)"
      ],
      "metadata": {
        "id": "Vjw3gMa9PFBU"
      }
    },
    {
      "cell_type": "code",
      "execution_count": 1,
      "metadata": {
        "id": "EHZYJu98sCUA",
        "cellView": "form"
      },
      "outputs": [],
      "source": [
        "#@title Eliminar librerías (Problema de compatibilidad reciente con numpy )\n",
        "from IPython.display import clear_output\n",
        "\n",
        "!pip uninstall  -y numpy\n",
        "!pip -q install numpy==1.26.4\n",
        "\n",
        "clear_output()"
      ]
    },
    {
      "cell_type": "code",
      "source": [
        "#@title Ejecutar esta celda para reiniciar el entorno de ejecución\n",
        "import os\n",
        "os.kill(os.getpid(), 9)"
      ],
      "metadata": {
        "cellView": "form",
        "id": "z4YhZwclY6sd"
      },
      "execution_count": null,
      "outputs": []
    },
    {
      "cell_type": "code",
      "source": [
        "#@title Instalar librerías necesarias\n",
        "\n",
        "!pip -q install keras-nlp\n",
        "!pip -q install gensim\n",
        "\n",
        "\n",
        "import os\n",
        "os.environ[\"KERAS_BACKEND\"] = \"tensorflow\"\n",
        "\n",
        "import pandas as pd\n",
        "import keras_hub\n",
        "import tensorflow as tf\n",
        "import tensorflow_datasets as tfds\n",
        "from tensorflow.keras import layers, models, optimizers, callbacks\n",
        "from tensorflow.keras.applications import VGG16\n",
        "from tensorflow.keras.datasets import mnist\n",
        "from tensorflow.keras.utils import to_categorical\n",
        "import numpy as np\n",
        "import matplotlib.pyplot as plt\n",
        "from tensorflow.keras import backend as K\n",
        "from gensim.models import KeyedVectors\n",
        "from IPython.display import clear_output\n",
        "from sklearn.metrics import accuracy_score\n",
        "\n",
        "from sklearn.model_selection import train_test_split\n",
        "from sklearn.datasets import fetch_covtype\n",
        "from sklearn.metrics import roc_auc_score\n",
        "\n",
        "clear_output()\n",
        "\n",
        "print(\"Se han importado todas las librerías correctamente\")"
      ],
      "metadata": {
        "cellView": "form",
        "id": "gRJqu-iAYV4e",
        "outputId": "c50ddc62-e233-4ab0-a8fb-48e49f1a7c4a",
        "colab": {
          "base_uri": "https://localhost:8080/"
        }
      },
      "execution_count": 1,
      "outputs": [
        {
          "output_type": "stream",
          "name": "stdout",
          "text": [
            "Se han importado todas las librerías correctamente\n"
          ]
        }
      ]
    },
    {
      "cell_type": "code",
      "source": [
        "#@title Definir funciones complementarias\n",
        "def plot_graphs(history, metric):\n",
        "  plt.plot(history.history[metric])\n",
        "  plt.plot(history.history['val_'+metric], '')\n",
        "  plt.xlabel(\"Epochs\")\n",
        "  plt.ylabel(metric)\n",
        "  plt.legend([metric, 'val_'+metric])\n",
        "\n",
        "def plot_curvas(history):\n",
        "  plt.figure(figsize=(12, 6))\n",
        "  plt.subplot(1, 2, 1)\n",
        "  plot_graphs(history, 'accuracy')\n",
        "  plt.ylim(None, 1)\n",
        "  plt.subplot(1, 2, 2)\n",
        "  plot_graphs(history, 'loss')\n",
        "  plt.ylim(0, None)\n",
        "\n",
        "def cosine_similarity(vec_a, vec_b):\n",
        "  \"\"\"Compute cosine similarity between vec_a and vec_b\"\"\"\n",
        "  return np.dot(vec_a, vec_b) / (np.linalg.norm(vec_a) * np.linalg.norm(vec_b))\n",
        "\n",
        "# dibujamos ciertos ejemplos de entrenamiento\n",
        "def plot_imagenes(train_images,train_labels):\n",
        "  plt.figure(figsize=(10, 4))\n",
        "  for i in range(10):\n",
        "      plt.subplot(2, 5, i + 1)\n",
        "      plt.grid(False)\n",
        "      plt.xticks([])\n",
        "      plt.yticks([])\n",
        "      plt.imshow(train_images[i], cmap=plt.cm.gray)\n",
        "      plt.xlabel(train_labels[i])\n",
        "  plt.show()\n",
        "\n",
        "def plot_predicciones(model,test_images):\n",
        "  plt.figure(figsize=(10, 4))\n",
        "  for i in range(10):\n",
        "      plt.subplot(2, 5, i + 1)\n",
        "      plt.grid(False)\n",
        "      plt.xticks([])\n",
        "      plt.yticks([])\n",
        "      plt.imshow(test_images[i], cmap=plt.cm.gray)\n",
        "      pred = np.argmax(model.predict(np.expand_dims(test_images[i], axis=0), verbose=False))\n",
        "      plt.xlabel(f\"Pred: {pred}\")\n",
        "  plt.show()\n",
        "\n",
        "def leer_datos_phishing():\n",
        "    import zipfile\n",
        "    import wget\n",
        "    from scipy.io import arff\n",
        "\n",
        "\n",
        "    # Dataset 1: Phishing Websites (.arff -> CSV manual en GitHub alternativo)\n",
        "    url1 = \"https://archive.ics.uci.edu/static/public/327/phishing+websites.zip\"\n",
        "    wget.download(url1)\n",
        "\n",
        "    # Dataset 2: PhiUSIIL (CSV)\n",
        "    url2 = \"https://archive.ics.uci.edu/static/public/967/phiusiil+phishing+url+dataset.zip\"\n",
        "    wget.download(url2)\n",
        "\n",
        "    with zipfile.ZipFile(\"phishing+websites.zip\", 'r') as zip_ref:\n",
        "        zip_ref.extractall(\"./phishing\")\n",
        "\n",
        "    data, meta = arff.loadarff('./phishing/Training Dataset.arff')\n",
        "    # Convertir los datos a un DataFrame de Pandas\n",
        "    df1 = pd.DataFrame(data)\n",
        "    df1 = df1.astype(int)\n",
        "    df1['Result'] = df1.Result.replace({-1:0})\n",
        "\n",
        "    with zipfile.ZipFile(\"phiusiil+phishing+url+dataset.zip\", 'r') as zip_ref:\n",
        "        zip_ref.extractall(\"./phiusiil\")\n",
        "\n",
        "    df2 = pd.read_csv(\"./phiusiil/PhiUSIIL_Phishing_URL_Dataset.csv\")\n",
        "\n",
        "    return df1, df2"
      ],
      "metadata": {
        "cellView": "form",
        "id": "tmmfVBrw8cns"
      },
      "execution_count": 2,
      "outputs": []
    },
    {
      "cell_type": "markdown",
      "metadata": {
        "id": "vYrJoSsmCDYZ"
      },
      "source": [
        "## Transfer Learning y fine tuning en Clasificación de imágenes"
      ]
    },
    {
      "cell_type": "markdown",
      "source": [
        "### Descargar los datos"
      ],
      "metadata": {
        "id": "r-tHtBrfoivg"
      }
    },
    {
      "cell_type": "code",
      "source": [
        "(train_images, train_labels), (test_images, test_labels) = mnist.load_data()\n",
        "print(\"Train shape: \", train_images.shape)\n",
        "print(\"Test shape: \", test_images.shape)"
      ],
      "metadata": {
        "id": "MHuYKqCWFWKC",
        "outputId": "9630f7e9-7b28-4a2f-a3fa-fa22e9e6361e",
        "colab": {
          "base_uri": "https://localhost:8080/"
        }
      },
      "execution_count": 3,
      "outputs": [
        {
          "output_type": "stream",
          "name": "stdout",
          "text": [
            "Downloading data from https://storage.googleapis.com/tensorflow/tf-keras-datasets/mnist.npz\n",
            "\u001b[1m11490434/11490434\u001b[0m \u001b[32m━━━━━━━━━━━━━━━━━━━━\u001b[0m\u001b[37m\u001b[0m \u001b[1m2s\u001b[0m 0us/step\n",
            "Train shape:  (60000, 28, 28)\n",
            "Test shape:  (10000, 28, 28)\n"
          ]
        }
      ]
    },
    {
      "cell_type": "code",
      "execution_count": 4,
      "metadata": {
        "colab": {
          "base_uri": "https://localhost:8080/",
          "height": 358
        },
        "id": "yumUwawJspv7",
        "outputId": "cc2be084-94c4-46dc-c528-b2210752477a"
      },
      "outputs": [
        {
          "output_type": "display_data",
          "data": {
            "text/plain": [
              "<Figure size 1000x400 with 10 Axes>"
            ],
            "image/png": "[encoded data removed]"
          },
          "metadata": {}
        }
      ],
      "source": [
        "plot_imagenes(train_images,train_labels)"
      ]
    },
    {
      "cell_type": "code",
      "execution_count": 5,
      "metadata": {
        "colab": {
          "base_uri": "https://localhost:8080/"
        },
        "id": "-zIjif0os8wK",
        "outputId": "a19cdf6b-88d8-482c-aa4c-32eaa69658d0"
      },
      "outputs": [
        {
          "output_type": "stream",
          "name": "stdout",
          "text": [
            "Train shape:  (60000, 32, 32, 3)\n",
            "Test shape:  (10000, 32, 32, 3)\n"
          ]
        }
      ],
      "source": [
        "# Redimensionamos las imagenes a 32x32 (el minimo tamaño que soporta vgg16)\n",
        "train_images = tf.image.grayscale_to_rgb(tf.expand_dims(train_images, axis=-1))\n",
        "test_images = tf.image.grayscale_to_rgb(tf.expand_dims(test_images, axis=-1))\n",
        "# Agregamos 3 canales de color (RGB) debido a que la red tambien lo necesita\n",
        "train_images = tf.image.resize(train_images, [32, 32])\n",
        "test_images = tf.image.resize(test_images, [32, 32])\n",
        "# Normalizamos las imagenes entre [0, 1] para que el aprendizaje sea mas suave\n",
        "train_images = train_images / 255.0\n",
        "test_images = test_images / 255.0\n",
        "print(\"Train shape: \", train_images.shape)\n",
        "print(\"Test shape: \", test_images.shape)"
      ]
    },
    {
      "cell_type": "code",
      "execution_count": 6,
      "metadata": {
        "colab": {
          "base_uri": "https://localhost:8080/"
        },
        "id": "WS95fc_ntp4g",
        "outputId": "5969ae66-b983-422b-d81d-0814620d7dc9"
      },
      "outputs": [
        {
          "output_type": "stream",
          "name": "stdout",
          "text": [
            "[0. 0. 0. ... 0. 0. 0.]\n"
          ]
        }
      ],
      "source": [
        "# Convertimos las etiquetas a formato one-hot encoding\n",
        "train_labels_ohc = to_categorical(train_labels, 10)\n",
        "test_labels_ohc = to_categorical(test_labels, 10)\n",
        "print(train_labels_ohc[:,1])"
      ]
    },
    {
      "cell_type": "markdown",
      "source": [
        "### Transfer-learning"
      ],
      "metadata": {
        "id": "y6GSRwhaox_s"
      }
    },
    {
      "cell_type": "markdown",
      "source": [
        "En esta sección, utilizaremos el modelo pre-entrenado [VGG16](https://www.tensorflow.org/api_docs/python/tf/keras/applications/VGG16), el cual es una red convolucional que es usada para reconocimiento de imágenes. Este modelo fue entrenado con ImageNet, por lo cual es un modelo bastante robusto.\n",
        "\n",
        "**Objetivo**:\n",
        "- El objetivo será cargar dicho modelo pre-entrenado y utilizarlo sobre el dataset [MNIST](https://www.tensorflow.org/datasets/catalog/mnist), el cual contiene 70.000 imagenes de digitos escritos a mano. Así, poder clasificar dichos números con nuestro modelo entrenado previamente."
      ],
      "metadata": {
        "id": "E7NNK6F2ot8D"
      }
    },
    {
      "cell_type": "code",
      "execution_count": 7,
      "metadata": {
        "colab": {
          "base_uri": "https://localhost:8080/",
          "height": 785
        },
        "id": "tbiK0UFWtxCn",
        "outputId": "0536f80c-cd79-4edb-a409-f6664ca84ecf"
      },
      "outputs": [
        {
          "output_type": "stream",
          "name": "stdout",
          "text": [
            "Downloading data from https://storage.googleapis.com/tensorflow/keras-applications/vgg16/vgg16_weights_tf_dim_ordering_tf_kernels_notop.h5\n",
            "\u001b[1m58889256/58889256\u001b[0m \u001b[32m━━━━━━━━━━━━━━━━━━━━\u001b[0m\u001b[37m\u001b[0m \u001b[1m4s\u001b[0m 0us/step\n"
          ]
        },
        {
          "output_type": "display_data",
          "data": {
            "text/plain": [
              "\u001b[1mModel: \"vgg16\"\u001b[0m\n"
            ],
            "text/html": [
              "<pre style=\"white-space:pre;overflow-x:auto;line-height:normal;font-family:Menlo,'DejaVu Sans Mono',consolas,'Courier New',monospace\"><span style=\"font-weight: bold\">Model: \"vgg16\"</span>\n",
              "</pre>\n"
            ]
          },
          "metadata": {}
        },
        {
          "output_type": "display_data",
          "data": {
            "text/plain": [
              "┏━━━━━━━━━━━━━━━━━━━━━━━━━━━━━━━━━┳━━━━━━━━━━━━━━━━━━━━━━━━┳━━━━━━━━━━━━━━━┓\n",
              "┃\u001b[1m \u001b[0m\u001b[1mLayer (type)                   \u001b[0m\u001b[1m \u001b[0m┃\u001b[1m \u001b[0m\u001b[1mOutput Shape          \u001b[0m\u001b[1m \u001b[0m┃\u001b[1m \u001b[0m\u001b[1m      Param #\u001b[0m\u001b[1m \u001b[0m┃\n",
              "┡━━━━━━━━━━━━━━━━━━━━━━━━━━━━━━━━━╇━━━━━━━━━━━━━━━━━━━━━━━━╇━━━━━━━━━━━━━━━┩\n",
              "│ input_layer (\u001b[38;5;33mInputLayer\u001b[0m)        │ (\u001b[38;5;45mNone\u001b[0m, \u001b[38;5;34m32\u001b[0m, \u001b[38;5;34m32\u001b[0m, \u001b[38;5;34m3\u001b[0m)      │             \u001b[38;5;34m0\u001b[0m │\n",
              "├─────────────────────────────────┼────────────────────────┼───────────────┤\n",
              "│ block1_conv1 (\u001b[38;5;33mConv2D\u001b[0m)           │ (\u001b[38;5;45mNone\u001b[0m, \u001b[38;5;34m32\u001b[0m, \u001b[38;5;34m32\u001b[0m, \u001b[38;5;34m64\u001b[0m)     │         \u001b[38;5;34m1,792\u001b[0m │\n",
              "├─────────────────────────────────┼────────────────────────┼───────────────┤\n",
              "│ block1_conv2 (\u001b[38;5;33mConv2D\u001b[0m)           │ (\u001b[38;5;45mNone\u001b[0m, \u001b[38;5;34m32\u001b[0m, \u001b[38;5;34m32\u001b[0m, \u001b[38;5;34m64\u001b[0m)     │        \u001b[38;5;34m36,928\u001b[0m │\n",
              "├─────────────────────────────────┼────────────────────────┼───────────────┤\n",
              "│ block1_pool (\u001b[38;5;33mMaxPooling2D\u001b[0m)      │ (\u001b[38;5;45mNone\u001b[0m, \u001b[38;5;34m16\u001b[0m, \u001b[38;5;34m16\u001b[0m, \u001b[38;5;34m64\u001b[0m)     │             \u001b[38;5;34m0\u001b[0m │\n",
              "├─────────────────────────────────┼────────────────────────┼───────────────┤\n",
              "│ block2_conv1 (\u001b[38;5;33mConv2D\u001b[0m)           │ (\u001b[38;5;45mNone\u001b[0m, \u001b[38;5;34m16\u001b[0m, \u001b[38;5;34m16\u001b[0m, \u001b[38;5;34m128\u001b[0m)    │        \u001b[38;5;34m73,856\u001b[0m │\n",
              "├─────────────────────────────────┼────────────────────────┼───────────────┤\n",
              "│ block2_conv2 (\u001b[38;5;33mConv2D\u001b[0m)           │ (\u001b[38;5;45mNone\u001b[0m, \u001b[38;5;34m16\u001b[0m, \u001b[38;5;34m16\u001b[0m, \u001b[38;5;34m128\u001b[0m)    │       \u001b[38;5;34m147,584\u001b[0m │\n",
              "├─────────────────────────────────┼────────────────────────┼───────────────┤\n",
              "│ block2_pool (\u001b[38;5;33mMaxPooling2D\u001b[0m)      │ (\u001b[38;5;45mNone\u001b[0m, \u001b[38;5;34m8\u001b[0m, \u001b[38;5;34m8\u001b[0m, \u001b[38;5;34m128\u001b[0m)      │             \u001b[38;5;34m0\u001b[0m │\n",
              "├─────────────────────────────────┼────────────────────────┼───────────────┤\n",
              "│ block3_conv1 (\u001b[38;5;33mConv2D\u001b[0m)           │ (\u001b[38;5;45mNone\u001b[0m, \u001b[38;5;34m8\u001b[0m, \u001b[38;5;34m8\u001b[0m, \u001b[38;5;34m256\u001b[0m)      │       \u001b[38;5;34m295,168\u001b[0m │\n",
              "├─────────────────────────────────┼────────────────────────┼───────────────┤\n",
              "│ block3_conv2 (\u001b[38;5;33mConv2D\u001b[0m)           │ (\u001b[38;5;45mNone\u001b[0m, \u001b[38;5;34m8\u001b[0m, \u001b[38;5;34m8\u001b[0m, \u001b[38;5;34m256\u001b[0m)      │       \u001b[38;5;34m590,080\u001b[0m │\n",
              "├─────────────────────────────────┼────────────────────────┼───────────────┤\n",
              "│ block3_conv3 (\u001b[38;5;33mConv2D\u001b[0m)           │ (\u001b[38;5;45mNone\u001b[0m, \u001b[38;5;34m8\u001b[0m, \u001b[38;5;34m8\u001b[0m, \u001b[38;5;34m256\u001b[0m)      │       \u001b[38;5;34m590,080\u001b[0m │\n",
              "├─────────────────────────────────┼────────────────────────┼───────────────┤\n",
              "│ block3_pool (\u001b[38;5;33mMaxPooling2D\u001b[0m)      │ (\u001b[38;5;45mNone\u001b[0m, \u001b[38;5;34m4\u001b[0m, \u001b[38;5;34m4\u001b[0m, \u001b[38;5;34m256\u001b[0m)      │             \u001b[38;5;34m0\u001b[0m │\n",
              "├─────────────────────────────────┼────────────────────────┼───────────────┤\n",
              "│ block4_conv1 (\u001b[38;5;33mConv2D\u001b[0m)           │ (\u001b[38;5;45mNone\u001b[0m, \u001b[38;5;34m4\u001b[0m, \u001b[38;5;34m4\u001b[0m, \u001b[38;5;34m512\u001b[0m)      │     \u001b[38;5;34m1,180,160\u001b[0m │\n",
              "├─────────────────────────────────┼────────────────────────┼───────────────┤\n",
              "│ block4_conv2 (\u001b[38;5;33mConv2D\u001b[0m)           │ (\u001b[38;5;45mNone\u001b[0m, \u001b[38;5;34m4\u001b[0m, \u001b[38;5;34m4\u001b[0m, \u001b[38;5;34m512\u001b[0m)      │     \u001b[38;5;34m2,359,808\u001b[0m │\n",
              "├─────────────────────────────────┼────────────────────────┼───────────────┤\n",
              "│ block4_conv3 (\u001b[38;5;33mConv2D\u001b[0m)           │ (\u001b[38;5;45mNone\u001b[0m, \u001b[38;5;34m4\u001b[0m, \u001b[38;5;34m4\u001b[0m, \u001b[38;5;34m512\u001b[0m)      │     \u001b[38;5;34m2,359,808\u001b[0m │\n",
              "├─────────────────────────────────┼────────────────────────┼───────────────┤\n",
              "│ block4_pool (\u001b[38;5;33mMaxPooling2D\u001b[0m)      │ (\u001b[38;5;45mNone\u001b[0m, \u001b[38;5;34m2\u001b[0m, \u001b[38;5;34m2\u001b[0m, \u001b[38;5;34m512\u001b[0m)      │             \u001b[38;5;34m0\u001b[0m │\n",
              "├─────────────────────────────────┼────────────────────────┼───────────────┤\n",
              "│ block5_conv1 (\u001b[38;5;33mConv2D\u001b[0m)           │ (\u001b[38;5;45mNone\u001b[0m, \u001b[38;5;34m2\u001b[0m, \u001b[38;5;34m2\u001b[0m, \u001b[38;5;34m512\u001b[0m)      │     \u001b[38;5;34m2,359,808\u001b[0m │\n",
              "├─────────────────────────────────┼────────────────────────┼───────────────┤\n",
              "│ block5_conv2 (\u001b[38;5;33mConv2D\u001b[0m)           │ (\u001b[38;5;45mNone\u001b[0m, \u001b[38;5;34m2\u001b[0m, \u001b[38;5;34m2\u001b[0m, \u001b[38;5;34m512\u001b[0m)      │     \u001b[38;5;34m2,359,808\u001b[0m │\n",
              "├─────────────────────────────────┼────────────────────────┼───────────────┤\n",
              "│ block5_conv3 (\u001b[38;5;33mConv2D\u001b[0m)           │ (\u001b[38;5;45mNone\u001b[0m, \u001b[38;5;34m2\u001b[0m, \u001b[38;5;34m2\u001b[0m, \u001b[38;5;34m512\u001b[0m)      │     \u001b[38;5;34m2,359,808\u001b[0m │\n",
              "├─────────────────────────────────┼────────────────────────┼───────────────┤\n",
              "│ block5_pool (\u001b[38;5;33mMaxPooling2D\u001b[0m)      │ (\u001b[38;5;45mNone\u001b[0m, \u001b[38;5;34m1\u001b[0m, \u001b[38;5;34m1\u001b[0m, \u001b[38;5;34m512\u001b[0m)      │             \u001b[38;5;34m0\u001b[0m │\n",
              "└─────────────────────────────────┴────────────────────────┴───────────────┘\n"
            ],
            "text/html": [
              "<pre style=\"white-space:pre;overflow-x:auto;line-height:normal;font-family:Menlo,'DejaVu Sans Mono',consolas,'Courier New',monospace\">┏━━━━━━━━━━━━━━━━━━━━━━━━━━━━━━━━━┳━━━━━━━━━━━━━━━━━━━━━━━━┳━━━━━━━━━━━━━━━┓\n",
              "┃<span style=\"font-weight: bold\"> Layer (type)                    </span>┃<span style=\"font-weight: bold\"> Output Shape           </span>┃<span style=\"font-weight: bold\">       Param # </span>┃\n",
              "┡━━━━━━━━━━━━━━━━━━━━━━━━━━━━━━━━━╇━━━━━━━━━━━━━━━━━━━━━━━━╇━━━━━━━━━━━━━━━┩\n",
              "│ input_layer (<span style=\"color: #0087ff; text-decoration-color: #0087ff\">InputLayer</span>)        │ (<span style=\"color: #00d7ff; text-decoration-color: #00d7ff\">None</span>, <span style=\"color: #00af00; text-decoration-color: #00af00\">32</span>, <span style=\"color: #00af00; text-decoration-color: #00af00\">32</span>, <span style=\"color: #00af00; text-decoration-color: #00af00\">3</span>)      │             <span style=\"color: #00af00; text-decoration-color: #00af00\">0</span> │\n",
              "├─────────────────────────────────┼────────────────────────┼───────────────┤\n",
              "│ block1_conv1 (<span style=\"color: #0087ff; text-decoration-color: #0087ff\">Conv2D</span>)           │ (<span style=\"color: #00d7ff; text-decoration-color: #00d7ff\">None</span>, <span style=\"color: #00af00; text-decoration-color: #00af00\">32</span>, <span style=\"color: #00af00; text-decoration-color: #00af00\">32</span>, <span style=\"color: #00af00; text-decoration-color: #00af00\">64</span>)     │         <span style=\"color: #00af00; text-decoration-color: #00af00\">1,792</span> │\n",
              "├─────────────────────────────────┼────────────────────────┼───────────────┤\n",
              "│ block1_conv2 (<span style=\"color: #0087ff; text-decoration-color: #0087ff\">Conv2D</span>)           │ (<span style=\"color: #00d7ff; text-decoration-color: #00d7ff\">None</span>, <span style=\"color: #00af00; text-decoration-color: #00af00\">32</span>, <span style=\"color: #00af00; text-decoration-color: #00af00\">32</span>, <span style=\"color: #00af00; text-decoration-color: #00af00\">64</span>)     │        <span style=\"color: #00af00; text-decoration-color: #00af00\">36,928</span> │\n",
              "├─────────────────────────────────┼────────────────────────┼───────────────┤\n",
              "│ block1_pool (<span style=\"color: #0087ff; text-decoration-color: #0087ff\">MaxPooling2D</span>)      │ (<span style=\"color: #00d7ff; text-decoration-color: #00d7ff\">None</span>, <span style=\"color: #00af00; text-decoration-color: #00af00\">16</span>, <span style=\"color: #00af00; text-decoration-color: #00af00\">16</span>, <span style=\"color: #00af00; text-decoration-color: #00af00\">64</span>)     │             <span style=\"color: #00af00; text-decoration-color: #00af00\">0</span> │\n",
              "├─────────────────────────────────┼────────────────────────┼───────────────┤\n",
              "│ block2_conv1 (<span style=\"color: #0087ff; text-decoration-color: #0087ff\">Conv2D</span>)           │ (<span style=\"color: #00d7ff; text-decoration-color: #00d7ff\">None</span>, <span style=\"color: #00af00; text-decoration-color: #00af00\">16</span>, <span style=\"color: #00af00; text-decoration-color: #00af00\">16</span>, <span style=\"color: #00af00; text-decoration-color: #00af00\">128</span>)    │        <span style=\"color: #00af00; text-decoration-color: #00af00\">73,856</span> │\n",
              "├─────────────────────────────────┼────────────────────────┼───────────────┤\n",
              "│ block2_conv2 (<span style=\"color: #0087ff; text-decoration-color: #0087ff\">Conv2D</span>)           │ (<span style=\"color: #00d7ff; text-decoration-color: #00d7ff\">None</span>, <span style=\"color: #00af00; text-decoration-color: #00af00\">16</span>, <span style=\"color: #00af00; text-decoration-color: #00af00\">16</span>, <span style=\"color: #00af00; text-decoration-color: #00af00\">128</span>)    │       <span style=\"color: #00af00; text-decoration-color: #00af00\">147,584</span> │\n",
              "├─────────────────────────────────┼────────────────────────┼───────────────┤\n",
              "│ block2_pool (<span style=\"color: #0087ff; text-decoration-color: #0087ff\">MaxPooling2D</span>)      │ (<span style=\"color: #00d7ff; text-decoration-color: #00d7ff\">None</span>, <span style=\"color: #00af00; text-decoration-color: #00af00\">8</span>, <span style=\"color: #00af00; text-decoration-color: #00af00\">8</span>, <span style=\"color: #00af00; text-decoration-color: #00af00\">128</span>)      │             <span style=\"color: #00af00; text-decoration-color: #00af00\">0</span> │\n",
              "├─────────────────────────────────┼────────────────────────┼───────────────┤\n",
              "│ block3_conv1 (<span style=\"color: #0087ff; text-decoration-color: #0087ff\">Conv2D</span>)           │ (<span style=\"color: #00d7ff; text-decoration-color: #00d7ff\">None</span>, <span style=\"color: #00af00; text-decoration-color: #00af00\">8</span>, <span style=\"color: #00af00; text-decoration-color: #00af00\">8</span>, <span style=\"color: #00af00; text-decoration-color: #00af00\">256</span>)      │       <span style=\"color: #00af00; text-decoration-color: #00af00\">295,168</span> │\n",
              "├─────────────────────────────────┼────────────────────────┼───────────────┤\n",
              "│ block3_conv2 (<span style=\"color: #0087ff; text-decoration-color: #0087ff\">Conv2D</span>)           │ (<span style=\"color: #00d7ff; text-decoration-color: #00d7ff\">None</span>, <span style=\"color: #00af00; text-decoration-color: #00af00\">8</span>, <span style=\"color: #00af00; text-decoration-color: #00af00\">8</span>, <span style=\"color: #00af00; text-decoration-color: #00af00\">256</span>)      │       <span style=\"color: #00af00; text-decoration-color: #00af00\">590,080</span> │\n",
              "├─────────────────────────────────┼────────────────────────┼───────────────┤\n",
              "│ block3_conv3 (<span style=\"color: #0087ff; text-decoration-color: #0087ff\">Conv2D</span>)           │ (<span style=\"color: #00d7ff; text-decoration-color: #00d7ff\">None</span>, <span style=\"color: #00af00; text-decoration-color: #00af00\">8</span>, <span style=\"color: #00af00; text-decoration-color: #00af00\">8</span>, <span style=\"color: #00af00; text-decoration-color: #00af00\">256</span>)      │       <span style=\"color: #00af00; text-decoration-color: #00af00\">590,080</span> │\n",
              "├─────────────────────────────────┼────────────────────────┼───────────────┤\n",
              "│ block3_pool (<span style=\"color: #0087ff; text-decoration-color: #0087ff\">MaxPooling2D</span>)      │ (<span style=\"color: #00d7ff; text-decoration-color: #00d7ff\">None</span>, <span style=\"color: #00af00; text-decoration-color: #00af00\">4</span>, <span style=\"color: #00af00; text-decoration-color: #00af00\">4</span>, <span style=\"color: #00af00; text-decoration-color: #00af00\">256</span>)      │             <span style=\"color: #00af00; text-decoration-color: #00af00\">0</span> │\n",
              "├─────────────────────────────────┼────────────────────────┼───────────────┤\n",
              "│ block4_conv1 (<span style=\"color: #0087ff; text-decoration-color: #0087ff\">Conv2D</span>)           │ (<span style=\"color: #00d7ff; text-decoration-color: #00d7ff\">None</span>, <span style=\"color: #00af00; text-decoration-color: #00af00\">4</span>, <span style=\"color: #00af00; text-decoration-color: #00af00\">4</span>, <span style=\"color: #00af00; text-decoration-color: #00af00\">512</span>)      │     <span style=\"color: #00af00; text-decoration-color: #00af00\">1,180,160</span> │\n",
              "├─────────────────────────────────┼────────────────────────┼───────────────┤\n",
              "│ block4_conv2 (<span style=\"color: #0087ff; text-decoration-color: #0087ff\">Conv2D</span>)           │ (<span style=\"color: #00d7ff; text-decoration-color: #00d7ff\">None</span>, <span style=\"color: #00af00; text-decoration-color: #00af00\">4</span>, <span style=\"color: #00af00; text-decoration-color: #00af00\">4</span>, <span style=\"color: #00af00; text-decoration-color: #00af00\">512</span>)      │     <span style=\"color: #00af00; text-decoration-color: #00af00\">2,359,808</span> │\n",
              "├─────────────────────────────────┼────────────────────────┼───────────────┤\n",
              "│ block4_conv3 (<span style=\"color: #0087ff; text-decoration-color: #0087ff\">Conv2D</span>)           │ (<span style=\"color: #00d7ff; text-decoration-color: #00d7ff\">None</span>, <span style=\"color: #00af00; text-decoration-color: #00af00\">4</span>, <span style=\"color: #00af00; text-decoration-color: #00af00\">4</span>, <span style=\"color: #00af00; text-decoration-color: #00af00\">512</span>)      │     <span style=\"color: #00af00; text-decoration-color: #00af00\">2,359,808</span> │\n",
              "├─────────────────────────────────┼────────────────────────┼───────────────┤\n",
              "│ block4_pool (<span style=\"color: #0087ff; text-decoration-color: #0087ff\">MaxPooling2D</span>)      │ (<span style=\"color: #00d7ff; text-decoration-color: #00d7ff\">None</span>, <span style=\"color: #00af00; text-decoration-color: #00af00\">2</span>, <span style=\"color: #00af00; text-decoration-color: #00af00\">2</span>, <span style=\"color: #00af00; text-decoration-color: #00af00\">512</span>)      │             <span style=\"color: #00af00; text-decoration-color: #00af00\">0</span> │\n",
              "├─────────────────────────────────┼────────────────────────┼───────────────┤\n",
              "│ block5_conv1 (<span style=\"color: #0087ff; text-decoration-color: #0087ff\">Conv2D</span>)           │ (<span style=\"color: #00d7ff; text-decoration-color: #00d7ff\">None</span>, <span style=\"color: #00af00; text-decoration-color: #00af00\">2</span>, <span style=\"color: #00af00; text-decoration-color: #00af00\">2</span>, <span style=\"color: #00af00; text-decoration-color: #00af00\">512</span>)      │     <span style=\"color: #00af00; text-decoration-color: #00af00\">2,359,808</span> │\n",
              "├─────────────────────────────────┼────────────────────────┼───────────────┤\n",
              "│ block5_conv2 (<span style=\"color: #0087ff; text-decoration-color: #0087ff\">Conv2D</span>)           │ (<span style=\"color: #00d7ff; text-decoration-color: #00d7ff\">None</span>, <span style=\"color: #00af00; text-decoration-color: #00af00\">2</span>, <span style=\"color: #00af00; text-decoration-color: #00af00\">2</span>, <span style=\"color: #00af00; text-decoration-color: #00af00\">512</span>)      │     <span style=\"color: #00af00; text-decoration-color: #00af00\">2,359,808</span> │\n",
              "├─────────────────────────────────┼────────────────────────┼───────────────┤\n",
              "│ block5_conv3 (<span style=\"color: #0087ff; text-decoration-color: #0087ff\">Conv2D</span>)           │ (<span style=\"color: #00d7ff; text-decoration-color: #00d7ff\">None</span>, <span style=\"color: #00af00; text-decoration-color: #00af00\">2</span>, <span style=\"color: #00af00; text-decoration-color: #00af00\">2</span>, <span style=\"color: #00af00; text-decoration-color: #00af00\">512</span>)      │     <span style=\"color: #00af00; text-decoration-color: #00af00\">2,359,808</span> │\n",
              "├─────────────────────────────────┼────────────────────────┼───────────────┤\n",
              "│ block5_pool (<span style=\"color: #0087ff; text-decoration-color: #0087ff\">MaxPooling2D</span>)      │ (<span style=\"color: #00d7ff; text-decoration-color: #00d7ff\">None</span>, <span style=\"color: #00af00; text-decoration-color: #00af00\">1</span>, <span style=\"color: #00af00; text-decoration-color: #00af00\">1</span>, <span style=\"color: #00af00; text-decoration-color: #00af00\">512</span>)      │             <span style=\"color: #00af00; text-decoration-color: #00af00\">0</span> │\n",
              "└─────────────────────────────────┴────────────────────────┴───────────────┘\n",
              "</pre>\n"
            ]
          },
          "metadata": {}
        },
        {
          "output_type": "display_data",
          "data": {
            "text/plain": [
              "\u001b[1m Total params: \u001b[0m\u001b[38;5;34m14,714,688\u001b[0m (56.13 MB)\n"
            ],
            "text/html": [
              "<pre style=\"white-space:pre;overflow-x:auto;line-height:normal;font-family:Menlo,'DejaVu Sans Mono',consolas,'Courier New',monospace\"><span style=\"font-weight: bold\"> Total params: </span><span style=\"color: #00af00; text-decoration-color: #00af00\">14,714,688</span> (56.13 MB)\n",
              "</pre>\n"
            ]
          },
          "metadata": {}
        },
        {
          "output_type": "display_data",
          "data": {
            "text/plain": [
              "\u001b[1m Trainable params: \u001b[0m\u001b[38;5;34m14,714,688\u001b[0m (56.13 MB)\n"
            ],
            "text/html": [
              "<pre style=\"white-space:pre;overflow-x:auto;line-height:normal;font-family:Menlo,'DejaVu Sans Mono',consolas,'Courier New',monospace\"><span style=\"font-weight: bold\"> Trainable params: </span><span style=\"color: #00af00; text-decoration-color: #00af00\">14,714,688</span> (56.13 MB)\n",
              "</pre>\n"
            ]
          },
          "metadata": {}
        },
        {
          "output_type": "display_data",
          "data": {
            "text/plain": [
              "\u001b[1m Non-trainable params: \u001b[0m\u001b[38;5;34m0\u001b[0m (0.00 B)\n"
            ],
            "text/html": [
              "<pre style=\"white-space:pre;overflow-x:auto;line-height:normal;font-family:Menlo,'DejaVu Sans Mono',consolas,'Courier New',monospace\"><span style=\"font-weight: bold\"> Non-trainable params: </span><span style=\"color: #00af00; text-decoration-color: #00af00\">0</span> (0.00 B)\n",
              "</pre>\n"
            ]
          },
          "metadata": {}
        }
      ],
      "source": [
        "# Cargamos el modelo VGG16 preentrenado, excluyendo las capas superiores (top=False)\n",
        "# Recuerde que las capas superiores son las que definen el tipo de problema a solucionar\n",
        "# Como nuestro problema es de 10 categorias (10 digitos), agregaremos nuestras propias capas superiores\n",
        "vgg16_base = VGG16(weights='imagenet', include_top=False, input_shape=(32, 32, 3))\n",
        "vgg16_base.summary()"
      ]
    },
    {
      "cell_type": "code",
      "execution_count": 8,
      "metadata": {
        "id": "0glxwSszvZQk"
      },
      "outputs": [],
      "source": [
        "# Ahora congelamos los pesos del modelo, pues solo queremos agrega una nueva capa\n",
        "# con 10 neuronas, donde cada una representará el digito que queremos predecir\n",
        "vgg16_base.trainable = False\n",
        "model = models.Sequential([\n",
        "    vgg16_base,\n",
        "    layers.Flatten(),\n",
        "    layers.Dropout(0.5),\n",
        "    layers.Dense(10, activation='softmax')  # 10 clases de salida\n",
        "])"
      ]
    },
    {
      "cell_type": "code",
      "execution_count": 9,
      "metadata": {
        "colab": {
          "base_uri": "https://localhost:8080/"
        },
        "id": "LY35rzUKwDe_",
        "outputId": "0064cec8-4371-47b2-efa2-8b766a16c8aa"
      },
      "outputs": [
        {
          "output_type": "stream",
          "name": "stdout",
          "text": [
            "Epoch 1/5\n",
            "\u001b[1m938/938\u001b[0m \u001b[32m━━━━━━━━━━━━━━━━━━━━\u001b[0m\u001b[37m\u001b[0m \u001b[1m15s\u001b[0m 10ms/step - accuracy: 0.5381 - loss: 1.4681 - val_accuracy: 0.8659 - val_loss: 0.5579\n",
            "Epoch 2/5\n",
            "\u001b[1m938/938\u001b[0m \u001b[32m━━━━━━━━━━━━━━━━━━━━\u001b[0m\u001b[37m\u001b[0m \u001b[1m5s\u001b[0m 6ms/step - accuracy: 0.8050 - loss: 0.6466 - val_accuracy: 0.8972 - val_loss: 0.4156\n",
            "Epoch 3/5\n",
            "\u001b[1m938/938\u001b[0m \u001b[32m━━━━━━━━━━━━━━━━━━━━\u001b[0m\u001b[37m\u001b[0m \u001b[1m5s\u001b[0m 6ms/step - accuracy: 0.8302 - loss: 0.5452 - val_accuracy: 0.9108 - val_loss: 0.3558\n",
            "Epoch 4/5\n",
            "\u001b[1m938/938\u001b[0m \u001b[32m━━━━━━━━━━━━━━━━━━━━\u001b[0m\u001b[37m\u001b[0m \u001b[1m5s\u001b[0m 6ms/step - accuracy: 0.8417 - loss: 0.5075 - val_accuracy: 0.9190 - val_loss: 0.3222\n",
            "Epoch 5/5\n",
            "\u001b[1m938/938\u001b[0m \u001b[32m━━━━━━━━━━━━━━━━━━━━\u001b[0m\u001b[37m\u001b[0m \u001b[1m5s\u001b[0m 6ms/step - accuracy: 0.8451 - loss: 0.4835 - val_accuracy: 0.9217 - val_loss: 0.3034\n"
          ]
        }
      ],
      "source": [
        "# Compilamos y entrenamos los pesos de nuestra última capa\n",
        "model.compile(optimizer='adam', loss='categorical_crossentropy', metrics=['accuracy'])\n",
        "history = model.fit(train_images, train_labels_ohc, epochs=5,\n",
        "                    batch_size=64, validation_data=(test_images, test_labels_ohc))"
      ]
    },
    {
      "cell_type": "code",
      "execution_count": 10,
      "metadata": {
        "colab": {
          "base_uri": "https://localhost:8080/"
        },
        "id": "9AwO6HTt3VIJ",
        "outputId": "b7f9beed-2ed8-420e-a2c0-686ce68e2e88"
      },
      "outputs": [
        {
          "output_type": "stream",
          "name": "stdout",
          "text": [
            "\u001b[1m313/313\u001b[0m \u001b[32m━━━━━━━━━━━━━━━━━━━━\u001b[0m\u001b[37m\u001b[0m \u001b[1m2s\u001b[0m 4ms/step - accuracy: 0.9130 - loss: 0.3264\n",
            "Precisión en el conjunto de prueba: 0.9217000007629395\n"
          ]
        }
      ],
      "source": [
        "# Medimos la precisión del modelo en el conjunto de prueba\n",
        "test_loss, test_acc = model.evaluate(test_images, test_labels_ohc)\n",
        "\n",
        "print(f\"Precisión en el conjunto de prueba: {test_acc}\")"
      ]
    },
    {
      "cell_type": "code",
      "execution_count": 11,
      "metadata": {
        "colab": {
          "base_uri": "https://localhost:8080/",
          "height": 285
        },
        "id": "6Z_ydcLG9Ibk",
        "outputId": "9861c1a5-738c-4c7d-f771-3131933b2d9f"
      },
      "outputs": [
        {
          "output_type": "display_data",
          "data": {
            "text/plain": [
              "\u001b[1mModel: \"sequential\"\u001b[0m\n"
            ],
            "text/html": [
              "<pre style=\"white-space:pre;overflow-x:auto;line-height:normal;font-family:Menlo,'DejaVu Sans Mono',consolas,'Courier New',monospace\"><span style=\"font-weight: bold\">Model: \"sequential\"</span>\n",
              "</pre>\n"
            ]
          },
          "metadata": {}
        },
        {
          "output_type": "display_data",
          "data": {
            "text/plain": [
              "┏━━━━━━━━━━━━━━━━━━━━━━━━━━━━━━━━━┳━━━━━━━━━━━━━━━━━━━━━━━━┳━━━━━━━━━━━━━━━┓\n",
              "┃\u001b[1m \u001b[0m\u001b[1mLayer (type)                   \u001b[0m\u001b[1m \u001b[0m┃\u001b[1m \u001b[0m\u001b[1mOutput Shape          \u001b[0m\u001b[1m \u001b[0m┃\u001b[1m \u001b[0m\u001b[1m      Param #\u001b[0m\u001b[1m \u001b[0m┃\n",
              "┡━━━━━━━━━━━━━━━━━━━━━━━━━━━━━━━━━╇━━━━━━━━━━━━━━━━━━━━━━━━╇━━━━━━━━━━━━━━━┩\n",
              "│ vgg16 (\u001b[38;5;33mFunctional\u001b[0m)              │ (\u001b[38;5;45mNone\u001b[0m, \u001b[38;5;34m1\u001b[0m, \u001b[38;5;34m1\u001b[0m, \u001b[38;5;34m512\u001b[0m)      │    \u001b[38;5;34m14,714,688\u001b[0m │\n",
              "├─────────────────────────────────┼────────────────────────┼───────────────┤\n",
              "│ flatten (\u001b[38;5;33mFlatten\u001b[0m)               │ (\u001b[38;5;45mNone\u001b[0m, \u001b[38;5;34m512\u001b[0m)            │             \u001b[38;5;34m0\u001b[0m │\n",
              "├─────────────────────────────────┼────────────────────────┼───────────────┤\n",
              "│ dropout (\u001b[38;5;33mDropout\u001b[0m)               │ (\u001b[38;5;45mNone\u001b[0m, \u001b[38;5;34m512\u001b[0m)            │             \u001b[38;5;34m0\u001b[0m │\n",
              "├─────────────────────────────────┼────────────────────────┼───────────────┤\n",
              "│ dense (\u001b[38;5;33mDense\u001b[0m)                   │ (\u001b[38;5;45mNone\u001b[0m, \u001b[38;5;34m10\u001b[0m)             │         \u001b[38;5;34m5,130\u001b[0m │\n",
              "└─────────────────────────────────┴────────────────────────┴───────────────┘\n"
            ],
            "text/html": [
              "<pre style=\"white-space:pre;overflow-x:auto;line-height:normal;font-family:Menlo,'DejaVu Sans Mono',consolas,'Courier New',monospace\">┏━━━━━━━━━━━━━━━━━━━━━━━━━━━━━━━━━┳━━━━━━━━━━━━━━━━━━━━━━━━┳━━━━━━━━━━━━━━━┓\n",
              "┃<span style=\"font-weight: bold\"> Layer (type)                    </span>┃<span style=\"font-weight: bold\"> Output Shape           </span>┃<span style=\"font-weight: bold\">       Param # </span>┃\n",
              "┡━━━━━━━━━━━━━━━━━━━━━━━━━━━━━━━━━╇━━━━━━━━━━━━━━━━━━━━━━━━╇━━━━━━━━━━━━━━━┩\n",
              "│ vgg16 (<span style=\"color: #0087ff; text-decoration-color: #0087ff\">Functional</span>)              │ (<span style=\"color: #00d7ff; text-decoration-color: #00d7ff\">None</span>, <span style=\"color: #00af00; text-decoration-color: #00af00\">1</span>, <span style=\"color: #00af00; text-decoration-color: #00af00\">1</span>, <span style=\"color: #00af00; text-decoration-color: #00af00\">512</span>)      │    <span style=\"color: #00af00; text-decoration-color: #00af00\">14,714,688</span> │\n",
              "├─────────────────────────────────┼────────────────────────┼───────────────┤\n",
              "│ flatten (<span style=\"color: #0087ff; text-decoration-color: #0087ff\">Flatten</span>)               │ (<span style=\"color: #00d7ff; text-decoration-color: #00d7ff\">None</span>, <span style=\"color: #00af00; text-decoration-color: #00af00\">512</span>)            │             <span style=\"color: #00af00; text-decoration-color: #00af00\">0</span> │\n",
              "├─────────────────────────────────┼────────────────────────┼───────────────┤\n",
              "│ dropout (<span style=\"color: #0087ff; text-decoration-color: #0087ff\">Dropout</span>)               │ (<span style=\"color: #00d7ff; text-decoration-color: #00d7ff\">None</span>, <span style=\"color: #00af00; text-decoration-color: #00af00\">512</span>)            │             <span style=\"color: #00af00; text-decoration-color: #00af00\">0</span> │\n",
              "├─────────────────────────────────┼────────────────────────┼───────────────┤\n",
              "│ dense (<span style=\"color: #0087ff; text-decoration-color: #0087ff\">Dense</span>)                   │ (<span style=\"color: #00d7ff; text-decoration-color: #00d7ff\">None</span>, <span style=\"color: #00af00; text-decoration-color: #00af00\">10</span>)             │         <span style=\"color: #00af00; text-decoration-color: #00af00\">5,130</span> │\n",
              "└─────────────────────────────────┴────────────────────────┴───────────────┘\n",
              "</pre>\n"
            ]
          },
          "metadata": {}
        },
        {
          "output_type": "display_data",
          "data": {
            "text/plain": [
              "\u001b[1m Total params: \u001b[0m\u001b[38;5;34m14,730,080\u001b[0m (56.19 MB)\n"
            ],
            "text/html": [
              "<pre style=\"white-space:pre;overflow-x:auto;line-height:normal;font-family:Menlo,'DejaVu Sans Mono',consolas,'Courier New',monospace\"><span style=\"font-weight: bold\"> Total params: </span><span style=\"color: #00af00; text-decoration-color: #00af00\">14,730,080</span> (56.19 MB)\n",
              "</pre>\n"
            ]
          },
          "metadata": {}
        },
        {
          "output_type": "display_data",
          "data": {
            "text/plain": [
              "\u001b[1m Trainable params: \u001b[0m\u001b[38;5;34m5,130\u001b[0m (20.04 KB)\n"
            ],
            "text/html": [
              "<pre style=\"white-space:pre;overflow-x:auto;line-height:normal;font-family:Menlo,'DejaVu Sans Mono',consolas,'Courier New',monospace\"><span style=\"font-weight: bold\"> Trainable params: </span><span style=\"color: #00af00; text-decoration-color: #00af00\">5,130</span> (20.04 KB)\n",
              "</pre>\n"
            ]
          },
          "metadata": {}
        },
        {
          "output_type": "display_data",
          "data": {
            "text/plain": [
              "\u001b[1m Non-trainable params: \u001b[0m\u001b[38;5;34m14,714,688\u001b[0m (56.13 MB)\n"
            ],
            "text/html": [
              "<pre style=\"white-space:pre;overflow-x:auto;line-height:normal;font-family:Menlo,'DejaVu Sans Mono',consolas,'Courier New',monospace\"><span style=\"font-weight: bold\"> Non-trainable params: </span><span style=\"color: #00af00; text-decoration-color: #00af00\">14,714,688</span> (56.13 MB)\n",
              "</pre>\n"
            ]
          },
          "metadata": {}
        },
        {
          "output_type": "display_data",
          "data": {
            "text/plain": [
              "\u001b[1m Optimizer params: \u001b[0m\u001b[38;5;34m10,262\u001b[0m (40.09 KB)\n"
            ],
            "text/html": [
              "<pre style=\"white-space:pre;overflow-x:auto;line-height:normal;font-family:Menlo,'DejaVu Sans Mono',consolas,'Courier New',monospace\"><span style=\"font-weight: bold\"> Optimizer params: </span><span style=\"color: #00af00; text-decoration-color: #00af00\">10,262</span> (40.09 KB)\n",
              "</pre>\n"
            ]
          },
          "metadata": {}
        }
      ],
      "source": [
        "# Mostramos el modelo\n",
        "model.summary()"
      ]
    },
    {
      "cell_type": "code",
      "execution_count": 12,
      "metadata": {
        "colab": {
          "base_uri": "https://localhost:8080/",
          "height": 358
        },
        "id": "qMahg3T63iDm",
        "outputId": "ac815a5f-dc28-4b02-85e4-dc890f7a20f4"
      },
      "outputs": [
        {
          "output_type": "display_data",
          "data": {
            "text/plain": [
              "<Figure size 1000x400 with 10 Axes>"
            ],
            "image/png": "[encoded data removed]"
          },
          "metadata": {}
        }
      ],
      "source": [
        "# Dibujamos ciertas imágenes con sus predicciones\n",
        "plot_predicciones(model,test_images)"
      ]
    },
    {
      "cell_type": "markdown",
      "metadata": {
        "id": "SieP2d4jafoG"
      },
      "source": [
        "**Observaciones:**\n",
        "\n",
        "*   Note que al cargar un modelo pre-entrenado, logramos tener unos pesos que ya saben encontrar ciertos tipos de características dentro de las imágenes. Es por ello que cuando entrenamos nuestra capa superior (10 neuronas), solo hacen falta 5 épocas para alcanzar un accuracy del 92.14% en el conjunto de prueba.\n",
        "* Cabe resaltar que utilizamos un modelo pre-entrenado y agregamos una capa superior para adaptarlo a nuestro problema. Esto se podría considerar *transfer learning* tambien.\n"
      ]
    },
    {
      "cell_type": "markdown",
      "source": [
        "### Tuning o Re-entrenamiento"
      ],
      "metadata": {
        "id": "3gkEt8yfpGg_"
      }
    },
    {
      "cell_type": "markdown",
      "metadata": {
        "id": "ozVdR3hS6lUu"
      },
      "source": [
        "Para dejar mas claro el concepto de *transfer learning* lo que haremos es coger el mismo modelo definido anteriormente, solo que esta vez si entrenaremos los pesos del modelo pre-entrenado, para así alcanzar un mejor rendimiento."
      ]
    },
    {
      "cell_type": "code",
      "source": [
        "# Reiniciar el backend para que las ejecuciones anteriores no interfieran\n",
        "K.clear_session()"
      ],
      "metadata": {
        "id": "9DqbLv8ClC_g"
      },
      "execution_count": 13,
      "outputs": []
    },
    {
      "cell_type": "code",
      "execution_count": 14,
      "metadata": {
        "id": "Gi9zoj9kplTC"
      },
      "outputs": [],
      "source": [
        "# Definimos el modelo, especificando que queremos entrenar el modelo VGG16\n",
        "vgg16_base.trainable = True\n",
        "model_2 = models.Sequential([\n",
        "    vgg16_base,\n",
        "    layers.Flatten(),\n",
        "    layers.Dropout(0.5),\n",
        "    layers.Dense(10, activation='softmax')  # 10 clases de salida\n",
        "])"
      ]
    },
    {
      "cell_type": "code",
      "execution_count": 15,
      "metadata": {
        "colab": {
          "base_uri": "https://localhost:8080/"
        },
        "id": "nxDC2Vqn7czq",
        "outputId": "1d16fcc2-61e9-4066-eb27-36d33a9eb7f9"
      },
      "outputs": [
        {
          "output_type": "stream",
          "name": "stdout",
          "text": [
            "Epoch 1/5\n",
            "\u001b[1m938/938\u001b[0m \u001b[32m━━━━━━━━━━━━━━━━━━━━\u001b[0m\u001b[37m\u001b[0m \u001b[1m43s\u001b[0m 34ms/step - accuracy: 0.1098 - loss: 2.3318 - val_accuracy: 0.1135 - val_loss: 2.3012\n",
            "Epoch 2/5\n",
            "\u001b[1m938/938\u001b[0m \u001b[32m━━━━━━━━━━━━━━━━━━━━\u001b[0m\u001b[37m\u001b[0m \u001b[1m25s\u001b[0m 26ms/step - accuracy: 0.1109 - loss: 2.3014 - val_accuracy: 0.1135 - val_loss: 2.3010\n",
            "Epoch 3/5\n",
            "\u001b[1m938/938\u001b[0m \u001b[32m━━━━━━━━━━━━━━━━━━━━\u001b[0m\u001b[37m\u001b[0m \u001b[1m25s\u001b[0m 26ms/step - accuracy: 0.1129 - loss: 2.3011 - val_accuracy: 0.1135 - val_loss: 2.3011\n",
            "Epoch 4/5\n",
            "\u001b[1m938/938\u001b[0m \u001b[32m━━━━━━━━━━━━━━━━━━━━\u001b[0m\u001b[37m\u001b[0m \u001b[1m25s\u001b[0m 27ms/step - accuracy: 0.1137 - loss: 2.3012 - val_accuracy: 0.1135 - val_loss: 2.3011\n",
            "Epoch 5/5\n",
            "\u001b[1m938/938\u001b[0m \u001b[32m━━━━━━━━━━━━━━━━━━━━\u001b[0m\u001b[37m\u001b[0m \u001b[1m25s\u001b[0m 27ms/step - accuracy: 0.1128 - loss: 2.3012 - val_accuracy: 0.1135 - val_loss: 2.3010\n"
          ]
        }
      ],
      "source": [
        "# Compilamos y entrenamos los pesos de nuestra última capa\n",
        "model_2.compile(optimizer='adam', loss='categorical_crossentropy', metrics=['accuracy'])\n",
        "history = model_2.fit(train_images, train_labels_ohc, epochs=5,\n",
        "                    batch_size=64, validation_data=(test_images, test_labels_ohc))"
      ]
    },
    {
      "cell_type": "code",
      "execution_count": 16,
      "metadata": {
        "colab": {
          "base_uri": "https://localhost:8080/"
        },
        "id": "rcOMmMRC8k27",
        "outputId": "b1b49d9d-1dc2-4ede-8823-960f28c5e39c"
      },
      "outputs": [
        {
          "output_type": "stream",
          "name": "stdout",
          "text": [
            "\u001b[1m313/313\u001b[0m \u001b[32m━━━━━━━━━━━━━━━━━━━━\u001b[0m\u001b[37m\u001b[0m \u001b[1m2s\u001b[0m 4ms/step - accuracy: 0.1160 - loss: 2.3009\n",
            "Precisión en el conjunto de prueba: 0.11349999904632568\n"
          ]
        }
      ],
      "source": [
        "# Medimos la precisión del modelo 2 en el conjunto de prueba\n",
        "test_loss, test_acc = model_2.evaluate(test_images, test_labels_ohc)\n",
        "\n",
        "print(f\"Precisión en el conjunto de prueba: {test_acc}\")"
      ]
    },
    {
      "cell_type": "code",
      "execution_count": 17,
      "metadata": {
        "colab": {
          "base_uri": "https://localhost:8080/",
          "height": 285
        },
        "id": "4tTmS_XV7oz2",
        "outputId": "57b3d9b4-0ede-41e3-b466-00390235a10c"
      },
      "outputs": [
        {
          "output_type": "display_data",
          "data": {
            "text/plain": [
              "\u001b[1mModel: \"sequential\"\u001b[0m\n"
            ],
            "text/html": [
              "<pre style=\"white-space:pre;overflow-x:auto;line-height:normal;font-family:Menlo,'DejaVu Sans Mono',consolas,'Courier New',monospace\"><span style=\"font-weight: bold\">Model: \"sequential\"</span>\n",
              "</pre>\n"
            ]
          },
          "metadata": {}
        },
        {
          "output_type": "display_data",
          "data": {
            "text/plain": [
              "┏━━━━━━━━━━━━━━━━━━━━━━━━━━━━━━━━━┳━━━━━━━━━━━━━━━━━━━━━━━━┳━━━━━━━━━━━━━━━┓\n",
              "┃\u001b[1m \u001b[0m\u001b[1mLayer (type)                   \u001b[0m\u001b[1m \u001b[0m┃\u001b[1m \u001b[0m\u001b[1mOutput Shape          \u001b[0m\u001b[1m \u001b[0m┃\u001b[1m \u001b[0m\u001b[1m      Param #\u001b[0m\u001b[1m \u001b[0m┃\n",
              "┡━━━━━━━━━━━━━━━━━━━━━━━━━━━━━━━━━╇━━━━━━━━━━━━━━━━━━━━━━━━╇━━━━━━━━━━━━━━━┩\n",
              "│ vgg16 (\u001b[38;5;33mFunctional\u001b[0m)              │ (\u001b[38;5;45mNone\u001b[0m, \u001b[38;5;34m1\u001b[0m, \u001b[38;5;34m1\u001b[0m, \u001b[38;5;34m512\u001b[0m)      │    \u001b[38;5;34m14,714,688\u001b[0m │\n",
              "├─────────────────────────────────┼────────────────────────┼───────────────┤\n",
              "│ flatten (\u001b[38;5;33mFlatten\u001b[0m)               │ (\u001b[38;5;45mNone\u001b[0m, \u001b[38;5;34m512\u001b[0m)            │             \u001b[38;5;34m0\u001b[0m │\n",
              "├─────────────────────────────────┼────────────────────────┼───────────────┤\n",
              "│ dropout (\u001b[38;5;33mDropout\u001b[0m)               │ (\u001b[38;5;45mNone\u001b[0m, \u001b[38;5;34m512\u001b[0m)            │             \u001b[38;5;34m0\u001b[0m │\n",
              "├─────────────────────────────────┼────────────────────────┼───────────────┤\n",
              "│ dense (\u001b[38;5;33mDense\u001b[0m)                   │ (\u001b[38;5;45mNone\u001b[0m, \u001b[38;5;34m10\u001b[0m)             │         \u001b[38;5;34m5,130\u001b[0m │\n",
              "└─────────────────────────────────┴────────────────────────┴───────────────┘\n"
            ],
            "text/html": [
              "<pre style=\"white-space:pre;overflow-x:auto;line-height:normal;font-family:Menlo,'DejaVu Sans Mono',consolas,'Courier New',monospace\">┏━━━━━━━━━━━━━━━━━━━━━━━━━━━━━━━━━┳━━━━━━━━━━━━━━━━━━━━━━━━┳━━━━━━━━━━━━━━━┓\n",
              "┃<span style=\"font-weight: bold\"> Layer (type)                    </span>┃<span style=\"font-weight: bold\"> Output Shape           </span>┃<span style=\"font-weight: bold\">       Param # </span>┃\n",
              "┡━━━━━━━━━━━━━━━━━━━━━━━━━━━━━━━━━╇━━━━━━━━━━━━━━━━━━━━━━━━╇━━━━━━━━━━━━━━━┩\n",
              "│ vgg16 (<span style=\"color: #0087ff; text-decoration-color: #0087ff\">Functional</span>)              │ (<span style=\"color: #00d7ff; text-decoration-color: #00d7ff\">None</span>, <span style=\"color: #00af00; text-decoration-color: #00af00\">1</span>, <span style=\"color: #00af00; text-decoration-color: #00af00\">1</span>, <span style=\"color: #00af00; text-decoration-color: #00af00\">512</span>)      │    <span style=\"color: #00af00; text-decoration-color: #00af00\">14,714,688</span> │\n",
              "├─────────────────────────────────┼────────────────────────┼───────────────┤\n",
              "│ flatten (<span style=\"color: #0087ff; text-decoration-color: #0087ff\">Flatten</span>)               │ (<span style=\"color: #00d7ff; text-decoration-color: #00d7ff\">None</span>, <span style=\"color: #00af00; text-decoration-color: #00af00\">512</span>)            │             <span style=\"color: #00af00; text-decoration-color: #00af00\">0</span> │\n",
              "├─────────────────────────────────┼────────────────────────┼───────────────┤\n",
              "│ dropout (<span style=\"color: #0087ff; text-decoration-color: #0087ff\">Dropout</span>)               │ (<span style=\"color: #00d7ff; text-decoration-color: #00d7ff\">None</span>, <span style=\"color: #00af00; text-decoration-color: #00af00\">512</span>)            │             <span style=\"color: #00af00; text-decoration-color: #00af00\">0</span> │\n",
              "├─────────────────────────────────┼────────────────────────┼───────────────┤\n",
              "│ dense (<span style=\"color: #0087ff; text-decoration-color: #0087ff\">Dense</span>)                   │ (<span style=\"color: #00d7ff; text-decoration-color: #00d7ff\">None</span>, <span style=\"color: #00af00; text-decoration-color: #00af00\">10</span>)             │         <span style=\"color: #00af00; text-decoration-color: #00af00\">5,130</span> │\n",
              "└─────────────────────────────────┴────────────────────────┴───────────────┘\n",
              "</pre>\n"
            ]
          },
          "metadata": {}
        },
        {
          "output_type": "display_data",
          "data": {
            "text/plain": [
              "\u001b[1m Total params: \u001b[0m\u001b[38;5;34m44,159,456\u001b[0m (168.45 MB)\n"
            ],
            "text/html": [
              "<pre style=\"white-space:pre;overflow-x:auto;line-height:normal;font-family:Menlo,'DejaVu Sans Mono',consolas,'Courier New',monospace\"><span style=\"font-weight: bold\"> Total params: </span><span style=\"color: #00af00; text-decoration-color: #00af00\">44,159,456</span> (168.45 MB)\n",
              "</pre>\n"
            ]
          },
          "metadata": {}
        },
        {
          "output_type": "display_data",
          "data": {
            "text/plain": [
              "\u001b[1m Trainable params: \u001b[0m\u001b[38;5;34m14,719,818\u001b[0m (56.15 MB)\n"
            ],
            "text/html": [
              "<pre style=\"white-space:pre;overflow-x:auto;line-height:normal;font-family:Menlo,'DejaVu Sans Mono',consolas,'Courier New',monospace\"><span style=\"font-weight: bold\"> Trainable params: </span><span style=\"color: #00af00; text-decoration-color: #00af00\">14,719,818</span> (56.15 MB)\n",
              "</pre>\n"
            ]
          },
          "metadata": {}
        },
        {
          "output_type": "display_data",
          "data": {
            "text/plain": [
              "\u001b[1m Non-trainable params: \u001b[0m\u001b[38;5;34m0\u001b[0m (0.00 B)\n"
            ],
            "text/html": [
              "<pre style=\"white-space:pre;overflow-x:auto;line-height:normal;font-family:Menlo,'DejaVu Sans Mono',consolas,'Courier New',monospace\"><span style=\"font-weight: bold\"> Non-trainable params: </span><span style=\"color: #00af00; text-decoration-color: #00af00\">0</span> (0.00 B)\n",
              "</pre>\n"
            ]
          },
          "metadata": {}
        },
        {
          "output_type": "display_data",
          "data": {
            "text/plain": [
              "\u001b[1m Optimizer params: \u001b[0m\u001b[38;5;34m29,439,638\u001b[0m (112.30 MB)\n"
            ],
            "text/html": [
              "<pre style=\"white-space:pre;overflow-x:auto;line-height:normal;font-family:Menlo,'DejaVu Sans Mono',consolas,'Courier New',monospace\"><span style=\"font-weight: bold\"> Optimizer params: </span><span style=\"color: #00af00; text-decoration-color: #00af00\">29,439,638</span> (112.30 MB)\n",
              "</pre>\n"
            ]
          },
          "metadata": {}
        }
      ],
      "source": [
        "# Imprimamos la estructura del modelo 2\n",
        "model_2.summary()"
      ]
    },
    {
      "cell_type": "markdown",
      "metadata": {
        "id": "nrw77ln08yUx"
      },
      "source": [
        "**Observaciones:**\n",
        "\n",
        "*   Antes de hablar del mal rendimiento del modelo (un 9.7% de accuracy en el conjunto de prueba). Hay que hablar de que ahora demoró mas entrenandose. Esto se debe a que ahora, se ajustaron todos los parámeros posibles, no como en el modelo anterior que solo ajustamos los parámetros de la capa superior.\n",
        "\n",
        "* Una de las razones por las cuales se obtuvo un *accuracy* muy bajo, es debido a que empezamos a ajustar el modelo pre-entrenado, pero pasamos de tener 512 neuronas como salida del modelo pre-entrenado, a solo tener 10. Entonces ese error se propagó y ajusto erróneamente los pesos ya entrenados. Lo cual llevó a que el modelo no mejorara.\n",
        "\n",
        "* Para mitigar este error, utilizaremos *fine tunning* ajustando mas la capa superior. Así podremos tener un mejor rendimiento de nuestro modelo de *transfer learning*"
      ]
    },
    {
      "cell_type": "markdown",
      "source": [
        "### Fine tunning"
      ],
      "metadata": {
        "id": "gp8tHsbcpbxR"
      }
    },
    {
      "cell_type": "markdown",
      "metadata": {
        "id": "VSVVnBEIHGvb"
      },
      "source": [
        "- Para el ajuste fino, lo que haremos es lo siguiente:\n",
        "  - Congelaremos las primeras capas del modelo pre-entrenado\n",
        "  - Agregaremos unas capas superiores al modelo.\n",
        "  - Entrenaremos el modelo así.\n",
        "  - Después, descongelaremos capas superiores del modelo pre-entrenado y hacemos ese ajuste fino (entrenamos) para aumentar el acierto del modelo."
      ]
    },
    {
      "cell_type": "code",
      "source": [
        "# Reiniciar el backend para que las ejecuciones anteriores no interfieran\n",
        "K.clear_session()"
      ],
      "metadata": {
        "id": "HcIzdAmhlW2W"
      },
      "execution_count": 18,
      "outputs": []
    },
    {
      "cell_type": "code",
      "execution_count": 19,
      "metadata": {
        "id": "oJxN8W3lF4oZ"
      },
      "outputs": [],
      "source": [
        "vgg16_base = VGG16(weights='imagenet', include_top=False, input_shape=(32, 32, 3))\n",
        "\n",
        "for layer in vgg16_base.layers[:15]:  # Congelar las primeras 15 capas\n",
        "    layer.trainable = False\n",
        "\n",
        "# Agregamos mas neuronas después de nuestro modelo pre-entrenado, para hacer un ajuste mas fino\n",
        "model_3 = models.Sequential([\n",
        "    vgg16_base,\n",
        "    layers.Flatten(),\n",
        "    layers.Dense(512, activation='relu'),  # Incrementamos el número de unidades para mayor capacidad de representación\n",
        "    layers.Dropout(0.5),                   # Aumentamos el Dropout para evitar el sobreajuste\n",
        "    layers.Dense(10, activation='softmax') # Capa final con 10 clases\n",
        "])"
      ]
    },
    {
      "cell_type": "code",
      "execution_count": 20,
      "metadata": {
        "id": "r2y-_hn-H89o"
      },
      "outputs": [],
      "source": [
        "# compilamos el modelo y definimos una parada temprana para mitigar el sobreajuste\n",
        "model_3.compile(optimizer=optimizers.Adam(learning_rate=1e-4), loss='categorical_crossentropy', metrics=['accuracy'])\n",
        "early_stopping = callbacks.EarlyStopping(monitor='val_loss', patience=5, restore_best_weights=True)"
      ]
    },
    {
      "cell_type": "code",
      "execution_count": 21,
      "metadata": {
        "colab": {
          "base_uri": "https://localhost:8080/"
        },
        "id": "gvW6x8KeIUGn",
        "outputId": "76cb4ae6-821d-40fb-9b50-d3c7331fc071"
      },
      "outputs": [
        {
          "output_type": "stream",
          "name": "stdout",
          "text": [
            "Epoch 1/20\n",
            "\u001b[1m938/938\u001b[0m \u001b[32m━━━━━━━━━━━━━━━━━━━━\u001b[0m\u001b[37m\u001b[0m \u001b[1m20s\u001b[0m 16ms/step - accuracy: 0.8930 - loss: 0.3341 - val_accuracy: 0.9851 - val_loss: 0.0443\n",
            "Epoch 2/20\n",
            "\u001b[1m938/938\u001b[0m \u001b[32m━━━━━━━━━━━━━━━━━━━━\u001b[0m\u001b[37m\u001b[0m \u001b[1m8s\u001b[0m 8ms/step - accuracy: 0.9858 - loss: 0.0486 - val_accuracy: 0.9878 - val_loss: 0.0398\n",
            "Epoch 3/20\n",
            "\u001b[1m938/938\u001b[0m \u001b[32m━━━━━━━━━━━━━━━━━━━━\u001b[0m\u001b[37m\u001b[0m \u001b[1m8s\u001b[0m 8ms/step - accuracy: 0.9894 - loss: 0.0360 - val_accuracy: 0.9904 - val_loss: 0.0305\n",
            "Epoch 4/20\n",
            "\u001b[1m938/938\u001b[0m \u001b[32m━━━━━━━━━━━━━━━━━━━━\u001b[0m\u001b[37m\u001b[0m \u001b[1m8s\u001b[0m 8ms/step - accuracy: 0.9915 - loss: 0.0285 - val_accuracy: 0.9891 - val_loss: 0.0362\n",
            "Epoch 5/20\n",
            "\u001b[1m938/938\u001b[0m \u001b[32m━━━━━━━━━━━━━━━━━━━━\u001b[0m\u001b[37m\u001b[0m \u001b[1m8s\u001b[0m 8ms/step - accuracy: 0.9917 - loss: 0.0282 - val_accuracy: 0.9904 - val_loss: 0.0357\n",
            "Epoch 6/20\n",
            "\u001b[1m938/938\u001b[0m \u001b[32m━━━━━━━━━━━━━━━━━━━━\u001b[0m\u001b[37m\u001b[0m \u001b[1m8s\u001b[0m 8ms/step - accuracy: 0.9927 - loss: 0.0246 - val_accuracy: 0.9903 - val_loss: 0.0317\n",
            "Epoch 7/20\n",
            "\u001b[1m938/938\u001b[0m \u001b[32m━━━━━━━━━━━━━━━━━━━━\u001b[0m\u001b[37m\u001b[0m \u001b[1m8s\u001b[0m 8ms/step - accuracy: 0.9944 - loss: 0.0208 - val_accuracy: 0.9910 - val_loss: 0.0310\n",
            "Epoch 8/20\n",
            "\u001b[1m938/938\u001b[0m \u001b[32m━━━━━━━━━━━━━━━━━━━━\u001b[0m\u001b[37m\u001b[0m \u001b[1m8s\u001b[0m 8ms/step - accuracy: 0.9945 - loss: 0.0179 - val_accuracy: 0.9908 - val_loss: 0.0278\n",
            "Epoch 9/20\n",
            "\u001b[1m938/938\u001b[0m \u001b[32m━━━━━━━━━━━━━━━━━━━━\u001b[0m\u001b[37m\u001b[0m \u001b[1m7s\u001b[0m 8ms/step - accuracy: 0.9951 - loss: 0.0159 - val_accuracy: 0.9900 - val_loss: 0.0392\n",
            "Epoch 10/20\n",
            "\u001b[1m938/938\u001b[0m \u001b[32m━━━━━━━━━━━━━━━━━━━━\u001b[0m\u001b[37m\u001b[0m \u001b[1m7s\u001b[0m 8ms/step - accuracy: 0.9956 - loss: 0.0158 - val_accuracy: 0.9897 - val_loss: 0.0346\n",
            "Epoch 11/20\n",
            "\u001b[1m938/938\u001b[0m \u001b[32m━━━━━━━━━━━━━━━━━━━━\u001b[0m\u001b[37m\u001b[0m \u001b[1m8s\u001b[0m 8ms/step - accuracy: 0.9959 - loss: 0.0138 - val_accuracy: 0.9897 - val_loss: 0.0408\n",
            "Epoch 12/20\n",
            "\u001b[1m938/938\u001b[0m \u001b[32m━━━━━━━━━━━━━━━━━━━━\u001b[0m\u001b[37m\u001b[0m \u001b[1m7s\u001b[0m 8ms/step - accuracy: 0.9967 - loss: 0.0114 - val_accuracy: 0.9887 - val_loss: 0.0464\n",
            "Epoch 13/20\n",
            "\u001b[1m938/938\u001b[0m \u001b[32m━━━━━━━━━━━━━━━━━━━━\u001b[0m\u001b[37m\u001b[0m \u001b[1m7s\u001b[0m 8ms/step - accuracy: 0.9963 - loss: 0.0122 - val_accuracy: 0.9926 - val_loss: 0.0316\n"
          ]
        }
      ],
      "source": [
        "# Entrenamos nuestro modelo\n",
        "history = model_3.fit(train_images, train_labels_ohc, batch_size=64,\n",
        "                      epochs=20,\n",
        "                      validation_data=(test_images, test_labels_ohc),\n",
        "                      callbacks=[early_stopping])"
      ]
    },
    {
      "cell_type": "code",
      "execution_count": null,
      "metadata": {
        "colab": {
          "base_uri": "https://localhost:8080/"
        },
        "id": "1cJEWkB7Igvx",
        "outputId": "304282b1-4c4b-4a7b-dd3f-f8a0e4833fa3"
      },
      "outputs": [
        {
          "output_type": "stream",
          "name": "stdout",
          "text": [
            "\u001b[1m313/313\u001b[0m \u001b[32m━━━━━━━━━━━━━━━━━━━━\u001b[0m\u001b[37m\u001b[0m \u001b[1m2s\u001b[0m 4ms/step - accuracy: 0.9915 - loss: 0.0283\n",
            "Precisión después del fine-tuning avanzado: 0.9927999973297119\n"
          ]
        }
      ],
      "source": [
        "# Evaluamos el accuracy del modelo en los datos de prueba\n",
        "test_loss, test_acc = model_3.evaluate(test_images, test_labels_ohc)\n",
        "print(f\"Precisión después del fine-tuning avanzado: {test_acc}\")"
      ]
    },
    {
      "cell_type": "markdown",
      "metadata": {
        "id": "UQnj2q8MCDYi"
      },
      "source": [
        "## Transfer learning y fine tuning en Clasificación de texto"
      ]
    },
    {
      "cell_type": "markdown",
      "source": [
        "#### Descargar el dataset"
      ],
      "metadata": {
        "id": "eJSQPAPjgXb7"
      }
    },
    {
      "cell_type": "code",
      "source": [
        "# Obtener desde tensorflow datasets\n",
        "dataset, info = tfds.load('imdb_reviews', with_info=True,\n",
        "                          as_supervised=True)\n",
        "train_dataset, test_dataset = dataset['train'], dataset['test']"
      ],
      "metadata": {
        "colab": {
          "base_uri": "https://localhost:8080/",
          "referenced_widgets": [
            "dc35e1cfe420482eb3376fe418874f5e",
            "c98de20b5cb644e6ab1d1dc04fe641ad",
            "466cf25a46de424e9958e9f723bd1e9b",
            "c9f60925f0de4c66be4501c42b50ea82",
            "d1bacfe63f9646c5b65e0f95415aff34",
            "86a8a0f27d5a400f8d1d88a8da360233",
            "1a1c433118f94e918ca173cb48cf6886",
            "ece381b08a3d4e3ea32f8e2ec209c7bd",
            "d998aa381579466ebcfb88d90f33524a",
            "7ac78b7ac8664d62b15ef567c5155540",
            "8754d31f2e1e49f19ddc9685f35f5af4",
            "d3e3cfdb6ebf45279c0c6ebca4316a84",
            "fb95866a606c4b13917af213bd09b223",
            "ac65a42d826548ecab93cc731a42630f",
            "890a7e1ed116486f8ef8c27d7251cf08",
            "49b46e9e08aa4a62831299fdad4b19a8",
            "b45acbb1324b42d3aa1a9d9425459227",
            "57ef6cea2ddb45718e999547fe9f0b4a",
            "3afb26295cbe451e88f222089fc0cb8b",
            "70bc3a2e3809447886a2e23d03bb42ea",
            "3231936bdae34ddeb9059bfd33af7e63",
            "877da6672c994ec4ba45b46ba1f6f693",
            "7b5e40e5375f425b9609043ab9adc462",
            "b8037d7bf14f47d7b94d7ef848f0412e",
            "c74e9df475c54e2dbcceecae1f96c294",
            "6e95659fc7884815ab2afc8cc50e2fcc",
            "9363b051b02244e3a3b4ea4038aabc70",
            "2b614568f0954de785520294f2433bdd",
            "49da34c18e224772b459038bd0439443",
            "72352fd6931642dea3ed77c355ae425d",
            "0e8b8e6096c14779994822d628c30c09",
            "824d37d6231643a89331068713aaec30",
            "0abb0855f05f44689338a4f9401e749e",
            "8947ab1f863b4e76895712ae5375b2be",
            "1e1f8c6a4a99481da1d3fc33096927eb",
            "7e652a01e45d4d678bc7fd8a75b37aae",
            "b477fba3af344abcbf43c50daf8d9832",
            "da2e8172d8d140849896da0ad27e500c",
            "c19e8943367c40d4b3e78f027e86b1fb",
            "cd396d919c11475f92c2b30a1bd27cda",
            "c8e63da912ed41d28db331502d3fab8e",
            "4cec53f526d54e74bdbb955762b82f18",
            "421128fd89f34bc3a579b6b18bf918bb",
            "38695e5d0898433cb27de48229d82446",
            "cd7db31e6e1d44c68f59e9c36cfa82fb",
            "4081a816bea64e7ab5c0b499548b1cfc",
            "d38d5eb2968a4860a599e459a4ae0d25",
            "7801469910c748a783f933ba73a93046",
            "49aa2f2aee864615bdff35a46aee46b8",
            "c8924d61c00543ccbd43a081476cc761",
            "2a70edbae28f48c48e5b16dabfc969fb",
            "d199d1fbac7c4842888ec3a1a3242393",
            "74694401beba4005acff98cb466c4147",
            "2702384b0f5e4365bb1ddda788813b98",
            "0394928ae23942ec8a7c6ff87aab7278",
            "9b336058bff747379d719ba1d5d22e0e",
            "e9133a13856a45a992b5757e65f3d21e",
            "a14cf7e26e974bb5a90c7cc59bf1a3a2",
            "d88a720a46254c8aa20fa5b623a8ede7",
            "1406ddbf1a5343bc94beb389955df02c",
            "a90c61a87ce74759b7847a76454df69d",
            "efbd771c132f48c294207d2fb3a2eea6",
            "42ddb5cc04f6427b8317ce49473a5058",
            "5d46d5b9710e47579072f29d8ec757d6",
            "426f8475e3874f818f1eee1f8e315a92",
            "9fdab495ee6f4e89ad1a4528283a0cef",
            "0469d5788bc14717ba316a5dcccaf9e4",
            "e56322bceec34a1682a3e9e0483b6192",
            "1426ea5636ff4e8082ea87e990e04da4",
            "adf8027b2f5b41d5ac1f1f724fe9039c",
            "5a547b3543194056a558142f92652158",
            "c17792c9e68d41f4a2c028620729b608",
            "6a4d4f838cd9459eb4722bfc9cd66531",
            "785325195e3045609a6f1433c08e3d45",
            "04a1e34e21ba40cca5c3fab6d4348942",
            "7ff61ae574254224beb8e2a15e399963",
            "6326fd06943244ff9c06622e2c4e3f54",
            "0fb4d27637ce452db26b6b0d6039841a",
            "1cd58ab7ccb84865846bbf21d2567277",
            "c0595333600743c89dba5f257e21e71d",
            "b71c637bfdac453aa8c8ce68efef00d4",
            "0e7efcb190d9445fb59576680eb29400",
            "9b1584a51c5f4c3f88251aab10b3e402",
            "9c8692a5aaec4461aba7672f0de0751f",
            "145eb1e45f054043bd58440461cc9515",
            "2d8ef5faddc14edeac7df67df84782ce",
            "b97229e48b744fa4a583706c69441e61",
            "f880aa18177b485e84adf5ce6d5ed129",
            "ab8784a85b024439a1d3a4c4642c3a85",
            "67aa8969bedb40828f123b2b113e1654",
            "e33ea4b7cd2d4ad9b169c37c973db77d",
            "2c70e62f8c234f22aed1bceeac24772a",
            "7ac697dfb60b48d3bc1b5abd47e02685",
            "86e00c65fb5d4da1a5fb6edb60f166d4",
            "117986e358374f0cb2fdd57be327b71b",
            "e6d6182ad8c2417889bac9a08067604d",
            "04e8296192bb425abc2a9b8fa33bedde",
            "3e34dc65e48242709d1f426fec893576",
            "0cf3875a3df84f6ea11b1e8ef8dff0fc"
          ],
          "height": 155
        },
        "id": "vpZHSyTjghPj",
        "outputId": "c9c4ece5-174b-4f5c-f744-6a82ae3bbf3c"
      },
      "execution_count": 22,
      "outputs": [
        {
          "output_type": "stream",
          "name": "stderr",
          "text": [
            "WARNING:absl:Variant folder /root/tensorflow_datasets/imdb_reviews/plain_text/1.0.0 has no dataset_info.json\n"
          ]
        },
        {
          "output_type": "stream",
          "name": "stdout",
          "text": [
            "Downloading and preparing dataset Unknown size (download: Unknown size, generated: Unknown size, total: Unknown size) to /root/tensorflow_datasets/imdb_reviews/plain_text/1.0.0...\n"
          ]
        },
        {
          "output_type": "display_data",
          "data": {
            "text/plain": [
              "Dl Completed...: 0 url [00:00, ? url/s]"
            ],
            "application/vnd.jupyter.widget-view+json": {
              "version_major": 2,
              "version_minor": 0,
              "model_id": "dc35e1cfe420482eb3376fe418874f5e"
            }
          },
          "metadata": {}
        },
        {
          "output_type": "display_data",
          "data": {
            "text/plain": [
              "Dl Size...: 0 MiB [00:00, ? MiB/s]"
            ],
            "application/vnd.jupyter.widget-view+json": {
              "version_major": 2,
              "version_minor": 0,
              "model_id": "d3e3cfdb6ebf45279c0c6ebca4316a84"
            }
          },
          "metadata": {}
        },
        {
          "output_type": "display_data",
          "data": {
            "text/plain": [
              "Generating splits...:   0%|          | 0/3 [00:00<?, ? splits/s]"
            ],
            "application/vnd.jupyter.widget-view+json": {
              "version_major": 2,
              "version_minor": 0,
              "model_id": "7b5e40e5375f425b9609043ab9adc462"
            }
          },
          "metadata": {}
        },
        {
          "output_type": "display_data",
          "data": {
            "text/plain": [
              "Generating train examples...: 0 examples [00:00, ? examples/s]"
            ],
            "application/vnd.jupyter.widget-view+json": {
              "version_major": 2,
              "version_minor": 0,
              "model_id": "8947ab1f863b4e76895712ae5375b2be"
            }
          },
          "metadata": {}
        },
        {
          "output_type": "display_data",
          "data": {
            "text/plain": [
              "Shuffling /root/tensorflow_datasets/imdb_reviews/plain_text/incomplete.6QMQS1_1.0.0/imdb_reviews-train.tfrecor…"
            ],
            "application/vnd.jupyter.widget-view+json": {
              "version_major": 2,
              "version_minor": 0,
              "model_id": "cd7db31e6e1d44c68f59e9c36cfa82fb"
            }
          },
          "metadata": {}
        },
        {
          "output_type": "display_data",
          "data": {
            "text/plain": [
              "Generating test examples...: 0 examples [00:00, ? examples/s]"
            ],
            "application/vnd.jupyter.widget-view+json": {
              "version_major": 2,
              "version_minor": 0,
              "model_id": "9b336058bff747379d719ba1d5d22e0e"
            }
          },
          "metadata": {}
        },
        {
          "output_type": "display_data",
          "data": {
            "text/plain": [
              "Shuffling /root/tensorflow_datasets/imdb_reviews/plain_text/incomplete.6QMQS1_1.0.0/imdb_reviews-test.tfrecord…"
            ],
            "application/vnd.jupyter.widget-view+json": {
              "version_major": 2,
              "version_minor": 0,
              "model_id": "0469d5788bc14717ba316a5dcccaf9e4"
            }
          },
          "metadata": {}
        },
        {
          "output_type": "display_data",
          "data": {
            "text/plain": [
              "Generating unsupervised examples...: 0 examples [00:00, ? examples/s]"
            ],
            "application/vnd.jupyter.widget-view+json": {
              "version_major": 2,
              "version_minor": 0,
              "model_id": "0fb4d27637ce452db26b6b0d6039841a"
            }
          },
          "metadata": {}
        },
        {
          "output_type": "display_data",
          "data": {
            "text/plain": [
              "Shuffling /root/tensorflow_datasets/imdb_reviews/plain_text/incomplete.6QMQS1_1.0.0/imdb_reviews-unsupervised.…"
            ],
            "application/vnd.jupyter.widget-view+json": {
              "version_major": 2,
              "version_minor": 0,
              "model_id": "ab8784a85b024439a1d3a4c4642c3a85"
            }
          },
          "metadata": {}
        },
        {
          "output_type": "stream",
          "name": "stdout",
          "text": [
            "Dataset imdb_reviews downloaded and prepared to /root/tensorflow_datasets/imdb_reviews/plain_text/1.0.0. Subsequent calls will reuse this data.\n"
          ]
        }
      ]
    },
    {
      "cell_type": "code",
      "source": [
        "BUFFER_SIZE = 10000\n",
        "BATCH_SIZE = 64\n",
        "\n",
        "# optimización para train\n",
        "train_dataset = train_dataset.shuffle(BUFFER_SIZE).batch(BATCH_SIZE).prefetch(tf.data.AUTOTUNE)\n",
        "\n",
        "# optimización para test\n",
        "test_dataset = test_dataset.batch(BATCH_SIZE).prefetch(tf.data.AUTOTUNE)"
      ],
      "metadata": {
        "id": "-HLG5L1rgqlQ"
      },
      "execution_count": 23,
      "outputs": []
    },
    {
      "cell_type": "markdown",
      "source": [
        "### Método manual - Usando embebidos directamente"
      ],
      "metadata": {
        "id": "E7nJDLhPLnIL"
      }
    },
    {
      "cell_type": "markdown",
      "source": [
        "Es necesario descargar los correspondientes vectores pre-entrenados para ser usados posteriormente en nuestros proyectos.\n",
        "\n",
        "**[FastText](https://fasttext.cc/):**\n",
        "\n",
        "FastText, desarrollado por el equipo de IA de Facebook (FAIR), es un algoritmo popular para aprender embeddings de palabras. Tiene algunas características distintivas:\n",
        "\n",
        "* Basado en Subpalabras (N-gramas de Caracteres): A diferencia de Word2Vec, que trata cada palabra como una unidad atómica, FastText representa cada palabra como una bolsa de n-gramas de caracteres. Por ejemplo, la palabra \"manzana\" con n-gramas de 3 caracteres (trigramas) se podría representar como `<ma, man, anz, nza, zan, ana, na>` (donde < y > marcan el inicio y fin de la palabra). El vector de la palabra \"manzana\" se forma sumando los vectores de sus n-gramas.Esto permite a FastText generar embeddings para palabras que no vio durante el entrenamiento (palabras fuera de vocabulario u OOV), ya que es probable que sus n-gramas sí hayan sido vistos en otras palabras. También maneja mejor palabras raras y lenguajes morfológicamente ricos (donde las palabras cambian mucho su forma, como el español o el alemán).\n",
        "\n",
        "* Corpus: Provienen de Common Crawl, un corpus masivo que contiene datos rastreados de la web.\n",
        "\n",
        "* Algoritmo: Se entrenan utilizando arquitecturas similares a Word2Vec, como CBOW (Continuous Bag-of-Words) o Skip-gram.\n",
        "  - **CBOW**: Intenta predecir la palabra central a partir de las palabras de su contexto.\n",
        "  - **Skip-gram**: Intenta predecir las palabras del contexto a partir de la palabra central."
      ],
      "metadata": {
        "id": "SFPxeUzdy69d"
      }
    },
    {
      "cell_type": "markdown",
      "source": [
        "#### Descargar embeddings Fasttext"
      ],
      "metadata": {
        "id": "AbjBnXdHfN4L"
      }
    },
    {
      "cell_type": "code",
      "source": [
        "# Descargar vectores embebidos en inglés y español\n",
        "# Descargar los vectores FastText de inglés y español\n",
        "!wget https://dl.fbaipublicfiles.com/fasttext/vectors-crawl/cc.en.300.vec.gz\n",
        "!wget https://dl.fbaipublicfiles.com/fasttext/vectors-crawl/cc.es.300.vec.gz\n",
        "\n",
        "# Descomprimir los archivos\n",
        "!gunzip cc.en.300.vec.gz # vectores de dim 300 en inglés\n",
        "!gunzip cc.es.300.vec.gz # vectores de dim 300 es español"
      ],
      "metadata": {
        "id": "ZGrkAnvCwG_U",
        "outputId": "7b3b4bac-eb17-4e59-d342-66e11e75ef4c",
        "colab": {
          "base_uri": "https://localhost:8080/"
        }
      },
      "execution_count": 24,
      "outputs": [
        {
          "output_type": "stream",
          "name": "stdout",
          "text": [
            "--2025-08-09 09:59:53--  https://dl.fbaipublicfiles.com/fasttext/vectors-crawl/cc.en.300.vec.gz\n",
            "Resolving dl.fbaipublicfiles.com (dl.fbaipublicfiles.com)... 13.35.37.84, 13.35.37.90, 13.35.37.123, ...\n",
            "Connecting to dl.fbaipublicfiles.com (dl.fbaipublicfiles.com)|13.35.37.84|:443... connected.\n",
            "HTTP request sent, awaiting response... 200 OK\n",
            "Length: 1325960915 (1.2G) [binary/octet-stream]\n",
            "Saving to: ‘cc.en.300.vec.gz’\n",
            "\n",
            "cc.en.300.vec.gz    100%[===================>]   1.23G  69.4MB/s    in 7.0s    \n",
            "\n",
            "2025-08-09 10:00:00 (180 MB/s) - ‘cc.en.300.vec.gz’ saved [1325960915/1325960915]\n",
            "\n",
            "--2025-08-09 10:00:00--  https://dl.fbaipublicfiles.com/fasttext/vectors-crawl/cc.es.300.vec.gz\n",
            "Resolving dl.fbaipublicfiles.com (dl.fbaipublicfiles.com)... 13.35.37.84, 13.35.37.90, 13.35.37.123, ...\n",
            "Connecting to dl.fbaipublicfiles.com (dl.fbaipublicfiles.com)|13.35.37.84|:443... connected.\n",
            "HTTP request sent, awaiting response... 200 OK\n",
            "Length: 1285580896 (1.2G) [binary/octet-stream]\n",
            "Saving to: ‘cc.es.300.vec.gz’\n",
            "\n",
            "cc.es.300.vec.gz    100%[===================>]   1.20G   244MB/s    in 5.1s    \n",
            "\n",
            "2025-08-09 10:00:05 (240 MB/s) - ‘cc.es.300.vec.gz’ saved [1285580896/1285580896]\n",
            "\n"
          ]
        }
      ]
    },
    {
      "cell_type": "code",
      "source": [
        "print(f\"Número de palabras en la matriz de inglés:\")\n",
        "!head -n 1 cc.en.300.vec\n",
        "\n",
        "print(f\"Número de palabras en la matriz de español:\")\n",
        "!head -n 1 cc.es.300.vec"
      ],
      "metadata": {
        "colab": {
          "base_uri": "https://localhost:8080/"
        },
        "id": "RElwCiSyc_CT",
        "outputId": "ada82487-27b8-4dd4-b311-9e1d7ad42ca8"
      },
      "execution_count": 25,
      "outputs": [
        {
          "output_type": "stream",
          "name": "stdout",
          "text": [
            "Número de palabras en la matriz de inglés:\n",
            "2000000 300\n",
            "Número de palabras en la matriz de español:\n",
            "2000000 300\n"
          ]
        }
      ]
    },
    {
      "cell_type": "code",
      "source": [
        "# Cargar los embeddings preentrenados de FastText (esto puede tardar un poco)\n",
        "# limitar a 50.000 palabras más frecuentes\n",
        "embedding_en = KeyedVectors.load_word2vec_format('cc.en.300.vec',\n",
        "                                                 binary=False,\n",
        "                                                 limit=50000)\n",
        "\n",
        "embedding_es = KeyedVectors.load_word2vec_format('cc.es.300.vec',\n",
        "                                                 binary=False,\n",
        "                                                 limit=50000)"
      ],
      "metadata": {
        "id": "5XrXVRtxwyOp"
      },
      "execution_count": 26,
      "outputs": []
    },
    {
      "cell_type": "markdown",
      "source": [
        "#### Relación semántica de los embeddings"
      ],
      "metadata": {
        "id": "1IlKi0qjgHkO"
      }
    },
    {
      "cell_type": "markdown",
      "source": [
        "**Semántica en Inglés**"
      ],
      "metadata": {
        "id": "gD2_qaYYjBaM"
      }
    },
    {
      "cell_type": "code",
      "source": [
        "# Palabras similares\n",
        "palabra_en = \"king\"\n",
        "if palabra_en in embedding_en:\n",
        "    similares_en = embedding_en.most_similar(palabra_en, topn=5)\n",
        "    print(f\"Palabras más similares a '{palabra_en}': {similares_en}\")"
      ],
      "metadata": {
        "colab": {
          "base_uri": "https://localhost:8080/"
        },
        "id": "f7kyweHqg3ud",
        "outputId": "b4cfa379-8f20-4d38-a2dd-2ead95eb49e0"
      },
      "execution_count": 27,
      "outputs": [
        {
          "output_type": "stream",
          "name": "stdout",
          "text": [
            "Palabras más similares a 'king': [('kings', 0.7550534605979919), ('queen', 0.7069182991981506), ('King', 0.6591336727142334), ('prince', 0.6495301723480225), ('monarch', 0.618451714515686)]\n"
          ]
        }
      ]
    },
    {
      "cell_type": "code",
      "source": [
        "# Analogías: rey es a hombre lo que reina es a ? (mujer)\n",
        "# king - man + woman = queen\n",
        "if all(word in embedding_en for word in [\"king\", \"man\", \"woman\"]):\n",
        "    analogia_en = embedding_en.most_similar(positive=['king', 'woman'],\n",
        "                                            negative=['man'], topn=3)\n",
        "    print(f\"'king' - 'man' + 'woman' se parece a: {analogia_en}\")"
      ],
      "metadata": {
        "colab": {
          "base_uri": "https://localhost:8080/"
        },
        "id": "zI2UUWdhhSfI",
        "outputId": "c15bf440-bb3a-4add-bfb0-0f20f251f03f"
      },
      "execution_count": 28,
      "outputs": [
        {
          "output_type": "stream",
          "name": "stdout",
          "text": [
            "'king' - 'man' + 'woman' se parece a: [('queen', 0.7554903030395508), ('princess', 0.5755002498626709), ('monarch', 0.5741325616836548)]\n"
          ]
        }
      ]
    },
    {
      "cell_type": "markdown",
      "source": [
        "**Semántica en español**"
      ],
      "metadata": {
        "id": "3yI89dPpjF9r"
      }
    },
    {
      "cell_type": "code",
      "source": [
        "if embedding_es:\n",
        "  if all(word in embedding_es for word in [\"manzana\", \"pera\"]):\n",
        "      distancia = embedding_es.similarity(\"manzana\", \"pera\")\n",
        "      # Un valor más cercano a 1 indica más similitud\n",
        "      print(f\"Similitud entre 'manzana' y 'pera': {distancia:.4f}\")"
      ],
      "metadata": {
        "colab": {
          "base_uri": "https://localhost:8080/"
        },
        "id": "j68df9LXhvfc",
        "outputId": "5229b98b-85c7-4e53-845a-7159393a82af"
      },
      "execution_count": 29,
      "outputs": [
        {
          "output_type": "stream",
          "name": "stdout",
          "text": [
            "Similitud entre 'manzana' y 'pera': 0.6270\n"
          ]
        }
      ]
    },
    {
      "cell_type": "markdown",
      "source": [
        "**Limitaciones**"
      ],
      "metadata": {
        "id": "K_N7PkmXkMZR"
      }
    },
    {
      "cell_type": "code",
      "source": [
        "print(f\"--- Demostrando limitaciones entre lenguajes\")\n",
        "\n",
        "# Palabras a comparar\n",
        "palabra_en = \"water\"\n",
        "palabra_es = \"agua\"\n",
        "\n",
        "# obtener los embeddings\n",
        "vector_en = embedding_en.get_vector(palabra_en)\n",
        "vector_es = embedding_es.get_vector(palabra_es)\n",
        "\n",
        "# calcular las similitudes\n",
        "similitud_cruzada = cosine_similarity(vector_en, vector_es)\n",
        "print(f\"Similitud coseno entre '{palabra_en}' (vector EN) y '{palabra_es}' (vector ES): {similitud_cruzada:.4f}\")"
      ],
      "metadata": {
        "colab": {
          "base_uri": "https://localhost:8080/"
        },
        "id": "owoIUTqxhvi3",
        "outputId": "5284e58f-4740-4c6a-b3bb-aed37a908824"
      },
      "execution_count": 30,
      "outputs": [
        {
          "output_type": "stream",
          "name": "stdout",
          "text": [
            "--- Demostrando limitaciones entre lenguajes\n",
            "Similitud coseno entre 'water' (vector EN) y 'agua' (vector ES): -0.0832\n"
          ]
        }
      ]
    },
    {
      "cell_type": "markdown",
      "source": [
        "#### Crear Vocabulario y matriz de embeddings"
      ],
      "metadata": {
        "id": "dGl-MsHxmJOj"
      }
    },
    {
      "cell_type": "code",
      "source": [
        "VOCAB_SIZE = 10000\n",
        "encoder = tf.keras.layers.TextVectorization(\n",
        "    max_tokens=VOCAB_SIZE)\n",
        "\n",
        "# Crea la capa y pasa el texto del conjunto de datos al método .adapt de la capa\n",
        "encoder.adapt(train_dataset.map(lambda text, label: text))"
      ],
      "metadata": {
        "id": "aEdRoX7DyX6N"
      },
      "execution_count": 31,
      "outputs": []
    },
    {
      "cell_type": "code",
      "source": [
        "# Obtener el vocabulario del encoder\n",
        "vocab = encoder.get_vocabulary()\n",
        "# Dimensiones de los embeddings preentrenados\n",
        "embedding_dim = 300  # Dimensión de los embeddings de FastText\n",
        "\n",
        "# 1. Crear la matriz de embeddings. Inicializar con ceros\n",
        "# ya que esto maneja el token de padding (índice 0) correctamente por defecto.\n",
        "embedding_matrix = np.zeros((len(vocab), embedding_dim))\n",
        "\n",
        "# 2. Llenar la matriz con los vectores de FastText y manejar tokens especiales\n",
        "# solo vamos a usar los de inglés\n",
        "for i, word in enumerate(vocab):\n",
        "    if word in embedding_en:\n",
        "        # La palabra está en FastText, usa su vector\n",
        "        embedding_matrix[i] = embedding_en[word]\n",
        "    else:\n",
        "        # Otras palabras en nuestro vocabulario pero no en FastText\n",
        "        embedding_matrix[i] = np.random.uniform(-0.25, 0.25, embedding_dim)"
      ],
      "metadata": {
        "id": "qX_XmokLzPUS"
      },
      "execution_count": 32,
      "outputs": []
    },
    {
      "cell_type": "code",
      "source": [
        "embedding_matrix.shape"
      ],
      "metadata": {
        "id": "wHL02tkE1YLd",
        "outputId": "9a5c2bca-2822-4485-b4b1-8d3f5afc1ad3",
        "colab": {
          "base_uri": "https://localhost:8080/"
        }
      },
      "execution_count": 33,
      "outputs": [
        {
          "output_type": "execute_result",
          "data": {
            "text/plain": [
              "(10000, 300)"
            ]
          },
          "metadata": {},
          "execution_count": 33
        }
      ]
    },
    {
      "cell_type": "markdown",
      "source": [
        "#### Crear y entrenar modelo"
      ],
      "metadata": {
        "id": "4lGeUZxvo1-h"
      }
    },
    {
      "cell_type": "code",
      "source": [
        "K.clear_session()\n",
        "def rnn(pretrained_vector_matrix):\n",
        "    # Ahora utilizamos la API funcional de Keras\n",
        "    inputs = tf.keras.layers.Input(shape=(1,), dtype=tf.string)  # El input será una cadena de texto\n",
        "    x = encoder(inputs)  # Aplicamos el encoder\n",
        "\n",
        "    x = tf.keras.layers.Embedding(\n",
        "        input_dim=len(encoder.get_vocabulary()),  # Tamaño del vocabulario\n",
        "        output_dim=pretrained_vector_matrix.shape[1],  # Dimensión de los embeddings (300)\n",
        "        embeddings_initializer=tf.keras.initializers.Constant(pretrained_vector_matrix),\n",
        "        trainable=True,  # Ajustar los vectores a nuestro dataset\n",
        "        mask_zero=True)(x)  # Capa de Embedding\n",
        "\n",
        "    x = tf.keras.layers.Bidirectional(tf.keras.layers.LSTM(64, return_sequences=False),\n",
        "                                      merge_mode='concat')(x)  # Capa LSTM Bidireccional\n",
        "\n",
        "    x = tf.keras.layers.Dense(64, activation='relu')(x)  # Capa densa\n",
        "    x = tf.keras.layers.Dropout(0.6)(x)  # Capa de Dropout para regularizar\n",
        "\n",
        "    outputs = tf.keras.layers.Dense(1, activation='sigmoid')(x) # Capa de salida\n",
        "\n",
        "    # Definimos el modelo\n",
        "    model = tf.keras.Model(inputs, outputs)\n",
        "\n",
        "    return model\n",
        "\n",
        "# crear la red RNN con LSTM\n",
        "model = rnn(embedding_matrix)\n",
        "\n",
        "# Compilamos el modelo con una lr baja para evitar sobre entrenar\n",
        "model.compile(loss=tf.keras.losses.BinaryCrossentropy(from_logits=False),\n",
        "              optimizer=tf.keras.optimizers.Adam(3e-5),\n",
        "              metrics=['accuracy'])\n",
        "\n",
        "# Verificamos la estructura del modelo\n",
        "model.summary()"
      ],
      "metadata": {
        "id": "LK4JQlMIyX9g",
        "outputId": "21faaab8-9f18-4dc4-fbb9-676c37437a7e",
        "colab": {
          "base_uri": "https://localhost:8080/",
          "height": 477
        }
      },
      "execution_count": 34,
      "outputs": [
        {
          "output_type": "display_data",
          "data": {
            "text/plain": [
              "\u001b[1mModel: \"functional\"\u001b[0m\n"
            ],
            "text/html": [
              "<pre style=\"white-space:pre;overflow-x:auto;line-height:normal;font-family:Menlo,'DejaVu Sans Mono',consolas,'Courier New',monospace\"><span style=\"font-weight: bold\">Model: \"functional\"</span>\n",
              "</pre>\n"
            ]
          },
          "metadata": {}
        },
        {
          "output_type": "display_data",
          "data": {
            "text/plain": [
              "┏━━━━━━━━━━━━━━━━━━━━━┳━━━━━━━━━━━━━━━━━━━┳━━━━━━━━━━━━┳━━━━━━━━━━━━━━━━━━━┓\n",
              "┃\u001b[1m \u001b[0m\u001b[1mLayer (type)       \u001b[0m\u001b[1m \u001b[0m┃\u001b[1m \u001b[0m\u001b[1mOutput Shape     \u001b[0m\u001b[1m \u001b[0m┃\u001b[1m \u001b[0m\u001b[1m   Param #\u001b[0m\u001b[1m \u001b[0m┃\u001b[1m \u001b[0m\u001b[1mConnected to     \u001b[0m\u001b[1m \u001b[0m┃\n",
              "┡━━━━━━━━━━━━━━━━━━━━━╇━━━━━━━━━━━━━━━━━━━╇━━━━━━━━━━━━╇━━━━━━━━━━━━━━━━━━━┩\n",
              "│ input_layer         │ (\u001b[38;5;45mNone\u001b[0m, \u001b[38;5;34m1\u001b[0m)         │          \u001b[38;5;34m0\u001b[0m │ -                 │\n",
              "│ (\u001b[38;5;33mInputLayer\u001b[0m)        │                   │            │                   │\n",
              "├─────────────────────┼───────────────────┼────────────┼───────────────────┤\n",
              "│ text_vectorization  │ (\u001b[38;5;45mNone\u001b[0m, \u001b[38;5;45mNone\u001b[0m)      │          \u001b[38;5;34m0\u001b[0m │ input_layer[\u001b[38;5;34m0\u001b[0m][\u001b[38;5;34m0\u001b[0m] │\n",
              "│ (\u001b[38;5;33mTextVectorization\u001b[0m) │                   │            │                   │\n",
              "├─────────────────────┼───────────────────┼────────────┼───────────────────┤\n",
              "│ embedding           │ (\u001b[38;5;45mNone\u001b[0m, \u001b[38;5;45mNone\u001b[0m, \u001b[38;5;34m300\u001b[0m) │  \u001b[38;5;34m3,000,000\u001b[0m │ text_vectorizati… │\n",
              "│ (\u001b[38;5;33mEmbedding\u001b[0m)         │                   │            │                   │\n",
              "├─────────────────────┼───────────────────┼────────────┼───────────────────┤\n",
              "│ not_equal           │ (\u001b[38;5;45mNone\u001b[0m, \u001b[38;5;45mNone\u001b[0m)      │          \u001b[38;5;34m0\u001b[0m │ text_vectorizati… │\n",
              "│ (\u001b[38;5;33mNotEqual\u001b[0m)          │                   │            │                   │\n",
              "├─────────────────────┼───────────────────┼────────────┼───────────────────┤\n",
              "│ bidirectional       │ (\u001b[38;5;45mNone\u001b[0m, \u001b[38;5;34m128\u001b[0m)       │    \u001b[38;5;34m186,880\u001b[0m │ embedding[\u001b[38;5;34m0\u001b[0m][\u001b[38;5;34m0\u001b[0m],  │\n",
              "│ (\u001b[38;5;33mBidirectional\u001b[0m)     │                   │            │ not_equal[\u001b[38;5;34m0\u001b[0m][\u001b[38;5;34m0\u001b[0m]   │\n",
              "├─────────────────────┼───────────────────┼────────────┼───────────────────┤\n",
              "│ dense (\u001b[38;5;33mDense\u001b[0m)       │ (\u001b[38;5;45mNone\u001b[0m, \u001b[38;5;34m64\u001b[0m)        │      \u001b[38;5;34m8,256\u001b[0m │ bidirectional[\u001b[38;5;34m0\u001b[0m]… │\n",
              "├─────────────────────┼───────────────────┼────────────┼───────────────────┤\n",
              "│ dropout (\u001b[38;5;33mDropout\u001b[0m)   │ (\u001b[38;5;45mNone\u001b[0m, \u001b[38;5;34m64\u001b[0m)        │          \u001b[38;5;34m0\u001b[0m │ dense[\u001b[38;5;34m0\u001b[0m][\u001b[38;5;34m0\u001b[0m]       │\n",
              "├─────────────────────┼───────────────────┼────────────┼───────────────────┤\n",
              "│ dense_1 (\u001b[38;5;33mDense\u001b[0m)     │ (\u001b[38;5;45mNone\u001b[0m, \u001b[38;5;34m1\u001b[0m)         │         \u001b[38;5;34m65\u001b[0m │ dropout[\u001b[38;5;34m0\u001b[0m][\u001b[38;5;34m0\u001b[0m]     │\n",
              "└─────────────────────┴───────────────────┴────────────┴───────────────────┘\n"
            ],
            "text/html": [
              "<pre style=\"white-space:pre;overflow-x:auto;line-height:normal;font-family:Menlo,'DejaVu Sans Mono',consolas,'Courier New',monospace\">┏━━━━━━━━━━━━━━━━━━━━━┳━━━━━━━━━━━━━━━━━━━┳━━━━━━━━━━━━┳━━━━━━━━━━━━━━━━━━━┓\n",
              "┃<span style=\"font-weight: bold\"> Layer (type)        </span>┃<span style=\"font-weight: bold\"> Output Shape      </span>┃<span style=\"font-weight: bold\">    Param # </span>┃<span style=\"font-weight: bold\"> Connected to      </span>┃\n",
              "┡━━━━━━━━━━━━━━━━━━━━━╇━━━━━━━━━━━━━━━━━━━╇━━━━━━━━━━━━╇━━━━━━━━━━━━━━━━━━━┩\n",
              "│ input_layer         │ (<span style=\"color: #00d7ff; text-decoration-color: #00d7ff\">None</span>, <span style=\"color: #00af00; text-decoration-color: #00af00\">1</span>)         │          <span style=\"color: #00af00; text-decoration-color: #00af00\">0</span> │ -                 │\n",
              "│ (<span style=\"color: #0087ff; text-decoration-color: #0087ff\">InputLayer</span>)        │                   │            │                   │\n",
              "├─────────────────────┼───────────────────┼────────────┼───────────────────┤\n",
              "│ text_vectorization  │ (<span style=\"color: #00d7ff; text-decoration-color: #00d7ff\">None</span>, <span style=\"color: #00d7ff; text-decoration-color: #00d7ff\">None</span>)      │          <span style=\"color: #00af00; text-decoration-color: #00af00\">0</span> │ input_layer[<span style=\"color: #00af00; text-decoration-color: #00af00\">0</span>][<span style=\"color: #00af00; text-decoration-color: #00af00\">0</span>] │\n",
              "│ (<span style=\"color: #0087ff; text-decoration-color: #0087ff\">TextVectorization</span>) │                   │            │                   │\n",
              "├─────────────────────┼───────────────────┼────────────┼───────────────────┤\n",
              "│ embedding           │ (<span style=\"color: #00d7ff; text-decoration-color: #00d7ff\">None</span>, <span style=\"color: #00d7ff; text-decoration-color: #00d7ff\">None</span>, <span style=\"color: #00af00; text-decoration-color: #00af00\">300</span>) │  <span style=\"color: #00af00; text-decoration-color: #00af00\">3,000,000</span> │ text_vectorizati… │\n",
              "│ (<span style=\"color: #0087ff; text-decoration-color: #0087ff\">Embedding</span>)         │                   │            │                   │\n",
              "├─────────────────────┼───────────────────┼────────────┼───────────────────┤\n",
              "│ not_equal           │ (<span style=\"color: #00d7ff; text-decoration-color: #00d7ff\">None</span>, <span style=\"color: #00d7ff; text-decoration-color: #00d7ff\">None</span>)      │          <span style=\"color: #00af00; text-decoration-color: #00af00\">0</span> │ text_vectorizati… │\n",
              "│ (<span style=\"color: #0087ff; text-decoration-color: #0087ff\">NotEqual</span>)          │                   │            │                   │\n",
              "├─────────────────────┼───────────────────┼────────────┼───────────────────┤\n",
              "│ bidirectional       │ (<span style=\"color: #00d7ff; text-decoration-color: #00d7ff\">None</span>, <span style=\"color: #00af00; text-decoration-color: #00af00\">128</span>)       │    <span style=\"color: #00af00; text-decoration-color: #00af00\">186,880</span> │ embedding[<span style=\"color: #00af00; text-decoration-color: #00af00\">0</span>][<span style=\"color: #00af00; text-decoration-color: #00af00\">0</span>],  │\n",
              "│ (<span style=\"color: #0087ff; text-decoration-color: #0087ff\">Bidirectional</span>)     │                   │            │ not_equal[<span style=\"color: #00af00; text-decoration-color: #00af00\">0</span>][<span style=\"color: #00af00; text-decoration-color: #00af00\">0</span>]   │\n",
              "├─────────────────────┼───────────────────┼────────────┼───────────────────┤\n",
              "│ dense (<span style=\"color: #0087ff; text-decoration-color: #0087ff\">Dense</span>)       │ (<span style=\"color: #00d7ff; text-decoration-color: #00d7ff\">None</span>, <span style=\"color: #00af00; text-decoration-color: #00af00\">64</span>)        │      <span style=\"color: #00af00; text-decoration-color: #00af00\">8,256</span> │ bidirectional[<span style=\"color: #00af00; text-decoration-color: #00af00\">0</span>]… │\n",
              "├─────────────────────┼───────────────────┼────────────┼───────────────────┤\n",
              "│ dropout (<span style=\"color: #0087ff; text-decoration-color: #0087ff\">Dropout</span>)   │ (<span style=\"color: #00d7ff; text-decoration-color: #00d7ff\">None</span>, <span style=\"color: #00af00; text-decoration-color: #00af00\">64</span>)        │          <span style=\"color: #00af00; text-decoration-color: #00af00\">0</span> │ dense[<span style=\"color: #00af00; text-decoration-color: #00af00\">0</span>][<span style=\"color: #00af00; text-decoration-color: #00af00\">0</span>]       │\n",
              "├─────────────────────┼───────────────────┼────────────┼───────────────────┤\n",
              "│ dense_1 (<span style=\"color: #0087ff; text-decoration-color: #0087ff\">Dense</span>)     │ (<span style=\"color: #00d7ff; text-decoration-color: #00d7ff\">None</span>, <span style=\"color: #00af00; text-decoration-color: #00af00\">1</span>)         │         <span style=\"color: #00af00; text-decoration-color: #00af00\">65</span> │ dropout[<span style=\"color: #00af00; text-decoration-color: #00af00\">0</span>][<span style=\"color: #00af00; text-decoration-color: #00af00\">0</span>]     │\n",
              "└─────────────────────┴───────────────────┴────────────┴───────────────────┘\n",
              "</pre>\n"
            ]
          },
          "metadata": {}
        },
        {
          "output_type": "display_data",
          "data": {
            "text/plain": [
              "\u001b[1m Total params: \u001b[0m\u001b[38;5;34m3,195,201\u001b[0m (12.19 MB)\n"
            ],
            "text/html": [
              "<pre style=\"white-space:pre;overflow-x:auto;line-height:normal;font-family:Menlo,'DejaVu Sans Mono',consolas,'Courier New',monospace\"><span style=\"font-weight: bold\"> Total params: </span><span style=\"color: #00af00; text-decoration-color: #00af00\">3,195,201</span> (12.19 MB)\n",
              "</pre>\n"
            ]
          },
          "metadata": {}
        },
        {
          "output_type": "display_data",
          "data": {
            "text/plain": [
              "\u001b[1m Trainable params: \u001b[0m\u001b[38;5;34m3,195,201\u001b[0m (12.19 MB)\n"
            ],
            "text/html": [
              "<pre style=\"white-space:pre;overflow-x:auto;line-height:normal;font-family:Menlo,'DejaVu Sans Mono',consolas,'Courier New',monospace\"><span style=\"font-weight: bold\"> Trainable params: </span><span style=\"color: #00af00; text-decoration-color: #00af00\">3,195,201</span> (12.19 MB)\n",
              "</pre>\n"
            ]
          },
          "metadata": {}
        },
        {
          "output_type": "display_data",
          "data": {
            "text/plain": [
              "\u001b[1m Non-trainable params: \u001b[0m\u001b[38;5;34m0\u001b[0m (0.00 B)\n"
            ],
            "text/html": [
              "<pre style=\"white-space:pre;overflow-x:auto;line-height:normal;font-family:Menlo,'DejaVu Sans Mono',consolas,'Courier New',monospace\"><span style=\"font-weight: bold\"> Non-trainable params: </span><span style=\"color: #00af00; text-decoration-color: #00af00\">0</span> (0.00 B)\n",
              "</pre>\n"
            ]
          },
          "metadata": {}
        }
      ]
    },
    {
      "cell_type": "code",
      "source": [
        "# hacer una prueba sin usar padding\n",
        "# El texto crudo que quieres predecir\n",
        "sample_text = ('The movie was cool. The animation and the graphics were out of this world.')\n",
        "\n",
        "# No es necesario hacer la vectorización manual aquí, simplemente pasa el texto crudo al modelo\n",
        "predictions = model.predict(tf.constant([sample_text]))\n",
        "\n",
        "# Imprime la predicción\n",
        "print(predictions[0])"
      ],
      "metadata": {
        "id": "ZW667u-H29dI",
        "outputId": "7cd04765-7a19-422e-9aa7-d7ffb32ba541",
        "colab": {
          "base_uri": "https://localhost:8080/"
        }
      },
      "execution_count": 35,
      "outputs": [
        {
          "output_type": "stream",
          "name": "stdout",
          "text": [
            "\u001b[1m1/1\u001b[0m \u001b[32m━━━━━━━━━━━━━━━━━━━━\u001b[0m\u001b[37m\u001b[0m \u001b[1m2s\u001b[0m 2s/step\n",
            "[0.53455144]\n"
          ]
        }
      ]
    },
    {
      "cell_type": "code",
      "source": [
        "# Entrenar con early stopping para evitar sobre entrenamiento\n",
        "early_stopping_callback = tf.keras.callbacks.EarlyStopping(\n",
        "    monitor='val_loss',  # Métrica a monitorear\n",
        "    patience=3,          # Número de épocas sin mejora después de las cuales se detendrá el entrenamiento\n",
        "    verbose=1,           # Imprime un mensaje cuando el entrenamiento se detiene\n",
        "    restore_best_weights=True # Restaura los pesos del modelo de la época con el mejor valor de la métrica monitoreada\n",
        ")\n",
        "\n",
        "# Entrenar\n",
        "history = model.fit(train_dataset, epochs=10,\n",
        "                    validation_data=test_dataset,\n",
        "                    validation_steps=30,\n",
        "                    callbacks=[early_stopping_callback])"
      ],
      "metadata": {
        "id": "05HkdKFu3EVV",
        "outputId": "3a24d870-d6b7-44c0-af25-2fb0b350f56a",
        "colab": {
          "base_uri": "https://localhost:8080/"
        }
      },
      "execution_count": 36,
      "outputs": [
        {
          "output_type": "stream",
          "name": "stdout",
          "text": [
            "Epoch 1/10\n",
            "\u001b[1m391/391\u001b[0m \u001b[32m━━━━━━━━━━━━━━━━━━━━\u001b[0m\u001b[37m\u001b[0m \u001b[1m33s\u001b[0m 72ms/step - accuracy: 0.5113 - loss: 0.6935 - val_accuracy: 0.5839 - val_loss: 0.6853\n",
            "Epoch 2/10\n",
            "\u001b[1m391/391\u001b[0m \u001b[32m━━━━━━━━━━━━━━━━━━━━\u001b[0m\u001b[37m\u001b[0m \u001b[1m28s\u001b[0m 70ms/step - accuracy: 0.5708 - loss: 0.6839 - val_accuracy: 0.6510 - val_loss: 0.6646\n",
            "Epoch 3/10\n",
            "\u001b[1m391/391\u001b[0m \u001b[32m━━━━━━━━━━━━━━━━━━━━\u001b[0m\u001b[37m\u001b[0m \u001b[1m27s\u001b[0m 69ms/step - accuracy: 0.6802 - loss: 0.6193 - val_accuracy: 0.8068 - val_loss: 0.4470\n",
            "Epoch 4/10\n",
            "\u001b[1m391/391\u001b[0m \u001b[32m━━━━━━━━━━━━━━━━━━━━\u001b[0m\u001b[37m\u001b[0m \u001b[1m27s\u001b[0m 70ms/step - accuracy: 0.8389 - loss: 0.4053 - val_accuracy: 0.8469 - val_loss: 0.3785\n",
            "Epoch 5/10\n",
            "\u001b[1m391/391\u001b[0m \u001b[32m━━━━━━━━━━━━━━━━━━━━\u001b[0m\u001b[37m\u001b[0m \u001b[1m27s\u001b[0m 70ms/step - accuracy: 0.8669 - loss: 0.3460 - val_accuracy: 0.8589 - val_loss: 0.3491\n",
            "Epoch 6/10\n",
            "\u001b[1m391/391\u001b[0m \u001b[32m━━━━━━━━━━━━━━━━━━━━\u001b[0m\u001b[37m\u001b[0m \u001b[1m27s\u001b[0m 69ms/step - accuracy: 0.8846 - loss: 0.3081 - val_accuracy: 0.8667 - val_loss: 0.3290\n",
            "Epoch 7/10\n",
            "\u001b[1m391/391\u001b[0m \u001b[32m━━━━━━━━━━━━━━━━━━━━\u001b[0m\u001b[37m\u001b[0m \u001b[1m28s\u001b[0m 70ms/step - accuracy: 0.8998 - loss: 0.2739 - val_accuracy: 0.8703 - val_loss: 0.3253\n",
            "Epoch 8/10\n",
            "\u001b[1m391/391\u001b[0m \u001b[32m━━━━━━━━━━━━━━━━━━━━\u001b[0m\u001b[37m\u001b[0m \u001b[1m27s\u001b[0m 70ms/step - accuracy: 0.9073 - loss: 0.2560 - val_accuracy: 0.8703 - val_loss: 0.3162\n",
            "Epoch 9/10\n",
            "\u001b[1m391/391\u001b[0m \u001b[32m━━━━━━━━━━━━━━━━━━━━\u001b[0m\u001b[37m\u001b[0m \u001b[1m27s\u001b[0m 70ms/step - accuracy: 0.9201 - loss: 0.2332 - val_accuracy: 0.8797 - val_loss: 0.3103\n",
            "Epoch 10/10\n",
            "\u001b[1m391/391\u001b[0m \u001b[32m━━━━━━━━━━━━━━━━━━━━\u001b[0m\u001b[37m\u001b[0m \u001b[1m27s\u001b[0m 70ms/step - accuracy: 0.9259 - loss: 0.2169 - val_accuracy: 0.8797 - val_loss: 0.3107\n",
            "Restoring model weights from the end of the best epoch: 9.\n"
          ]
        }
      ]
    },
    {
      "cell_type": "code",
      "source": [
        "test_loss, test_acc = model.evaluate(test_dataset)\n",
        "\n",
        "print('Test Loss:', test_loss)\n",
        "print('Test Accuracy:', test_acc)"
      ],
      "metadata": {
        "id": "xZf60G7G3QJo",
        "outputId": "7a8c4d01-f4ab-4faf-dc77-84fa62b445c9",
        "colab": {
          "base_uri": "https://localhost:8080/"
        }
      },
      "execution_count": 37,
      "outputs": [
        {
          "output_type": "stream",
          "name": "stdout",
          "text": [
            "\u001b[1m391/391\u001b[0m \u001b[32m━━━━━━━━━━━━━━━━━━━━\u001b[0m\u001b[37m\u001b[0m \u001b[1m13s\u001b[0m 32ms/step - accuracy: 0.8811 - loss: 0.3010\n",
            "Test Loss: 0.2985512614250183\n",
            "Test Accuracy: 0.8798400163650513\n"
          ]
        }
      ]
    },
    {
      "cell_type": "code",
      "source": [
        "# Visualizar acc y loss\n",
        "plot_curvas(history)"
      ],
      "metadata": {
        "id": "V-uJ4agN3TlK",
        "outputId": "686eade6-4881-4385-b8e6-cb07a4649115",
        "colab": {
          "base_uri": "https://localhost:8080/",
          "height": 547
        }
      },
      "execution_count": 38,
      "outputs": [
        {
          "output_type": "display_data",
          "data": {
            "text/plain": [
              "<Figure size 1200x600 with 2 Axes>"
            ],
            "image/png": "[encoded data removed]"
          },
          "metadata": {}
        }
      ]
    },
    {
      "cell_type": "markdown",
      "source": [
        "### Método Modular - Usando arquitecturas"
      ],
      "metadata": {
        "id": "85NBTduqIaxG"
      }
    },
    {
      "cell_type": "markdown",
      "source": [
        "Recientemente, ha crecido la creación de nuevas herramientas que facilitan el uso de modelos pre-entrenados en diferentes tareas de Deep Learning. A continuación, introduccimos KerasHub una librería que ha sido propuesta para hacer uso de modelos pre-entrenado usando Keras. Esta pensanda para ser modular y esta enfocada para tareas de Clasificación de imágenes, Clasificación de texto y Tareas más especializadas sobre generación de secuencias como Audio o Texto.\n",
        "\n",
        "**¿Qué es KerasHub?**\n",
        "\n",
        "KerasHub es una biblioteca que proporciona modelos preentrenados para diversas tareas de aprendizaje automático. Estos modelos están implementados como capas (keras.Layer) y modelos (keras.Model) de Keras, lo que permite una integración sencilla en proyectos existentes. La biblioteca incluye modelos para clasificación de imágenes, generación de texto, clasificación de texto y más, todos accesibles a través de una API.\n",
        "\n",
        "KerasHub organiza los modelos en componentes modulares:\n",
        "\n",
        "**Task**: Clase de alto nivel que encapsula el modelo y el preprocesamiento para una tarea específica (por ejemplo, ImageClassifier, TextClassifier).\n",
        "\n",
        "**Backbone**: Modelo base que extrae características de los datos de entrada.\n",
        "\n",
        "**Preprocessor**: Capa que realiza el preprocesamiento necesario en los datos de entrada (por ejemplo, redimensionamiento de imágenes, tokenización de texto).\n",
        "\n",
        "**Tokenizer**: Convierte texto en secuencias de tokens.\n",
        "\n",
        "**ImageConverter**: Redimensiona y normaliza imágenes.\n",
        "keras.io\n",
        "\n",
        "Cada uno de estos componentes puede cargarse desde un preset utilizando from_preset().\n",
        "\n",
        "![Estructura KerasHub](https://keras.io/img/guides/getting_started/class-diagram.png)\n",
        "\n"
      ],
      "metadata": {
        "id": "DARbY9XrJssV"
      }
    },
    {
      "cell_type": "markdown",
      "source": [
        "A continuación vamos a importar la arquitectura completa basada en BERT para clasificar nuestro ejercicio anterior.\n",
        "\n",
        "**Arquitectura del modelo**: la estructura del modelo BERT.\n",
        "\n",
        "**Pesos preentrenados**: valores aprendidos durante el entrenamiento en grandes conjuntos de datos.\n",
        "\n",
        "**Preprocesamiento**: procesos necesarios para preparar los datos de entrada, como tokenización y normalización.\n",
        "\n",
        "KerasHub descargará automáticamente el modelo pre-entrenado desde Hugging Face Hub."
      ],
      "metadata": {
        "id": "KG6olLEfiAek"
      }
    },
    {
      "cell_type": "markdown",
      "source": [
        "#### Usando BERT en inferencia"
      ],
      "metadata": {
        "id": "ZntuzjXjlDmF"
      }
    },
    {
      "cell_type": "markdown",
      "source": [
        "BERT (Bidirectional Encoder Representations from Transformers) es un modelo de representación del lenguaje que revolucionó el procesamiento de lenguaje natural (NLP) debido a tres aportes clave:\n",
        "\n",
        "* **Representaciones Bidireccionales Profundas**: A diferencia de modelos anteriores como GPT (unidireccional) o ELMo, BERT es completamente bidireccional, permitiendo que el modelo entienda mejor el contexto de cada palabra teniendo en cuenta tanto la izquierda como la derecha.\n",
        "\n",
        "* **Pre-entrenamiento Universal y Fine-tuning Eficiente**: BERT puede preentrenarse en texto no etiquetado y luego afinarse con una capa de salida adicional para tareas específicas como preguntas y respuestas (QA), inferencia, y reconocimiento de entidades nombradas (NER), sin necesidad de arquitecturas especializadas para cada tarea.\n",
        "\n",
        "![BERT.png](data:image/png;base64,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)\n",
        "\n",
        "Entrenamiento en 2 fases:\n",
        "\n",
        "1. Pre-entrenamiento (ver parte izquierda de la imagen):\n",
        "\n",
        "  * Masked Language Model (MLM): Se ocultan aleatoriamente el 15% de los tokens para que el modelo los prediga, permitiendo el aprendizaje bidireccional.\n",
        "\n",
        "  * Next Sentence Prediction (NSP): El modelo predice si una oración B sigue a una oración A. Esto lo entrena para tareas que implican relaciones entre frases.\n",
        "\n",
        "2. Fine-tuning (ver parte derecha de la imagen):\n",
        "\n",
        "  * Se adapta el modelo preentrenado a tareas específicas añadiendo una capa de salida.\n",
        "\n",
        "  * Todos los parámetros se afinan con el conjunto de datos etiquetado de la tarea específica (e.g., QA, NER, clasificación)."
      ],
      "metadata": {
        "id": "-J5ku2en4nme"
      }
    },
    {
      "cell_type": "code",
      "source": [
        "classifier_BERT = keras_hub.models.BertTextClassifier.from_preset(\n",
        "    \"bert_base_en_uncased\",\n",
        "    #activation='softmax', # El modelo original no la incluye\n",
        "    num_classes=2,\n",
        ")"
      ],
      "metadata": {
        "id": "c4-pFgLqI3oW",
        "colab": {
          "base_uri": "https://localhost:8080/"
        },
        "outputId": "acff0487-2c98-435d-a046-f3583fe1361e"
      },
      "execution_count": 39,
      "outputs": [
        {
          "output_type": "stream",
          "name": "stdout",
          "text": [
            "Downloading from https://www.kaggle.com/api/v1/models/keras/bert/keras/bert_base_en_uncased/3/download/config.json...\n"
          ]
        },
        {
          "output_type": "stream",
          "name": "stderr",
          "text": [
            "100%|██████████| 457/457 [00:00<00:00, 758kB/s]\n"
          ]
        },
        {
          "output_type": "stream",
          "name": "stdout",
          "text": [
            "Downloading from https://www.kaggle.com/api/v1/models/keras/bert/keras/bert_base_en_uncased/3/download/model.weights.h5...\n"
          ]
        },
        {
          "output_type": "stream",
          "name": "stderr",
          "text": [
            "100%|██████████| 418M/418M [00:28<00:00, 15.5MB/s]\n"
          ]
        }
      ]
    },
    {
      "cell_type": "markdown",
      "source": [
        "```\n",
        "# Si se añade la función de activación softmax, las predicciones tienen la prob\n",
        "# Pero no parecen estar muy convincentes, parecen estar muy neutras.\n",
        "\n",
        "classifier_BERT.predict(test_dataset)\n",
        "\n",
        "782/782 ━━━━━━━━━━━━━━━━━━━━ 873s 1s/step\n",
        "array([[0.6197734 , 0.3802266 ],\n",
        "       [0.57702965, 0.42297035],\n",
        "       [0.46357015, 0.5364299 ],\n",
        "       ...,\n",
        "       [0.602075  , 0.39792505],\n",
        "       [0.6158818 , 0.38411826],\n",
        "       [0.62885654, 0.37114346]], dtype=float32)\n",
        "```\n",
        "\n"
      ],
      "metadata": {
        "id": "5nSbxUGSnm6P"
      }
    },
    {
      "cell_type": "code",
      "source": [
        "# Evaluar para determinar el rendimiento inicial\n",
        "classifier_BERT.evaluate(test_dataset)"
      ],
      "metadata": {
        "id": "53diP4mNm7cG",
        "outputId": "71380590-e4aa-4537-e536-c6db65b769ae",
        "colab": {
          "base_uri": "https://localhost:8080/"
        }
      },
      "execution_count": 40,
      "outputs": [
        {
          "output_type": "stream",
          "name": "stdout",
          "text": [
            "\u001b[1m391/391\u001b[0m \u001b[32m━━━━━━━━━━━━━━━━━━━━\u001b[0m\u001b[37m\u001b[0m \u001b[1m226s\u001b[0m 555ms/step - loss: 0.7104 - sparse_categorical_accuracy: 0.5032\n"
          ]
        },
        {
          "output_type": "execute_result",
          "data": {
            "text/plain": [
              "[0.7113498449325562, 0.5011199712753296]"
            ]
          },
          "metadata": {},
          "execution_count": 40
        }
      ]
    },
    {
      "cell_type": "markdown",
      "source": [
        "Efectivamente el rendimiento no es el adecuado. Quiere decir que es génerico el resultado."
      ],
      "metadata": {
        "id": "QP05G7fKq09-"
      }
    },
    {
      "cell_type": "markdown",
      "source": [
        "#### Y si hacemos un poco de Fine-tuning?"
      ],
      "metadata": {
        "id": "z56SsaKpmVjE"
      }
    },
    {
      "cell_type": "markdown",
      "source": [
        "\n",
        "Si queremos hacer fine-tuning sobre más capas:\n",
        "```\n",
        "for layer in classifier_BERT.backbone.layers[:-4]:\n",
        "    layer.trainable = False\n",
        "```\n",
        "\n",
        "Pero solo lo haremos sobre la final:"
      ],
      "metadata": {
        "id": "itYNq7QvmpeO"
      }
    },
    {
      "cell_type": "code",
      "source": [
        "# Congelamos todo el backbone y solo entrenamos la capa final\n",
        "classifier_BERT.backbone.trainable = False"
      ],
      "metadata": {
        "id": "b0O1CxVNmbOH"
      },
      "execution_count": 41,
      "outputs": []
    },
    {
      "cell_type": "code",
      "source": [
        "# Re compilar con una nueva tasa de aprendizaje más pequeña\n",
        "classifier_BERT.compile(\n",
        "    loss=tf.keras.losses.SparseCategoricalCrossentropy(from_logits=True),\n",
        "    optimizer=tf.keras.optimizers.Adam(3e-4),\n",
        ")"
      ],
      "metadata": {
        "id": "Z2AhB05IfON4"
      },
      "execution_count": null,
      "outputs": []
    },
    {
      "cell_type": "code",
      "source": [
        "# Entrenar con early stopping para evitar sobre entrenamiento\n",
        "early_stopping_callback = tf.keras.callbacks.EarlyStopping(\n",
        "    monitor='val_loss',  # Métrica a monitorear\n",
        "    patience=3,          # Número de épocas sin mejora después de las cuales se detendrá el entrenamiento\n",
        "    verbose=1,           # Imprime un mensaje cuando el entrenamiento se detiene\n",
        "    restore_best_weights=True # Restaura los pesos del modelo de la época con el mejor valor de la métrica monitoreada\n",
        ")\n",
        "\n",
        "# Ajustamos el clasificador con pocas epocas\n",
        "classifier_BERT.fit(train_dataset, validation_data=test_dataset,\n",
        "               epochs=15,\n",
        "               callbacks=[early_stopping_callback])"
      ],
      "metadata": {
        "id": "XFO_M5WYI3rz",
        "outputId": "62ce784b-3d56-46b1-dde3-0989419cc6af",
        "colab": {
          "base_uri": "https://localhost:8080/"
        }
      },
      "execution_count": null,
      "outputs": [
        {
          "output_type": "stream",
          "name": "stdout",
          "text": [
            "Epoch 1/15\n",
            "\u001b[1m391/391\u001b[0m \u001b[32m━━━━━━━━━━━━━━━━━━━━\u001b[0m\u001b[37m\u001b[0m \u001b[1m591s\u001b[0m 1s/step - loss: 0.6668 - sparse_categorical_accuracy: 0.5892 - val_loss: 0.6053 - val_sparse_categorical_accuracy: 0.6562\n",
            "Epoch 2/15\n",
            "\u001b[1m391/391\u001b[0m \u001b[32m━━━━━━━━━━━━━━━━━━━━\u001b[0m\u001b[37m\u001b[0m \u001b[1m522s\u001b[0m 1s/step - loss: 0.5861 - sparse_categorical_accuracy: 0.7168 - val_loss: 0.5421 - val_sparse_categorical_accuracy: 0.7560\n",
            "Epoch 3/15\n",
            "\u001b[1m391/391\u001b[0m \u001b[32m━━━━━━━━━━━━━━━━━━━━\u001b[0m\u001b[37m\u001b[0m \u001b[1m522s\u001b[0m 1s/step - loss: 0.5484 - sparse_categorical_accuracy: 0.7403 - val_loss: 0.5594 - val_sparse_categorical_accuracy: 0.6960\n",
            "Epoch 4/15\n",
            "\u001b[1m391/391\u001b[0m \u001b[32m━━━━━━━━━━━━━━━━━━━━\u001b[0m\u001b[37m\u001b[0m \u001b[1m522s\u001b[0m 1s/step - loss: 0.5295 - sparse_categorical_accuracy: 0.7512 - val_loss: 0.5033 - val_sparse_categorical_accuracy: 0.7643\n",
            "Epoch 5/15\n",
            "\u001b[1m391/391\u001b[0m \u001b[32m━━━━━━━━━━━━━━━━━━━━\u001b[0m\u001b[37m\u001b[0m \u001b[1m522s\u001b[0m 1s/step - loss: 0.5126 - sparse_categorical_accuracy: 0.7631 - val_loss: 0.4770 - val_sparse_categorical_accuracy: 0.7936\n",
            "Epoch 6/15\n",
            "\u001b[1m391/391\u001b[0m \u001b[32m━━━━━━━━━━━━━━━━━━━━\u001b[0m\u001b[37m\u001b[0m \u001b[1m522s\u001b[0m 1s/step - loss: 0.5102 - sparse_categorical_accuracy: 0.7595 - val_loss: 0.4724 - val_sparse_categorical_accuracy: 0.7898\n",
            "Epoch 7/15\n",
            "\u001b[1m391/391\u001b[0m \u001b[32m━━━━━━━━━━━━━━━━━━━━\u001b[0m\u001b[37m\u001b[0m \u001b[1m522s\u001b[0m 1s/step - loss: 0.4965 - sparse_categorical_accuracy: 0.7730 - val_loss: 0.4728 - val_sparse_categorical_accuracy: 0.7831\n",
            "Epoch 8/15\n",
            "\u001b[1m391/391\u001b[0m \u001b[32m━━━━━━━━━━━━━━━━━━━━\u001b[0m\u001b[37m\u001b[0m \u001b[1m522s\u001b[0m 1s/step - loss: 0.4888 - sparse_categorical_accuracy: 0.7708 - val_loss: 0.4520 - val_sparse_categorical_accuracy: 0.8011\n",
            "Epoch 9/15\n",
            "\u001b[1m391/391\u001b[0m \u001b[32m━━━━━━━━━━━━━━━━━━━━\u001b[0m\u001b[37m\u001b[0m \u001b[1m522s\u001b[0m 1s/step - loss: 0.4899 - sparse_categorical_accuracy: 0.7735 - val_loss: 0.4458 - val_sparse_categorical_accuracy: 0.8042\n",
            "Epoch 10/15\n",
            "\u001b[1m391/391\u001b[0m \u001b[32m━━━━━━━━━━━━━━━━━━━━\u001b[0m\u001b[37m\u001b[0m \u001b[1m522s\u001b[0m 1s/step - loss: 0.4772 - sparse_categorical_accuracy: 0.7774 - val_loss: 0.4375 - val_sparse_categorical_accuracy: 0.8110\n",
            "Epoch 11/15\n",
            "\u001b[1m391/391\u001b[0m \u001b[32m━━━━━━━━━━━━━━━━━━━━\u001b[0m\u001b[37m\u001b[0m \u001b[1m522s\u001b[0m 1s/step - loss: 0.4774 - sparse_categorical_accuracy: 0.7795 - val_loss: 0.4443 - val_sparse_categorical_accuracy: 0.8003\n",
            "Epoch 12/15\n",
            "\u001b[1m391/391\u001b[0m \u001b[32m━━━━━━━━━━━━━━━━━━━━\u001b[0m\u001b[37m\u001b[0m \u001b[1m522s\u001b[0m 1s/step - loss: 0.4755 - sparse_categorical_accuracy: 0.7779 - val_loss: 0.4296 - val_sparse_categorical_accuracy: 0.8130\n",
            "Epoch 13/15\n",
            "\u001b[1m391/391\u001b[0m \u001b[32m━━━━━━━━━━━━━━━━━━━━\u001b[0m\u001b[37m\u001b[0m \u001b[1m522s\u001b[0m 1s/step - loss: 0.4725 - sparse_categorical_accuracy: 0.7803 - val_loss: 0.4310 - val_sparse_categorical_accuracy: 0.8094\n",
            "Epoch 14/15\n",
            "\u001b[1m391/391\u001b[0m \u001b[32m━━━━━━━━━━━━━━━━━━━━\u001b[0m\u001b[37m\u001b[0m \u001b[1m522s\u001b[0m 1s/step - loss: 0.4725 - sparse_categorical_accuracy: 0.7784 - val_loss: 0.4270 - val_sparse_categorical_accuracy: 0.8111\n",
            "Epoch 15/15\n",
            "\u001b[1m391/391\u001b[0m \u001b[32m━━━━━━━━━━━━━━━━━━━━\u001b[0m\u001b[37m\u001b[0m \u001b[1m522s\u001b[0m 1s/step - loss: 0.4698 - sparse_categorical_accuracy: 0.7800 - val_loss: 0.4229 - val_sparse_categorical_accuracy: 0.8147\n",
            "Restoring model weights from the end of the best epoch: 15.\n"
          ]
        },
        {
          "output_type": "execute_result",
          "data": {
            "text/plain": [
              "<keras.src.callbacks.history.History at 0x78998cceaa90>"
            ]
          },
          "metadata": {},
          "execution_count": 9
        }
      ]
    },
    {
      "cell_type": "code",
      "source": [
        "# Finalmente evaluamos el rendimiento después de hacer fine tuning\n",
        "classifier_BERT.evaluate(test_dataset)"
      ],
      "metadata": {
        "id": "yILyuqy4dAKa",
        "colab": {
          "base_uri": "https://localhost:8080/"
        },
        "outputId": "f8ec4d5a-603f-4fa6-96c1-0f6a6d990009"
      },
      "execution_count": null,
      "outputs": [
        {
          "output_type": "stream",
          "name": "stdout",
          "text": [
            "\u001b[1m391/391\u001b[0m \u001b[32m━━━━━━━━━━━━━━━━━━━━\u001b[0m\u001b[37m\u001b[0m \u001b[1m235s\u001b[0m 600ms/step - loss: 0.4238 - sparse_categorical_accuracy: 0.8131\n"
          ]
        },
        {
          "output_type": "execute_result",
          "data": {
            "text/plain": [
              "[0.4228881299495697, 0.8147199749946594]"
            ]
          },
          "metadata": {},
          "execution_count": 10
        }
      ]
    },
    {
      "cell_type": "markdown",
      "source": [
        "#### Usando tú propio BERT\n",
        "\n",
        "Tendrás que hacer los siguientes pasos:\n",
        "\n",
        "1. Configurar el tokenizador con el vocabulario que hayas definido (como lo hicimos en el ejemplo base.\n",
        "2. Crear un preprocesador\n",
        "3. Definir el backbone, con las dimensiones deseadas (*ya sabes de que hablamos si conoces Transformers*),\n",
        "4. Construir el clasificador y entrenar en tus datos)\n",
        "\n",
        "```\n",
        "tokenizer = keras_hub.models.BertTokenizer(\n",
        "    vocabulary=vocab,\n",
        "\n",
        "preprocessor = keras_hub.models.BertTextClassifierPreprocessor(\n",
        "    tokenizer=tokenizer,\n",
        "    sequence_length=128,\n",
        ")\n",
        "backbone = keras_hub.models.BertBackbone(\n",
        "    vocabulary_size=30552,\n",
        "    num_layers=4,\n",
        "    num_heads=4,\n",
        "    hidden_dim=256,\n",
        "    intermediate_dim=512,\n",
        "    max_sequence_length=128,\n",
        ")\n",
        "classifier = keras_hub.models.BertTextClassifier(\n",
        "    backbone=backbone,\n",
        "    preprocessor=preprocessor,\n",
        "    num_classes=4,\n",
        ")\n",
        "classifier.fit(x=features, y=labels, batch_size=2)\n",
        "```\n",
        "\n",
        "Para más información consultar: [Getting Started con Keras Hub](https://keras.io/keras_hub/getting_started/)\n",
        "\n",
        "Además puede consultar todos los modelos pre-entrenados en [Keras presets](https://keras.io/keras_hub/presets/) y las arquitecturas disponibles [Keras architectures](https://keras.io/keras_hub/api/models/)\n",
        "\n",
        "Para más sobre [BERT](https://github.com/google-research/bert)."
      ],
      "metadata": {
        "id": "70zYvk-ijhMh"
      }
    },
    {
      "cell_type": "markdown",
      "source": [
        "## Pre-training en Datos tabulares usando TabNet y TabPNF\n",
        "\n",
        "🎯 **Objetivos del ejercicio**\n",
        "\n",
        "1. Aplicar pre-entrenamiento en un dataset de phishing real.\n",
        "\n",
        "2. Comparar dos formas distintas de aprendizaje transferido:\n",
        "\n",
        "  * Fine-tuning supervisado con TabNet.\n",
        "\n",
        "  * Inferencia con modelo fundacional TabPFN (sin ajuste).\n",
        "\n",
        "3. Analizar ventajas y desventajas de cada enfoque en un escenario real."
      ],
      "metadata": {
        "id": "YAO9YnGYLvS9"
      }
    },
    {
      "cell_type": "code",
      "source": [
        "#@title Instalar librerías necesarias\n",
        "\n",
        "!pip -q install pytorch-tabnet\n",
        "!pip install tabpfn\n",
        "!pip install wget\n",
        "import torch\n",
        "from pytorch_tabnet.tab_model import TabNetClassifier\n",
        "from pytorch_tabnet.pretraining import TabNetPretrainer\n",
        "from tabpfn import TabPFNClassifier"
      ],
      "metadata": {
        "cellView": "form",
        "id": "SGr64OSZNEn1",
        "outputId": "1b734ed8-e774-44e1-81b7-e92096025f04",
        "colab": {
          "base_uri": "https://localhost:8080/"
        }
      },
      "execution_count": 42,
      "outputs": [
        {
          "output_type": "stream",
          "name": "stdout",
          "text": [
            "\u001b[2K   \u001b[90m━━━━━━━━━━━━━━━━━━━━━━━━━━━━━━━━━━━━━━━━\u001b[0m \u001b[32m44.5/44.5 kB\u001b[0m \u001b[31m3.8 MB/s\u001b[0m eta \u001b[36m0:00:00\u001b[0m\n",
            "\u001b[2K   \u001b[90m━━━━━━━━━━━━━━━━━━━━━━━━━━━━━━━━━━━━━━━━\u001b[0m \u001b[32m363.4/363.4 MB\u001b[0m \u001b[31m3.3 MB/s\u001b[0m eta \u001b[36m0:00:00\u001b[0m\n",
            "\u001b[2K   \u001b[90m━━━━━━━━━━━━━━━━━━━━━━━━━━━━━━━━━━━━━━━━\u001b[0m \u001b[32m13.8/13.8 MB\u001b[0m \u001b[31m111.0 MB/s\u001b[0m eta \u001b[36m0:00:00\u001b[0m\n",
            "\u001b[2K   \u001b[90m━━━━━━━━━━━━━━━━━━━━━━━━━━━━━━━━━━━━━━━━\u001b[0m \u001b[32m24.6/24.6 MB\u001b[0m \u001b[31m101.5 MB/s\u001b[0m eta \u001b[36m0:00:00\u001b[0m\n",
            "\u001b[2K   \u001b[90m━━━━━━━━━━━━━━━━━━━━━━━━━━━━━━━━━━━━━━━━\u001b[0m \u001b[32m883.7/883.7 kB\u001b[0m \u001b[31m48.7 MB/s\u001b[0m eta \u001b[36m0:00:00\u001b[0m\n",
            "\u001b[2K   \u001b[90m━━━━━━━━━━━━━━━━━━━━━━━━━━━━━━━━━━━━━━━━\u001b[0m \u001b[32m664.8/664.8 MB\u001b[0m \u001b[31m2.6 MB/s\u001b[0m eta \u001b[36m0:00:00\u001b[0m\n",
            "\u001b[2K   \u001b[90m━━━━━━━━━━━━━━━━━━━━━━━━━━━━━━━━━━━━━━━━\u001b[0m \u001b[32m211.5/211.5 MB\u001b[0m \u001b[31m5.1 MB/s\u001b[0m eta \u001b[36m0:00:00\u001b[0m\n",
            "\u001b[2K   \u001b[90m━━━━━━━━━━━━━━━━━━━━━━━━━━━━━━━━━━━━━━━━\u001b[0m \u001b[32m56.3/56.3 MB\u001b[0m \u001b[31m43.3 MB/s\u001b[0m eta \u001b[36m0:00:00\u001b[0m\n",
            "\u001b[2K   \u001b[90m━━━━━━━━━━━━━━━━━━━━━━━━━━━━━━━━━━━━━━━━\u001b[0m \u001b[32m127.9/127.9 MB\u001b[0m \u001b[31m19.9 MB/s\u001b[0m eta \u001b[36m0:00:00\u001b[0m\n",
            "\u001b[2K   \u001b[90m━━━━━━━━━━━━━━━━━━━━━━━━━━━━━━━━━━━━━━━━\u001b[0m \u001b[32m207.5/207.5 MB\u001b[0m \u001b[31m4.2 MB/s\u001b[0m eta \u001b[36m0:00:00\u001b[0m\n",
            "\u001b[2K   \u001b[90m━━━━━━━━━━━━━━━━━━━━━━━━━━━━━━━━━━━━━━━━\u001b[0m \u001b[32m188.7/188.7 MB\u001b[0m \u001b[31m6.4 MB/s\u001b[0m eta \u001b[36m0:00:00\u001b[0m\n",
            "\u001b[2K   \u001b[90m━━━━━━━━━━━━━━━━━━━━━━━━━━━━━━━━━━━━━━━━\u001b[0m \u001b[32m21.1/21.1 MB\u001b[0m \u001b[31m103.1 MB/s\u001b[0m eta \u001b[36m0:00:00\u001b[0m\n",
            "\u001b[?25hCollecting tabpfn\n",
            "  Downloading tabpfn-2.1.2-py3-none-any.whl.metadata (27 kB)\n",
            "Requirement already satisfied: torch<3,>=2.1 in /usr/local/lib/python3.11/dist-packages (from tabpfn) (2.6.0+cu124)\n",
            "Requirement already satisfied: scikit-learn<1.7,>=1.2.0 in /usr/local/lib/python3.11/dist-packages (from tabpfn) (1.6.1)\n",
            "Requirement already satisfied: typing_extensions>=4.12.0 in /usr/local/lib/python3.11/dist-packages (from tabpfn) (4.14.1)\n",
            "Requirement already satisfied: scipy<2,>=1.11.1 in /usr/local/lib/python3.11/dist-packages (from tabpfn) (1.13.1)\n",
            "Requirement already satisfied: pandas<3,>=1.4.0 in /usr/local/lib/python3.11/dist-packages (from tabpfn) (2.2.2)\n",
            "Requirement already satisfied: einops<0.9,>=0.2.0 in /usr/local/lib/python3.11/dist-packages (from tabpfn) (0.8.1)\n",
            "Requirement already satisfied: huggingface-hub<1,>=0.0.1 in /usr/local/lib/python3.11/dist-packages (from tabpfn) (0.34.3)\n",
            "Requirement already satisfied: pydantic>=2.8.0 in /usr/local/lib/python3.11/dist-packages (from tabpfn) (2.11.7)\n",
            "Collecting pydantic-settings>=2.10.1 (from tabpfn)\n",
            "  Downloading pydantic_settings-2.10.1-py3-none-any.whl.metadata (3.4 kB)\n",
            "Collecting eval-type-backport>=0.2.2 (from tabpfn)\n",
            "  Downloading eval_type_backport-0.2.2-py3-none-any.whl.metadata (2.2 kB)\n",
            "Requirement already satisfied: filelock in /usr/local/lib/python3.11/dist-packages (from huggingface-hub<1,>=0.0.1->tabpfn) (3.18.0)\n",
            "Requirement already satisfied: fsspec>=2023.5.0 in /usr/local/lib/python3.11/dist-packages (from huggingface-hub<1,>=0.0.1->tabpfn) (2025.3.0)\n",
            "Requirement already satisfied: packaging>=20.9 in /usr/local/lib/python3.11/dist-packages (from huggingface-hub<1,>=0.0.1->tabpfn) (25.0)\n",
            "Requirement already satisfied: pyyaml>=5.1 in /usr/local/lib/python3.11/dist-packages (from huggingface-hub<1,>=0.0.1->tabpfn) (6.0.2)\n",
            "Requirement already satisfied: requests in /usr/local/lib/python3.11/dist-packages (from huggingface-hub<1,>=0.0.1->tabpfn) (2.32.3)\n",
            "Requirement already satisfied: tqdm>=4.42.1 in /usr/local/lib/python3.11/dist-packages (from huggingface-hub<1,>=0.0.1->tabpfn) (4.67.1)\n",
            "Requirement already satisfied: hf-xet<2.0.0,>=1.1.3 in /usr/local/lib/python3.11/dist-packages (from huggingface-hub<1,>=0.0.1->tabpfn) (1.1.7)\n",
            "Requirement already satisfied: numpy>=1.23.2 in /usr/local/lib/python3.11/dist-packages (from pandas<3,>=1.4.0->tabpfn) (1.26.4)\n",
            "Requirement already satisfied: python-dateutil>=2.8.2 in /usr/local/lib/python3.11/dist-packages (from pandas<3,>=1.4.0->tabpfn) (2.9.0.post0)\n",
            "Requirement already satisfied: pytz>=2020.1 in /usr/local/lib/python3.11/dist-packages (from pandas<3,>=1.4.0->tabpfn) (2025.2)\n",
            "Requirement already satisfied: tzdata>=2022.7 in /usr/local/lib/python3.11/dist-packages (from pandas<3,>=1.4.0->tabpfn) (2025.2)\n",
            "Requirement already satisfied: annotated-types>=0.6.0 in /usr/local/lib/python3.11/dist-packages (from pydantic>=2.8.0->tabpfn) (0.7.0)\n",
            "Requirement already satisfied: pydantic-core==2.33.2 in /usr/local/lib/python3.11/dist-packages (from pydantic>=2.8.0->tabpfn) (2.33.2)\n",
            "Requirement already satisfied: typing-inspection>=0.4.0 in /usr/local/lib/python3.11/dist-packages (from pydantic>=2.8.0->tabpfn) (0.4.1)\n",
            "Collecting python-dotenv>=0.21.0 (from pydantic-settings>=2.10.1->tabpfn)\n",
            "  Downloading python_dotenv-1.1.1-py3-none-any.whl.metadata (24 kB)\n",
            "Requirement already satisfied: joblib>=1.2.0 in /usr/local/lib/python3.11/dist-packages (from scikit-learn<1.7,>=1.2.0->tabpfn) (1.5.1)\n",
            "Requirement already satisfied: threadpoolctl>=3.1.0 in /usr/local/lib/python3.11/dist-packages (from scikit-learn<1.7,>=1.2.0->tabpfn) (3.6.0)\n",
            "Requirement already satisfied: networkx in /usr/local/lib/python3.11/dist-packages (from torch<3,>=2.1->tabpfn) (3.5)\n",
            "Requirement already satisfied: jinja2 in /usr/local/lib/python3.11/dist-packages (from torch<3,>=2.1->tabpfn) (3.1.6)\n",
            "Requirement already satisfied: nvidia-cuda-nvrtc-cu12==12.4.127 in /usr/local/lib/python3.11/dist-packages (from torch<3,>=2.1->tabpfn) (12.4.127)\n",
            "Requirement already satisfied: nvidia-cuda-runtime-cu12==12.4.127 in /usr/local/lib/python3.11/dist-packages (from torch<3,>=2.1->tabpfn) (12.4.127)\n",
            "Requirement already satisfied: nvidia-cuda-cupti-cu12==12.4.127 in /usr/local/lib/python3.11/dist-packages (from torch<3,>=2.1->tabpfn) (12.4.127)\n",
            "Requirement already satisfied: nvidia-cudnn-cu12==9.1.0.70 in /usr/local/lib/python3.11/dist-packages (from torch<3,>=2.1->tabpfn) (9.1.0.70)\n",
            "Requirement already satisfied: nvidia-cublas-cu12==12.4.5.8 in /usr/local/lib/python3.11/dist-packages (from torch<3,>=2.1->tabpfn) (12.4.5.8)\n",
            "Requirement already satisfied: nvidia-cufft-cu12==11.2.1.3 in /usr/local/lib/python3.11/dist-packages (from torch<3,>=2.1->tabpfn) (11.2.1.3)\n",
            "Requirement already satisfied: nvidia-curand-cu12==10.3.5.147 in /usr/local/lib/python3.11/dist-packages (from torch<3,>=2.1->tabpfn) (10.3.5.147)\n",
            "Requirement already satisfied: nvidia-cusolver-cu12==11.6.1.9 in /usr/local/lib/python3.11/dist-packages (from torch<3,>=2.1->tabpfn) (11.6.1.9)\n",
            "Requirement already satisfied: nvidia-cusparse-cu12==12.3.1.170 in /usr/local/lib/python3.11/dist-packages (from torch<3,>=2.1->tabpfn) (12.3.1.170)\n",
            "Requirement already satisfied: nvidia-cusparselt-cu12==0.6.2 in /usr/local/lib/python3.11/dist-packages (from torch<3,>=2.1->tabpfn) (0.6.2)\n",
            "Requirement already satisfied: nvidia-nccl-cu12==2.21.5 in /usr/local/lib/python3.11/dist-packages (from torch<3,>=2.1->tabpfn) (2.21.5)\n",
            "Requirement already satisfied: nvidia-nvtx-cu12==12.4.127 in /usr/local/lib/python3.11/dist-packages (from torch<3,>=2.1->tabpfn) (12.4.127)\n",
            "Requirement already satisfied: nvidia-nvjitlink-cu12==12.4.127 in /usr/local/lib/python3.11/dist-packages (from torch<3,>=2.1->tabpfn) (12.4.127)\n",
            "Requirement already satisfied: triton==3.2.0 in /usr/local/lib/python3.11/dist-packages (from torch<3,>=2.1->tabpfn) (3.2.0)\n",
            "Requirement already satisfied: sympy==1.13.1 in /usr/local/lib/python3.11/dist-packages (from torch<3,>=2.1->tabpfn) (1.13.1)\n",
            "Requirement already satisfied: mpmath<1.4,>=1.1.0 in /usr/local/lib/python3.11/dist-packages (from sympy==1.13.1->torch<3,>=2.1->tabpfn) (1.3.0)\n",
            "Requirement already satisfied: six>=1.5 in /usr/local/lib/python3.11/dist-packages (from python-dateutil>=2.8.2->pandas<3,>=1.4.0->tabpfn) (1.17.0)\n",
            "Requirement already satisfied: MarkupSafe>=2.0 in /usr/local/lib/python3.11/dist-packages (from jinja2->torch<3,>=2.1->tabpfn) (3.0.2)\n",
            "Requirement already satisfied: charset-normalizer<4,>=2 in /usr/local/lib/python3.11/dist-packages (from requests->huggingface-hub<1,>=0.0.1->tabpfn) (3.4.2)\n",
            "Requirement already satisfied: idna<4,>=2.5 in /usr/local/lib/python3.11/dist-packages (from requests->huggingface-hub<1,>=0.0.1->tabpfn) (3.10)\n",
            "Requirement already satisfied: urllib3<3,>=1.21.1 in /usr/local/lib/python3.11/dist-packages (from requests->huggingface-hub<1,>=0.0.1->tabpfn) (2.5.0)\n",
            "Requirement already satisfied: certifi>=2017.4.17 in /usr/local/lib/python3.11/dist-packages (from requests->huggingface-hub<1,>=0.0.1->tabpfn) (2025.8.3)\n",
            "Downloading tabpfn-2.1.2-py3-none-any.whl (160 kB)\n",
            "\u001b[2K   \u001b[90m━━━━━━━━━━━━━━━━━━━━━━━━━━━━━━━━━━━━━━━━\u001b[0m \u001b[32m160.7/160.7 kB\u001b[0m \u001b[31m15.2 MB/s\u001b[0m eta \u001b[36m0:00:00\u001b[0m\n",
            "\u001b[?25hDownloading eval_type_backport-0.2.2-py3-none-any.whl (5.8 kB)\n",
            "Downloading pydantic_settings-2.10.1-py3-none-any.whl (45 kB)\n",
            "\u001b[2K   \u001b[90m━━━━━━━━━━━━━━━━━━━━━━━━━━━━━━━━━━━━━━━━\u001b[0m \u001b[32m45.2/45.2 kB\u001b[0m \u001b[31m3.7 MB/s\u001b[0m eta \u001b[36m0:00:00\u001b[0m\n",
            "\u001b[?25hDownloading python_dotenv-1.1.1-py3-none-any.whl (20 kB)\n",
            "Installing collected packages: python-dotenv, eval-type-backport, pydantic-settings, tabpfn\n",
            "Successfully installed eval-type-backport-0.2.2 pydantic-settings-2.10.1 python-dotenv-1.1.1 tabpfn-2.1.2\n",
            "Collecting wget\n",
            "  Downloading wget-3.2.zip (10 kB)\n",
            "  Preparing metadata (setup.py) ... \u001b[?25l\u001b[?25hdone\n",
            "Building wheels for collected packages: wget\n",
            "  Building wheel for wget (setup.py) ... \u001b[?25l\u001b[?25hdone\n",
            "  Created wheel for wget: filename=wget-3.2-py3-none-any.whl size=9655 sha256=8685bb9b1db9701682426f554a050d3997e0aaf1e0dc5bd76148043ef4334ea3\n",
            "  Stored in directory: /root/.cache/pip/wheels/40/b3/0f/a40dbd1c6861731779f62cc4babcb234387e11d697df70ee97\n",
            "Successfully built wget\n",
            "Installing collected packages: wget\n",
            "Successfully installed wget-3.2\n"
          ]
        }
      ]
    },
    {
      "cell_type": "code",
      "source": [
        "# leer datos\n",
        "df1, _ = leer_datos_phishing()"
      ],
      "metadata": {
        "id": "guY7Eq5_xStM"
      },
      "execution_count": 43,
      "outputs": []
    },
    {
      "cell_type": "code",
      "source": [
        "df1"
      ],
      "metadata": {
        "id": "NBsAoACjzgeF",
        "outputId": "b524f21f-295a-4ae3-9043-5db27c5170ed",
        "colab": {
          "base_uri": "https://localhost:8080/",
          "height": 443
        }
      },
      "execution_count": 44,
      "outputs": [
        {
          "output_type": "execute_result",
          "data": {
            "text/plain": [
              "       having_IP_Address  URL_Length  Shortining_Service  having_At_Symbol  \\\n",
              "0                     -1           1                   1                 1   \n",
              "1                      1           1                   1                 1   \n",
              "2                      1           0                   1                 1   \n",
              "3                      1           0                   1                 1   \n",
              "4                      1           0                  -1                 1   \n",
              "...                  ...         ...                 ...               ...   \n",
              "11050                  1          -1                   1                -1   \n",
              "11051                 -1           1                   1                -1   \n",
              "11052                  1          -1                   1                 1   \n",
              "11053                 -1          -1                   1                 1   \n",
              "11054                 -1          -1                   1                 1   \n",
              "\n",
              "       double_slash_redirecting  Prefix_Suffix  having_Sub_Domain  \\\n",
              "0                            -1             -1                 -1   \n",
              "1                             1             -1                  0   \n",
              "2                             1             -1                 -1   \n",
              "3                             1             -1                 -1   \n",
              "4                             1             -1                  1   \n",
              "...                         ...            ...                ...   \n",
              "11050                         1              1                  1   \n",
              "11051                        -1             -1                  1   \n",
              "11052                         1             -1                  1   \n",
              "11053                         1             -1                 -1   \n",
              "11054                         1             -1                 -1   \n",
              "\n",
              "       SSLfinal_State  Domain_registeration_length  Favicon  ...  popUpWidnow  \\\n",
              "0                  -1                           -1        1  ...            1   \n",
              "1                   1                           -1        1  ...            1   \n",
              "2                  -1                           -1        1  ...            1   \n",
              "3                  -1                            1        1  ...            1   \n",
              "4                   1                           -1        1  ...           -1   \n",
              "...               ...                          ...      ...  ...          ...   \n",
              "11050               1                           -1       -1  ...           -1   \n",
              "11051              -1                           -1       -1  ...           -1   \n",
              "11052              -1                           -1        1  ...            1   \n",
              "11053              -1                            1       -1  ...           -1   \n",
              "11054              -1                            1        1  ...            1   \n",
              "\n",
              "       Iframe  age_of_domain  DNSRecord  web_traffic  Page_Rank  Google_Index  \\\n",
              "0           1             -1         -1           -1         -1             1   \n",
              "1           1             -1         -1            0         -1             1   \n",
              "2           1              1         -1            1         -1             1   \n",
              "3           1             -1         -1            1         -1             1   \n",
              "4           1             -1         -1            0         -1             1   \n",
              "...       ...            ...        ...          ...        ...           ...   \n",
              "11050      -1              1          1           -1         -1             1   \n",
              "11051       1              1          1            1          1             1   \n",
              "11052       1              1          1            1         -1             1   \n",
              "11053       1              1          1            1         -1             1   \n",
              "11054       1             -1          1           -1         -1            -1   \n",
              "\n",
              "       Links_pointing_to_page  Statistical_report  Result  \n",
              "0                           1                  -1       0  \n",
              "1                           1                   1       0  \n",
              "2                           0                  -1       0  \n",
              "3                          -1                   1       0  \n",
              "4                           1                   1       1  \n",
              "...                       ...                 ...     ...  \n",
              "11050                       1                   1       1  \n",
              "11051                      -1                   1       0  \n",
              "11052                       0                   1       0  \n",
              "11053                       1                   1       0  \n",
              "11054                       1                  -1       0  \n",
              "\n",
              "[11055 rows x 31 columns]"
            ],
            "text/html": [
              "\n",
              "  <div id=\"df-9e504e72-956a-4344-a1e1-44b705b59bfd\" class=\"colab-df-container\">\n",
              "    <div>\n",
              "<style scoped>\n",
              "    .dataframe tbody tr th:only-of-type {\n",
              "        vertical-align: middle;\n",
              "    }\n",
              "\n",
              "    .dataframe tbody tr th {\n",
              "        vertical-align: top;\n",
              "    }\n",
              "\n",
              "    .dataframe thead th {\n",
              "        text-align: right;\n",
              "    }\n",
              "</style>\n",
              "<table border=\"1\" class=\"dataframe\">\n",
              "  <thead>\n",
              "    <tr style=\"text-align: right;\">\n",
              "      <th></th>\n",
              "      <th>having_IP_Address</th>\n",
              "      <th>URL_Length</th>\n",
              "      <th>Shortining_Service</th>\n",
              "      <th>having_At_Symbol</th>\n",
              "      <th>double_slash_redirecting</th>\n",
              "      <th>Prefix_Suffix</th>\n",
              "      <th>having_Sub_Domain</th>\n",
              "      <th>SSLfinal_State</th>\n",
              "      <th>Domain_registeration_length</th>\n",
              "      <th>Favicon</th>\n",
              "      <th>...</th>\n",
              "      <th>popUpWidnow</th>\n",
              "      <th>Iframe</th>\n",
              "      <th>age_of_domain</th>\n",
              "      <th>DNSRecord</th>\n",
              "      <th>web_traffic</th>\n",
              "      <th>Page_Rank</th>\n",
              "      <th>Google_Index</th>\n",
              "      <th>Links_pointing_to_page</th>\n",
              "      <th>Statistical_report</th>\n",
              "      <th>Result</th>\n",
              "    </tr>\n",
              "  </thead>\n",
              "  <tbody>\n",
              "    <tr>\n",
              "      <th>0</th>\n",
              "      <td>-1</td>\n",
              "      <td>1</td>\n",
              "      <td>1</td>\n",
              "      <td>1</td>\n",
              "      <td>-1</td>\n",
              "      <td>-1</td>\n",
              "      <td>-1</td>\n",
              "      <td>-1</td>\n",
              "      <td>-1</td>\n",
              "      <td>1</td>\n",
              "      <td>...</td>\n",
              "      <td>1</td>\n",
              "      <td>1</td>\n",
              "      <td>-1</td>\n",
              "      <td>-1</td>\n",
              "      <td>-1</td>\n",
              "      <td>-1</td>\n",
              "      <td>1</td>\n",
              "      <td>1</td>\n",
              "      <td>-1</td>\n",
              "      <td>0</td>\n",
              "    </tr>\n",
              "    <tr>\n",
              "      <th>1</th>\n",
              "      <td>1</td>\n",
              "      <td>1</td>\n",
              "      <td>1</td>\n",
              "      <td>1</td>\n",
              "      <td>1</td>\n",
              "      <td>-1</td>\n",
              "      <td>0</td>\n",
              "      <td>1</td>\n",
              "      <td>-1</td>\n",
              "      <td>1</td>\n",
              "      <td>...</td>\n",
              "      <td>1</td>\n",
              "      <td>1</td>\n",
              "      <td>-1</td>\n",
              "      <td>-1</td>\n",
              "      <td>0</td>\n",
              "      <td>-1</td>\n",
              "      <td>1</td>\n",
              "      <td>1</td>\n",
              "      <td>1</td>\n",
              "      <td>0</td>\n",
              "    </tr>\n",
              "    <tr>\n",
              "      <th>2</th>\n",
              "      <td>1</td>\n",
              "      <td>0</td>\n",
              "      <td>1</td>\n",
              "      <td>1</td>\n",
              "      <td>1</td>\n",
              "      <td>-1</td>\n",
              "      <td>-1</td>\n",
              "      <td>-1</td>\n",
              "      <td>-1</td>\n",
              "      <td>1</td>\n",
              "      <td>...</td>\n",
              "      <td>1</td>\n",
              "      <td>1</td>\n",
              "      <td>1</td>\n",
              "      <td>-1</td>\n",
              "      <td>1</td>\n",
              "      <td>-1</td>\n",
              "      <td>1</td>\n",
              "      <td>0</td>\n",
              "      <td>-1</td>\n",
              "      <td>0</td>\n",
              "    </tr>\n",
              "    <tr>\n",
              "      <th>3</th>\n",
              "      <td>1</td>\n",
              "      <td>0</td>\n",
              "      <td>1</td>\n",
              "      <td>1</td>\n",
              "      <td>1</td>\n",
              "      <td>-1</td>\n",
              "      <td>-1</td>\n",
              "      <td>-1</td>\n",
              "      <td>1</td>\n",
              "      <td>1</td>\n",
              "      <td>...</td>\n",
              "      <td>1</td>\n",
              "      <td>1</td>\n",
              "      <td>-1</td>\n",
              "      <td>-1</td>\n",
              "      <td>1</td>\n",
              "      <td>-1</td>\n",
              "      <td>1</td>\n",
              "      <td>-1</td>\n",
              "      <td>1</td>\n",
              "      <td>0</td>\n",
              "    </tr>\n",
              "    <tr>\n",
              "      <th>4</th>\n",
              "      <td>1</td>\n",
              "      <td>0</td>\n",
              "      <td>-1</td>\n",
              "      <td>1</td>\n",
              "      <td>1</td>\n",
              "      <td>-1</td>\n",
              "      <td>1</td>\n",
              "      <td>1</td>\n",
              "      <td>-1</td>\n",
              "      <td>1</td>\n",
              "      <td>...</td>\n",
              "      <td>-1</td>\n",
              "      <td>1</td>\n",
              "      <td>-1</td>\n",
              "      <td>-1</td>\n",
              "      <td>0</td>\n",
              "      <td>-1</td>\n",
              "      <td>1</td>\n",
              "      <td>1</td>\n",
              "      <td>1</td>\n",
              "      <td>1</td>\n",
              "    </tr>\n",
              "    <tr>\n",
              "      <th>...</th>\n",
              "      <td>...</td>\n",
              "      <td>...</td>\n",
              "      <td>...</td>\n",
              "      <td>...</td>\n",
              "      <td>...</td>\n",
              "      <td>...</td>\n",
              "      <td>...</td>\n",
              "      <td>...</td>\n",
              "      <td>...</td>\n",
              "      <td>...</td>\n",
              "      <td>...</td>\n",
              "      <td>...</td>\n",
              "      <td>...</td>\n",
              "      <td>...</td>\n",
              "      <td>...</td>\n",
              "      <td>...</td>\n",
              "      <td>...</td>\n",
              "      <td>...</td>\n",
              "      <td>...</td>\n",
              "      <td>...</td>\n",
              "      <td>...</td>\n",
              "    </tr>\n",
              "    <tr>\n",
              "      <th>11050</th>\n",
              "      <td>1</td>\n",
              "      <td>-1</td>\n",
              "      <td>1</td>\n",
              "      <td>-1</td>\n",
              "      <td>1</td>\n",
              "      <td>1</td>\n",
              "      <td>1</td>\n",
              "      <td>1</td>\n",
              "      <td>-1</td>\n",
              "      <td>-1</td>\n",
              "      <td>...</td>\n",
              "      <td>-1</td>\n",
              "      <td>-1</td>\n",
              "      <td>1</td>\n",
              "      <td>1</td>\n",
              "      <td>-1</td>\n",
              "      <td>-1</td>\n",
              "      <td>1</td>\n",
              "      <td>1</td>\n",
              "      <td>1</td>\n",
              "      <td>1</td>\n",
              "    </tr>\n",
              "    <tr>\n",
              "      <th>11051</th>\n",
              "      <td>-1</td>\n",
              "      <td>1</td>\n",
              "      <td>1</td>\n",
              "      <td>-1</td>\n",
              "      <td>-1</td>\n",
              "      <td>-1</td>\n",
              "      <td>1</td>\n",
              "      <td>-1</td>\n",
              "      <td>-1</td>\n",
              "      <td>-1</td>\n",
              "      <td>...</td>\n",
              "      <td>-1</td>\n",
              "      <td>1</td>\n",
              "      <td>1</td>\n",
              "      <td>1</td>\n",
              "      <td>1</td>\n",
              "      <td>1</td>\n",
              "      <td>1</td>\n",
              "      <td>-1</td>\n",
              "      <td>1</td>\n",
              "      <td>0</td>\n",
              "    </tr>\n",
              "    <tr>\n",
              "      <th>11052</th>\n",
              "      <td>1</td>\n",
              "      <td>-1</td>\n",
              "      <td>1</td>\n",
              "      <td>1</td>\n",
              "      <td>1</td>\n",
              "      <td>-1</td>\n",
              "      <td>1</td>\n",
              "      <td>-1</td>\n",
              "      <td>-1</td>\n",
              "      <td>1</td>\n",
              "      <td>...</td>\n",
              "      <td>1</td>\n",
              "      <td>1</td>\n",
              "      <td>1</td>\n",
              "      <td>1</td>\n",
              "      <td>1</td>\n",
              "      <td>-1</td>\n",
              "      <td>1</td>\n",
              "      <td>0</td>\n",
              "      <td>1</td>\n",
              "      <td>0</td>\n",
              "    </tr>\n",
              "    <tr>\n",
              "      <th>11053</th>\n",
              "      <td>-1</td>\n",
              "      <td>-1</td>\n",
              "      <td>1</td>\n",
              "      <td>1</td>\n",
              "      <td>1</td>\n",
              "      <td>-1</td>\n",
              "      <td>-1</td>\n",
              "      <td>-1</td>\n",
              "      <td>1</td>\n",
              "      <td>-1</td>\n",
              "      <td>...</td>\n",
              "      <td>-1</td>\n",
              "      <td>1</td>\n",
              "      <td>1</td>\n",
              "      <td>1</td>\n",
              "      <td>1</td>\n",
              "      <td>-1</td>\n",
              "      <td>1</td>\n",
              "      <td>1</td>\n",
              "      <td>1</td>\n",
              "      <td>0</td>\n",
              "    </tr>\n",
              "    <tr>\n",
              "      <th>11054</th>\n",
              "      <td>-1</td>\n",
              "      <td>-1</td>\n",
              "      <td>1</td>\n",
              "      <td>1</td>\n",
              "      <td>1</td>\n",
              "      <td>-1</td>\n",
              "      <td>-1</td>\n",
              "      <td>-1</td>\n",
              "      <td>1</td>\n",
              "      <td>1</td>\n",
              "      <td>...</td>\n",
              "      <td>1</td>\n",
              "      <td>1</td>\n",
              "      <td>-1</td>\n",
              "      <td>1</td>\n",
              "      <td>-1</td>\n",
              "      <td>-1</td>\n",
              "      <td>-1</td>\n",
              "      <td>1</td>\n",
              "      <td>-1</td>\n",
              "      <td>0</td>\n",
              "    </tr>\n",
              "  </tbody>\n",
              "</table>\n",
              "<p>11055 rows × 31 columns</p>\n",
              "</div>\n",
              "    <div class=\"colab-df-buttons\">\n",
              "\n",
              "  <div class=\"colab-df-container\">\n",
              "    <button class=\"colab-df-convert\" onclick=\"convertToInteractive('df-9e504e72-956a-4344-a1e1-44b705b59bfd')\"\n",
              "            title=\"Convert this dataframe to an interactive table.\"\n",
              "            style=\"display:none;\">\n",
              "\n",
              "  <svg xmlns=\"http://www.w3.org/2000/svg\" height=\"24px\" viewBox=\"0 -960 960 960\">\n",
              "    <path d=\"M120-120v-720h720v720H120Zm60-500h600v-160H180v160Zm220 220h160v-160H400v160Zm0 220h160v-160H400v160ZM180-400h160v-160H180v160Zm440 0h160v-160H620v160ZM180-180h160v-160H180v160Zm440 0h160v-160H620v160Z\"/>\n",
              "  </svg>\n",
              "    </button>\n",
              "\n",
              "  <style>\n",
              "    .colab-df-container {\n",
              "      display:flex;\n",
              "      gap: 12px;\n",
              "    }\n",
              "\n",
              "    .colab-df-convert {\n",
              "      background-color: #E8F0FE;\n",
              "      border: none;\n",
              "      border-radius: 50%;\n",
              "      cursor: pointer;\n",
              "      display: none;\n",
              "      fill: #1967D2;\n",
              "      height: 32px;\n",
              "      padding: 0 0 0 0;\n",
              "      width: 32px;\n",
              "    }\n",
              "\n",
              "    .colab-df-convert:hover {\n",
              "      background-color: #E2EBFA;\n",
              "      box-shadow: 0px 1px 2px rgba(60, 64, 67, 0.3), 0px 1px 3px 1px rgba(60, 64, 67, 0.15);\n",
              "      fill: #174EA6;\n",
              "    }\n",
              "\n",
              "    .colab-df-buttons div {\n",
              "      margin-bottom: 4px;\n",
              "    }\n",
              "\n",
              "    [theme=dark] .colab-df-convert {\n",
              "      background-color: #3B4455;\n",
              "      fill: #D2E3FC;\n",
              "    }\n",
              "\n",
              "    [theme=dark] .colab-df-convert:hover {\n",
              "      background-color: #434B5C;\n",
              "      box-shadow: 0px 1px 3px 1px rgba(0, 0, 0, 0.15);\n",
              "      filter: drop-shadow(0px 1px 2px rgba(0, 0, 0, 0.3));\n",
              "      fill: #FFFFFF;\n",
              "    }\n",
              "  </style>\n",
              "\n",
              "    <script>\n",
              "      const buttonEl =\n",
              "        document.querySelector('#df-9e504e72-956a-4344-a1e1-44b705b59bfd button.colab-df-convert');\n",
              "      buttonEl.style.display =\n",
              "        google.colab.kernel.accessAllowed ? 'block' : 'none';\n",
              "\n",
              "      async function convertToInteractive(key) {\n",
              "        const element = document.querySelector('#df-9e504e72-956a-4344-a1e1-44b705b59bfd');\n",
              "        const dataTable =\n",
              "          await google.colab.kernel.invokeFunction('convertToInteractive',\n",
              "                                                    [key], {});\n",
              "        if (!dataTable) return;\n",
              "\n",
              "        const docLinkHtml = 'Like what you see? Visit the ' +\n",
              "          '<a target=\"_blank\" href=https://colab.research.google.com/notebooks/data_table.ipynb>data table notebook</a>'\n",
              "          + ' to learn more about interactive tables.';\n",
              "        element.innerHTML = '';\n",
              "        dataTable['output_type'] = 'display_data';\n",
              "        await google.colab.output.renderOutput(dataTable, element);\n",
              "        const docLink = document.createElement('div');\n",
              "        docLink.innerHTML = docLinkHtml;\n",
              "        element.appendChild(docLink);\n",
              "      }\n",
              "    </script>\n",
              "  </div>\n",
              "\n",
              "\n",
              "    <div id=\"df-594077d3-c804-4132-80fb-4f4f9a6593d3\">\n",
              "      <button class=\"colab-df-quickchart\" onclick=\"quickchart('df-594077d3-c804-4132-80fb-4f4f9a6593d3')\"\n",
              "                title=\"Suggest charts\"\n",
              "                style=\"display:none;\">\n",
              "\n",
              "<svg xmlns=\"http://www.w3.org/2000/svg\" height=\"24px\"viewBox=\"0 0 24 24\"\n",
              "     width=\"24px\">\n",
              "    <g>\n",
              "        <path d=\"M19 3H5c-1.1 0-2 .9-2 2v14c0 1.1.9 2 2 2h14c1.1 0 2-.9 2-2V5c0-1.1-.9-2-2-2zM9 17H7v-7h2v7zm4 0h-2V7h2v10zm4 0h-2v-4h2v4z\"/>\n",
              "    </g>\n",
              "</svg>\n",
              "      </button>\n",
              "\n",
              "<style>\n",
              "  .colab-df-quickchart {\n",
              "      --bg-color: #E8F0FE;\n",
              "      --fill-color: #1967D2;\n",
              "      --hover-bg-color: #E2EBFA;\n",
              "      --hover-fill-color: #174EA6;\n",
              "      --disabled-fill-color: #AAA;\n",
              "      --disabled-bg-color: #DDD;\n",
              "  }\n",
              "\n",
              "  [theme=dark] .colab-df-quickchart {\n",
              "      --bg-color: #3B4455;\n",
              "      --fill-color: #D2E3FC;\n",
              "      --hover-bg-color: #434B5C;\n",
              "      --hover-fill-color: #FFFFFF;\n",
              "      --disabled-bg-color: #3B4455;\n",
              "      --disabled-fill-color: #666;\n",
              "  }\n",
              "\n",
              "  .colab-df-quickchart {\n",
              "    background-color: var(--bg-color);\n",
              "    border: none;\n",
              "    border-radius: 50%;\n",
              "    cursor: pointer;\n",
              "    display: none;\n",
              "    fill: var(--fill-color);\n",
              "    height: 32px;\n",
              "    padding: 0;\n",
              "    width: 32px;\n",
              "  }\n",
              "\n",
              "  .colab-df-quickchart:hover {\n",
              "    background-color: var(--hover-bg-color);\n",
              "    box-shadow: 0 1px 2px rgba(60, 64, 67, 0.3), 0 1px 3px 1px rgba(60, 64, 67, 0.15);\n",
              "    fill: var(--button-hover-fill-color);\n",
              "  }\n",
              "\n",
              "  .colab-df-quickchart-complete:disabled,\n",
              "  .colab-df-quickchart-complete:disabled:hover {\n",
              "    background-color: var(--disabled-bg-color);\n",
              "    fill: var(--disabled-fill-color);\n",
              "    box-shadow: none;\n",
              "  }\n",
              "\n",
              "  .colab-df-spinner {\n",
              "    border: 2px solid var(--fill-color);\n",
              "    border-color: transparent;\n",
              "    border-bottom-color: var(--fill-color);\n",
              "    animation:\n",
              "      spin 1s steps(1) infinite;\n",
              "  }\n",
              "\n",
              "  @keyframes spin {\n",
              "    0% {\n",
              "      border-color: transparent;\n",
              "      border-bottom-color: var(--fill-color);\n",
              "      border-left-color: var(--fill-color);\n",
              "    }\n",
              "    20% {\n",
              "      border-color: transparent;\n",
              "      border-left-color: var(--fill-color);\n",
              "      border-top-color: var(--fill-color);\n",
              "    }\n",
              "    30% {\n",
              "      border-color: transparent;\n",
              "      border-left-color: var(--fill-color);\n",
              "      border-top-color: var(--fill-color);\n",
              "      border-right-color: var(--fill-color);\n",
              "    }\n",
              "    40% {\n",
              "      border-color: transparent;\n",
              "      border-right-color: var(--fill-color);\n",
              "      border-top-color: var(--fill-color);\n",
              "    }\n",
              "    60% {\n",
              "      border-color: transparent;\n",
              "      border-right-color: var(--fill-color);\n",
              "    }\n",
              "    80% {\n",
              "      border-color: transparent;\n",
              "      border-right-color: var(--fill-color);\n",
              "      border-bottom-color: var(--fill-color);\n",
              "    }\n",
              "    90% {\n",
              "      border-color: transparent;\n",
              "      border-bottom-color: var(--fill-color);\n",
              "    }\n",
              "  }\n",
              "</style>\n",
              "\n",
              "      <script>\n",
              "        async function quickchart(key) {\n",
              "          const quickchartButtonEl =\n",
              "            document.querySelector('#' + key + ' button');\n",
              "          quickchartButtonEl.disabled = true;  // To prevent multiple clicks.\n",
              "          quickchartButtonEl.classList.add('colab-df-spinner');\n",
              "          try {\n",
              "            const charts = await google.colab.kernel.invokeFunction(\n",
              "                'suggestCharts', [key], {});\n",
              "          } catch (error) {\n",
              "            console.error('Error during call to suggestCharts:', error);\n",
              "          }\n",
              "          quickchartButtonEl.classList.remove('colab-df-spinner');\n",
              "          quickchartButtonEl.classList.add('colab-df-quickchart-complete');\n",
              "        }\n",
              "        (() => {\n",
              "          let quickchartButtonEl =\n",
              "            document.querySelector('#df-594077d3-c804-4132-80fb-4f4f9a6593d3 button');\n",
              "          quickchartButtonEl.style.display =\n",
              "            google.colab.kernel.accessAllowed ? 'block' : 'none';\n",
              "        })();\n",
              "      </script>\n",
              "    </div>\n",
              "\n",
              "  <div id=\"id_c027bf75-4b68-4293-b336-d7d8f5491e6a\">\n",
              "    <style>\n",
              "      .colab-df-generate {\n",
              "        background-color: #E8F0FE;\n",
              "        border: none;\n",
              "        border-radius: 50%;\n",
              "        cursor: pointer;\n",
              "        display: none;\n",
              "        fill: #1967D2;\n",
              "        height: 32px;\n",
              "        padding: 0 0 0 0;\n",
              "        width: 32px;\n",
              "      }\n",
              "\n",
              "      .colab-df-generate:hover {\n",
              "        background-color: #E2EBFA;\n",
              "        box-shadow: 0px 1px 2px rgba(60, 64, 67, 0.3), 0px 1px 3px 1px rgba(60, 64, 67, 0.15);\n",
              "        fill: #174EA6;\n",
              "      }\n",
              "\n",
              "      [theme=dark] .colab-df-generate {\n",
              "        background-color: #3B4455;\n",
              "        fill: #D2E3FC;\n",
              "      }\n",
              "\n",
              "      [theme=dark] .colab-df-generate:hover {\n",
              "        background-color: #434B5C;\n",
              "        box-shadow: 0px 1px 3px 1px rgba(0, 0, 0, 0.15);\n",
              "        filter: drop-shadow(0px 1px 2px rgba(0, 0, 0, 0.3));\n",
              "        fill: #FFFFFF;\n",
              "      }\n",
              "    </style>\n",
              "    <button class=\"colab-df-generate\" onclick=\"generateWithVariable('df1')\"\n",
              "            title=\"Generate code using this dataframe.\"\n",
              "            style=\"display:none;\">\n",
              "\n",
              "  <svg xmlns=\"http://www.w3.org/2000/svg\" height=\"24px\"viewBox=\"0 0 24 24\"\n",
              "       width=\"24px\">\n",
              "    <path d=\"M7,19H8.4L18.45,9,17,7.55,7,17.6ZM5,21V16.75L18.45,3.32a2,2,0,0,1,2.83,0l1.4,1.43a1.91,1.91,0,0,1,.58,1.4,1.91,1.91,0,0,1-.58,1.4L9.25,21ZM18.45,9,17,7.55Zm-12,3A5.31,5.31,0,0,0,4.9,8.1,5.31,5.31,0,0,0,1,6.5,5.31,5.31,0,0,0,4.9,4.9,5.31,5.31,0,0,0,6.5,1,5.31,5.31,0,0,0,8.1,4.9,5.31,5.31,0,0,0,12,6.5,5.46,5.46,0,0,0,6.5,12Z\"/>\n",
              "  </svg>\n",
              "    </button>\n",
              "    <script>\n",
              "      (() => {\n",
              "      const buttonEl =\n",
              "        document.querySelector('#id_c027bf75-4b68-4293-b336-d7d8f5491e6a button.colab-df-generate');\n",
              "      buttonEl.style.display =\n",
              "        google.colab.kernel.accessAllowed ? 'block' : 'none';\n",
              "\n",
              "      buttonEl.onclick = () => {\n",
              "        google.colab.notebook.generateWithVariable('df1');\n",
              "      }\n",
              "      })();\n",
              "    </script>\n",
              "  </div>\n",
              "\n",
              "    </div>\n",
              "  </div>\n"
            ],
            "application/vnd.google.colaboratory.intrinsic+json": {
              "type": "dataframe",
              "variable_name": "df1"
            }
          },
          "metadata": {},
          "execution_count": 44
        }
      ]
    },
    {
      "cell_type": "code",
      "source": [
        "# crear conjuntos de features y labels\n",
        "y = df1['Result']\n",
        "X = df1.drop(columns=['Result'])"
      ],
      "metadata": {
        "id": "ScUbqppg1fv4"
      },
      "execution_count": 45,
      "outputs": []
    },
    {
      "cell_type": "code",
      "source": [
        "# crear conjuntos de pretrain, train y test\n",
        "X_pretrain, X_remaining, y_pretrain, y_remaining = train_test_split(\n",
        "    X, y, test_size=0.9, random_state=42, stratify=y\n",
        ")\n",
        "\n",
        "X_train, X_test, y_train, y_test = train_test_split(\n",
        "    X_remaining, y_remaining, test_size=0.3, random_state=42,\n",
        ")\n",
        "\n",
        "X_pretrain.shape, X_train.shape, X_test.shape"
      ],
      "metadata": {
        "id": "bbcvpg3y1sgv",
        "outputId": "cfc093eb-8814-41e9-ba2d-ab7210d3a5c3",
        "colab": {
          "base_uri": "https://localhost:8080/"
        }
      },
      "execution_count": 46,
      "outputs": [
        {
          "output_type": "execute_result",
          "data": {
            "text/plain": [
              "((1105, 30), (6965, 30), (2985, 30))"
            ]
          },
          "metadata": {},
          "execution_count": 46
        }
      ]
    },
    {
      "cell_type": "markdown",
      "source": [
        "#### ¿Cómo hace fine-tuning TabPFN?\n",
        "\n",
        "TabPFN **no necesita fine-tuning tradicional**. Ya está **preentrenado** con millones de tareas sintéticas, por lo que funciona como un modelo fundacional para datos tabulares.\n",
        "\n",
        "En lugar de entrenarse, TabPFN realiza **\"in-context learning\"**: usa un pequeño conjunto de ejemplos como contexto y generaliza a nuevos datos sin modificar sus pesos.\n",
        "\n",
        "### 📌 Diferencias clave\n",
        "\n",
        "- ❌ No entrena pesos → ✅ Usa ejemplos como contexto\n",
        "- ❌ No necesita optimizador → ✅ Solo llamas `.fit()` una vez\n",
        "- ✅ Listo para usar en tareas nuevas con pocos datos\n",
        "\n",
        "> Es una forma moderna de **transfer learning sin reentrenamiento**, parecida a cómo funcionan los modelos como GPT.\n"
      ],
      "metadata": {
        "id": "Lm63FeTAFKZZ"
      }
    },
    {
      "cell_type": "code",
      "source": [
        "tabpfn = TabPFNClassifier(device=\"cuda\" if torch.cuda.is_available() else \"cpu\")\n",
        "\n",
        "# No necesita entrenamiento, solo predicción directa\n",
        "tabpfn.fit(X_pretrain, y_pretrain)  # Simula el preentrenamiento en otro dominio\n",
        "\n",
        "preds_pfn = tabpfn.predict(X_test)\n",
        "probs_pfn = tabpfn.predict_proba(X_test)\n",
        "\n",
        "print(\"TabPFN Accuracy:\", accuracy_score(y_test, preds_pfn))\n",
        "print(\"TabPFN ROC AUC:\", roc_auc_score(y_test, probs_pfn[:,1]))"
      ],
      "metadata": {
        "id": "NBHhdm7f1sjL",
        "outputId": "b6cd9aa1-b584-4ff7-b360-0df8f23bff15",
        "colab": {
          "base_uri": "https://localhost:8080/",
          "height": 117,
          "referenced_widgets": [
            "75786a5de42947b6bdb3f3c32cd63c9f",
            "6e1cd80d4894489c87690ad2db13ae9c",
            "bfd33675ea99436a82b4e205a4699cd0",
            "b03cdcbbb2db42369a50ee877a09ad67",
            "d1b8ebc2c32046a2b1f99e4528e1846c",
            "424b3600e9fa4828a06e0edd39eba42e",
            "a27385d1d3484adc85f6bd646bbe03c4",
            "9d81c1dc5fbe4c32bd8dc91fed1d94aa",
            "10e57b6e8436483ba3be64e3a9f35160",
            "2bb0bf8423e74adcbc32da5a9fb4ee9d",
            "225f14d0ec1747e89c3285261dede614",
            "1d726d726fb04213bbe5e309807c5c48",
            "f110ec71ff8541d6b83016a09d74841c",
            "c04ecd3efaff462f841aad9ec0296397",
            "1c5ffb53b79e4665a4588595e99c73e8",
            "77f2f75f06a748a388989890103e6eea",
            "96eee0662b3f4f6198fec803eaa85912",
            "957a087a1f1e477fafad91c3248e2165",
            "9ab68302569546809a9bfb544d630095",
            "ebb8a29813594644a89c839be757437c",
            "95dabe64ddc7493a9fbfdce32f89cb7f",
            "dc354c7b71994f71b5ba8e1e3d39bafc"
          ]
        }
      },
      "execution_count": 47,
      "outputs": [
        {
          "output_type": "display_data",
          "data": {
            "text/plain": [
              "tabpfn-v2-classifier-finetuned-zk73skhh.(…):   0%|          | 0.00/29.0M [00:00<?, ?B/s]"
            ],
            "application/vnd.jupyter.widget-view+json": {
              "version_major": 2,
              "version_minor": 0,
              "model_id": "75786a5de42947b6bdb3f3c32cd63c9f"
            }
          },
          "metadata": {}
        },
        {
          "output_type": "display_data",
          "data": {
            "text/plain": [
              "config.json:   0%|          | 0.00/37.0 [00:00<?, ?B/s]"
            ],
            "application/vnd.jupyter.widget-view+json": {
              "version_major": 2,
              "version_minor": 0,
              "model_id": "1d726d726fb04213bbe5e309807c5c48"
            }
          },
          "metadata": {}
        },
        {
          "output_type": "stream",
          "name": "stdout",
          "text": [
            "TabPFN Accuracy: 0.9363484087102177\n",
            "TabPFN ROC AUC: 0.9870633157443613\n"
          ]
        }
      ]
    },
    {
      "cell_type": "markdown",
      "source": [
        "#### ¿Cómo se hace preentrenamiento en TabNet?\n",
        "\n",
        "TabNet permite aplicar **transfer learning tradicional** con datos tabulares, utilizando un enfoque en dos fases:\n",
        "\n",
        "#### 🔄 1. Preentrenamiento no supervisado\n",
        "\n",
        "Se entrena el modelo como un **autoencoder**:\n",
        "- Aprende a reconstruir los datos de entrada\n",
        "- Captura patrones estructurales y relaciones entre atributos\n",
        "- No necesita etiquetas (`unsupervised pretraining`)\n",
        "\n",
        "Esto le permite aprender una buena representación de los datos, útil para tareas futuras.\n",
        "\n",
        "#### 🏷️ 2. Fine-tuning supervisado\n",
        "\n",
        "Luego se reutilizan los pesos aprendidos para entrenar el modelo en una tarea específica:\n",
        "- Se conecta una capa de clasificación\n",
        "- Se ajustan los pesos con ejemplos etiquetados\n",
        "- Mejora la generalización, especialmente si hay pocos datos etiquetados\n",
        "\n",
        "> TabNet sigue una estrategia clásica de **transfer learning por ajuste fino**, similar a la usada en visión por CNNs: preentrenar primero, y luego adaptar.\n"
      ],
      "metadata": {
        "id": "B7aT7NcXGZU3"
      }
    },
    {
      "cell_type": "markdown",
      "source": [
        "#### Parámetros de TabNet (Instanciar)"
      ],
      "metadata": {
        "id": "-s7q8wjFA7TI"
      }
    },
    {
      "cell_type": "markdown",
      "source": [
        "| Parámetro                              | Descripción                                                                                     |\n",
        "| -------------------------------------- | ----------------------------------------------------------------------------------------------- |\n",
        "| `n_d` / `n_a`                          | Dimensión de la capa de decisión y atención. Usualmente entre 8 y 64. Recomendado: `n_d = n_a`. |\n",
        "| `n_steps`                              | Número de pasos (bloques de atención). Sugerido: 3–10.                                          |\n",
        "| `gamma`                                | Coeficiente de reuso de características en las máscaras. Rango: 1.0–2.0 (default 1.3).          |\n",
        "| `cat_idxs`                             | Índices de las variables categóricas (requerido para embeddings).                               |\n",
        "| `cat_dims`                             | Número de categorías únicas por variable categórica.                                            |\n",
        "| `cat_emb_dim`                          | Dimensiones de embedding por variable categórica. Default: 1.                                   |\n",
        "| `n_shared` / `n_independent`           | Capas GLU compartidas e independientes por paso. Usual: 1–5.                                    |\n",
        "| `epsilon`                              | Estabilidad numérica. No modificar (default `1e-15`).                                           |\n",
        "| `seed`                                 | Semilla para reproducibilidad.                                                                  |\n",
        "| `momentum`                             | Momentum para batch norm. Rango típico: 0.01–0.4. Default: 0.02.                                |\n",
        "| `clip_value`                           | Valor para *gradient clipping*. Default: `None`.                                                |\n",
        "| `lambda_sparse`                        | Coeficiente para pérdida de dispersión. Mayor → más enmascaramiento. Default: `1e-3`.           |\n",
        "| `optimizer_fn`                         | Optimizador de PyTorch. Default: `torch.optim.Adam`.                                            |\n",
        "| `optimizer_params`                     | Parámetros del optimizador. Default: `{'lr': 2e-2}`.                                            |\n",
        "| `scheduler_fn` / `scheduler_params`    | Scheduler de tasa de aprendizaje y sus parámetros. Ej: `{\"gamma\": 0.95, \"step_size\": 10}`.      |\n",
        "| `model_name`                           | Nombre del modelo para guardar. Default: `\"DreamQuarkTabNet\"`.                                  |\n",
        "| `verbose`                              | Nivel de verbosidad. `0` (silencio) o `1` (mostrar épocas).                                     |\n",
        "| `device_name`                          | `\"cpu\"`, `\"cuda\"` o `\"auto\"`.                                                                    |\n",
        "| `mask_type`                            | Tipo de máscara: `\"sparsemax\"` o `\"entmax\"`.                                                    |\n",
        "| `grouped_features`                     | Agrupación de variables correlacionadas (ej. PCA o TF-IDF).                                     |\n",
        "| `n_shared_decoder` / `n_indep_decoder` | Solo para preentrenamiento. Bloques GLU compartidos/independientes en decoder.                  |\n"
      ],
      "metadata": {
        "id": "3wlxWGmYAmHM"
      }
    },
    {
      "cell_type": "markdown",
      "source": [
        "#### Parámetros de entrenamiento (fit)"
      ],
      "metadata": {
        "id": "JLL8OVGMA0qZ"
      }
    },
    {
      "cell_type": "markdown",
      "source": [
        "| Parámetro            | Descripción                                                                                          |\n",
        "| -------------------- | ---------------------------------------------------------------------------------------------------- |\n",
        "| `X_train`, `y_train` | Datos y etiquetas de entrenamiento.                                                                  |\n",
        "| `eval_set`           | Lista de tuplas (X, y) para evaluación. La última se usa para *early stopping*.                      |\n",
        "| `eval_name`          | Nombres para los conjuntos de evaluación.                                                            |\n",
        "| `eval_metric`        | Lista de métricas (ej. `\"accuracy\"`, `\"auc\"`, `\"rmse\"`). La última se usa para *early stopping*.     |\n",
        "| `max_epochs`         | Número máximo de épocas. Default: 200.                                                               |\n",
        "| `patience`           | Épocas sin mejora antes de detener. Default: 10.                                                     |\n",
        "| `weights`            | Solo para clasificación. `0`: sin ponderación, `1`: ponderación automática, `dict`: pesos por clase. |\n",
        "| `loss_fn`            | Función de pérdida. Default: `mse` (regresión) o `cross_entropy` (clasificación).                    |\n",
        "| `batch_size`         | Tamaño del batch. Sugerido: grande (ej. 1024).                                                       |\n",
        "| `virtual_batch_size` | Para *Ghost Batch Norm*. Debe dividir `batch_size`. Default: 128.                                    |\n",
        "| `num_workers`        | Número de workers para `DataLoader`.                                                                 |\n",
        "| `drop_last`          | Si se debe descartar el último batch incompleto.                                                     |\n",
        "| `callbacks`          | Lista de *callbacks* personalizados.                                                                 |\n",
        "| `pretraining_ratio`  | Solo `TabNetPretrainer`: proporción de características a enmascarar (entre 0 y 1).                   |\n",
        "| `warm_start`         | Permite continuar entrenamiento previo.                                                              |\n",
        "| `compute_importance` | Si se deben calcular importancias de variables. Default: `True`.                                     |\n"
      ],
      "metadata": {
        "id": "bnjDUcVHAvDt"
      }
    },
    {
      "cell_type": "code",
      "source": [
        "# Primero revisar el rendimiento normal\n",
        "clf = TabNetClassifier(\n",
        "    optimizer_fn=torch.optim.Adam,\n",
        "    optimizer_params=dict(lr=2e-2),\n",
        "    scheduler_fn=torch.optim.lr_scheduler.StepLR,\n",
        "    scheduler_params={\"step_size\":10, \"gamma\":0.9},\n",
        "    mask_type='entmax', #sparsemax\n",
        "    device_name='cuda'\n",
        ")\n",
        "\n",
        "# entrenar en los datos de train\n",
        "clf.fit(\n",
        "    X_train=X_train.values, y_train=y_train.values,\n",
        "    eval_set=[(X_test.values, y_test.values)],\n",
        "    eval_name=['test'],\n",
        "    eval_metric=['accuracy'],\n",
        "    max_epochs=50,\n",
        "    num_workers=2\n",
        ")"
      ],
      "metadata": {
        "id": "4bVh1IRt1slm",
        "outputId": "f25e86b5-120e-450c-fbd0-69325657a1c4",
        "colab": {
          "base_uri": "https://localhost:8080/"
        }
      },
      "execution_count": 48,
      "outputs": [
        {
          "output_type": "stream",
          "name": "stderr",
          "text": [
            "/usr/local/lib/python3.11/dist-packages/pytorch_tabnet/abstract_model.py:82: UserWarning: Device used : cuda\n",
            "  warnings.warn(f\"Device used : {self.device}\")\n"
          ]
        },
        {
          "output_type": "stream",
          "name": "stdout",
          "text": [
            "epoch 0  | loss: 0.68499 | test_accuracy: 0.67806 |  0:00:01s\n",
            "epoch 1  | loss: 0.5307  | test_accuracy: 0.77688 |  0:00:02s\n",
            "epoch 2  | loss: 0.40529 | test_accuracy: 0.83082 |  0:00:02s\n",
            "epoch 3  | loss: 0.31463 | test_accuracy: 0.87035 |  0:00:03s\n",
            "epoch 4  | loss: 0.25766 | test_accuracy: 0.88409 |  0:00:04s\n",
            "epoch 5  | loss: 0.21586 | test_accuracy: 0.88677 |  0:00:05s\n",
            "epoch 6  | loss: 0.2069  | test_accuracy: 0.89916 |  0:00:06s\n",
            "epoch 7  | loss: 0.20151 | test_accuracy: 0.90184 |  0:00:07s\n",
            "epoch 8  | loss: 0.18626 | test_accuracy: 0.90218 |  0:00:07s\n",
            "epoch 9  | loss: 0.17794 | test_accuracy: 0.90921 |  0:00:08s\n",
            "epoch 10 | loss: 0.17627 | test_accuracy: 0.9139  |  0:00:09s\n",
            "epoch 11 | loss: 0.16566 | test_accuracy: 0.91725 |  0:00:10s\n",
            "epoch 12 | loss: 0.15886 | test_accuracy: 0.91826 |  0:00:11s\n",
            "epoch 13 | loss: 0.15659 | test_accuracy: 0.92261 |  0:00:12s\n",
            "epoch 14 | loss: 0.15288 | test_accuracy: 0.92261 |  0:00:12s\n",
            "epoch 15 | loss: 0.14653 | test_accuracy: 0.9263  |  0:00:13s\n",
            "epoch 16 | loss: 0.14666 | test_accuracy: 0.92161 |  0:00:14s\n",
            "epoch 17 | loss: 0.15037 | test_accuracy: 0.92496 |  0:00:15s\n",
            "epoch 18 | loss: 0.14191 | test_accuracy: 0.92496 |  0:00:16s\n",
            "epoch 19 | loss: 0.1432  | test_accuracy: 0.92965 |  0:00:16s\n",
            "epoch 20 | loss: 0.1385  | test_accuracy: 0.92496 |  0:00:17s\n",
            "epoch 21 | loss: 0.13063 | test_accuracy: 0.92998 |  0:00:18s\n",
            "epoch 22 | loss: 0.12967 | test_accuracy: 0.92831 |  0:00:19s\n",
            "epoch 23 | loss: 0.12782 | test_accuracy: 0.9263  |  0:00:20s\n",
            "epoch 24 | loss: 0.12129 | test_accuracy: 0.93065 |  0:00:20s\n",
            "epoch 25 | loss: 0.12187 | test_accuracy: 0.93065 |  0:00:21s\n",
            "epoch 26 | loss: 0.1165  | test_accuracy: 0.93233 |  0:00:22s\n",
            "epoch 27 | loss: 0.11057 | test_accuracy: 0.93333 |  0:00:23s\n",
            "epoch 28 | loss: 0.11143 | test_accuracy: 0.93668 |  0:00:24s\n",
            "epoch 29 | loss: 0.10816 | test_accuracy: 0.93199 |  0:00:25s\n",
            "epoch 30 | loss: 0.11009 | test_accuracy: 0.93266 |  0:00:25s\n",
            "epoch 31 | loss: 0.1086  | test_accuracy: 0.93668 |  0:00:26s\n",
            "epoch 32 | loss: 0.1033  | test_accuracy: 0.93635 |  0:00:27s\n",
            "epoch 33 | loss: 0.10311 | test_accuracy: 0.93534 |  0:00:28s\n",
            "epoch 34 | loss: 0.10601 | test_accuracy: 0.93434 |  0:00:29s\n",
            "epoch 35 | loss: 0.10477 | test_accuracy: 0.93501 |  0:00:29s\n",
            "epoch 36 | loss: 0.09699 | test_accuracy: 0.94003 |  0:00:30s\n",
            "epoch 37 | loss: 0.10064 | test_accuracy: 0.93601 |  0:00:31s\n",
            "epoch 38 | loss: 0.08939 | test_accuracy: 0.94305 |  0:00:32s\n",
            "epoch 39 | loss: 0.09408 | test_accuracy: 0.94171 |  0:00:33s\n",
            "epoch 40 | loss: 0.09371 | test_accuracy: 0.94104 |  0:00:33s\n",
            "epoch 41 | loss: 0.08916 | test_accuracy: 0.94472 |  0:00:34s\n",
            "epoch 42 | loss: 0.08374 | test_accuracy: 0.94439 |  0:00:35s\n",
            "epoch 43 | loss: 0.0909  | test_accuracy: 0.94338 |  0:00:36s\n",
            "epoch 44 | loss: 0.08709 | test_accuracy: 0.94171 |  0:00:37s\n",
            "epoch 45 | loss: 0.08824 | test_accuracy: 0.9464  |  0:00:37s\n",
            "epoch 46 | loss: 0.08512 | test_accuracy: 0.94104 |  0:00:38s\n",
            "epoch 47 | loss: 0.08103 | test_accuracy: 0.94472 |  0:00:39s\n",
            "epoch 48 | loss: 0.08126 | test_accuracy: 0.94405 |  0:00:40s\n",
            "epoch 49 | loss: 0.08165 | test_accuracy: 0.94841 |  0:00:41s\n",
            "Stop training because you reached max_epochs = 50 with best_epoch = 49 and best_test_accuracy = 0.94841\n"
          ]
        },
        {
          "output_type": "stream",
          "name": "stderr",
          "text": [
            "/usr/local/lib/python3.11/dist-packages/pytorch_tabnet/callbacks.py:172: UserWarning: Best weights from best epoch are automatically used!\n",
            "  warnings.warn(wrn_msg)\n"
          ]
        }
      ]
    },
    {
      "cell_type": "code",
      "source": [
        "# Calcular rendimiento en test set\n",
        "preds_tabnet = clf.predict(X_test.values)\n",
        "probs_tabnet = clf.predict_proba(X_test.values)\n",
        "\n",
        "print(\"TabNet Accuracy:\", accuracy_score(preds_tabnet, y_test.values))\n",
        "print(\"TabNet ROC AUC:\", roc_auc_score(y_test.values, probs_tabnet[:,1]))"
      ],
      "metadata": {
        "id": "XKh4JtaW1soR",
        "outputId": "51d7a41d-d301-4c07-ae2b-005c8aafd483",
        "colab": {
          "base_uri": "https://localhost:8080/"
        }
      },
      "execution_count": 49,
      "outputs": [
        {
          "output_type": "stream",
          "name": "stdout",
          "text": [
            "TabNet Accuracy: 0.9484087102177554\n",
            "TabNet ROC AUC: 0.98806641544769\n"
          ]
        }
      ]
    },
    {
      "cell_type": "markdown",
      "source": [
        "Ahora aplicamos el entrenamiento sin supervisación para usarlo en una nueva fase de entrenamiento."
      ],
      "metadata": {
        "id": "A3gYcwLSHQjD"
      }
    },
    {
      "cell_type": "code",
      "source": [
        "# Hacer el pre-entrenamiento\n",
        "unsupervised_model = TabNetPretrainer(\n",
        "    optimizer_fn=torch.optim.Adam,\n",
        "    optimizer_params=dict(lr=2e-2),\n",
        "    mask_type='entmax' # \"sparsemax\"\n",
        ")\n",
        "\n",
        "unsupervised_model.fit(\n",
        "    X_train=X_pretrain.values,\n",
        "    eval_set=[X_test.values],\n",
        "    pretraining_ratio=0.7,\n",
        "    max_epochs=50 , patience=10,\n",
        ")"
      ],
      "metadata": {
        "id": "U5odprRgBTBL",
        "outputId": "83fab0b9-792d-4438-ec7e-6e96d71e0399",
        "colab": {
          "base_uri": "https://localhost:8080/"
        }
      },
      "execution_count": 50,
      "outputs": [
        {
          "output_type": "stream",
          "name": "stdout",
          "text": [
            "epoch 0  | loss: 7.70281 | val_0_unsup_loss_numpy: 3.1214799880981445|  0:00:00s\n"
          ]
        },
        {
          "output_type": "stream",
          "name": "stderr",
          "text": [
            "/usr/local/lib/python3.11/dist-packages/pytorch_tabnet/abstract_model.py:82: UserWarning: Device used : cuda\n",
            "  warnings.warn(f\"Device used : {self.device}\")\n"
          ]
        },
        {
          "output_type": "stream",
          "name": "stdout",
          "text": [
            "epoch 1  | loss: 5.7328  | val_0_unsup_loss_numpy: 2.701740026473999|  0:00:00s\n",
            "epoch 2  | loss: 4.4344  | val_0_unsup_loss_numpy: 2.511159896850586|  0:00:00s\n",
            "epoch 3  | loss: 3.81245 | val_0_unsup_loss_numpy: 2.3322200775146484|  0:00:00s\n",
            "epoch 4  | loss: 3.29634 | val_0_unsup_loss_numpy: 2.1348400115966797|  0:00:00s\n",
            "epoch 5  | loss: 2.85611 | val_0_unsup_loss_numpy: 2.057849884033203|  0:00:01s\n",
            "epoch 6  | loss: 2.71231 | val_0_unsup_loss_numpy: 1.9059200286865234|  0:00:01s\n",
            "epoch 7  | loss: 2.38177 | val_0_unsup_loss_numpy: 1.8024100065231323|  0:00:01s\n",
            "epoch 8  | loss: 2.18751 | val_0_unsup_loss_numpy: 1.6448800563812256|  0:00:01s\n",
            "epoch 9  | loss: 2.02259 | val_0_unsup_loss_numpy: 1.567080020904541|  0:00:01s\n",
            "epoch 10 | loss: 1.86974 | val_0_unsup_loss_numpy: 1.5137499570846558|  0:00:01s\n",
            "epoch 11 | loss: 1.77057 | val_0_unsup_loss_numpy: 1.4762799739837646|  0:00:02s\n",
            "epoch 12 | loss: 1.6627  | val_0_unsup_loss_numpy: 1.4227399826049805|  0:00:02s\n",
            "epoch 13 | loss: 1.57331 | val_0_unsup_loss_numpy: 1.361430048942566|  0:00:02s\n",
            "epoch 14 | loss: 1.50638 | val_0_unsup_loss_numpy: 1.3336399793624878|  0:00:02s\n",
            "epoch 15 | loss: 1.42558 | val_0_unsup_loss_numpy: 1.286910057067871|  0:00:02s\n",
            "epoch 16 | loss: 1.36771 | val_0_unsup_loss_numpy: 1.2362799644470215|  0:00:03s\n",
            "epoch 17 | loss: 1.29737 | val_0_unsup_loss_numpy: 1.2033100128173828|  0:00:03s\n",
            "epoch 18 | loss: 1.21341 | val_0_unsup_loss_numpy: 1.1618499755859375|  0:00:03s\n",
            "epoch 19 | loss: 1.20486 | val_0_unsup_loss_numpy: 1.137850046157837|  0:00:03s\n",
            "epoch 20 | loss: 1.15694 | val_0_unsup_loss_numpy: 1.1104300022125244|  0:00:03s\n",
            "epoch 21 | loss: 1.10679 | val_0_unsup_loss_numpy: 1.088979959487915|  0:00:03s\n",
            "epoch 22 | loss: 1.09228 | val_0_unsup_loss_numpy: 1.0698100328445435|  0:00:04s\n",
            "epoch 23 | loss: 1.07235 | val_0_unsup_loss_numpy: 1.0531400442123413|  0:00:04s\n",
            "epoch 24 | loss: 1.07221 | val_0_unsup_loss_numpy: 1.0403900146484375|  0:00:04s\n",
            "epoch 25 | loss: 1.05895 | val_0_unsup_loss_numpy: 1.0280400514602661|  0:00:04s\n",
            "epoch 26 | loss: 1.03975 | val_0_unsup_loss_numpy: 1.0222699642181396|  0:00:04s\n",
            "epoch 27 | loss: 1.04191 | val_0_unsup_loss_numpy: 1.020169973373413|  0:00:04s\n",
            "epoch 28 | loss: 1.04047 | val_0_unsup_loss_numpy: 1.0218199491500854|  0:00:05s\n",
            "epoch 29 | loss: 1.0373  | val_0_unsup_loss_numpy: 1.0218600034713745|  0:00:05s\n",
            "epoch 30 | loss: 1.03293 | val_0_unsup_loss_numpy: 1.0219899415969849|  0:00:05s\n",
            "epoch 31 | loss: 1.03683 | val_0_unsup_loss_numpy: 1.0205299854278564|  0:00:05s\n",
            "epoch 32 | loss: 1.02054 | val_0_unsup_loss_numpy: 1.0173499584197998|  0:00:05s\n",
            "epoch 33 | loss: 1.02721 | val_0_unsup_loss_numpy: 1.0172300338745117|  0:00:05s\n",
            "epoch 34 | loss: 1.02148 | val_0_unsup_loss_numpy: 1.013409972190857|  0:00:06s\n",
            "epoch 35 | loss: 1.02107 | val_0_unsup_loss_numpy: 1.0063400268554688|  0:00:06s\n",
            "epoch 36 | loss: 1.00091 | val_0_unsup_loss_numpy: 1.0046900510787964|  0:00:06s\n",
            "epoch 37 | loss: 1.00244 | val_0_unsup_loss_numpy: 1.0010000467300415|  0:00:06s\n",
            "epoch 38 | loss: 0.99064 | val_0_unsup_loss_numpy: 0.9956700205802917|  0:00:06s\n",
            "epoch 39 | loss: 0.99694 | val_0_unsup_loss_numpy: 0.9942499995231628|  0:00:06s\n",
            "epoch 40 | loss: 1.01299 | val_0_unsup_loss_numpy: 0.9939600229263306|  0:00:07s\n",
            "epoch 41 | loss: 0.99897 | val_0_unsup_loss_numpy: 0.991599977016449|  0:00:07s\n",
            "epoch 42 | loss: 0.99579 | val_0_unsup_loss_numpy: 0.99031001329422|  0:00:07s\n",
            "epoch 43 | loss: 0.98604 | val_0_unsup_loss_numpy: 0.9882000088691711|  0:00:07s\n",
            "epoch 44 | loss: 0.99242 | val_0_unsup_loss_numpy: 0.9864500164985657|  0:00:07s\n",
            "epoch 45 | loss: 0.99055 | val_0_unsup_loss_numpy: 0.9855599999427795|  0:00:07s\n",
            "epoch 46 | loss: 0.9927  | val_0_unsup_loss_numpy: 0.9813399910926819|  0:00:08s\n",
            "epoch 47 | loss: 0.98499 | val_0_unsup_loss_numpy: 0.9807800054550171|  0:00:08s\n",
            "epoch 48 | loss: 0.9828  | val_0_unsup_loss_numpy: 0.9767799973487854|  0:00:08s\n",
            "epoch 49 | loss: 0.9716  | val_0_unsup_loss_numpy: 0.9749400019645691|  0:00:08s\n",
            "Stop training because you reached max_epochs = 50 with best_epoch = 49 and best_val_0_unsup_loss_numpy = 0.9749400019645691\n"
          ]
        },
        {
          "output_type": "stream",
          "name": "stderr",
          "text": [
            "/usr/local/lib/python3.11/dist-packages/pytorch_tabnet/callbacks.py:172: UserWarning: Best weights from best epoch are automatically used!\n",
            "  warnings.warn(wrn_msg)\n"
          ]
        }
      ]
    },
    {
      "cell_type": "markdown",
      "source": [
        "Realizamos nuevamente el entrenamiento pero esta vez con la información del pre-entrenamiento y un poco más de iteraciones con una lr más pequeña."
      ],
      "metadata": {
        "id": "-ebpb7UYHSUY"
      }
    },
    {
      "cell_type": "code",
      "source": [
        "clf_pre = TabNetClassifier(\n",
        "    optimizer_fn=torch.optim.Adam,\n",
        "    optimizer_params=dict(lr=5e-2),\n",
        "    scheduler_params={\"step_size\":10,\n",
        "                      \"gamma\":0.9},\n",
        "    scheduler_fn=torch.optim.lr_scheduler.StepLR,\n",
        "    device_name='cuda',\n",
        ")\n",
        "\n",
        "clf_pre.fit(\n",
        "    X_train=X_train.values, y_train=y_train.values,\n",
        "    eval_set=[(X_test.values, y_test.values)],\n",
        "    eval_name=['valid'],\n",
        "    eval_metric=['accuracy'],\n",
        "    max_epochs=100,\n",
        "    patience=10,\n",
        "    num_workers=2,\n",
        "    from_unsupervised=unsupervised_model\n",
        ")"
      ],
      "metadata": {
        "id": "ksxbU8KFBTFu",
        "outputId": "d1e0dcfd-7659-4cd4-8841-4a8e5ea10d9f",
        "colab": {
          "base_uri": "https://localhost:8080/"
        }
      },
      "execution_count": 51,
      "outputs": [
        {
          "output_type": "stream",
          "name": "stderr",
          "text": [
            "/usr/local/lib/python3.11/dist-packages/pytorch_tabnet/abstract_model.py:82: UserWarning: Device used : cuda\n",
            "  warnings.warn(f\"Device used : {self.device}\")\n",
            "/usr/local/lib/python3.11/dist-packages/pytorch_tabnet/abstract_model.py:118: UserWarning: Pretraining: mask_type changed from sparsemax to entmax\n",
            "  warnings.warn(wrn_msg)\n",
            "/usr/local/lib/python3.11/dist-packages/pytorch_tabnet/abstract_model.py:248: UserWarning: Loading weights from unsupervised pretraining\n",
            "  warnings.warn(\"Loading weights from unsupervised pretraining\")\n"
          ]
        },
        {
          "output_type": "stream",
          "name": "stdout",
          "text": [
            "epoch 0  | loss: 0.58518 | valid_accuracy: 0.73501 |  0:00:00s\n",
            "epoch 1  | loss: 0.3542  | valid_accuracy: 0.8134  |  0:00:01s\n",
            "epoch 2  | loss: 0.25695 | valid_accuracy: 0.82948 |  0:00:02s\n",
            "epoch 3  | loss: 0.21335 | valid_accuracy: 0.84556 |  0:00:03s\n",
            "epoch 4  | loss: 0.19294 | valid_accuracy: 0.88744 |  0:00:04s\n",
            "epoch 5  | loss: 0.17544 | valid_accuracy: 0.90854 |  0:00:04s\n",
            "epoch 6  | loss: 0.16518 | valid_accuracy: 0.90955 |  0:00:05s\n",
            "epoch 7  | loss: 0.16018 | valid_accuracy: 0.92663 |  0:00:06s\n",
            "epoch 8  | loss: 0.16061 | valid_accuracy: 0.92898 |  0:00:07s\n",
            "epoch 9  | loss: 0.14704 | valid_accuracy: 0.9273  |  0:00:08s\n",
            "epoch 10 | loss: 0.15013 | valid_accuracy: 0.93065 |  0:00:09s\n",
            "epoch 11 | loss: 0.14978 | valid_accuracy: 0.934   |  0:00:09s\n",
            "epoch 12 | loss: 0.13681 | valid_accuracy: 0.93601 |  0:00:10s\n",
            "epoch 13 | loss: 0.13114 | valid_accuracy: 0.93869 |  0:00:11s\n",
            "epoch 14 | loss: 0.12579 | valid_accuracy: 0.93534 |  0:00:12s\n",
            "epoch 15 | loss: 0.11833 | valid_accuracy: 0.93936 |  0:00:13s\n",
            "epoch 16 | loss: 0.12693 | valid_accuracy: 0.9397  |  0:00:13s\n",
            "epoch 17 | loss: 0.12355 | valid_accuracy: 0.94271 |  0:00:14s\n",
            "epoch 18 | loss: 0.1152  | valid_accuracy: 0.94238 |  0:00:15s\n",
            "epoch 19 | loss: 0.11553 | valid_accuracy: 0.94606 |  0:00:16s\n",
            "epoch 20 | loss: 0.10863 | valid_accuracy: 0.94137 |  0:00:17s\n",
            "epoch 21 | loss: 0.11198 | valid_accuracy: 0.94472 |  0:00:18s\n",
            "epoch 22 | loss: 0.11015 | valid_accuracy: 0.94941 |  0:00:18s\n",
            "epoch 23 | loss: 0.10458 | valid_accuracy: 0.94271 |  0:00:19s\n",
            "epoch 24 | loss: 0.09681 | valid_accuracy: 0.94673 |  0:00:20s\n",
            "epoch 25 | loss: 0.1016  | valid_accuracy: 0.94305 |  0:00:21s\n",
            "epoch 26 | loss: 0.09221 | valid_accuracy: 0.94037 |  0:00:22s\n",
            "epoch 27 | loss: 0.08804 | valid_accuracy: 0.94807 |  0:00:22s\n",
            "epoch 28 | loss: 0.10198 | valid_accuracy: 0.95176 |  0:00:23s\n",
            "epoch 29 | loss: 0.0891  | valid_accuracy: 0.94841 |  0:00:24s\n",
            "epoch 30 | loss: 0.08842 | valid_accuracy: 0.95477 |  0:00:25s\n",
            "epoch 31 | loss: 0.08354 | valid_accuracy: 0.95645 |  0:00:26s\n",
            "epoch 32 | loss: 0.09043 | valid_accuracy: 0.95578 |  0:00:26s\n",
            "epoch 33 | loss: 0.08255 | valid_accuracy: 0.9598  |  0:00:27s\n",
            "epoch 34 | loss: 0.08031 | valid_accuracy: 0.95042 |  0:00:28s\n",
            "epoch 35 | loss: 0.08598 | valid_accuracy: 0.95611 |  0:00:29s\n",
            "epoch 36 | loss: 0.08256 | valid_accuracy: 0.95209 |  0:00:30s\n",
            "epoch 37 | loss: 0.08039 | valid_accuracy: 0.95812 |  0:00:31s\n",
            "epoch 38 | loss: 0.06817 | valid_accuracy: 0.96181 |  0:00:31s\n",
            "epoch 39 | loss: 0.07398 | valid_accuracy: 0.95611 |  0:00:32s\n",
            "epoch 40 | loss: 0.07628 | valid_accuracy: 0.95946 |  0:00:33s\n",
            "epoch 41 | loss: 0.06901 | valid_accuracy: 0.95879 |  0:00:34s\n",
            "epoch 42 | loss: 0.06339 | valid_accuracy: 0.96147 |  0:00:35s\n",
            "epoch 43 | loss: 0.07386 | valid_accuracy: 0.96449 |  0:00:35s\n",
            "epoch 44 | loss: 0.07286 | valid_accuracy: 0.95913 |  0:00:36s\n",
            "epoch 45 | loss: 0.07027 | valid_accuracy: 0.96181 |  0:00:37s\n",
            "epoch 46 | loss: 0.07661 | valid_accuracy: 0.95678 |  0:00:38s\n",
            "epoch 47 | loss: 0.07416 | valid_accuracy: 0.95846 |  0:00:39s\n",
            "epoch 48 | loss: 0.07044 | valid_accuracy: 0.95243 |  0:00:39s\n",
            "epoch 49 | loss: 0.069   | valid_accuracy: 0.95276 |  0:00:40s\n",
            "epoch 50 | loss: 0.06992 | valid_accuracy: 0.95712 |  0:00:41s\n",
            "epoch 51 | loss: 0.06777 | valid_accuracy: 0.96214 |  0:00:42s\n",
            "epoch 52 | loss: 0.06655 | valid_accuracy: 0.96181 |  0:00:43s\n",
            "epoch 53 | loss: 0.06677 | valid_accuracy: 0.96214 |  0:00:44s\n",
            "\n",
            "Early stopping occurred at epoch 53 with best_epoch = 43 and best_valid_accuracy = 0.96449\n"
          ]
        },
        {
          "output_type": "stream",
          "name": "stderr",
          "text": [
            "/usr/local/lib/python3.11/dist-packages/pytorch_tabnet/callbacks.py:172: UserWarning: Best weights from best epoch are automatically used!\n",
            "  warnings.warn(wrn_msg)\n"
          ]
        }
      ]
    },
    {
      "cell_type": "code",
      "source": [
        "# Calcular rendimiento en test set\n",
        "preds_tabnet = clf_pre.predict(X_test.values)\n",
        "probs_tabnet = clf_pre.predict_proba(X_test.values)\n",
        "\n",
        "print(\"TabNet Accuracy:\", accuracy_score(preds_tabnet, y_test.values))\n",
        "print(\"TabNet ROC AUC:\", roc_auc_score(y_test.values, probs_tabnet[:,1]))"
      ],
      "metadata": {
        "id": "pLxq0nnSHvvR",
        "outputId": "23b8c6e0-7701-42ab-b7ed-53f66e969d3d",
        "colab": {
          "base_uri": "https://localhost:8080/"
        }
      },
      "execution_count": 52,
      "outputs": [
        {
          "output_type": "stream",
          "name": "stdout",
          "text": [
            "TabNet Accuracy: 0.9644891122278056\n",
            "TabNet ROC AUC: 0.9922004159049486\n"
          ]
        }
      ]
    },
    {
      "cell_type": "markdown",
      "source": [
        "#### Comparación de resultados: TabPFN vs TabNet\n",
        "\n",
        "Todos los modelos fueron evaluados sobre el mismo conjunto de prueba (`X_test`). A continuación se resumen sus resultados:\n",
        "\n",
        "| Modelo                         | Entrenamiento               | Accuracy  | ROC AUC   |\n",
        "|-------------------------------|-----------------------------|-----------|-----------|\n",
        "| **TabPFN**                    | Solo conjunto pretrain | **0.9363**  | **0.9871**  |\n",
        "| **TabNet (sin preentrenamiento)** | Entrenamiento completo          | 0.9484    | 0.9881    |\n",
        "| **TabNet (con preentrenamiento)** | Pretrain + fine-tuning          | **0.9645**  | **0.9922**  |\n",
        "\n",
        "### 🧠 Observaciones clave:\n",
        "\n",
        "- 🔹 **TabPFN**, aún usando un conjunto más pequeño de entrenamiento, alcanza una **precisión y AUC muy competitiva**, gracias a su preentrenamiento fundacional.  \n",
        "- 🔹 **TabNet mejora** al usar preentrenamiento no supervisado, mostrando un claro beneficio del transfer learning clásico.  \n",
        "- ✅ Estos resultados ilustran **dos formas diferentes de aprovechar el conocimiento previo**:  \n",
        "  - TabPFN: transferencia por meta-aprendizaje (in-context learning)  \n",
        "  - TabNet: transferencia por preentrenamiento + fine-tuning  \n"
      ],
      "metadata": {
        "id": "BHJLzGbGHo9s"
      }
    },
    {
      "cell_type": "markdown",
      "metadata": {
        "id": "oghksJIPLLvL"
      },
      "source": [
        "## **Conclusiones**\n",
        "\n",
        "- Note que al agregarle al modelo mas capas superiores, logramos mitigar el problema que presentamos en nuestro modelo 2, logrando un *accuracy* del 99.30% en nuestro datos de prueba.\n",
        "- Como conlusión, cuando hagamos uso de modelo pre-entrenados. Tenemos que hacer uso de todas las herramientas que disponemos, como lo son el *transfer learning* y el *fine tunning*, una caracteristica muy importante que siempre hay que aplicar.\n",
        "- En el modelo de clasificación de texto usando el método manual, logró una mejora significativa usando los embeddings de FastText y ajustandolo a los datos. Sin embargo, tiende a sobre entrenar (algo con lo que se debe luchar aplicando técnicas de regularización). Por otro lado, vemos que con el método a nivel de arquitectura (que es como funcionan los modelos hoy en día) ya es mucho más directo pero el nivel de computación requerido es mayor y funcionan mejor con una mayor cantidad de datos.\n",
        "- Tanto TabPFN como TabNet demuestran el valor del transfer learning en datos tabulares.  \n",
        "TabPFN destaca por su capacidad de generalizar con muy pocos datos gracias a su preentrenamiento fundacional,  \n",
        "mientras que TabNet muestra mejoras claras cuando se utiliza preentrenamiento no supervisado antes del fine-tuning"
      ]
    }
  ],
  "metadata": {
    "accelerator": "GPU",
    "colab": {
      "gpuType": "L4",
      "provenance": [],
      "machine_shape": "hm"
    },
    "kernelspec": {
      "display_name": "Python 3",
      "name": "python3"
    },
    "language_info": {
      "codemirror_mode": {
        "name": "ipython",
        "version": 3
      },
      "file_extension": ".py",
      "mimetype": "text/x-python",
      "name": "python",
      "nbconvert_exporter": "python",
      "pygments_lexer": "ipython3",
      "version": "3.13.0"
    },
    "widgets": {
      "application/vnd.jupyter.widget-state+json": {
        "dc35e1cfe420482eb3376fe418874f5e": {
          "model_module": "@jupyter-widgets/controls",
          "model_name": "HBoxModel",
          "model_module_version": "1.5.0",
          "state": {
            "_dom_classes": [],
            "_model_module": "@jupyter-widgets/controls",
            "_model_module_version": "1.5.0",
            "_model_name": "HBoxModel",
            "_view_count": null,
            "_view_module": "@jupyter-widgets/controls",
            "_view_module_version": "1.5.0",
            "_view_name": "HBoxView",
            "box_style": "",
            "children": [
              "IPY_MODEL_c98de20b5cb644e6ab1d1dc04fe641ad",
              "IPY_MODEL_466cf25a46de424e9958e9f723bd1e9b",
              "IPY_MODEL_c9f60925f0de4c66be4501c42b50ea82"
            ],
            "layout": "IPY_MODEL_d1bacfe63f9646c5b65e0f95415aff34"
          }
        },
        "c98de20b5cb644e6ab1d1dc04fe641ad": {
          "model_module": "@jupyter-widgets/controls",
          "model_name": "HTMLModel",
          "model_module_version": "1.5.0",
          "state": {
            "_dom_classes": [],
            "_model_module": "@jupyter-widgets/controls",
            "_model_module_version": "1.5.0",
            "_model_name": "HTMLModel",
            "_view_count": null,
            "_view_module": "@jupyter-widgets/controls",
            "_view_module_version": "1.5.0",
            "_view_name": "HTMLView",
            "description": "",
            "description_tooltip": null,
            "layout": "IPY_MODEL_86a8a0f27d5a400f8d1d88a8da360233",
            "placeholder": "​",
            "style": "IPY_MODEL_1a1c433118f94e918ca173cb48cf6886",
            "value": "Dl Completed...: 100%"
          }
        },
        "466cf25a46de424e9958e9f723bd1e9b": {
          "model_module": "@jupyter-widgets/controls",
          "model_name": "FloatProgressModel",
          "model_module_version": "1.5.0",
          "state": {
            "_dom_classes": [],
            "_model_module": "@jupyter-widgets/controls",
            "_model_module_version": "1.5.0",
            "_model_name": "FloatProgressModel",
            "_view_count": null,
            "_view_module": "@jupyter-widgets/controls",
            "_view_module_version": "1.5.0",
            "_view_name": "ProgressView",
            "bar_style": "success",
            "description": "",
            "description_tooltip": null,
            "layout": "IPY_MODEL_ece381b08a3d4e3ea32f8e2ec209c7bd",
            "max": 1,
            "min": 0,
            "orientation": "horizontal",
            "style": "IPY_MODEL_d998aa381579466ebcfb88d90f33524a",
            "value": 1
          }
        },
        "c9f60925f0de4c66be4501c42b50ea82": {
          "model_module": "@jupyter-widgets/controls",
          "model_name": "HTMLModel",
          "model_module_version": "1.5.0",
          "state": {
            "_dom_classes": [],
            "_model_module": "@jupyter-widgets/controls",
            "_model_module_version": "1.5.0",
            "_model_name": "HTMLModel",
            "_view_count": null,
            "_view_module": "@jupyter-widgets/controls",
            "_view_module_version": "1.5.0",
            "_view_name": "HTMLView",
            "description": "",
            "description_tooltip": null,
            "layout": "IPY_MODEL_7ac78b7ac8664d62b15ef567c5155540",
            "placeholder": "​",
            "style": "IPY_MODEL_8754d31f2e1e49f19ddc9685f35f5af4",
            "value": " 1/1 [00:26&lt;00:00, 26.52s/ url]"
          }
        },
        "d1bacfe63f9646c5b65e0f95415aff34": {
          "model_module": "@jupyter-widgets/base",
          "model_name": "LayoutModel",
          "model_module_version": "1.2.0",
          "state": {
            "_model_module": "@jupyter-widgets/base",
            "_model_module_version": "1.2.0",
            "_model_name": "LayoutModel",
            "_view_count": null,
            "_view_module": "@jupyter-widgets/base",
            "_view_module_version": "1.2.0",
            "_view_name": "LayoutView",
            "align_content": null,
            "align_items": null,
            "align_self": null,
            "border": null,
            "bottom": null,
            "display": null,
            "flex": null,
            "flex_flow": null,
            "grid_area": null,
            "grid_auto_columns": null,
            "grid_auto_flow": null,
            "grid_auto_rows": null,
            "grid_column": null,
            "grid_gap": null,
            "grid_row": null,
            "grid_template_areas": null,
            "grid_template_columns": null,
            "grid_template_rows": null,
            "height": null,
            "justify_content": null,
            "justify_items": null,
            "left": null,
            "margin": null,
            "max_height": null,
            "max_width": null,
            "min_height": null,
            "min_width": null,
            "object_fit": null,
            "object_position": null,
            "order": null,
            "overflow": null,
            "overflow_x": null,
            "overflow_y": null,
            "padding": null,
            "right": null,
            "top": null,
            "visibility": null,
            "width": null
          }
        },
        "86a8a0f27d5a400f8d1d88a8da360233": {
          "model_module": "@jupyter-widgets/base",
          "model_name": "LayoutModel",
          "model_module_version": "1.2.0",
          "state": {
            "_model_module": "@jupyter-widgets/base",
            "_model_module_version": "1.2.0",
            "_model_name": "LayoutModel",
            "_view_count": null,
            "_view_module": "@jupyter-widgets/base",
            "_view_module_version": "1.2.0",
            "_view_name": "LayoutView",
            "align_content": null,
            "align_items": null,
            "align_self": null,
            "border": null,
            "bottom": null,
            "display": null,
            "flex": null,
            "flex_flow": null,
            "grid_area": null,
            "grid_auto_columns": null,
            "grid_auto_flow": null,
            "grid_auto_rows": null,
            "grid_column": null,
            "grid_gap": null,
            "grid_row": null,
            "grid_template_areas": null,
            "grid_template_columns": null,
            "grid_template_rows": null,
            "height": null,
            "justify_content": null,
            "justify_items": null,
            "left": null,
            "margin": null,
            "max_height": null,
            "max_width": null,
            "min_height": null,
            "min_width": null,
            "object_fit": null,
            "object_position": null,
            "order": null,
            "overflow": null,
            "overflow_x": null,
            "overflow_y": null,
            "padding": null,
            "right": null,
            "top": null,
            "visibility": null,
            "width": null
          }
        },
        "1a1c433118f94e918ca173cb48cf6886": {
          "model_module": "@jupyter-widgets/controls",
          "model_name": "DescriptionStyleModel",
          "model_module_version": "1.5.0",
          "state": {
            "_model_module": "@jupyter-widgets/controls",
            "_model_module_version": "1.5.0",
            "_model_name": "DescriptionStyleModel",
            "_view_count": null,
            "_view_module": "@jupyter-widgets/base",
            "_view_module_version": "1.2.0",
            "_view_name": "StyleView",
            "description_width": ""
          }
        },
        "ece381b08a3d4e3ea32f8e2ec209c7bd": {
          "model_module": "@jupyter-widgets/base",
          "model_name": "LayoutModel",
          "model_module_version": "1.2.0",
          "state": {
            "_model_module": "@jupyter-widgets/base",
            "_model_module_version": "1.2.0",
            "_model_name": "LayoutModel",
            "_view_count": null,
            "_view_module": "@jupyter-widgets/base",
            "_view_module_version": "1.2.0",
            "_view_name": "LayoutView",
            "align_content": null,
            "align_items": null,
            "align_self": null,
            "border": null,
            "bottom": null,
            "display": null,
            "flex": null,
            "flex_flow": null,
            "grid_area": null,
            "grid_auto_columns": null,
            "grid_auto_flow": null,
            "grid_auto_rows": null,
            "grid_column": null,
            "grid_gap": null,
            "grid_row": null,
            "grid_template_areas": null,
            "grid_template_columns": null,
            "grid_template_rows": null,
            "height": null,
            "justify_content": null,
            "justify_items": null,
            "left": null,
            "margin": null,
            "max_height": null,
            "max_width": null,
            "min_height": null,
            "min_width": null,
            "object_fit": null,
            "object_position": null,
            "order": null,
            "overflow": null,
            "overflow_x": null,
            "overflow_y": null,
            "padding": null,
            "right": null,
            "top": null,
            "visibility": null,
            "width": "20px"
          }
        },
        "d998aa381579466ebcfb88d90f33524a": {
          "model_module": "@jupyter-widgets/controls",
          "model_name": "ProgressStyleModel",
          "model_module_version": "1.5.0",
          "state": {
            "_model_module": "@jupyter-widgets/controls",
            "_model_module_version": "1.5.0",
            "_model_name": "ProgressStyleModel",
            "_view_count": null,
            "_view_module": "@jupyter-widgets/base",
            "_view_module_version": "1.2.0",
            "_view_name": "StyleView",
            "bar_color": null,
            "description_width": ""
          }
        },
        "7ac78b7ac8664d62b15ef567c5155540": {
          "model_module": "@jupyter-widgets/base",
          "model_name": "LayoutModel",
          "model_module_version": "1.2.0",
          "state": {
            "_model_module": "@jupyter-widgets/base",
            "_model_module_version": "1.2.0",
            "_model_name": "LayoutModel",
            "_view_count": null,
            "_view_module": "@jupyter-widgets/base",
            "_view_module_version": "1.2.0",
            "_view_name": "LayoutView",
            "align_content": null,
            "align_items": null,
            "align_self": null,
            "border": null,
            "bottom": null,
            "display": null,
            "flex": null,
            "flex_flow": null,
            "grid_area": null,
            "grid_auto_columns": null,
            "grid_auto_flow": null,
            "grid_auto_rows": null,
            "grid_column": null,
            "grid_gap": null,
            "grid_row": null,
            "grid_template_areas": null,
            "grid_template_columns": null,
            "grid_template_rows": null,
            "height": null,
            "justify_content": null,
            "justify_items": null,
            "left": null,
            "margin": null,
            "max_height": null,
            "max_width": null,
            "min_height": null,
            "min_width": null,
            "object_fit": null,
            "object_position": null,
            "order": null,
            "overflow": null,
            "overflow_x": null,
            "overflow_y": null,
            "padding": null,
            "right": null,
            "top": null,
            "visibility": null,
            "width": null
          }
        },
        "8754d31f2e1e49f19ddc9685f35f5af4": {
          "model_module": "@jupyter-widgets/controls",
          "model_name": "DescriptionStyleModel",
          "model_module_version": "1.5.0",
          "state": {
            "_model_module": "@jupyter-widgets/controls",
            "_model_module_version": "1.5.0",
            "_model_name": "DescriptionStyleModel",
            "_view_count": null,
            "_view_module": "@jupyter-widgets/base",
            "_view_module_version": "1.2.0",
            "_view_name": "StyleView",
            "description_width": ""
          }
        },
        "d3e3cfdb6ebf45279c0c6ebca4316a84": {
          "model_module": "@jupyter-widgets/controls",
          "model_name": "HBoxModel",
          "model_module_version": "1.5.0",
          "state": {
            "_dom_classes": [],
            "_model_module": "@jupyter-widgets/controls",
            "_model_module_version": "1.5.0",
            "_model_name": "HBoxModel",
            "_view_count": null,
            "_view_module": "@jupyter-widgets/controls",
            "_view_module_version": "1.5.0",
            "_view_name": "HBoxView",
            "box_style": "",
            "children": [
              "IPY_MODEL_fb95866a606c4b13917af213bd09b223",
              "IPY_MODEL_ac65a42d826548ecab93cc731a42630f",
              "IPY_MODEL_890a7e1ed116486f8ef8c27d7251cf08"
            ],
            "layout": "IPY_MODEL_49b46e9e08aa4a62831299fdad4b19a8"
          }
        },
        "fb95866a606c4b13917af213bd09b223": {
          "model_module": "@jupyter-widgets/controls",
          "model_name": "HTMLModel",
          "model_module_version": "1.5.0",
          "state": {
            "_dom_classes": [],
            "_model_module": "@jupyter-widgets/controls",
            "_model_module_version": "1.5.0",
            "_model_name": "HTMLModel",
            "_view_count": null,
            "_view_module": "@jupyter-widgets/controls",
            "_view_module_version": "1.5.0",
            "_view_name": "HTMLView",
            "description": "",
            "description_tooltip": null,
            "layout": "IPY_MODEL_b45acbb1324b42d3aa1a9d9425459227",
            "placeholder": "​",
            "style": "IPY_MODEL_57ef6cea2ddb45718e999547fe9f0b4a",
            "value": "Dl Size...: 100%"
          }
        },
        "ac65a42d826548ecab93cc731a42630f": {
          "model_module": "@jupyter-widgets/controls",
          "model_name": "FloatProgressModel",
          "model_module_version": "1.5.0",
          "state": {
            "_dom_classes": [],
            "_model_module": "@jupyter-widgets/controls",
            "_model_module_version": "1.5.0",
            "_model_name": "FloatProgressModel",
            "_view_count": null,
            "_view_module": "@jupyter-widgets/controls",
            "_view_module_version": "1.5.0",
            "_view_name": "ProgressView",
            "bar_style": "success",
            "description": "",
            "description_tooltip": null,
            "layout": "IPY_MODEL_3afb26295cbe451e88f222089fc0cb8b",
            "max": 1,
            "min": 0,
            "orientation": "horizontal",
            "style": "IPY_MODEL_70bc3a2e3809447886a2e23d03bb42ea",
            "value": 1
          }
        },
        "890a7e1ed116486f8ef8c27d7251cf08": {
          "model_module": "@jupyter-widgets/controls",
          "model_name": "HTMLModel",
          "model_module_version": "1.5.0",
          "state": {
            "_dom_classes": [],
            "_model_module": "@jupyter-widgets/controls",
            "_model_module_version": "1.5.0",
            "_model_name": "HTMLModel",
            "_view_count": null,
            "_view_module": "@jupyter-widgets/controls",
            "_view_module_version": "1.5.0",
            "_view_name": "HTMLView",
            "description": "",
            "description_tooltip": null,
            "layout": "IPY_MODEL_3231936bdae34ddeb9059bfd33af7e63",
            "placeholder": "​",
            "style": "IPY_MODEL_877da6672c994ec4ba45b46ba1f6f693",
            "value": " 80/80 [00:26&lt;00:00,  3.80 MiB/s]"
          }
        },
        "49b46e9e08aa4a62831299fdad4b19a8": {
          "model_module": "@jupyter-widgets/base",
          "model_name": "LayoutModel",
          "model_module_version": "1.2.0",
          "state": {
            "_model_module": "@jupyter-widgets/base",
            "_model_module_version": "1.2.0",
            "_model_name": "LayoutModel",
            "_view_count": null,
            "_view_module": "@jupyter-widgets/base",
            "_view_module_version": "1.2.0",
            "_view_name": "LayoutView",
            "align_content": null,
            "align_items": null,
            "align_self": null,
            "border": null,
            "bottom": null,
            "display": null,
            "flex": null,
            "flex_flow": null,
            "grid_area": null,
            "grid_auto_columns": null,
            "grid_auto_flow": null,
            "grid_auto_rows": null,
            "grid_column": null,
            "grid_gap": null,
            "grid_row": null,
            "grid_template_areas": null,
            "grid_template_columns": null,
            "grid_template_rows": null,
            "height": null,
            "justify_content": null,
            "justify_items": null,
            "left": null,
            "margin": null,
            "max_height": null,
            "max_width": null,
            "min_height": null,
            "min_width": null,
            "object_fit": null,
            "object_position": null,
            "order": null,
            "overflow": null,
            "overflow_x": null,
            "overflow_y": null,
            "padding": null,
            "right": null,
            "top": null,
            "visibility": null,
            "width": null
          }
        },
        "b45acbb1324b42d3aa1a9d9425459227": {
          "model_module": "@jupyter-widgets/base",
          "model_name": "LayoutModel",
          "model_module_version": "1.2.0",
          "state": {
            "_model_module": "@jupyter-widgets/base",
            "_model_module_version": "1.2.0",
            "_model_name": "LayoutModel",
            "_view_count": null,
            "_view_module": "@jupyter-widgets/base",
            "_view_module_version": "1.2.0",
            "_view_name": "LayoutView",
            "align_content": null,
            "align_items": null,
            "align_self": null,
            "border": null,
            "bottom": null,
            "display": null,
            "flex": null,
            "flex_flow": null,
            "grid_area": null,
            "grid_auto_columns": null,
            "grid_auto_flow": null,
            "grid_auto_rows": null,
            "grid_column": null,
            "grid_gap": null,
            "grid_row": null,
            "grid_template_areas": null,
            "grid_template_columns": null,
            "grid_template_rows": null,
            "height": null,
            "justify_content": null,
            "justify_items": null,
            "left": null,
            "margin": null,
            "max_height": null,
            "max_width": null,
            "min_height": null,
            "min_width": null,
            "object_fit": null,
            "object_position": null,
            "order": null,
            "overflow": null,
            "overflow_x": null,
            "overflow_y": null,
            "padding": null,
            "right": null,
            "top": null,
            "visibility": null,
            "width": null
          }
        },
        "57ef6cea2ddb45718e999547fe9f0b4a": {
          "model_module": "@jupyter-widgets/controls",
          "model_name": "DescriptionStyleModel",
          "model_module_version": "1.5.0",
          "state": {
            "_model_module": "@jupyter-widgets/controls",
            "_model_module_version": "1.5.0",
            "_model_name": "DescriptionStyleModel",
            "_view_count": null,
            "_view_module": "@jupyter-widgets/base",
            "_view_module_version": "1.2.0",
            "_view_name": "StyleView",
            "description_width": ""
          }
        },
        "3afb26295cbe451e88f222089fc0cb8b": {
          "model_module": "@jupyter-widgets/base",
          "model_name": "LayoutModel",
          "model_module_version": "1.2.0",
          "state": {
            "_model_module": "@jupyter-widgets/base",
            "_model_module_version": "1.2.0",
            "_model_name": "LayoutModel",
            "_view_count": null,
            "_view_module": "@jupyter-widgets/base",
            "_view_module_version": "1.2.0",
            "_view_name": "LayoutView",
            "align_content": null,
            "align_items": null,
            "align_self": null,
            "border": null,
            "bottom": null,
            "display": null,
            "flex": null,
            "flex_flow": null,
            "grid_area": null,
            "grid_auto_columns": null,
            "grid_auto_flow": null,
            "grid_auto_rows": null,
            "grid_column": null,
            "grid_gap": null,
            "grid_row": null,
            "grid_template_areas": null,
            "grid_template_columns": null,
            "grid_template_rows": null,
            "height": null,
            "justify_content": null,
            "justify_items": null,
            "left": null,
            "margin": null,
            "max_height": null,
            "max_width": null,
            "min_height": null,
            "min_width": null,
            "object_fit": null,
            "object_position": null,
            "order": null,
            "overflow": null,
            "overflow_x": null,
            "overflow_y": null,
            "padding": null,
            "right": null,
            "top": null,
            "visibility": null,
            "width": "20px"
          }
        },
        "70bc3a2e3809447886a2e23d03bb42ea": {
          "model_module": "@jupyter-widgets/controls",
          "model_name": "ProgressStyleModel",
          "model_module_version": "1.5.0",
          "state": {
            "_model_module": "@jupyter-widgets/controls",
            "_model_module_version": "1.5.0",
            "_model_name": "ProgressStyleModel",
            "_view_count": null,
            "_view_module": "@jupyter-widgets/base",
            "_view_module_version": "1.2.0",
            "_view_name": "StyleView",
            "bar_color": null,
            "description_width": ""
          }
        },
        "3231936bdae34ddeb9059bfd33af7e63": {
          "model_module": "@jupyter-widgets/base",
          "model_name": "LayoutModel",
          "model_module_version": "1.2.0",
          "state": {
            "_model_module": "@jupyter-widgets/base",
            "_model_module_version": "1.2.0",
            "_model_name": "LayoutModel",
            "_view_count": null,
            "_view_module": "@jupyter-widgets/base",
            "_view_module_version": "1.2.0",
            "_view_name": "LayoutView",
            "align_content": null,
            "align_items": null,
            "align_self": null,
            "border": null,
            "bottom": null,
            "display": null,
            "flex": null,
            "flex_flow": null,
            "grid_area": null,
            "grid_auto_columns": null,
            "grid_auto_flow": null,
            "grid_auto_rows": null,
            "grid_column": null,
            "grid_gap": null,
            "grid_row": null,
            "grid_template_areas": null,
            "grid_template_columns": null,
            "grid_template_rows": null,
            "height": null,
            "justify_content": null,
            "justify_items": null,
            "left": null,
            "margin": null,
            "max_height": null,
            "max_width": null,
            "min_height": null,
            "min_width": null,
            "object_fit": null,
            "object_position": null,
            "order": null,
            "overflow": null,
            "overflow_x": null,
            "overflow_y": null,
            "padding": null,
            "right": null,
            "top": null,
            "visibility": null,
            "width": null
          }
        },
        "877da6672c994ec4ba45b46ba1f6f693": {
          "model_module": "@jupyter-widgets/controls",
          "model_name": "DescriptionStyleModel",
          "model_module_version": "1.5.0",
          "state": {
            "_model_module": "@jupyter-widgets/controls",
            "_model_module_version": "1.5.0",
            "_model_name": "DescriptionStyleModel",
            "_view_count": null,
            "_view_module": "@jupyter-widgets/base",
            "_view_module_version": "1.2.0",
            "_view_name": "StyleView",
            "description_width": ""
          }
        },
        "7b5e40e5375f425b9609043ab9adc462": {
          "model_module": "@jupyter-widgets/controls",
          "model_name": "HBoxModel",
          "model_module_version": "1.5.0",
          "state": {
            "_dom_classes": [],
            "_model_module": "@jupyter-widgets/controls",
            "_model_module_version": "1.5.0",
            "_model_name": "HBoxModel",
            "_view_count": null,
            "_view_module": "@jupyter-widgets/controls",
            "_view_module_version": "1.5.0",
            "_view_name": "HBoxView",
            "box_style": "",
            "children": [
              "IPY_MODEL_b8037d7bf14f47d7b94d7ef848f0412e",
              "IPY_MODEL_c74e9df475c54e2dbcceecae1f96c294",
              "IPY_MODEL_6e95659fc7884815ab2afc8cc50e2fcc"
            ],
            "layout": "IPY_MODEL_9363b051b02244e3a3b4ea4038aabc70"
          }
        },
        "b8037d7bf14f47d7b94d7ef848f0412e": {
          "model_module": "@jupyter-widgets/controls",
          "model_name": "HTMLModel",
          "model_module_version": "1.5.0",
          "state": {
            "_dom_classes": [],
            "_model_module": "@jupyter-widgets/controls",
            "_model_module_version": "1.5.0",
            "_model_name": "HTMLModel",
            "_view_count": null,
            "_view_module": "@jupyter-widgets/controls",
            "_view_module_version": "1.5.0",
            "_view_name": "HTMLView",
            "description": "",
            "description_tooltip": null,
            "layout": "IPY_MODEL_2b614568f0954de785520294f2433bdd",
            "placeholder": "​",
            "style": "IPY_MODEL_49da34c18e224772b459038bd0439443",
            "value": "Generating splits...: 100%"
          }
        },
        "c74e9df475c54e2dbcceecae1f96c294": {
          "model_module": "@jupyter-widgets/controls",
          "model_name": "FloatProgressModel",
          "model_module_version": "1.5.0",
          "state": {
            "_dom_classes": [],
            "_model_module": "@jupyter-widgets/controls",
            "_model_module_version": "1.5.0",
            "_model_name": "FloatProgressModel",
            "_view_count": null,
            "_view_module": "@jupyter-widgets/controls",
            "_view_module_version": "1.5.0",
            "_view_name": "ProgressView",
            "bar_style": "",
            "description": "",
            "description_tooltip": null,
            "layout": "IPY_MODEL_72352fd6931642dea3ed77c355ae425d",
            "max": 3,
            "min": 0,
            "orientation": "horizontal",
            "style": "IPY_MODEL_0e8b8e6096c14779994822d628c30c09",
            "value": 3
          }
        },
        "6e95659fc7884815ab2afc8cc50e2fcc": {
          "model_module": "@jupyter-widgets/controls",
          "model_name": "HTMLModel",
          "model_module_version": "1.5.0",
          "state": {
            "_dom_classes": [],
            "_model_module": "@jupyter-widgets/controls",
            "_model_module_version": "1.5.0",
            "_model_name": "HTMLModel",
            "_view_count": null,
            "_view_module": "@jupyter-widgets/controls",
            "_view_module_version": "1.5.0",
            "_view_name": "HTMLView",
            "description": "",
            "description_tooltip": null,
            "layout": "IPY_MODEL_824d37d6231643a89331068713aaec30",
            "placeholder": "​",
            "style": "IPY_MODEL_0abb0855f05f44689338a4f9401e749e",
            "value": " 3/3 [00:26&lt;00:00,  9.13s/ splits]"
          }
        },
        "9363b051b02244e3a3b4ea4038aabc70": {
          "model_module": "@jupyter-widgets/base",
          "model_name": "LayoutModel",
          "model_module_version": "1.2.0",
          "state": {
            "_model_module": "@jupyter-widgets/base",
            "_model_module_version": "1.2.0",
            "_model_name": "LayoutModel",
            "_view_count": null,
            "_view_module": "@jupyter-widgets/base",
            "_view_module_version": "1.2.0",
            "_view_name": "LayoutView",
            "align_content": null,
            "align_items": null,
            "align_self": null,
            "border": null,
            "bottom": null,
            "display": null,
            "flex": null,
            "flex_flow": null,
            "grid_area": null,
            "grid_auto_columns": null,
            "grid_auto_flow": null,
            "grid_auto_rows": null,
            "grid_column": null,
            "grid_gap": null,
            "grid_row": null,
            "grid_template_areas": null,
            "grid_template_columns": null,
            "grid_template_rows": null,
            "height": null,
            "justify_content": null,
            "justify_items": null,
            "left": null,
            "margin": null,
            "max_height": null,
            "max_width": null,
            "min_height": null,
            "min_width": null,
            "object_fit": null,
            "object_position": null,
            "order": null,
            "overflow": null,
            "overflow_x": null,
            "overflow_y": null,
            "padding": null,
            "right": null,
            "top": null,
            "visibility": "hidden",
            "width": null
          }
        },
        "2b614568f0954de785520294f2433bdd": {
          "model_module": "@jupyter-widgets/base",
          "model_name": "LayoutModel",
          "model_module_version": "1.2.0",
          "state": {
            "_model_module": "@jupyter-widgets/base",
            "_model_module_version": "1.2.0",
            "_model_name": "LayoutModel",
            "_view_count": null,
            "_view_module": "@jupyter-widgets/base",
            "_view_module_version": "1.2.0",
            "_view_name": "LayoutView",
            "align_content": null,
            "align_items": null,
            "align_self": null,
            "border": null,
            "bottom": null,
            "display": null,
            "flex": null,
            "flex_flow": null,
            "grid_area": null,
            "grid_auto_columns": null,
            "grid_auto_flow": null,
            "grid_auto_rows": null,
            "grid_column": null,
            "grid_gap": null,
            "grid_row": null,
            "grid_template_areas": null,
            "grid_template_columns": null,
            "grid_template_rows": null,
            "height": null,
            "justify_content": null,
            "justify_items": null,
            "left": null,
            "margin": null,
            "max_height": null,
            "max_width": null,
            "min_height": null,
            "min_width": null,
            "object_fit": null,
            "object_position": null,
            "order": null,
            "overflow": null,
            "overflow_x": null,
            "overflow_y": null,
            "padding": null,
            "right": null,
            "top": null,
            "visibility": null,
            "width": null
          }
        },
        "49da34c18e224772b459038bd0439443": {
          "model_module": "@jupyter-widgets/controls",
          "model_name": "DescriptionStyleModel",
          "model_module_version": "1.5.0",
          "state": {
            "_model_module": "@jupyter-widgets/controls",
            "_model_module_version": "1.5.0",
            "_model_name": "DescriptionStyleModel",
            "_view_count": null,
            "_view_module": "@jupyter-widgets/base",
            "_view_module_version": "1.2.0",
            "_view_name": "StyleView",
            "description_width": ""
          }
        },
        "72352fd6931642dea3ed77c355ae425d": {
          "model_module": "@jupyter-widgets/base",
          "model_name": "LayoutModel",
          "model_module_version": "1.2.0",
          "state": {
            "_model_module": "@jupyter-widgets/base",
            "_model_module_version": "1.2.0",
            "_model_name": "LayoutModel",
            "_view_count": null,
            "_view_module": "@jupyter-widgets/base",
            "_view_module_version": "1.2.0",
            "_view_name": "LayoutView",
            "align_content": null,
            "align_items": null,
            "align_self": null,
            "border": null,
            "bottom": null,
            "display": null,
            "flex": null,
            "flex_flow": null,
            "grid_area": null,
            "grid_auto_columns": null,
            "grid_auto_flow": null,
            "grid_auto_rows": null,
            "grid_column": null,
            "grid_gap": null,
            "grid_row": null,
            "grid_template_areas": null,
            "grid_template_columns": null,
            "grid_template_rows": null,
            "height": null,
            "justify_content": null,
            "justify_items": null,
            "left": null,
            "margin": null,
            "max_height": null,
            "max_width": null,
            "min_height": null,
            "min_width": null,
            "object_fit": null,
            "object_position": null,
            "order": null,
            "overflow": null,
            "overflow_x": null,
            "overflow_y": null,
            "padding": null,
            "right": null,
            "top": null,
            "visibility": null,
            "width": null
          }
        },
        "0e8b8e6096c14779994822d628c30c09": {
          "model_module": "@jupyter-widgets/controls",
          "model_name": "ProgressStyleModel",
          "model_module_version": "1.5.0",
          "state": {
            "_model_module": "@jupyter-widgets/controls",
            "_model_module_version": "1.5.0",
            "_model_name": "ProgressStyleModel",
            "_view_count": null,
            "_view_module": "@jupyter-widgets/base",
            "_view_module_version": "1.2.0",
            "_view_name": "StyleView",
            "bar_color": null,
            "description_width": ""
          }
        },
        "824d37d6231643a89331068713aaec30": {
          "model_module": "@jupyter-widgets/base",
          "model_name": "LayoutModel",
          "model_module_version": "1.2.0",
          "state": {
            "_model_module": "@jupyter-widgets/base",
            "_model_module_version": "1.2.0",
            "_model_name": "LayoutModel",
            "_view_count": null,
            "_view_module": "@jupyter-widgets/base",
            "_view_module_version": "1.2.0",
            "_view_name": "LayoutView",
            "align_content": null,
            "align_items": null,
            "align_self": null,
            "border": null,
            "bottom": null,
            "display": null,
            "flex": null,
            "flex_flow": null,
            "grid_area": null,
            "grid_auto_columns": null,
            "grid_auto_flow": null,
            "grid_auto_rows": null,
            "grid_column": null,
            "grid_gap": null,
            "grid_row": null,
            "grid_template_areas": null,
            "grid_template_columns": null,
            "grid_template_rows": null,
            "height": null,
            "justify_content": null,
            "justify_items": null,
            "left": null,
            "margin": null,
            "max_height": null,
            "max_width": null,
            "min_height": null,
            "min_width": null,
            "object_fit": null,
            "object_position": null,
            "order": null,
            "overflow": null,
            "overflow_x": null,
            "overflow_y": null,
            "padding": null,
            "right": null,
            "top": null,
            "visibility": null,
            "width": null
          }
        },
        "0abb0855f05f44689338a4f9401e749e": {
          "model_module": "@jupyter-widgets/controls",
          "model_name": "DescriptionStyleModel",
          "model_module_version": "1.5.0",
          "state": {
            "_model_module": "@jupyter-widgets/controls",
            "_model_module_version": "1.5.0",
            "_model_name": "DescriptionStyleModel",
            "_view_count": null,
            "_view_module": "@jupyter-widgets/base",
            "_view_module_version": "1.2.0",
            "_view_name": "StyleView",
            "description_width": ""
          }
        },
        "8947ab1f863b4e76895712ae5375b2be": {
          "model_module": "@jupyter-widgets/controls",
          "model_name": "HBoxModel",
          "model_module_version": "1.5.0",
          "state": {
            "_dom_classes": [],
            "_model_module": "@jupyter-widgets/controls",
            "_model_module_version": "1.5.0",
            "_model_name": "HBoxModel",
            "_view_count": null,
            "_view_module": "@jupyter-widgets/controls",
            "_view_module_version": "1.5.0",
            "_view_name": "HBoxView",
            "box_style": "",
            "children": [
              "IPY_MODEL_1e1f8c6a4a99481da1d3fc33096927eb",
              "IPY_MODEL_7e652a01e45d4d678bc7fd8a75b37aae",
              "IPY_MODEL_b477fba3af344abcbf43c50daf8d9832"
            ],
            "layout": "IPY_MODEL_da2e8172d8d140849896da0ad27e500c"
          }
        },
        "1e1f8c6a4a99481da1d3fc33096927eb": {
          "model_module": "@jupyter-widgets/controls",
          "model_name": "HTMLModel",
          "model_module_version": "1.5.0",
          "state": {
            "_dom_classes": [],
            "_model_module": "@jupyter-widgets/controls",
            "_model_module_version": "1.5.0",
            "_model_name": "HTMLModel",
            "_view_count": null,
            "_view_module": "@jupyter-widgets/controls",
            "_view_module_version": "1.5.0",
            "_view_name": "HTMLView",
            "description": "",
            "description_tooltip": null,
            "layout": "IPY_MODEL_c19e8943367c40d4b3e78f027e86b1fb",
            "placeholder": "​",
            "style": "IPY_MODEL_cd396d919c11475f92c2b30a1bd27cda",
            "value": "Generating train examples...: "
          }
        },
        "7e652a01e45d4d678bc7fd8a75b37aae": {
          "model_module": "@jupyter-widgets/controls",
          "model_name": "FloatProgressModel",
          "model_module_version": "1.5.0",
          "state": {
            "_dom_classes": [],
            "_model_module": "@jupyter-widgets/controls",
            "_model_module_version": "1.5.0",
            "_model_name": "FloatProgressModel",
            "_view_count": null,
            "_view_module": "@jupyter-widgets/controls",
            "_view_module_version": "1.5.0",
            "_view_name": "ProgressView",
            "bar_style": "info",
            "description": "",
            "description_tooltip": null,
            "layout": "IPY_MODEL_c8e63da912ed41d28db331502d3fab8e",
            "max": 1,
            "min": 0,
            "orientation": "horizontal",
            "style": "IPY_MODEL_4cec53f526d54e74bdbb955762b82f18",
            "value": 1
          }
        },
        "b477fba3af344abcbf43c50daf8d9832": {
          "model_module": "@jupyter-widgets/controls",
          "model_name": "HTMLModel",
          "model_module_version": "1.5.0",
          "state": {
            "_dom_classes": [],
            "_model_module": "@jupyter-widgets/controls",
            "_model_module_version": "1.5.0",
            "_model_name": "HTMLModel",
            "_view_count": null,
            "_view_module": "@jupyter-widgets/controls",
            "_view_module_version": "1.5.0",
            "_view_name": "HTMLView",
            "description": "",
            "description_tooltip": null,
            "layout": "IPY_MODEL_421128fd89f34bc3a579b6b18bf918bb",
            "placeholder": "​",
            "style": "IPY_MODEL_38695e5d0898433cb27de48229d82446",
            "value": " 22563/? [00:04&lt;00:00, 5816.73 examples/s]"
          }
        },
        "da2e8172d8d140849896da0ad27e500c": {
          "model_module": "@jupyter-widgets/base",
          "model_name": "LayoutModel",
          "model_module_version": "1.2.0",
          "state": {
            "_model_module": "@jupyter-widgets/base",
            "_model_module_version": "1.2.0",
            "_model_name": "LayoutModel",
            "_view_count": null,
            "_view_module": "@jupyter-widgets/base",
            "_view_module_version": "1.2.0",
            "_view_name": "LayoutView",
            "align_content": null,
            "align_items": null,
            "align_self": null,
            "border": null,
            "bottom": null,
            "display": null,
            "flex": null,
            "flex_flow": null,
            "grid_area": null,
            "grid_auto_columns": null,
            "grid_auto_flow": null,
            "grid_auto_rows": null,
            "grid_column": null,
            "grid_gap": null,
            "grid_row": null,
            "grid_template_areas": null,
            "grid_template_columns": null,
            "grid_template_rows": null,
            "height": null,
            "justify_content": null,
            "justify_items": null,
            "left": null,
            "margin": null,
            "max_height": null,
            "max_width": null,
            "min_height": null,
            "min_width": null,
            "object_fit": null,
            "object_position": null,
            "order": null,
            "overflow": null,
            "overflow_x": null,
            "overflow_y": null,
            "padding": null,
            "right": null,
            "top": null,
            "visibility": "hidden",
            "width": null
          }
        },
        "c19e8943367c40d4b3e78f027e86b1fb": {
          "model_module": "@jupyter-widgets/base",
          "model_name": "LayoutModel",
          "model_module_version": "1.2.0",
          "state": {
            "_model_module": "@jupyter-widgets/base",
            "_model_module_version": "1.2.0",
            "_model_name": "LayoutModel",
            "_view_count": null,
            "_view_module": "@jupyter-widgets/base",
            "_view_module_version": "1.2.0",
            "_view_name": "LayoutView",
            "align_content": null,
            "align_items": null,
            "align_self": null,
            "border": null,
            "bottom": null,
            "display": null,
            "flex": null,
            "flex_flow": null,
            "grid_area": null,
            "grid_auto_columns": null,
            "grid_auto_flow": null,
            "grid_auto_rows": null,
            "grid_column": null,
            "grid_gap": null,
            "grid_row": null,
            "grid_template_areas": null,
            "grid_template_columns": null,
            "grid_template_rows": null,
            "height": null,
            "justify_content": null,
            "justify_items": null,
            "left": null,
            "margin": null,
            "max_height": null,
            "max_width": null,
            "min_height": null,
            "min_width": null,
            "object_fit": null,
            "object_position": null,
            "order": null,
            "overflow": null,
            "overflow_x": null,
            "overflow_y": null,
            "padding": null,
            "right": null,
            "top": null,
            "visibility": null,
            "width": null
          }
        },
        "cd396d919c11475f92c2b30a1bd27cda": {
          "model_module": "@jupyter-widgets/controls",
          "model_name": "DescriptionStyleModel",
          "model_module_version": "1.5.0",
          "state": {
            "_model_module": "@jupyter-widgets/controls",
            "_model_module_version": "1.5.0",
            "_model_name": "DescriptionStyleModel",
            "_view_count": null,
            "_view_module": "@jupyter-widgets/base",
            "_view_module_version": "1.2.0",
            "_view_name": "StyleView",
            "description_width": ""
          }
        },
        "c8e63da912ed41d28db331502d3fab8e": {
          "model_module": "@jupyter-widgets/base",
          "model_name": "LayoutModel",
          "model_module_version": "1.2.0",
          "state": {
            "_model_module": "@jupyter-widgets/base",
            "_model_module_version": "1.2.0",
            "_model_name": "LayoutModel",
            "_view_count": null,
            "_view_module": "@jupyter-widgets/base",
            "_view_module_version": "1.2.0",
            "_view_name": "LayoutView",
            "align_content": null,
            "align_items": null,
            "align_self": null,
            "border": null,
            "bottom": null,
            "display": null,
            "flex": null,
            "flex_flow": null,
            "grid_area": null,
            "grid_auto_columns": null,
            "grid_auto_flow": null,
            "grid_auto_rows": null,
            "grid_column": null,
            "grid_gap": null,
            "grid_row": null,
            "grid_template_areas": null,
            "grid_template_columns": null,
            "grid_template_rows": null,
            "height": null,
            "justify_content": null,
            "justify_items": null,
            "left": null,
            "margin": null,
            "max_height": null,
            "max_width": null,
            "min_height": null,
            "min_width": null,
            "object_fit": null,
            "object_position": null,
            "order": null,
            "overflow": null,
            "overflow_x": null,
            "overflow_y": null,
            "padding": null,
            "right": null,
            "top": null,
            "visibility": null,
            "width": "20px"
          }
        },
        "4cec53f526d54e74bdbb955762b82f18": {
          "model_module": "@jupyter-widgets/controls",
          "model_name": "ProgressStyleModel",
          "model_module_version": "1.5.0",
          "state": {
            "_model_module": "@jupyter-widgets/controls",
            "_model_module_version": "1.5.0",
            "_model_name": "ProgressStyleModel",
            "_view_count": null,
            "_view_module": "@jupyter-widgets/base",
            "_view_module_version": "1.2.0",
            "_view_name": "StyleView",
            "bar_color": null,
            "description_width": ""
          }
        },
        "421128fd89f34bc3a579b6b18bf918bb": {
          "model_module": "@jupyter-widgets/base",
          "model_name": "LayoutModel",
          "model_module_version": "1.2.0",
          "state": {
            "_model_module": "@jupyter-widgets/base",
            "_model_module_version": "1.2.0",
            "_model_name": "LayoutModel",
            "_view_count": null,
            "_view_module": "@jupyter-widgets/base",
            "_view_module_version": "1.2.0",
            "_view_name": "LayoutView",
            "align_content": null,
            "align_items": null,
            "align_self": null,
            "border": null,
            "bottom": null,
            "display": null,
            "flex": null,
            "flex_flow": null,
            "grid_area": null,
            "grid_auto_columns": null,
            "grid_auto_flow": null,
            "grid_auto_rows": null,
            "grid_column": null,
            "grid_gap": null,
            "grid_row": null,
            "grid_template_areas": null,
            "grid_template_columns": null,
            "grid_template_rows": null,
            "height": null,
            "justify_content": null,
            "justify_items": null,
            "left": null,
            "margin": null,
            "max_height": null,
            "max_width": null,
            "min_height": null,
            "min_width": null,
            "object_fit": null,
            "object_position": null,
            "order": null,
            "overflow": null,
            "overflow_x": null,
            "overflow_y": null,
            "padding": null,
            "right": null,
            "top": null,
            "visibility": null,
            "width": null
          }
        },
        "38695e5d0898433cb27de48229d82446": {
          "model_module": "@jupyter-widgets/controls",
          "model_name": "DescriptionStyleModel",
          "model_module_version": "1.5.0",
          "state": {
            "_model_module": "@jupyter-widgets/controls",
            "_model_module_version": "1.5.0",
            "_model_name": "DescriptionStyleModel",
            "_view_count": null,
            "_view_module": "@jupyter-widgets/base",
            "_view_module_version": "1.2.0",
            "_view_name": "StyleView",
            "description_width": ""
          }
        },
        "cd7db31e6e1d44c68f59e9c36cfa82fb": {
          "model_module": "@jupyter-widgets/controls",
          "model_name": "HBoxModel",
          "model_module_version": "1.5.0",
          "state": {
            "_dom_classes": [],
            "_model_module": "@jupyter-widgets/controls",
            "_model_module_version": "1.5.0",
            "_model_name": "HBoxModel",
            "_view_count": null,
            "_view_module": "@jupyter-widgets/controls",
            "_view_module_version": "1.5.0",
            "_view_name": "HBoxView",
            "box_style": "",
            "children": [
              "IPY_MODEL_4081a816bea64e7ab5c0b499548b1cfc",
              "IPY_MODEL_d38d5eb2968a4860a599e459a4ae0d25",
              "IPY_MODEL_7801469910c748a783f933ba73a93046"
            ],
            "layout": "IPY_MODEL_49aa2f2aee864615bdff35a46aee46b8"
          }
        },
        "4081a816bea64e7ab5c0b499548b1cfc": {
          "model_module": "@jupyter-widgets/controls",
          "model_name": "HTMLModel",
          "model_module_version": "1.5.0",
          "state": {
            "_dom_classes": [],
            "_model_module": "@jupyter-widgets/controls",
            "_model_module_version": "1.5.0",
            "_model_name": "HTMLModel",
            "_view_count": null,
            "_view_module": "@jupyter-widgets/controls",
            "_view_module_version": "1.5.0",
            "_view_name": "HTMLView",
            "description": "",
            "description_tooltip": null,
            "layout": "IPY_MODEL_c8924d61c00543ccbd43a081476cc761",
            "placeholder": "​",
            "style": "IPY_MODEL_2a70edbae28f48c48e5b16dabfc969fb",
            "value": "Shuffling /root/tensorflow_datasets/imdb_reviews/plain_text/incomplete.6QMQS1_1.0.0/imdb_reviews-train.tfrecord*...:   0%"
          }
        },
        "d38d5eb2968a4860a599e459a4ae0d25": {
          "model_module": "@jupyter-widgets/controls",
          "model_name": "FloatProgressModel",
          "model_module_version": "1.5.0",
          "state": {
            "_dom_classes": [],
            "_model_module": "@jupyter-widgets/controls",
            "_model_module_version": "1.5.0",
            "_model_name": "FloatProgressModel",
            "_view_count": null,
            "_view_module": "@jupyter-widgets/controls",
            "_view_module_version": "1.5.0",
            "_view_name": "ProgressView",
            "bar_style": "",
            "description": "",
            "description_tooltip": null,
            "layout": "IPY_MODEL_d199d1fbac7c4842888ec3a1a3242393",
            "max": 25000,
            "min": 0,
            "orientation": "horizontal",
            "style": "IPY_MODEL_74694401beba4005acff98cb466c4147",
            "value": 25000
          }
        },
        "7801469910c748a783f933ba73a93046": {
          "model_module": "@jupyter-widgets/controls",
          "model_name": "HTMLModel",
          "model_module_version": "1.5.0",
          "state": {
            "_dom_classes": [],
            "_model_module": "@jupyter-widgets/controls",
            "_model_module_version": "1.5.0",
            "_model_name": "HTMLModel",
            "_view_count": null,
            "_view_module": "@jupyter-widgets/controls",
            "_view_module_version": "1.5.0",
            "_view_name": "HTMLView",
            "description": "",
            "description_tooltip": null,
            "layout": "IPY_MODEL_2702384b0f5e4365bb1ddda788813b98",
            "placeholder": "​",
            "style": "IPY_MODEL_0394928ae23942ec8a7c6ff87aab7278",
            "value": " 0/25000 [00:00&lt;?, ? examples/s]"
          }
        },
        "49aa2f2aee864615bdff35a46aee46b8": {
          "model_module": "@jupyter-widgets/base",
          "model_name": "LayoutModel",
          "model_module_version": "1.2.0",
          "state": {
            "_model_module": "@jupyter-widgets/base",
            "_model_module_version": "1.2.0",
            "_model_name": "LayoutModel",
            "_view_count": null,
            "_view_module": "@jupyter-widgets/base",
            "_view_module_version": "1.2.0",
            "_view_name": "LayoutView",
            "align_content": null,
            "align_items": null,
            "align_self": null,
            "border": null,
            "bottom": null,
            "display": null,
            "flex": null,
            "flex_flow": null,
            "grid_area": null,
            "grid_auto_columns": null,
            "grid_auto_flow": null,
            "grid_auto_rows": null,
            "grid_column": null,
            "grid_gap": null,
            "grid_row": null,
            "grid_template_areas": null,
            "grid_template_columns": null,
            "grid_template_rows": null,
            "height": null,
            "justify_content": null,
            "justify_items": null,
            "left": null,
            "margin": null,
            "max_height": null,
            "max_width": null,
            "min_height": null,
            "min_width": null,
            "object_fit": null,
            "object_position": null,
            "order": null,
            "overflow": null,
            "overflow_x": null,
            "overflow_y": null,
            "padding": null,
            "right": null,
            "top": null,
            "visibility": "hidden",
            "width": null
          }
        },
        "c8924d61c00543ccbd43a081476cc761": {
          "model_module": "@jupyter-widgets/base",
          "model_name": "LayoutModel",
          "model_module_version": "1.2.0",
          "state": {
            "_model_module": "@jupyter-widgets/base",
            "_model_module_version": "1.2.0",
            "_model_name": "LayoutModel",
            "_view_count": null,
            "_view_module": "@jupyter-widgets/base",
            "_view_module_version": "1.2.0",
            "_view_name": "LayoutView",
            "align_content": null,
            "align_items": null,
            "align_self": null,
            "border": null,
            "bottom": null,
            "display": null,
            "flex": null,
            "flex_flow": null,
            "grid_area": null,
            "grid_auto_columns": null,
            "grid_auto_flow": null,
            "grid_auto_rows": null,
            "grid_column": null,
            "grid_gap": null,
            "grid_row": null,
            "grid_template_areas": null,
            "grid_template_columns": null,
            "grid_template_rows": null,
            "height": null,
            "justify_content": null,
            "justify_items": null,
            "left": null,
            "margin": null,
            "max_height": null,
            "max_width": null,
            "min_height": null,
            "min_width": null,
            "object_fit": null,
            "object_position": null,
            "order": null,
            "overflow": null,
            "overflow_x": null,
            "overflow_y": null,
            "padding": null,
            "right": null,
            "top": null,
            "visibility": null,
            "width": null
          }
        },
        "2a70edbae28f48c48e5b16dabfc969fb": {
          "model_module": "@jupyter-widgets/controls",
          "model_name": "DescriptionStyleModel",
          "model_module_version": "1.5.0",
          "state": {
            "_model_module": "@jupyter-widgets/controls",
            "_model_module_version": "1.5.0",
            "_model_name": "DescriptionStyleModel",
            "_view_count": null,
            "_view_module": "@jupyter-widgets/base",
            "_view_module_version": "1.2.0",
            "_view_name": "StyleView",
            "description_width": ""
          }
        },
        "d199d1fbac7c4842888ec3a1a3242393": {
          "model_module": "@jupyter-widgets/base",
          "model_name": "LayoutModel",
          "model_module_version": "1.2.0",
          "state": {
            "_model_module": "@jupyter-widgets/base",
            "_model_module_version": "1.2.0",
            "_model_name": "LayoutModel",
            "_view_count": null,
            "_view_module": "@jupyter-widgets/base",
            "_view_module_version": "1.2.0",
            "_view_name": "LayoutView",
            "align_content": null,
            "align_items": null,
            "align_self": null,
            "border": null,
            "bottom": null,
            "display": null,
            "flex": null,
            "flex_flow": null,
            "grid_area": null,
            "grid_auto_columns": null,
            "grid_auto_flow": null,
            "grid_auto_rows": null,
            "grid_column": null,
            "grid_gap": null,
            "grid_row": null,
            "grid_template_areas": null,
            "grid_template_columns": null,
            "grid_template_rows": null,
            "height": null,
            "justify_content": null,
            "justify_items": null,
            "left": null,
            "margin": null,
            "max_height": null,
            "max_width": null,
            "min_height": null,
            "min_width": null,
            "object_fit": null,
            "object_position": null,
            "order": null,
            "overflow": null,
            "overflow_x": null,
            "overflow_y": null,
            "padding": null,
            "right": null,
            "top": null,
            "visibility": null,
            "width": null
          }
        },
        "74694401beba4005acff98cb466c4147": {
          "model_module": "@jupyter-widgets/controls",
          "model_name": "ProgressStyleModel",
          "model_module_version": "1.5.0",
          "state": {
            "_model_module": "@jupyter-widgets/controls",
            "_model_module_version": "1.5.0",
            "_model_name": "ProgressStyleModel",
            "_view_count": null,
            "_view_module": "@jupyter-widgets/base",
            "_view_module_version": "1.2.0",
            "_view_name": "StyleView",
            "bar_color": null,
            "description_width": ""
          }
        },
        "2702384b0f5e4365bb1ddda788813b98": {
          "model_module": "@jupyter-widgets/base",
          "model_name": "LayoutModel",
          "model_module_version": "1.2.0",
          "state": {
            "_model_module": "@jupyter-widgets/base",
            "_model_module_version": "1.2.0",
            "_model_name": "LayoutModel",
            "_view_count": null,
            "_view_module": "@jupyter-widgets/base",
            "_view_module_version": "1.2.0",
            "_view_name": "LayoutView",
            "align_content": null,
            "align_items": null,
            "align_self": null,
            "border": null,
            "bottom": null,
            "display": null,
            "flex": null,
            "flex_flow": null,
            "grid_area": null,
            "grid_auto_columns": null,
            "grid_auto_flow": null,
            "grid_auto_rows": null,
            "grid_column": null,
            "grid_gap": null,
            "grid_row": null,
            "grid_template_areas": null,
            "grid_template_columns": null,
            "grid_template_rows": null,
            "height": null,
            "justify_content": null,
            "justify_items": null,
            "left": null,
            "margin": null,
            "max_height": null,
            "max_width": null,
            "min_height": null,
            "min_width": null,
            "object_fit": null,
            "object_position": null,
            "order": null,
            "overflow": null,
            "overflow_x": null,
            "overflow_y": null,
            "padding": null,
            "right": null,
            "top": null,
            "visibility": null,
            "width": null
          }
        },
        "0394928ae23942ec8a7c6ff87aab7278": {
          "model_module": "@jupyter-widgets/controls",
          "model_name": "DescriptionStyleModel",
          "model_module_version": "1.5.0",
          "state": {
            "_model_module": "@jupyter-widgets/controls",
            "_model_module_version": "1.5.0",
            "_model_name": "DescriptionStyleModel",
            "_view_count": null,
            "_view_module": "@jupyter-widgets/base",
            "_view_module_version": "1.2.0",
            "_view_name": "StyleView",
            "description_width": ""
          }
        },
        "9b336058bff747379d719ba1d5d22e0e": {
          "model_module": "@jupyter-widgets/controls",
          "model_name": "HBoxModel",
          "model_module_version": "1.5.0",
          "state": {
            "_dom_classes": [],
            "_model_module": "@jupyter-widgets/controls",
            "_model_module_version": "1.5.0",
            "_model_name": "HBoxModel",
            "_view_count": null,
            "_view_module": "@jupyter-widgets/controls",
            "_view_module_version": "1.5.0",
            "_view_name": "HBoxView",
            "box_style": "",
            "children": [
              "IPY_MODEL_e9133a13856a45a992b5757e65f3d21e",
              "IPY_MODEL_a14cf7e26e974bb5a90c7cc59bf1a3a2",
              "IPY_MODEL_d88a720a46254c8aa20fa5b623a8ede7"
            ],
            "layout": "IPY_MODEL_1406ddbf1a5343bc94beb389955df02c"
          }
        },
        "e9133a13856a45a992b5757e65f3d21e": {
          "model_module": "@jupyter-widgets/controls",
          "model_name": "HTMLModel",
          "model_module_version": "1.5.0",
          "state": {
            "_dom_classes": [],
            "_model_module": "@jupyter-widgets/controls",
            "_model_module_version": "1.5.0",
            "_model_name": "HTMLModel",
            "_view_count": null,
            "_view_module": "@jupyter-widgets/controls",
            "_view_module_version": "1.5.0",
            "_view_name": "HTMLView",
            "description": "",
            "description_tooltip": null,
            "layout": "IPY_MODEL_a90c61a87ce74759b7847a76454df69d",
            "placeholder": "​",
            "style": "IPY_MODEL_efbd771c132f48c294207d2fb3a2eea6",
            "value": "Generating test examples...: "
          }
        },
        "a14cf7e26e974bb5a90c7cc59bf1a3a2": {
          "model_module": "@jupyter-widgets/controls",
          "model_name": "FloatProgressModel",
          "model_module_version": "1.5.0",
          "state": {
            "_dom_classes": [],
            "_model_module": "@jupyter-widgets/controls",
            "_model_module_version": "1.5.0",
            "_model_name": "FloatProgressModel",
            "_view_count": null,
            "_view_module": "@jupyter-widgets/controls",
            "_view_module_version": "1.5.0",
            "_view_name": "ProgressView",
            "bar_style": "info",
            "description": "",
            "description_tooltip": null,
            "layout": "IPY_MODEL_42ddb5cc04f6427b8317ce49473a5058",
            "max": 1,
            "min": 0,
            "orientation": "horizontal",
            "style": "IPY_MODEL_5d46d5b9710e47579072f29d8ec757d6",
            "value": 1
          }
        },
        "d88a720a46254c8aa20fa5b623a8ede7": {
          "model_module": "@jupyter-widgets/controls",
          "model_name": "HTMLModel",
          "model_module_version": "1.5.0",
          "state": {
            "_dom_classes": [],
            "_model_module": "@jupyter-widgets/controls",
            "_model_module_version": "1.5.0",
            "_model_name": "HTMLModel",
            "_view_count": null,
            "_view_module": "@jupyter-widgets/controls",
            "_view_module_version": "1.5.0",
            "_view_name": "HTMLView",
            "description": "",
            "description_tooltip": null,
            "layout": "IPY_MODEL_426f8475e3874f818f1eee1f8e315a92",
            "placeholder": "​",
            "style": "IPY_MODEL_9fdab495ee6f4e89ad1a4528283a0cef",
            "value": " 18807/? [00:03&lt;00:00, 6728.80 examples/s]"
          }
        },
        "1406ddbf1a5343bc94beb389955df02c": {
          "model_module": "@jupyter-widgets/base",
          "model_name": "LayoutModel",
          "model_module_version": "1.2.0",
          "state": {
            "_model_module": "@jupyter-widgets/base",
            "_model_module_version": "1.2.0",
            "_model_name": "LayoutModel",
            "_view_count": null,
            "_view_module": "@jupyter-widgets/base",
            "_view_module_version": "1.2.0",
            "_view_name": "LayoutView",
            "align_content": null,
            "align_items": null,
            "align_self": null,
            "border": null,
            "bottom": null,
            "display": null,
            "flex": null,
            "flex_flow": null,
            "grid_area": null,
            "grid_auto_columns": null,
            "grid_auto_flow": null,
            "grid_auto_rows": null,
            "grid_column": null,
            "grid_gap": null,
            "grid_row": null,
            "grid_template_areas": null,
            "grid_template_columns": null,
            "grid_template_rows": null,
            "height": null,
            "justify_content": null,
            "justify_items": null,
            "left": null,
            "margin": null,
            "max_height": null,
            "max_width": null,
            "min_height": null,
            "min_width": null,
            "object_fit": null,
            "object_position": null,
            "order": null,
            "overflow": null,
            "overflow_x": null,
            "overflow_y": null,
            "padding": null,
            "right": null,
            "top": null,
            "visibility": "hidden",
            "width": null
          }
        },
        "a90c61a87ce74759b7847a76454df69d": {
          "model_module": "@jupyter-widgets/base",
          "model_name": "LayoutModel",
          "model_module_version": "1.2.0",
          "state": {
            "_model_module": "@jupyter-widgets/base",
            "_model_module_version": "1.2.0",
            "_model_name": "LayoutModel",
            "_view_count": null,
            "_view_module": "@jupyter-widgets/base",
            "_view_module_version": "1.2.0",
            "_view_name": "LayoutView",
            "align_content": null,
            "align_items": null,
            "align_self": null,
            "border": null,
            "bottom": null,
            "display": null,
            "flex": null,
            "flex_flow": null,
            "grid_area": null,
            "grid_auto_columns": null,
            "grid_auto_flow": null,
            "grid_auto_rows": null,
            "grid_column": null,
            "grid_gap": null,
            "grid_row": null,
            "grid_template_areas": null,
            "grid_template_columns": null,
            "grid_template_rows": null,
            "height": null,
            "justify_content": null,
            "justify_items": null,
            "left": null,
            "margin": null,
            "max_height": null,
            "max_width": null,
            "min_height": null,
            "min_width": null,
            "object_fit": null,
            "object_position": null,
            "order": null,
            "overflow": null,
            "overflow_x": null,
            "overflow_y": null,
            "padding": null,
            "right": null,
            "top": null,
            "visibility": null,
            "width": null
          }
        },
        "efbd771c132f48c294207d2fb3a2eea6": {
          "model_module": "@jupyter-widgets/controls",
          "model_name": "DescriptionStyleModel",
          "model_module_version": "1.5.0",
          "state": {
            "_model_module": "@jupyter-widgets/controls",
            "_model_module_version": "1.5.0",
            "_model_name": "DescriptionStyleModel",
            "_view_count": null,
            "_view_module": "@jupyter-widgets/base",
            "_view_module_version": "1.2.0",
            "_view_name": "StyleView",
            "description_width": ""
          }
        },
        "42ddb5cc04f6427b8317ce49473a5058": {
          "model_module": "@jupyter-widgets/base",
          "model_name": "LayoutModel",
          "model_module_version": "1.2.0",
          "state": {
            "_model_module": "@jupyter-widgets/base",
            "_model_module_version": "1.2.0",
            "_model_name": "LayoutModel",
            "_view_count": null,
            "_view_module": "@jupyter-widgets/base",
            "_view_module_version": "1.2.0",
            "_view_name": "LayoutView",
            "align_content": null,
            "align_items": null,
            "align_self": null,
            "border": null,
            "bottom": null,
            "display": null,
            "flex": null,
            "flex_flow": null,
            "grid_area": null,
            "grid_auto_columns": null,
            "grid_auto_flow": null,
            "grid_auto_rows": null,
            "grid_column": null,
            "grid_gap": null,
            "grid_row": null,
            "grid_template_areas": null,
            "grid_template_columns": null,
            "grid_template_rows": null,
            "height": null,
            "justify_content": null,
            "justify_items": null,
            "left": null,
            "margin": null,
            "max_height": null,
            "max_width": null,
            "min_height": null,
            "min_width": null,
            "object_fit": null,
            "object_position": null,
            "order": null,
            "overflow": null,
            "overflow_x": null,
            "overflow_y": null,
            "padding": null,
            "right": null,
            "top": null,
            "visibility": null,
            "width": "20px"
          }
        },
        "5d46d5b9710e47579072f29d8ec757d6": {
          "model_module": "@jupyter-widgets/controls",
          "model_name": "ProgressStyleModel",
          "model_module_version": "1.5.0",
          "state": {
            "_model_module": "@jupyter-widgets/controls",
            "_model_module_version": "1.5.0",
            "_model_name": "ProgressStyleModel",
            "_view_count": null,
            "_view_module": "@jupyter-widgets/base",
            "_view_module_version": "1.2.0",
            "_view_name": "StyleView",
            "bar_color": null,
            "description_width": ""
          }
        },
        "426f8475e3874f818f1eee1f8e315a92": {
          "model_module": "@jupyter-widgets/base",
          "model_name": "LayoutModel",
          "model_module_version": "1.2.0",
          "state": {
            "_model_module": "@jupyter-widgets/base",
            "_model_module_version": "1.2.0",
            "_model_name": "LayoutModel",
            "_view_count": null,
            "_view_module": "@jupyter-widgets/base",
            "_view_module_version": "1.2.0",
            "_view_name": "LayoutView",
            "align_content": null,
            "align_items": null,
            "align_self": null,
            "border": null,
            "bottom": null,
            "display": null,
            "flex": null,
            "flex_flow": null,
            "grid_area": null,
            "grid_auto_columns": null,
            "grid_auto_flow": null,
            "grid_auto_rows": null,
            "grid_column": null,
            "grid_gap": null,
            "grid_row": null,
            "grid_template_areas": null,
            "grid_template_columns": null,
            "grid_template_rows": null,
            "height": null,
            "justify_content": null,
            "justify_items": null,
            "left": null,
            "margin": null,
            "max_height": null,
            "max_width": null,
            "min_height": null,
            "min_width": null,
            "object_fit": null,
            "object_position": null,
            "order": null,
            "overflow": null,
            "overflow_x": null,
            "overflow_y": null,
            "padding": null,
            "right": null,
            "top": null,
            "visibility": null,
            "width": null
          }
        },
        "9fdab495ee6f4e89ad1a4528283a0cef": {
          "model_module": "@jupyter-widgets/controls",
          "model_name": "DescriptionStyleModel",
          "model_module_version": "1.5.0",
          "state": {
            "_model_module": "@jupyter-widgets/controls",
            "_model_module_version": "1.5.0",
            "_model_name": "DescriptionStyleModel",
            "_view_count": null,
            "_view_module": "@jupyter-widgets/base",
            "_view_module_version": "1.2.0",
            "_view_name": "StyleView",
            "description_width": ""
          }
        },
        "0469d5788bc14717ba316a5dcccaf9e4": {
          "model_module": "@jupyter-widgets/controls",
          "model_name": "HBoxModel",
          "model_module_version": "1.5.0",
          "state": {
            "_dom_classes": [],
            "_model_module": "@jupyter-widgets/controls",
            "_model_module_version": "1.5.0",
            "_model_name": "HBoxModel",
            "_view_count": null,
            "_view_module": "@jupyter-widgets/controls",
            "_view_module_version": "1.5.0",
            "_view_name": "HBoxView",
            "box_style": "",
            "children": [
              "IPY_MODEL_e56322bceec34a1682a3e9e0483b6192",
              "IPY_MODEL_1426ea5636ff4e8082ea87e990e04da4",
              "IPY_MODEL_adf8027b2f5b41d5ac1f1f724fe9039c"
            ],
            "layout": "IPY_MODEL_5a547b3543194056a558142f92652158"
          }
        },
        "e56322bceec34a1682a3e9e0483b6192": {
          "model_module": "@jupyter-widgets/controls",
          "model_name": "HTMLModel",
          "model_module_version": "1.5.0",
          "state": {
            "_dom_classes": [],
            "_model_module": "@jupyter-widgets/controls",
            "_model_module_version": "1.5.0",
            "_model_name": "HTMLModel",
            "_view_count": null,
            "_view_module": "@jupyter-widgets/controls",
            "_view_module_version": "1.5.0",
            "_view_name": "HTMLView",
            "description": "",
            "description_tooltip": null,
            "layout": "IPY_MODEL_c17792c9e68d41f4a2c028620729b608",
            "placeholder": "​",
            "style": "IPY_MODEL_6a4d4f838cd9459eb4722bfc9cd66531",
            "value": "Shuffling /root/tensorflow_datasets/imdb_reviews/plain_text/incomplete.6QMQS1_1.0.0/imdb_reviews-test.tfrecord*...:   0%"
          }
        },
        "1426ea5636ff4e8082ea87e990e04da4": {
          "model_module": "@jupyter-widgets/controls",
          "model_name": "FloatProgressModel",
          "model_module_version": "1.5.0",
          "state": {
            "_dom_classes": [],
            "_model_module": "@jupyter-widgets/controls",
            "_model_module_version": "1.5.0",
            "_model_name": "FloatProgressModel",
            "_view_count": null,
            "_view_module": "@jupyter-widgets/controls",
            "_view_module_version": "1.5.0",
            "_view_name": "ProgressView",
            "bar_style": "",
            "description": "",
            "description_tooltip": null,
            "layout": "IPY_MODEL_785325195e3045609a6f1433c08e3d45",
            "max": 25000,
            "min": 0,
            "orientation": "horizontal",
            "style": "IPY_MODEL_04a1e34e21ba40cca5c3fab6d4348942",
            "value": 25000
          }
        },
        "adf8027b2f5b41d5ac1f1f724fe9039c": {
          "model_module": "@jupyter-widgets/controls",
          "model_name": "HTMLModel",
          "model_module_version": "1.5.0",
          "state": {
            "_dom_classes": [],
            "_model_module": "@jupyter-widgets/controls",
            "_model_module_version": "1.5.0",
            "_model_name": "HTMLModel",
            "_view_count": null,
            "_view_module": "@jupyter-widgets/controls",
            "_view_module_version": "1.5.0",
            "_view_name": "HTMLView",
            "description": "",
            "description_tooltip": null,
            "layout": "IPY_MODEL_7ff61ae574254224beb8e2a15e399963",
            "placeholder": "​",
            "style": "IPY_MODEL_6326fd06943244ff9c06622e2c4e3f54",
            "value": " 0/25000 [00:00&lt;?, ? examples/s]"
          }
        },
        "5a547b3543194056a558142f92652158": {
          "model_module": "@jupyter-widgets/base",
          "model_name": "LayoutModel",
          "model_module_version": "1.2.0",
          "state": {
            "_model_module": "@jupyter-widgets/base",
            "_model_module_version": "1.2.0",
            "_model_name": "LayoutModel",
            "_view_count": null,
            "_view_module": "@jupyter-widgets/base",
            "_view_module_version": "1.2.0",
            "_view_name": "LayoutView",
            "align_content": null,
            "align_items": null,
            "align_self": null,
            "border": null,
            "bottom": null,
            "display": null,
            "flex": null,
            "flex_flow": null,
            "grid_area": null,
            "grid_auto_columns": null,
            "grid_auto_flow": null,
            "grid_auto_rows": null,
            "grid_column": null,
            "grid_gap": null,
            "grid_row": null,
            "grid_template_areas": null,
            "grid_template_columns": null,
            "grid_template_rows": null,
            "height": null,
            "justify_content": null,
            "justify_items": null,
            "left": null,
            "margin": null,
            "max_height": null,
            "max_width": null,
            "min_height": null,
            "min_width": null,
            "object_fit": null,
            "object_position": null,
            "order": null,
            "overflow": null,
            "overflow_x": null,
            "overflow_y": null,
            "padding": null,
            "right": null,
            "top": null,
            "visibility": "hidden",
            "width": null
          }
        },
        "c17792c9e68d41f4a2c028620729b608": {
          "model_module": "@jupyter-widgets/base",
          "model_name": "LayoutModel",
          "model_module_version": "1.2.0",
          "state": {
            "_model_module": "@jupyter-widgets/base",
            "_model_module_version": "1.2.0",
            "_model_name": "LayoutModel",
            "_view_count": null,
            "_view_module": "@jupyter-widgets/base",
            "_view_module_version": "1.2.0",
            "_view_name": "LayoutView",
            "align_content": null,
            "align_items": null,
            "align_self": null,
            "border": null,
            "bottom": null,
            "display": null,
            "flex": null,
            "flex_flow": null,
            "grid_area": null,
            "grid_auto_columns": null,
            "grid_auto_flow": null,
            "grid_auto_rows": null,
            "grid_column": null,
            "grid_gap": null,
            "grid_row": null,
            "grid_template_areas": null,
            "grid_template_columns": null,
            "grid_template_rows": null,
            "height": null,
            "justify_content": null,
            "justify_items": null,
            "left": null,
            "margin": null,
            "max_height": null,
            "max_width": null,
            "min_height": null,
            "min_width": null,
            "object_fit": null,
            "object_position": null,
            "order": null,
            "overflow": null,
            "overflow_x": null,
            "overflow_y": null,
            "padding": null,
            "right": null,
            "top": null,
            "visibility": null,
            "width": null
          }
        },
        "6a4d4f838cd9459eb4722bfc9cd66531": {
          "model_module": "@jupyter-widgets/controls",
          "model_name": "DescriptionStyleModel",
          "model_module_version": "1.5.0",
          "state": {
            "_model_module": "@jupyter-widgets/controls",
            "_model_module_version": "1.5.0",
            "_model_name": "DescriptionStyleModel",
            "_view_count": null,
            "_view_module": "@jupyter-widgets/base",
            "_view_module_version": "1.2.0",
            "_view_name": "StyleView",
            "description_width": ""
          }
        },
        "785325195e3045609a6f1433c08e3d45": {
          "model_module": "@jupyter-widgets/base",
          "model_name": "LayoutModel",
          "model_module_version": "1.2.0",
          "state": {
            "_model_module": "@jupyter-widgets/base",
            "_model_module_version": "1.2.0",
            "_model_name": "LayoutModel",
            "_view_count": null,
            "_view_module": "@jupyter-widgets/base",
            "_view_module_version": "1.2.0",
            "_view_name": "LayoutView",
            "align_content": null,
            "align_items": null,
            "align_self": null,
            "border": null,
            "bottom": null,
            "display": null,
            "flex": null,
            "flex_flow": null,
            "grid_area": null,
            "grid_auto_columns": null,
            "grid_auto_flow": null,
            "grid_auto_rows": null,
            "grid_column": null,
            "grid_gap": null,
            "grid_row": null,
            "grid_template_areas": null,
            "grid_template_columns": null,
            "grid_template_rows": null,
            "height": null,
            "justify_content": null,
            "justify_items": null,
            "left": null,
            "margin": null,
            "max_height": null,
            "max_width": null,
            "min_height": null,
            "min_width": null,
            "object_fit": null,
            "object_position": null,
            "order": null,
            "overflow": null,
            "overflow_x": null,
            "overflow_y": null,
            "padding": null,
            "right": null,
            "top": null,
            "visibility": null,
            "width": null
          }
        },
        "04a1e34e21ba40cca5c3fab6d4348942": {
          "model_module": "@jupyter-widgets/controls",
          "model_name": "ProgressStyleModel",
          "model_module_version": "1.5.0",
          "state": {
            "_model_module": "@jupyter-widgets/controls",
            "_model_module_version": "1.5.0",
            "_model_name": "ProgressStyleModel",
            "_view_count": null,
            "_view_module": "@jupyter-widgets/base",
            "_view_module_version": "1.2.0",
            "_view_name": "StyleView",
            "bar_color": null,
            "description_width": ""
          }
        },
        "7ff61ae574254224beb8e2a15e399963": {
          "model_module": "@jupyter-widgets/base",
          "model_name": "LayoutModel",
          "model_module_version": "1.2.0",
          "state": {
            "_model_module": "@jupyter-widgets/base",
            "_model_module_version": "1.2.0",
            "_model_name": "LayoutModel",
            "_view_count": null,
            "_view_module": "@jupyter-widgets/base",
            "_view_module_version": "1.2.0",
            "_view_name": "LayoutView",
            "align_content": null,
            "align_items": null,
            "align_self": null,
            "border": null,
            "bottom": null,
            "display": null,
            "flex": null,
            "flex_flow": null,
            "grid_area": null,
            "grid_auto_columns": null,
            "grid_auto_flow": null,
            "grid_auto_rows": null,
            "grid_column": null,
            "grid_gap": null,
            "grid_row": null,
            "grid_template_areas": null,
            "grid_template_columns": null,
            "grid_template_rows": null,
            "height": null,
            "justify_content": null,
            "justify_items": null,
            "left": null,
            "margin": null,
            "max_height": null,
            "max_width": null,
            "min_height": null,
            "min_width": null,
            "object_fit": null,
            "object_position": null,
            "order": null,
            "overflow": null,
            "overflow_x": null,
            "overflow_y": null,
            "padding": null,
            "right": null,
            "top": null,
            "visibility": null,
            "width": null
          }
        },
        "6326fd06943244ff9c06622e2c4e3f54": {
          "model_module": "@jupyter-widgets/controls",
          "model_name": "DescriptionStyleModel",
          "model_module_version": "1.5.0",
          "state": {
            "_model_module": "@jupyter-widgets/controls",
            "_model_module_version": "1.5.0",
            "_model_name": "DescriptionStyleModel",
            "_view_count": null,
            "_view_module": "@jupyter-widgets/base",
            "_view_module_version": "1.2.0",
            "_view_name": "StyleView",
            "description_width": ""
          }
        },
        "0fb4d27637ce452db26b6b0d6039841a": {
          "model_module": "@jupyter-widgets/controls",
          "model_name": "HBoxModel",
          "model_module_version": "1.5.0",
          "state": {
            "_dom_classes": [],
            "_model_module": "@jupyter-widgets/controls",
            "_model_module_version": "1.5.0",
            "_model_name": "HBoxModel",
            "_view_count": null,
            "_view_module": "@jupyter-widgets/controls",
            "_view_module_version": "1.5.0",
            "_view_name": "HBoxView",
            "box_style": "",
            "children": [
              "IPY_MODEL_1cd58ab7ccb84865846bbf21d2567277",
              "IPY_MODEL_c0595333600743c89dba5f257e21e71d",
              "IPY_MODEL_b71c637bfdac453aa8c8ce68efef00d4"
            ],
            "layout": "IPY_MODEL_0e7efcb190d9445fb59576680eb29400"
          }
        },
        "1cd58ab7ccb84865846bbf21d2567277": {
          "model_module": "@jupyter-widgets/controls",
          "model_name": "HTMLModel",
          "model_module_version": "1.5.0",
          "state": {
            "_dom_classes": [],
            "_model_module": "@jupyter-widgets/controls",
            "_model_module_version": "1.5.0",
            "_model_name": "HTMLModel",
            "_view_count": null,
            "_view_module": "@jupyter-widgets/controls",
            "_view_module_version": "1.5.0",
            "_view_name": "HTMLView",
            "description": "",
            "description_tooltip": null,
            "layout": "IPY_MODEL_9b1584a51c5f4c3f88251aab10b3e402",
            "placeholder": "​",
            "style": "IPY_MODEL_9c8692a5aaec4461aba7672f0de0751f",
            "value": "Generating unsupervised examples...: "
          }
        },
        "c0595333600743c89dba5f257e21e71d": {
          "model_module": "@jupyter-widgets/controls",
          "model_name": "FloatProgressModel",
          "model_module_version": "1.5.0",
          "state": {
            "_dom_classes": [],
            "_model_module": "@jupyter-widgets/controls",
            "_model_module_version": "1.5.0",
            "_model_name": "FloatProgressModel",
            "_view_count": null,
            "_view_module": "@jupyter-widgets/controls",
            "_view_module_version": "1.5.0",
            "_view_name": "ProgressView",
            "bar_style": "info",
            "description": "",
            "description_tooltip": null,
            "layout": "IPY_MODEL_145eb1e45f054043bd58440461cc9515",
            "max": 1,
            "min": 0,
            "orientation": "horizontal",
            "style": "IPY_MODEL_2d8ef5faddc14edeac7df67df84782ce",
            "value": 1
          }
        },
        "b71c637bfdac453aa8c8ce68efef00d4": {
          "model_module": "@jupyter-widgets/controls",
          "model_name": "HTMLModel",
          "model_module_version": "1.5.0",
          "state": {
            "_dom_classes": [],
            "_model_module": "@jupyter-widgets/controls",
            "_model_module_version": "1.5.0",
            "_model_name": "HTMLModel",
            "_view_count": null,
            "_view_module": "@jupyter-widgets/controls",
            "_view_module_version": "1.5.0",
            "_view_name": "HTMLView",
            "description": "",
            "description_tooltip": null,
            "layout": "IPY_MODEL_b97229e48b744fa4a583706c69441e61",
            "placeholder": "​",
            "style": "IPY_MODEL_f880aa18177b485e84adf5ce6d5ed129",
            "value": " 44798/? [00:09&lt;00:00, 6460.56 examples/s]"
          }
        },
        "0e7efcb190d9445fb59576680eb29400": {
          "model_module": "@jupyter-widgets/base",
          "model_name": "LayoutModel",
          "model_module_version": "1.2.0",
          "state": {
            "_model_module": "@jupyter-widgets/base",
            "_model_module_version": "1.2.0",
            "_model_name": "LayoutModel",
            "_view_count": null,
            "_view_module": "@jupyter-widgets/base",
            "_view_module_version": "1.2.0",
            "_view_name": "LayoutView",
            "align_content": null,
            "align_items": null,
            "align_self": null,
            "border": null,
            "bottom": null,
            "display": null,
            "flex": null,
            "flex_flow": null,
            "grid_area": null,
            "grid_auto_columns": null,
            "grid_auto_flow": null,
            "grid_auto_rows": null,
            "grid_column": null,
            "grid_gap": null,
            "grid_row": null,
            "grid_template_areas": null,
            "grid_template_columns": null,
            "grid_template_rows": null,
            "height": null,
            "justify_content": null,
            "justify_items": null,
            "left": null,
            "margin": null,
            "max_height": null,
            "max_width": null,
            "min_height": null,
            "min_width": null,
            "object_fit": null,
            "object_position": null,
            "order": null,
            "overflow": null,
            "overflow_x": null,
            "overflow_y": null,
            "padding": null,
            "right": null,
            "top": null,
            "visibility": "hidden",
            "width": null
          }
        },
        "9b1584a51c5f4c3f88251aab10b3e402": {
          "model_module": "@jupyter-widgets/base",
          "model_name": "LayoutModel",
          "model_module_version": "1.2.0",
          "state": {
            "_model_module": "@jupyter-widgets/base",
            "_model_module_version": "1.2.0",
            "_model_name": "LayoutModel",
            "_view_count": null,
            "_view_module": "@jupyter-widgets/base",
            "_view_module_version": "1.2.0",
            "_view_name": "LayoutView",
            "align_content": null,
            "align_items": null,
            "align_self": null,
            "border": null,
            "bottom": null,
            "display": null,
            "flex": null,
            "flex_flow": null,
            "grid_area": null,
            "grid_auto_columns": null,
            "grid_auto_flow": null,
            "grid_auto_rows": null,
            "grid_column": null,
            "grid_gap": null,
            "grid_row": null,
            "grid_template_areas": null,
            "grid_template_columns": null,
            "grid_template_rows": null,
            "height": null,
            "justify_content": null,
            "justify_items": null,
            "left": null,
            "margin": null,
            "max_height": null,
            "max_width": null,
            "min_height": null,
            "min_width": null,
            "object_fit": null,
            "object_position": null,
            "order": null,
            "overflow": null,
            "overflow_x": null,
            "overflow_y": null,
            "padding": null,
            "right": null,
            "top": null,
            "visibility": null,
            "width": null
          }
        },
        "9c8692a5aaec4461aba7672f0de0751f": {
          "model_module": "@jupyter-widgets/controls",
          "model_name": "DescriptionStyleModel",
          "model_module_version": "1.5.0",
          "state": {
            "_model_module": "@jupyter-widgets/controls",
            "_model_module_version": "1.5.0",
            "_model_name": "DescriptionStyleModel",
            "_view_count": null,
            "_view_module": "@jupyter-widgets/base",
            "_view_module_version": "1.2.0",
            "_view_name": "StyleView",
            "description_width": ""
          }
        },
        "145eb1e45f054043bd58440461cc9515": {
          "model_module": "@jupyter-widgets/base",
          "model_name": "LayoutModel",
          "model_module_version": "1.2.0",
          "state": {
            "_model_module": "@jupyter-widgets/base",
            "_model_module_version": "1.2.0",
            "_model_name": "LayoutModel",
            "_view_count": null,
            "_view_module": "@jupyter-widgets/base",
            "_view_module_version": "1.2.0",
            "_view_name": "LayoutView",
            "align_content": null,
            "align_items": null,
            "align_self": null,
            "border": null,
            "bottom": null,
            "display": null,
            "flex": null,
            "flex_flow": null,
            "grid_area": null,
            "grid_auto_columns": null,
            "grid_auto_flow": null,
            "grid_auto_rows": null,
            "grid_column": null,
            "grid_gap": null,
            "grid_row": null,
            "grid_template_areas": null,
            "grid_template_columns": null,
            "grid_template_rows": null,
            "height": null,
            "justify_content": null,
            "justify_items": null,
            "left": null,
            "margin": null,
            "max_height": null,
            "max_width": null,
            "min_height": null,
            "min_width": null,
            "object_fit": null,
            "object_position": null,
            "order": null,
            "overflow": null,
            "overflow_x": null,
            "overflow_y": null,
            "padding": null,
            "right": null,
            "top": null,
            "visibility": null,
            "width": "20px"
          }
        },
        "2d8ef5faddc14edeac7df67df84782ce": {
          "model_module": "@jupyter-widgets/controls",
          "model_name": "ProgressStyleModel",
          "model_module_version": "1.5.0",
          "state": {
            "_model_module": "@jupyter-widgets/controls",
            "_model_module_version": "1.5.0",
            "_model_name": "ProgressStyleModel",
            "_view_count": null,
            "_view_module": "@jupyter-widgets/base",
            "_view_module_version": "1.2.0",
            "_view_name": "StyleView",
            "bar_color": null,
            "description_width": ""
          }
        },
        "b97229e48b744fa4a583706c69441e61": {
          "model_module": "@jupyter-widgets/base",
          "model_name": "LayoutModel",
          "model_module_version": "1.2.0",
          "state": {
            "_model_module": "@jupyter-widgets/base",
            "_model_module_version": "1.2.0",
            "_model_name": "LayoutModel",
            "_view_count": null,
            "_view_module": "@jupyter-widgets/base",
            "_view_module_version": "1.2.0",
            "_view_name": "LayoutView",
            "align_content": null,
            "align_items": null,
            "align_self": null,
            "border": null,
            "bottom": null,
            "display": null,
            "flex": null,
            "flex_flow": null,
            "grid_area": null,
            "grid_auto_columns": null,
            "grid_auto_flow": null,
            "grid_auto_rows": null,
            "grid_column": null,
            "grid_gap": null,
            "grid_row": null,
            "grid_template_areas": null,
            "grid_template_columns": null,
            "grid_template_rows": null,
            "height": null,
            "justify_content": null,
            "justify_items": null,
            "left": null,
            "margin": null,
            "max_height": null,
            "max_width": null,
            "min_height": null,
            "min_width": null,
            "object_fit": null,
            "object_position": null,
            "order": null,
            "overflow": null,
            "overflow_x": null,
            "overflow_y": null,
            "padding": null,
            "right": null,
            "top": null,
            "visibility": null,
            "width": null
          }
        },
        "f880aa18177b485e84adf5ce6d5ed129": {
          "model_module": "@jupyter-widgets/controls",
          "model_name": "DescriptionStyleModel",
          "model_module_version": "1.5.0",
          "state": {
            "_model_module": "@jupyter-widgets/controls",
            "_model_module_version": "1.5.0",
            "_model_name": "DescriptionStyleModel",
            "_view_count": null,
            "_view_module": "@jupyter-widgets/base",
            "_view_module_version": "1.2.0",
            "_view_name": "StyleView",
            "description_width": ""
          }
        },
        "ab8784a85b024439a1d3a4c4642c3a85": {
          "model_module": "@jupyter-widgets/controls",
          "model_name": "HBoxModel",
          "model_module_version": "1.5.0",
          "state": {
            "_dom_classes": [],
            "_model_module": "@jupyter-widgets/controls",
            "_model_module_version": "1.5.0",
            "_model_name": "HBoxModel",
            "_view_count": null,
            "_view_module": "@jupyter-widgets/controls",
            "_view_module_version": "1.5.0",
            "_view_name": "HBoxView",
            "box_style": "",
            "children": [
              "IPY_MODEL_67aa8969bedb40828f123b2b113e1654",
              "IPY_MODEL_e33ea4b7cd2d4ad9b169c37c973db77d",
              "IPY_MODEL_2c70e62f8c234f22aed1bceeac24772a"
            ],
            "layout": "IPY_MODEL_7ac697dfb60b48d3bc1b5abd47e02685"
          }
        },
        "67aa8969bedb40828f123b2b113e1654": {
          "model_module": "@jupyter-widgets/controls",
          "model_name": "HTMLModel",
          "model_module_version": "1.5.0",
          "state": {
            "_dom_classes": [],
            "_model_module": "@jupyter-widgets/controls",
            "_model_module_version": "1.5.0",
            "_model_name": "HTMLModel",
            "_view_count": null,
            "_view_module": "@jupyter-widgets/controls",
            "_view_module_version": "1.5.0",
            "_view_name": "HTMLView",
            "description": "",
            "description_tooltip": null,
            "layout": "IPY_MODEL_86e00c65fb5d4da1a5fb6edb60f166d4",
            "placeholder": "​",
            "style": "IPY_MODEL_117986e358374f0cb2fdd57be327b71b",
            "value": "Shuffling /root/tensorflow_datasets/imdb_reviews/plain_text/incomplete.6QMQS1_1.0.0/imdb_reviews-unsupervised.tfrecord*...:   0%"
          }
        },
        "e33ea4b7cd2d4ad9b169c37c973db77d": {
          "model_module": "@jupyter-widgets/controls",
          "model_name": "FloatProgressModel",
          "model_module_version": "1.5.0",
          "state": {
            "_dom_classes": [],
            "_model_module": "@jupyter-widgets/controls",
            "_model_module_version": "1.5.0",
            "_model_name": "FloatProgressModel",
            "_view_count": null,
            "_view_module": "@jupyter-widgets/controls",
            "_view_module_version": "1.5.0",
            "_view_name": "ProgressView",
            "bar_style": "",
            "description": "",
            "description_tooltip": null,
            "layout": "IPY_MODEL_e6d6182ad8c2417889bac9a08067604d",
            "max": 50000,
            "min": 0,
            "orientation": "horizontal",
            "style": "IPY_MODEL_04e8296192bb425abc2a9b8fa33bedde",
            "value": 50000
          }
        },
        "2c70e62f8c234f22aed1bceeac24772a": {
          "model_module": "@jupyter-widgets/controls",
          "model_name": "HTMLModel",
          "model_module_version": "1.5.0",
          "state": {
            "_dom_classes": [],
            "_model_module": "@jupyter-widgets/controls",
            "_model_module_version": "1.5.0",
            "_model_name": "HTMLModel",
            "_view_count": null,
            "_view_module": "@jupyter-widgets/controls",
            "_view_module_version": "1.5.0",
            "_view_name": "HTMLView",
            "description": "",
            "description_tooltip": null,
            "layout": "IPY_MODEL_3e34dc65e48242709d1f426fec893576",
            "placeholder": "​",
            "style": "IPY_MODEL_0cf3875a3df84f6ea11b1e8ef8dff0fc",
            "value": " 0/50000 [00:00&lt;?, ? examples/s]"
          }
        },
        "7ac697dfb60b48d3bc1b5abd47e02685": {
          "model_module": "@jupyter-widgets/base",
          "model_name": "LayoutModel",
          "model_module_version": "1.2.0",
          "state": {
            "_model_module": "@jupyter-widgets/base",
            "_model_module_version": "1.2.0",
            "_model_name": "LayoutModel",
            "_view_count": null,
            "_view_module": "@jupyter-widgets/base",
            "_view_module_version": "1.2.0",
            "_view_name": "LayoutView",
            "align_content": null,
            "align_items": null,
            "align_self": null,
            "border": null,
            "bottom": null,
            "display": null,
            "flex": null,
            "flex_flow": null,
            "grid_area": null,
            "grid_auto_columns": null,
            "grid_auto_flow": null,
            "grid_auto_rows": null,
            "grid_column": null,
            "grid_gap": null,
            "grid_row": null,
            "grid_template_areas": null,
            "grid_template_columns": null,
            "grid_template_rows": null,
            "height": null,
            "justify_content": null,
            "justify_items": null,
            "left": null,
            "margin": null,
            "max_height": null,
            "max_width": null,
            "min_height": null,
            "min_width": null,
            "object_fit": null,
            "object_position": null,
            "order": null,
            "overflow": null,
            "overflow_x": null,
            "overflow_y": null,
            "padding": null,
            "right": null,
            "top": null,
            "visibility": "hidden",
            "width": null
          }
        },
        "86e00c65fb5d4da1a5fb6edb60f166d4": {
          "model_module": "@jupyter-widgets/base",
          "model_name": "LayoutModel",
          "model_module_version": "1.2.0",
          "state": {
            "_model_module": "@jupyter-widgets/base",
            "_model_module_version": "1.2.0",
            "_model_name": "LayoutModel",
            "_view_count": null,
            "_view_module": "@jupyter-widgets/base",
            "_view_module_version": "1.2.0",
            "_view_name": "LayoutView",
            "align_content": null,
            "align_items": null,
            "align_self": null,
            "border": null,
            "bottom": null,
            "display": null,
            "flex": null,
            "flex_flow": null,
            "grid_area": null,
            "grid_auto_columns": null,
            "grid_auto_flow": null,
            "grid_auto_rows": null,
            "grid_column": null,
            "grid_gap": null,
            "grid_row": null,
            "grid_template_areas": null,
            "grid_template_columns": null,
            "grid_template_rows": null,
            "height": null,
            "justify_content": null,
            "justify_items": null,
            "left": null,
            "margin": null,
            "max_height": null,
            "max_width": null,
            "min_height": null,
            "min_width": null,
            "object_fit": null,
            "object_position": null,
            "order": null,
            "overflow": null,
            "overflow_x": null,
            "overflow_y": null,
            "padding": null,
            "right": null,
            "top": null,
            "visibility": null,
            "width": null
          }
        },
        "117986e358374f0cb2fdd57be327b71b": {
          "model_module": "@jupyter-widgets/controls",
          "model_name": "DescriptionStyleModel",
          "model_module_version": "1.5.0",
          "state": {
            "_model_module": "@jupyter-widgets/controls",
            "_model_module_version": "1.5.0",
            "_model_name": "DescriptionStyleModel",
            "_view_count": null,
            "_view_module": "@jupyter-widgets/base",
            "_view_module_version": "1.2.0",
            "_view_name": "StyleView",
            "description_width": ""
          }
        },
        "e6d6182ad8c2417889bac9a08067604d": {
          "model_module": "@jupyter-widgets/base",
          "model_name": "LayoutModel",
          "model_module_version": "1.2.0",
          "state": {
            "_model_module": "@jupyter-widgets/base",
            "_model_module_version": "1.2.0",
            "_model_name": "LayoutModel",
            "_view_count": null,
            "_view_module": "@jupyter-widgets/base",
            "_view_module_version": "1.2.0",
            "_view_name": "LayoutView",
            "align_content": null,
            "align_items": null,
            "align_self": null,
            "border": null,
            "bottom": null,
            "display": null,
            "flex": null,
            "flex_flow": null,
            "grid_area": null,
            "grid_auto_columns": null,
            "grid_auto_flow": null,
            "grid_auto_rows": null,
            "grid_column": null,
            "grid_gap": null,
            "grid_row": null,
            "grid_template_areas": null,
            "grid_template_columns": null,
            "grid_template_rows": null,
            "height": null,
            "justify_content": null,
            "justify_items": null,
            "left": null,
            "margin": null,
            "max_height": null,
            "max_width": null,
            "min_height": null,
            "min_width": null,
            "object_fit": null,
            "object_position": null,
            "order": null,
            "overflow": null,
            "overflow_x": null,
            "overflow_y": null,
            "padding": null,
            "right": null,
            "top": null,
            "visibility": null,
            "width": null
          }
        },
        "04e8296192bb425abc2a9b8fa33bedde": {
          "model_module": "@jupyter-widgets/controls",
          "model_name": "ProgressStyleModel",
          "model_module_version": "1.5.0",
          "state": {
            "_model_module": "@jupyter-widgets/controls",
            "_model_module_version": "1.5.0",
            "_model_name": "ProgressStyleModel",
            "_view_count": null,
            "_view_module": "@jupyter-widgets/base",
            "_view_module_version": "1.2.0",
            "_view_name": "StyleView",
            "bar_color": null,
            "description_width": ""
          }
        },
        "3e34dc65e48242709d1f426fec893576": {
          "model_module": "@jupyter-widgets/base",
          "model_name": "LayoutModel",
          "model_module_version": "1.2.0",
          "state": {
            "_model_module": "@jupyter-widgets/base",
            "_model_module_version": "1.2.0",
            "_model_name": "LayoutModel",
            "_view_count": null,
            "_view_module": "@jupyter-widgets/base",
            "_view_module_version": "1.2.0",
            "_view_name": "LayoutView",
            "align_content": null,
            "align_items": null,
            "align_self": null,
            "border": null,
            "bottom": null,
            "display": null,
            "flex": null,
            "flex_flow": null,
            "grid_area": null,
            "grid_auto_columns": null,
            "grid_auto_flow": null,
            "grid_auto_rows": null,
            "grid_column": null,
            "grid_gap": null,
            "grid_row": null,
            "grid_template_areas": null,
            "grid_template_columns": null,
            "grid_template_rows": null,
            "height": null,
            "justify_content": null,
            "justify_items": null,
            "left": null,
            "margin": null,
            "max_height": null,
            "max_width": null,
            "min_height": null,
            "min_width": null,
            "object_fit": null,
            "object_position": null,
            "order": null,
            "overflow": null,
            "overflow_x": null,
            "overflow_y": null,
            "padding": null,
            "right": null,
            "top": null,
            "visibility": null,
            "width": null
          }
        },
        "0cf3875a3df84f6ea11b1e8ef8dff0fc": {
          "model_module": "@jupyter-widgets/controls",
          "model_name": "DescriptionStyleModel",
          "model_module_version": "1.5.0",
          "state": {
            "_model_module": "@jupyter-widgets/controls",
            "_model_module_version": "1.5.0",
            "_model_name": "DescriptionStyleModel",
            "_view_count": null,
            "_view_module": "@jupyter-widgets/base",
            "_view_module_version": "1.2.0",
            "_view_name": "StyleView",
            "description_width": ""
          }
        },
        "75786a5de42947b6bdb3f3c32cd63c9f": {
          "model_module": "@jupyter-widgets/controls",
          "model_name": "HBoxModel",
          "model_module_version": "1.5.0",
          "state": {
            "_dom_classes": [],
            "_model_module": "@jupyter-widgets/controls",
            "_model_module_version": "1.5.0",
            "_model_name": "HBoxModel",
            "_view_count": null,
            "_view_module": "@jupyter-widgets/controls",
            "_view_module_version": "1.5.0",
            "_view_name": "HBoxView",
            "box_style": "",
            "children": [
              "IPY_MODEL_6e1cd80d4894489c87690ad2db13ae9c",
              "IPY_MODEL_bfd33675ea99436a82b4e205a4699cd0",
              "IPY_MODEL_b03cdcbbb2db42369a50ee877a09ad67"
            ],
            "layout": "IPY_MODEL_d1b8ebc2c32046a2b1f99e4528e1846c"
          }
        },
        "6e1cd80d4894489c87690ad2db13ae9c": {
          "model_module": "@jupyter-widgets/controls",
          "model_name": "HTMLModel",
          "model_module_version": "1.5.0",
          "state": {
            "_dom_classes": [],
            "_model_module": "@jupyter-widgets/controls",
            "_model_module_version": "1.5.0",
            "_model_name": "HTMLModel",
            "_view_count": null,
            "_view_module": "@jupyter-widgets/controls",
            "_view_module_version": "1.5.0",
            "_view_name": "HTMLView",
            "description": "",
            "description_tooltip": null,
            "layout": "IPY_MODEL_424b3600e9fa4828a06e0edd39eba42e",
            "placeholder": "​",
            "style": "IPY_MODEL_a27385d1d3484adc85f6bd646bbe03c4",
            "value": "tabpfn-v2-classifier-finetuned-zk73skhh.(…): 100%"
          }
        },
        "bfd33675ea99436a82b4e205a4699cd0": {
          "model_module": "@jupyter-widgets/controls",
          "model_name": "FloatProgressModel",
          "model_module_version": "1.5.0",
          "state": {
            "_dom_classes": [],
            "_model_module": "@jupyter-widgets/controls",
            "_model_module_version": "1.5.0",
            "_model_name": "FloatProgressModel",
            "_view_count": null,
            "_view_module": "@jupyter-widgets/controls",
            "_view_module_version": "1.5.0",
            "_view_name": "ProgressView",
            "bar_style": "success",
            "description": "",
            "description_tooltip": null,
            "layout": "IPY_MODEL_9d81c1dc5fbe4c32bd8dc91fed1d94aa",
            "max": 29009539,
            "min": 0,
            "orientation": "horizontal",
            "style": "IPY_MODEL_10e57b6e8436483ba3be64e3a9f35160",
            "value": 29009539
          }
        },
        "b03cdcbbb2db42369a50ee877a09ad67": {
          "model_module": "@jupyter-widgets/controls",
          "model_name": "HTMLModel",
          "model_module_version": "1.5.0",
          "state": {
            "_dom_classes": [],
            "_model_module": "@jupyter-widgets/controls",
            "_model_module_version": "1.5.0",
            "_model_name": "HTMLModel",
            "_view_count": null,
            "_view_module": "@jupyter-widgets/controls",
            "_view_module_version": "1.5.0",
            "_view_name": "HTMLView",
            "description": "",
            "description_tooltip": null,
            "layout": "IPY_MODEL_2bb0bf8423e74adcbc32da5a9fb4ee9d",
            "placeholder": "​",
            "style": "IPY_MODEL_225f14d0ec1747e89c3285261dede614",
            "value": " 29.0M/29.0M [00:01&lt;00:00, 19.7MB/s]"
          }
        },
        "d1b8ebc2c32046a2b1f99e4528e1846c": {
          "model_module": "@jupyter-widgets/base",
          "model_name": "LayoutModel",
          "model_module_version": "1.2.0",
          "state": {
            "_model_module": "@jupyter-widgets/base",
            "_model_module_version": "1.2.0",
            "_model_name": "LayoutModel",
            "_view_count": null,
            "_view_module": "@jupyter-widgets/base",
            "_view_module_version": "1.2.0",
            "_view_name": "LayoutView",
            "align_content": null,
            "align_items": null,
            "align_self": null,
            "border": null,
            "bottom": null,
            "display": null,
            "flex": null,
            "flex_flow": null,
            "grid_area": null,
            "grid_auto_columns": null,
            "grid_auto_flow": null,
            "grid_auto_rows": null,
            "grid_column": null,
            "grid_gap": null,
            "grid_row": null,
            "grid_template_areas": null,
            "grid_template_columns": null,
            "grid_template_rows": null,
            "height": null,
            "justify_content": null,
            "justify_items": null,
            "left": null,
            "margin": null,
            "max_height": null,
            "max_width": null,
            "min_height": null,
            "min_width": null,
            "object_fit": null,
            "object_position": null,
            "order": null,
            "overflow": null,
            "overflow_x": null,
            "overflow_y": null,
            "padding": null,
            "right": null,
            "top": null,
            "visibility": null,
            "width": null
          }
        },
        "424b3600e9fa4828a06e0edd39eba42e": {
          "model_module": "@jupyter-widgets/base",
          "model_name": "LayoutModel",
          "model_module_version": "1.2.0",
          "state": {
            "_model_module": "@jupyter-widgets/base",
            "_model_module_version": "1.2.0",
            "_model_name": "LayoutModel",
            "_view_count": null,
            "_view_module": "@jupyter-widgets/base",
            "_view_module_version": "1.2.0",
            "_view_name": "LayoutView",
            "align_content": null,
            "align_items": null,
            "align_self": null,
            "border": null,
            "bottom": null,
            "display": null,
            "flex": null,
            "flex_flow": null,
            "grid_area": null,
            "grid_auto_columns": null,
            "grid_auto_flow": null,
            "grid_auto_rows": null,
            "grid_column": null,
            "grid_gap": null,
            "grid_row": null,
            "grid_template_areas": null,
            "grid_template_columns": null,
            "grid_template_rows": null,
            "height": null,
            "justify_content": null,
            "justify_items": null,
            "left": null,
            "margin": null,
            "max_height": null,
            "max_width": null,
            "min_height": null,
            "min_width": null,
            "object_fit": null,
            "object_position": null,
            "order": null,
            "overflow": null,
            "overflow_x": null,
            "overflow_y": null,
            "padding": null,
            "right": null,
            "top": null,
            "visibility": null,
            "width": null
          }
        },
        "a27385d1d3484adc85f6bd646bbe03c4": {
          "model_module": "@jupyter-widgets/controls",
          "model_name": "DescriptionStyleModel",
          "model_module_version": "1.5.0",
          "state": {
            "_model_module": "@jupyter-widgets/controls",
            "_model_module_version": "1.5.0",
            "_model_name": "DescriptionStyleModel",
            "_view_count": null,
            "_view_module": "@jupyter-widgets/base",
            "_view_module_version": "1.2.0",
            "_view_name": "StyleView",
            "description_width": ""
          }
        },
        "9d81c1dc5fbe4c32bd8dc91fed1d94aa": {
          "model_module": "@jupyter-widgets/base",
          "model_name": "LayoutModel",
          "model_module_version": "1.2.0",
          "state": {
            "_model_module": "@jupyter-widgets/base",
            "_model_module_version": "1.2.0",
            "_model_name": "LayoutModel",
            "_view_count": null,
            "_view_module": "@jupyter-widgets/base",
            "_view_module_version": "1.2.0",
            "_view_name": "LayoutView",
            "align_content": null,
            "align_items": null,
            "align_self": null,
            "border": null,
            "bottom": null,
            "display": null,
            "flex": null,
            "flex_flow": null,
            "grid_area": null,
            "grid_auto_columns": null,
            "grid_auto_flow": null,
            "grid_auto_rows": null,
            "grid_column": null,
            "grid_gap": null,
            "grid_row": null,
            "grid_template_areas": null,
            "grid_template_columns": null,
            "grid_template_rows": null,
            "height": null,
            "justify_content": null,
            "justify_items": null,
            "left": null,
            "margin": null,
            "max_height": null,
            "max_width": null,
            "min_height": null,
            "min_width": null,
            "object_fit": null,
            "object_position": null,
            "order": null,
            "overflow": null,
            "overflow_x": null,
            "overflow_y": null,
            "padding": null,
            "right": null,
            "top": null,
            "visibility": null,
            "width": null
          }
        },
        "10e57b6e8436483ba3be64e3a9f35160": {
          "model_module": "@jupyter-widgets/controls",
          "model_name": "ProgressStyleModel",
          "model_module_version": "1.5.0",
          "state": {
            "_model_module": "@jupyter-widgets/controls",
            "_model_module_version": "1.5.0",
            "_model_name": "ProgressStyleModel",
            "_view_count": null,
            "_view_module": "@jupyter-widgets/base",
            "_view_module_version": "1.2.0",
            "_view_name": "StyleView",
            "bar_color": null,
            "description_width": ""
          }
        },
        "2bb0bf8423e74adcbc32da5a9fb4ee9d": {
          "model_module": "@jupyter-widgets/base",
          "model_name": "LayoutModel",
          "model_module_version": "1.2.0",
          "state": {
            "_model_module": "@jupyter-widgets/base",
            "_model_module_version": "1.2.0",
            "_model_name": "LayoutModel",
            "_view_count": null,
            "_view_module": "@jupyter-widgets/base",
            "_view_module_version": "1.2.0",
            "_view_name": "LayoutView",
            "align_content": null,
            "align_items": null,
            "align_self": null,
            "border": null,
            "bottom": null,
            "display": null,
            "flex": null,
            "flex_flow": null,
            "grid_area": null,
            "grid_auto_columns": null,
            "grid_auto_flow": null,
            "grid_auto_rows": null,
            "grid_column": null,
            "grid_gap": null,
            "grid_row": null,
            "grid_template_areas": null,
            "grid_template_columns": null,
            "grid_template_rows": null,
            "height": null,
            "justify_content": null,
            "justify_items": null,
            "left": null,
            "margin": null,
            "max_height": null,
            "max_width": null,
            "min_height": null,
            "min_width": null,
            "object_fit": null,
            "object_position": null,
            "order": null,
            "overflow": null,
            "overflow_x": null,
            "overflow_y": null,
            "padding": null,
            "right": null,
            "top": null,
            "visibility": null,
            "width": null
          }
        },
        "225f14d0ec1747e89c3285261dede614": {
          "model_module": "@jupyter-widgets/controls",
          "model_name": "DescriptionStyleModel",
          "model_module_version": "1.5.0",
          "state": {
            "_model_module": "@jupyter-widgets/controls",
            "_model_module_version": "1.5.0",
            "_model_name": "DescriptionStyleModel",
            "_view_count": null,
            "_view_module": "@jupyter-widgets/base",
            "_view_module_version": "1.2.0",
            "_view_name": "StyleView",
            "description_width": ""
          }
        },
        "1d726d726fb04213bbe5e309807c5c48": {
          "model_module": "@jupyter-widgets/controls",
          "model_name": "HBoxModel",
          "model_module_version": "1.5.0",
          "state": {
            "_dom_classes": [],
            "_model_module": "@jupyter-widgets/controls",
            "_model_module_version": "1.5.0",
            "_model_name": "HBoxModel",
            "_view_count": null,
            "_view_module": "@jupyter-widgets/controls",
            "_view_module_version": "1.5.0",
            "_view_name": "HBoxView",
            "box_style": "",
            "children": [
              "IPY_MODEL_f110ec71ff8541d6b83016a09d74841c",
              "IPY_MODEL_c04ecd3efaff462f841aad9ec0296397",
              "IPY_MODEL_1c5ffb53b79e4665a4588595e99c73e8"
            ],
            "layout": "IPY_MODEL_77f2f75f06a748a388989890103e6eea"
          }
        },
        "f110ec71ff8541d6b83016a09d74841c": {
          "model_module": "@jupyter-widgets/controls",
          "model_name": "HTMLModel",
          "model_module_version": "1.5.0",
          "state": {
            "_dom_classes": [],
            "_model_module": "@jupyter-widgets/controls",
            "_model_module_version": "1.5.0",
            "_model_name": "HTMLModel",
            "_view_count": null,
            "_view_module": "@jupyter-widgets/controls",
            "_view_module_version": "1.5.0",
            "_view_name": "HTMLView",
            "description": "",
            "description_tooltip": null,
            "layout": "IPY_MODEL_96eee0662b3f4f6198fec803eaa85912",
            "placeholder": "​",
            "style": "IPY_MODEL_957a087a1f1e477fafad91c3248e2165",
            "value": "config.json: 100%"
          }
        },
        "c04ecd3efaff462f841aad9ec0296397": {
          "model_module": "@jupyter-widgets/controls",
          "model_name": "FloatProgressModel",
          "model_module_version": "1.5.0",
          "state": {
            "_dom_classes": [],
            "_model_module": "@jupyter-widgets/controls",
            "_model_module_version": "1.5.0",
            "_model_name": "FloatProgressModel",
            "_view_count": null,
            "_view_module": "@jupyter-widgets/controls",
            "_view_module_version": "1.5.0",
            "_view_name": "ProgressView",
            "bar_style": "success",
            "description": "",
            "description_tooltip": null,
            "layout": "IPY_MODEL_9ab68302569546809a9bfb544d630095",
            "max": 37,
            "min": 0,
            "orientation": "horizontal",
            "style": "IPY_MODEL_ebb8a29813594644a89c839be757437c",
            "value": 37
          }
        },
        "1c5ffb53b79e4665a4588595e99c73e8": {
          "model_module": "@jupyter-widgets/controls",
          "model_name": "HTMLModel",
          "model_module_version": "1.5.0",
          "state": {
            "_dom_classes": [],
            "_model_module": "@jupyter-widgets/controls",
            "_model_module_version": "1.5.0",
            "_model_name": "HTMLModel",
            "_view_count": null,
            "_view_module": "@jupyter-widgets/controls",
            "_view_module_version": "1.5.0",
            "_view_name": "HTMLView",
            "description": "",
            "description_tooltip": null,
            "layout": "IPY_MODEL_95dabe64ddc7493a9fbfdce32f89cb7f",
            "placeholder": "​",
            "style": "IPY_MODEL_dc354c7b71994f71b5ba8e1e3d39bafc",
            "value": " 37.0/37.0 [00:00&lt;00:00, 4.44kB/s]"
          }
        },
        "77f2f75f06a748a388989890103e6eea": {
          "model_module": "@jupyter-widgets/base",
          "model_name": "LayoutModel",
          "model_module_version": "1.2.0",
          "state": {
            "_model_module": "@jupyter-widgets/base",
            "_model_module_version": "1.2.0",
            "_model_name": "LayoutModel",
            "_view_count": null,
            "_view_module": "@jupyter-widgets/base",
            "_view_module_version": "1.2.0",
            "_view_name": "LayoutView",
            "align_content": null,
            "align_items": null,
            "align_self": null,
            "border": null,
            "bottom": null,
            "display": null,
            "flex": null,
            "flex_flow": null,
            "grid_area": null,
            "grid_auto_columns": null,
            "grid_auto_flow": null,
            "grid_auto_rows": null,
            "grid_column": null,
            "grid_gap": null,
            "grid_row": null,
            "grid_template_areas": null,
            "grid_template_columns": null,
            "grid_template_rows": null,
            "height": null,
            "justify_content": null,
            "justify_items": null,
            "left": null,
            "margin": null,
            "max_height": null,
            "max_width": null,
            "min_height": null,
            "min_width": null,
            "object_fit": null,
            "object_position": null,
            "order": null,
            "overflow": null,
            "overflow_x": null,
            "overflow_y": null,
            "padding": null,
            "right": null,
            "top": null,
            "visibility": null,
            "width": null
          }
        },
        "96eee0662b3f4f6198fec803eaa85912": {
          "model_module": "@jupyter-widgets/base",
          "model_name": "LayoutModel",
          "model_module_version": "1.2.0",
          "state": {
            "_model_module": "@jupyter-widgets/base",
            "_model_module_version": "1.2.0",
            "_model_name": "LayoutModel",
            "_view_count": null,
            "_view_module": "@jupyter-widgets/base",
            "_view_module_version": "1.2.0",
            "_view_name": "LayoutView",
            "align_content": null,
            "align_items": null,
            "align_self": null,
            "border": null,
            "bottom": null,
            "display": null,
            "flex": null,
            "flex_flow": null,
            "grid_area": null,
            "grid_auto_columns": null,
            "grid_auto_flow": null,
            "grid_auto_rows": null,
            "grid_column": null,
            "grid_gap": null,
            "grid_row": null,
            "grid_template_areas": null,
            "grid_template_columns": null,
            "grid_template_rows": null,
            "height": null,
            "justify_content": null,
            "justify_items": null,
            "left": null,
            "margin": null,
            "max_height": null,
            "max_width": null,
            "min_height": null,
            "min_width": null,
            "object_fit": null,
            "object_position": null,
            "order": null,
            "overflow": null,
            "overflow_x": null,
            "overflow_y": null,
            "padding": null,
            "right": null,
            "top": null,
            "visibility": null,
            "width": null
          }
        },
        "957a087a1f1e477fafad91c3248e2165": {
          "model_module": "@jupyter-widgets/controls",
          "model_name": "DescriptionStyleModel",
          "model_module_version": "1.5.0",
          "state": {
            "_model_module": "@jupyter-widgets/controls",
            "_model_module_version": "1.5.0",
            "_model_name": "DescriptionStyleModel",
            "_view_count": null,
            "_view_module": "@jupyter-widgets/base",
            "_view_module_version": "1.2.0",
            "_view_name": "StyleView",
            "description_width": ""
          }
        },
        "9ab68302569546809a9bfb544d630095": {
          "model_module": "@jupyter-widgets/base",
          "model_name": "LayoutModel",
          "model_module_version": "1.2.0",
          "state": {
            "_model_module": "@jupyter-widgets/base",
            "_model_module_version": "1.2.0",
            "_model_name": "LayoutModel",
            "_view_count": null,
            "_view_module": "@jupyter-widgets/base",
            "_view_module_version": "1.2.0",
            "_view_name": "LayoutView",
            "align_content": null,
            "align_items": null,
            "align_self": null,
            "border": null,
            "bottom": null,
            "display": null,
            "flex": null,
            "flex_flow": null,
            "grid_area": null,
            "grid_auto_columns": null,
            "grid_auto_flow": null,
            "grid_auto_rows": null,
            "grid_column": null,
            "grid_gap": null,
            "grid_row": null,
            "grid_template_areas": null,
            "grid_template_columns": null,
            "grid_template_rows": null,
            "height": null,
            "justify_content": null,
            "justify_items": null,
            "left": null,
            "margin": null,
            "max_height": null,
            "max_width": null,
            "min_height": null,
            "min_width": null,
            "object_fit": null,
            "object_position": null,
            "order": null,
            "overflow": null,
            "overflow_x": null,
            "overflow_y": null,
            "padding": null,
            "right": null,
            "top": null,
            "visibility": null,
            "width": null
          }
        },
        "ebb8a29813594644a89c839be757437c": {
          "model_module": "@jupyter-widgets/controls",
          "model_name": "ProgressStyleModel",
          "model_module_version": "1.5.0",
          "state": {
            "_model_module": "@jupyter-widgets/controls",
            "_model_module_version": "1.5.0",
            "_model_name": "ProgressStyleModel",
            "_view_count": null,
            "_view_module": "@jupyter-widgets/base",
            "_view_module_version": "1.2.0",
            "_view_name": "StyleView",
            "bar_color": null,
            "description_width": ""
          }
        },
        "95dabe64ddc7493a9fbfdce32f89cb7f": {
          "model_module": "@jupyter-widgets/base",
          "model_name": "LayoutModel",
          "model_module_version": "1.2.0",
          "state": {
            "_model_module": "@jupyter-widgets/base",
            "_model_module_version": "1.2.0",
            "_model_name": "LayoutModel",
            "_view_count": null,
            "_view_module": "@jupyter-widgets/base",
            "_view_module_version": "1.2.0",
            "_view_name": "LayoutView",
            "align_content": null,
            "align_items": null,
            "align_self": null,
            "border": null,
            "bottom": null,
            "display": null,
            "flex": null,
            "flex_flow": null,
            "grid_area": null,
            "grid_auto_columns": null,
            "grid_auto_flow": null,
            "grid_auto_rows": null,
            "grid_column": null,
            "grid_gap": null,
            "grid_row": null,
            "grid_template_areas": null,
            "grid_template_columns": null,
            "grid_template_rows": null,
            "height": null,
            "justify_content": null,
            "justify_items": null,
            "left": null,
            "margin": null,
            "max_height": null,
            "max_width": null,
            "min_height": null,
            "min_width": null,
            "object_fit": null,
            "object_position": null,
            "order": null,
            "overflow": null,
            "overflow_x": null,
            "overflow_y": null,
            "padding": null,
            "right": null,
            "top": null,
            "visibility": null,
            "width": null
          }
        },
        "dc354c7b71994f71b5ba8e1e3d39bafc": {
          "model_module": "@jupyter-widgets/controls",
          "model_name": "DescriptionStyleModel",
          "model_module_version": "1.5.0",
          "state": {
            "_model_module": "@jupyter-widgets/controls",
            "_model_module_version": "1.5.0",
            "_model_name": "DescriptionStyleModel",
            "_view_count": null,
            "_view_module": "@jupyter-widgets/base",
            "_view_module_version": "1.2.0",
            "_view_name": "StyleView",
            "description_width": ""
          }
        }
      }
    }
  },
  "nbformat": 4,
  "nbformat_minor": 0
}