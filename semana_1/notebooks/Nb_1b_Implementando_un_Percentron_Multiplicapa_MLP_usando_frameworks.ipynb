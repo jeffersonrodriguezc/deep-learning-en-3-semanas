{
 "cells": [
  {
   "cell_type": "markdown",
   "metadata": {},
   "source": [
    "# Implementado un Perceptrón multi-capa usando frameworks"
   ]
  },
  {
   "cell_type": "markdown",
   "metadata": {},
   "source": [
    "[![Open In Colab](https://colab.research.google.com/assets/colab-badge.svg)](https://colab.research.google.com/github/jeffersonrodriguezc/deep-learning-en-3-semanas/blob/main/semana_1/notebooks/Nb_1b_Implementando_un_Percentron_Multiplicapa_MLP_usando_frameworks.ipynb)"
   ]
  },
  {
   "cell_type": "code",
   "execution_count": 3,
   "metadata": {
    "cellView": "form",
    "id": "uCHORJqNVunx"
   },
   "outputs": [],
   "source": [
    "#@title Importar librerías\n",
    "#importar librerías necesarias\n",
    "import random\n",
    "import numpy as np\n",
    "import pandas as pd\n",
    "from tqdm.notebook import tqdm\n",
    "from matplotlib import pyplot as plt\n",
    "from sklearn.datasets import make_moons\n",
    "from sklearn.model_selection import train_test_split\n",
    "from sklearn.base import BaseEstimator, ClassifierMixin, RegressorMixin"
   ]
  },
  {
   "cell_type": "code",
   "execution_count": 4,
   "metadata": {
    "id": "CMGR5Vj_WGs3"
   },
   "outputs": [],
   "source": [
    "#@title Funciones complementarias"
   ]
  },
  {
   "cell_type": "code",
   "execution_count": null,
   "metadata": {},
   "outputs": [],
   "source": [
    "def plot_weights_history(pesos_historia_capa_oculta, pesos_historia_capa_salida):\n",
    "    epochs = len(pesos_historia_capa_oculta)\n",
    "\n",
    "    # Crear subplots para las capas oculta y de salida\n",
    "    fig, ax = plt.subplots(2, 1, figsize=(12, 8))\n",
    "\n",
    "    # Evolución de los pesos en la capa oculta\n",
    "    for i in range(pesos_historia_capa_oculta[0].shape[0]):\n",
    "        for j in range(pesos_historia_capa_oculta[0].shape[1]):\n",
    "            ax[0].plot(range(epochs), [pesos_historia_capa_oculta[k][i, j] for k in range(epochs)],\n",
    "                       label=f'Peso oculto ({i},{j})')\n",
    "\n",
    "    ax[0].set_title('Evolución de los Pesos de la Capa Oculta')\n",
    "    ax[0].set_xlabel('Épocas')\n",
    "    ax[0].set_ylabel('Valor del Peso')\n",
    "    ax[0].legend()\n",
    "    ax[0].grid(True)\n",
    "\n",
    "    # Evolución de los pesos en la capa de salida\n",
    "    for i in range(pesos_historia_capa_salida[0].shape[0]):\n",
    "        for j in range(pesos_historia_capa_salida[0].shape[1]):\n",
    "            ax[1].plot(range(epochs), [pesos_historia_capa_salida[k][i, j] for k in range(epochs)],\n",
    "                       label=f'Peso salida ({i},{j})')\n",
    "\n",
    "    ax[1].set_title('Evolución de los Pesos de la Capa de Salida')\n",
    "    ax[1].set_xlabel('Épocas')\n",
    "    ax[1].set_ylabel('Valor del Peso')\n",
    "    ax[1].legend()\n",
    "    ax[1].grid(True)\n",
    "\n",
    "    plt.tight_layout()\n",
    "    plt.show()\n",
    "\n",
    "# Llamar a la función después de entrenar el modelo\n",
    "plot_weights_history(mlp.pesos_historia_capa_oculta, mlp.pesos_historia_capa_salida)"
   ]
  }
 ],
 "metadata": {
  "colab": {
   "provenance": []
  },
  "kernelspec": {
   "display_name": "Python 3 (ipykernel)",
   "language": "python",
   "name": "python3"
  },
  "language_info": {
   "codemirror_mode": {
    "name": "ipython",
    "version": 3
   },
   "file_extension": ".py",
   "mimetype": "text/x-python",
   "name": "python",
   "nbconvert_exporter": "python",
   "pygments_lexer": "ipython3",
   "version": "3.10.12"
  }
 },
 "nbformat": 4,
 "nbformat_minor": 4
}
