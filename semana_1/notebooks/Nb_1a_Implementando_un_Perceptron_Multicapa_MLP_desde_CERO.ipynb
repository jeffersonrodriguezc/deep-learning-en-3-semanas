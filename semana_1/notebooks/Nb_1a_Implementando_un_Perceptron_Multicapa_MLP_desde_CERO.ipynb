{
  "cells": [
    {
      "cell_type": "markdown",
      "metadata": {
        "id": "4Dbyy2ivUerF"
      },
      "source": [
        "# Implementando un Perceptrón Multi-capa (MLP) desde CERO usando python"
      ]
    },
    {
      "cell_type": "markdown",
      "metadata": {
        "id": "fbx0XX5HUerG"
      },
      "source": [
        "[![Open In Colab](https://colab.research.google.com/assets/colab-badge.svg)](https://colab.research.google.com/github/jeffersonrodriguezc/deep-learning-en-3-semanas/blob/main/semana_1/notebooks/Nb_1a_Implementando_un_Perceptron_Multicapa_MLP_desde_CERO.ipynb)"
      ]
    },
    {
      "cell_type": "code",
      "execution_count": null,
      "metadata": {
        "cellView": "form",
        "id": "uCHORJqNVunx"
      },
      "outputs": [],
      "source": [
        "#@title Importar librerías\n",
        "#importar librerías necesarias\n",
        "import random\n",
        "import numpy as np\n",
        "import pandas as pd\n",
        "from tqdm.notebook import tqdm\n",
        "from matplotlib import pyplot as plt\n",
        "from sklearn.datasets import make_moons\n",
        "from sklearn.metrics import ConfusionMatrixDisplay\n",
        "from sklearn.model_selection import train_test_split\n",
        "from sklearn.metrics import classification_report, confusion_matrix"
      ]
    },
    {
      "cell_type": "code",
      "execution_count": null,
      "metadata": {
        "id": "CMGR5Vj_WGs3",
        "cellView": "form"
      },
      "outputs": [],
      "source": [
        "#@title Funciones complementarias\n",
        "def plot_dataset(X_train, y_train, X_test, y_test):\n",
        "    # Tamaño de paso en la grilla de valores\n",
        "    # (para la visualización del espacio de características)\n",
        "    h = 0.02\n",
        "\n",
        "    # Definir los límites del gráfico en el eje x e y basados\n",
        "    # en los datos de entrenamiento\n",
        "    x_min, x_max = X[:, 0].min() - 0.5, X[:, 0].max() + 0.5\n",
        "    y_min, y_max = X[:, 1].min() - 0.5, X[:, 1].max() + 0.5\n",
        "\n",
        "    # Crear una malla de puntos para cubrir el espacio de características\n",
        "    xx, yy = np.meshgrid(np.arange(x_min, x_max, h), np.arange(y_min, y_max, h))\n",
        "\n",
        "    # Creación del lienzo para visualizar los datos\n",
        "    fig, ax = plt.subplots(1,1, figsize=(8, 5))\n",
        "\n",
        "    # Agregar titulo a la grafica\n",
        "    ax.set_title(\"Dataset linealmente no separable\")\n",
        "\n",
        "    # Agregar nombres a cada eje de caracteristica\n",
        "    ax.set_xlabel(\"Característica x_1\")\n",
        "    ax.set_ylabel(\"Característica x_2\")\n",
        "\n",
        "    # Puntos de entrenamiento\n",
        "    ax.scatter(X_train[y_train == 0, 0], X_train[y_train == 0, 1],\n",
        "               c=\"#FF0000\", edgecolors=\"k\", label='Clase de entrenamiento 1')\n",
        "    ax.scatter(X_train[y_train == 1, 0], X_train[y_train == 1, 1],\n",
        "               c=\"#0000FF\", edgecolors=\"k\", label='Clase de entrenamiento 2')\n",
        "\n",
        "    # Puntos de prueba\n",
        "    ax.scatter(X_test[y_test == 0, 0], X_test[y_test == 0, 1],\n",
        "               c=\"#FF0000\", edgecolors=\"k\", alpha=0.6, label='Clase de prueba 1')\n",
        "    ax.scatter(X_test[y_test == 1, 0], X_test[y_test == 1, 1],\n",
        "               c=\"#0000FF\", edgecolors=\"k\", alpha=0.6, label='Clase de prueba 2')\n",
        "\n",
        "    # Establecer los límites del gráfico para asegurar que todos los puntos sean visibles\n",
        "    ax.set_xlim(xx.min(), xx.max())\n",
        "    ax.set_ylim(yy.min(), yy.max())\n",
        "\n",
        "    # Eliminar las marcas en los ejes x e y para un gráfico más limpio\n",
        "    ax.set_xticks(())\n",
        "    ax.set_yticks(())\n",
        "\n",
        "    # Añadir una leyenda para identificar las clases de los\n",
        "    # puntos de entrenamiento y prueba\n",
        "    ax.legend()\n",
        "\n",
        "    # mostrar el grafico\n",
        "    plt.show()\n",
        "\n",
        "def plot_decision_boundary(mlp, X, y, h=0.02):\n",
        "    # Crear una malla de puntos para el espacio de características\n",
        "    x_min, x_max = X[:, 0].min() - 1, X[:, 0].max() + 1\n",
        "    y_min, y_max = X[:, 1].min() - 1, X[:, 1].max() + 1\n",
        "    xx, yy = np.meshgrid(np.arange(x_min, x_max, h),\n",
        "                         np.arange(y_min, y_max, h))\n",
        "\n",
        "    # por cada punto de la grilla, hacer una predicción del MLP\n",
        "    Z = np.array([mlp.prediccion([np.array([xx.ravel()[i], yy.ravel()[i]])])\n",
        "                  for i in range(len(xx.ravel()))])\n",
        "\n",
        "    # redimensionar para que tenga el mismo shape de la grilla\n",
        "    Z = Z.reshape(xx.shape)\n",
        "\n",
        "    # crear una figura de dos subplots\n",
        "    fig, ax = plt.subplots(1, 2, figsize=(12, 5))\n",
        "\n",
        "    # Graficar los puntos originales\n",
        "    ax[0].set_title('Puntos originales')\n",
        "    ax[0].scatter(X[:, 0], X[:, 1], c=y, cmap=plt.cm.RdBu,\n",
        "                  edgecolors='k', alpha=0.6)\n",
        "\n",
        "    # Graficar los puntos de entrenamiento\n",
        "    ax[1].set_title('Frontera de decisión generada por el MLP')\n",
        "    ax[1].scatter(X[:, 0], X[:, 1], c=y, edgecolors='k', cmap=plt.cm.RdBu)\n",
        "    # Graficar la frontera de decisión con un contorno\n",
        "    ax[1].contourf(xx, yy, Z, alpha=0.6, cmap=plt.cm.RdBu)\n",
        "\n",
        "    # mejorar la visualización\n",
        "    for i in range(2):\n",
        "        ax[i].set_xlim(xx.min(), xx.max())\n",
        "        ax[i].set_ylim(yy.min(), yy.max())\n",
        "        ax[i].set_xticks(())\n",
        "        ax[i].set_yticks(())\n",
        "        ax[i].set_xlabel(\"Característica x_1\")\n",
        "        ax[i].set_ylabel(\"Característica x_2\")\n",
        "\n",
        "    plt.show()\n",
        "\n",
        "def plot_cost_history(costo_historia):\n",
        "    # Grafica el cambio del costo en el entrenamiento\n",
        "    plt.figure(figsize=(8, 4))\n",
        "    plt.plot(costo_historia, label='Costo')\n",
        "    plt.title('Historia del Costo')\n",
        "    plt.xlabel('Épocas')\n",
        "    plt.ylabel('Costo')\n",
        "    plt.legend()\n",
        "    plt.grid(True)\n",
        "    plt.show()"
      ]
    },
    {
      "cell_type": "markdown",
      "metadata": {
        "id": "qVeuM_BscJhS"
      },
      "source": [
        "# Creación dataset sintético"
      ]
    },
    {
      "cell_type": "code",
      "execution_count": null,
      "metadata": {
        "id": "oAY_YH0C7J29"
      },
      "outputs": [],
      "source": [
        "# creación de dataset sintético linealmente no separable\n",
        "# usando sklearn\n",
        "X, y = make_moons(n_samples=150, noise=0.5, random_state=0)"
      ]
    },
    {
      "cell_type": "code",
      "execution_count": null,
      "metadata": {
        "id": "D1ZOnbfmVNIH"
      },
      "outputs": [],
      "source": [
        "# dividimos la información para entrenamiento y prueba\n",
        "X_train, X_test, y_train, y_test = train_test_split(\n",
        "        X, y, test_size=0.3, random_state=42\n",
        "    )"
      ]
    },
    {
      "cell_type": "code",
      "execution_count": null,
      "metadata": {
        "colab": {
          "base_uri": "https://localhost:8080/",
          "height": 464
        },
        "id": "jat821jLVNK2",
        "outputId": "30df885a-6d73-4943-9a98-4111c0704a54"
      },
      "outputs": [
        {
          "data": {
            "image/png": "[encoded data removed]",
            "text/plain": [
              "<Figure size 800x500 with 1 Axes>"
            ]
          },
          "metadata": {},
          "output_type": "display_data"
        }
      ],
      "source": [
        "# Visualización del conjunto de prueba creado\n",
        "plot_dataset(X_train, y_train, X_test, y_test)"
      ]
    },
    {
      "cell_type": "markdown",
      "metadata": {
        "id": "V-j4tHbEfY0T"
      },
      "source": [
        "# Creación del MLP\n",
        "\n",
        "Nuestra implementación de un MLP en python tendrá la siguiente estructura:"
      ]
    },
    {
      "cell_type": "markdown",
      "metadata": {
        "id": "eGdUykuweiNl"
      },
      "source": [
        "```python\n",
        "class PerceptronMulticapa():\n",
        "    def __init__(self, params=None):\n",
        "      pass\n",
        "\n",
        "    def inicializacion(self):\n",
        "        return None\n",
        "\n",
        "    def forward_pass(self):\n",
        "        return None\n",
        "\n",
        "    def backward_pass(self):\n",
        "        return None\n",
        "\n",
        "    def calcular_perdida_entropia_cruzada(self):\n",
        "        return None\n",
        "\n",
        "    def actualizar_pesos(self):\n",
        "        return None\n",
        "\n",
        "    def prediccion(self):\n",
        "        return None\n",
        "\n",
        "    def entrenar(self):\n",
        "        return None\n",
        "\n",
        "    def evaluar(self):\n",
        "        return None\n",
        "```"
      ]
    },
    {
      "cell_type": "code",
      "execution_count": null,
      "metadata": {
        "id": "5EHlW05jCj9v"
      },
      "outputs": [],
      "source": [
        "params = {}\n",
        "params['capa_entrada'] = 2\n",
        "params['capa_oculta'] = 50\n",
        "params['capa_salida'] = 1\n",
        "params['epochs'] = 100\n",
        "params['lr'] = 0.1"
      ]
    },
    {
      "cell_type": "markdown",
      "metadata": {
        "id": "aYkeupE2UerO"
      },
      "source": [
        "## 1. Inicialización\n",
        "\n",
        "Asignación de atributos e inicialización de pesos y biases"
      ]
    },
    {
      "cell_type": "code",
      "execution_count": null,
      "metadata": {
        "id": "BmvTqnwfUerO"
      },
      "outputs": [],
      "source": [
        "class PerceptronMulticapa():\n",
        "    def __init__(self, params=None):\n",
        "        # Asignación de hiperparámetros\n",
        "        self.capa_entrada = params['capa_entrada']\n",
        "        self.capa_oculta = params['capa_oculta']\n",
        "        self.capa_salida = params['capa_salida']\n",
        "        self.epochs = params['epochs']\n",
        "        self.lr = params['lr']\n",
        "        self.relu = (lambda x: x*(x > 0))\n",
        "        self.derivada_relu = (lambda x: 1 * (x>0))\n",
        "        self.sigmoide = (lambda x: 1/(1 + np.exp(-x)))\n",
        "        self.derivada_sigmoide = (lambda x: x*(1-x))\n",
        "\n",
        "        # inicialización de pesos y bias\n",
        "        self.inicializacion()\n",
        "\n",
        "    def inicializacion(self):\n",
        "        # inicialización de pesos y bias aleatoria\n",
        "        np.random.seed(42) # fijar una semilla para reproducir resultados\n",
        "\n",
        "        # Capa Oculta\n",
        "        self.pesos_capa_oculta = np.random.rand(self.capa_oculta, self.capa_entrada)\n",
        "        self.bias_capa_oculta = np.ones((self.capa_oculta, 1))\n",
        "\n",
        "        # Capa de salida\n",
        "        self.pesos_capa_salida = np.random.rand(self.capa_salida, self.capa_oculta)\n",
        "        self.bias_capa_salida = np.ones((self.capa_salida, 1))"
      ]
    },
    {
      "cell_type": "code",
      "execution_count": null,
      "metadata": {
        "id": "VVgd0FY0UerP"
      },
      "outputs": [],
      "source": [
        "# Instanciamos nuestro perceptrón multicapa\n",
        "mlp =  PerceptronMulticapa(params)"
      ]
    },
    {
      "cell_type": "code",
      "execution_count": null,
      "metadata": {
        "id": "1EnTlOXSUerP",
        "outputId": "34f3ba69-b483-4432-fad4-01e6725287ac"
      },
      "outputs": [
        {
          "name": "stdout",
          "output_type": "stream",
          "text": [
            "Dimensión pesos capa oculta: (50, 2)\n",
            "Dimensión biases capa oculta: (50, 1)\n",
            "Dimensión pesos capa salida: (1, 50)\n",
            "Dimensión bias capa salida: (1, 1)\n"
          ]
        }
      ],
      "source": [
        "print('Dimensión pesos capa oculta: {}'.format(mlp.pesos_capa_oculta.shape))\n",
        "print('Dimensión biases capa oculta: {}'.format(mlp.bias_capa_oculta.shape))\n",
        "print('Dimensión pesos capa salida: {}'.format(mlp.pesos_capa_salida.shape))\n",
        "print('Dimensión bias capa salida: {}'.format(mlp.bias_capa_salida.shape))"
      ]
    },
    {
      "cell_type": "code",
      "execution_count": null,
      "metadata": {
        "id": "6E2V4n3aUerQ",
        "outputId": "49c561be-75fe-4586-cde7-c792eaf1e4e9"
      },
      "outputs": [
        {
          "data": {
            "text/plain": [
              "array([[0.03142919, 0.63641041, 0.31435598, 0.50857069, 0.90756647,\n",
              "        0.24929223, 0.41038292, 0.75555114, 0.22879817, 0.07697991,\n",
              "        0.28975145, 0.16122129, 0.92969765, 0.80812038, 0.63340376,\n",
              "        0.87146059, 0.80367208, 0.18657006, 0.892559  , 0.53934224,\n",
              "        0.80744016, 0.8960913 , 0.31800347, 0.11005192, 0.22793516,\n",
              "        0.42710779, 0.81801477, 0.86073058, 0.00695213, 0.5107473 ,\n",
              "        0.417411  , 0.22210781, 0.11986537, 0.33761517, 0.9429097 ,\n",
              "        0.32320293, 0.51879062, 0.70301896, 0.3636296 , 0.97178208,\n",
              "        0.96244729, 0.2517823 , 0.49724851, 0.30087831, 0.28484049,\n",
              "        0.03688695, 0.60956433, 0.50267902, 0.05147875, 0.27864646]])"
            ]
          },
          "execution_count": 35,
          "metadata": {},
          "output_type": "execute_result"
        }
      ],
      "source": [
        "# ejemplo pesos capa salida\n",
        "mlp.pesos_capa_salida"
      ]
    },
    {
      "cell_type": "markdown",
      "metadata": {
        "id": "xg42jBcrUerR"
      },
      "source": [
        "## 2. Propagación hacia adelante (forward)\n",
        "\n",
        "Método de propagación hacia adelante"
      ]
    },
    {
      "cell_type": "code",
      "execution_count": null,
      "metadata": {
        "id": "TUulMVm3UerS"
      },
      "outputs": [],
      "source": [
        "def forward_pass(self, x):\n",
        "    # Realizar la operacion Wx + b de la capa oculta, x = x_0\n",
        "    z = np.matmul(self.pesos_capa_oculta, x) + self.bias_capa_oculta\n",
        "    # Aplicar función de activación\n",
        "    h = self.relu(z) # z = x_1, h = x_2\n",
        "\n",
        "    # Aplicar la operación Wh + b para generar la salida, y = x_3\n",
        "    y = np.matmul(self.pesos_capa_salida, h) + self.bias_capa_salida\n",
        "    # Aplicar función de activación softmax para la clasificación\n",
        "    y_pred = self.sigmoide(y) # y = x_4\n",
        "\n",
        "    return z, h, y_pred"
      ]
    },
    {
      "cell_type": "code",
      "execution_count": null,
      "metadata": {
        "id": "uJwNuFtrUerT"
      },
      "outputs": [],
      "source": [
        "# Añadimos nuestro nuevo método\n",
        "setattr(PerceptronMulticapa, 'forward_pass', forward_pass)"
      ]
    },
    {
      "cell_type": "code",
      "execution_count": null,
      "metadata": {
        "id": "kaL34in3UerT"
      },
      "outputs": [],
      "source": [
        "# seleccionamos una muestra del dataset\n",
        "# por ser solo uno se redimensiona para que tenga la estructura de entrada propia\n",
        "x_i = X_train[0,:].reshape((-1, 1))\n",
        "z, h, y_pred = mlp.forward_pass(x_i)"
      ]
    },
    {
      "cell_type": "code",
      "execution_count": null,
      "metadata": {
        "id": "pR4Uk3BRUerT",
        "outputId": "b94f9f72-f3d5-4e67-8d00-5b633451a37a"
      },
      "outputs": [
        {
          "name": "stdout",
          "output_type": "stream",
          "text": [
            "Dimensión biases capa oculta: (50, 1)\n",
            "Dimensión de la capa oculta: (50, 1)\n",
            "Predicción: [[1.]]\n",
            "Capa oculta: [[0.72633077]\n",
            " [1.01761811]\n",
            " [0.99129875]\n",
            " [0.64226347]\n",
            " [0.91951467]\n",
            " [0.58240149]\n",
            " [1.22554416]\n",
            " [0.98915428]\n",
            " [0.88627666]\n",
            " [1.03760999]\n",
            " [1.17304912]\n",
            " [0.95112959]\n",
            " [0.83016191]\n",
            " [0.85085938]\n",
            " [1.20642355]\n",
            " [1.1577875 ]\n",
            " [0.60864823]\n",
            " [1.01505623]\n",
            " [1.07377182]\n",
            " [1.06886654]\n",
            " [0.82949748]\n",
            " [0.61426555]\n",
            " [0.80843687]\n",
            " [0.89119274]\n",
            " [1.12821114]\n",
            " [1.03116189]\n",
            " [0.96713639]\n",
            " [0.82449353]\n",
            " [0.94790496]\n",
            " [0.87459926]\n",
            " [1.02976633]\n",
            " [1.1607742 ]\n",
            " [0.86948377]\n",
            " [0.70204454]\n",
            " [0.59561443]\n",
            " [1.20847428]\n",
            " [0.64438828]\n",
            " [0.95081357]\n",
            " [1.26279179]\n",
            " [1.08640592]\n",
            " [1.05700326]\n",
            " [1.09879949]\n",
            " [0.97640557]\n",
            " [0.99963981]\n",
            " [1.13251031]\n",
            " [0.73290002]\n",
            " [1.0450389 ]\n",
            " [1.0785398 ]\n",
            " [1.0125701 ]\n",
            " [0.96240177]]\n"
          ]
        }
      ],
      "source": [
        "print('Dimensión biases capa oculta: {}'.format(z.shape))\n",
        "print('Dimensión de la capa oculta: {}'.format(h.shape))\n",
        "print('Predicción: {}'.format(y_pred))\n",
        "print('Capa oculta: {}'.format(h))"
      ]
    },
    {
      "cell_type": "markdown",
      "metadata": {
        "id": "cFNUI4lFUerU"
      },
      "source": [
        "## 3. Función para calcular el error\n",
        "\n",
        "Método que permite conocer el error de una predicción con respecto a la etiqueta real."
      ]
    },
    {
      "cell_type": "code",
      "execution_count": null,
      "metadata": {
        "id": "y7xpK3cIUerU"
      },
      "outputs": [],
      "source": [
        "def calcular_perdida_entropia_cruzada(self, y_real, y_pred):\n",
        "    epsilon = 1e-12\n",
        "    # asegura que los valores de las predicciones esten en un rango\n",
        "    # seguro para evitar logaritmos de 0 y 1\n",
        "    y_pred = np.clip(y_pred, epsilon, 1 - epsilon)\n",
        "    # calculo de la perdida\n",
        "    perdida = -(((1 - y_real) * np.log(1 - y_pred + epsilon)) + (y_real * np.log(y_pred + epsilon)))\n",
        "\n",
        "    return perdida"
      ]
    },
    {
      "cell_type": "code",
      "execution_count": null,
      "metadata": {
        "id": "DYk8AZH7UerU"
      },
      "outputs": [],
      "source": [
        "# Añadimos nuestro nuevo método\n",
        "setattr(PerceptronMulticapa, 'calcular_perdida_entropia_cruzada', calcular_perdida_entropia_cruzada)"
      ]
    },
    {
      "cell_type": "code",
      "execution_count": null,
      "metadata": {
        "id": "W7MMzDmcUerU",
        "outputId": "e08723cd-09e1-47e2-fa94-e7340e04ea8e"
      },
      "outputs": [
        {
          "name": "stdout",
          "output_type": "stream",
          "text": [
            "Error: [[6.67165212e-11]]\n"
          ]
        }
      ],
      "source": [
        "# Probamos nuestra función de error\n",
        "y_real = y_train[0]\n",
        "error = mlp.calcular_perdida_entropia_cruzada(y_real, y_pred)\n",
        "print(f'Error: {error}')"
      ]
    },
    {
      "cell_type": "markdown",
      "metadata": {
        "id": "qByXGF7lUerU"
      },
      "source": [
        "## 4. Propagación hacía atrás (backward)\n",
        "\n",
        "Método para propagar los errores hacía atrás."
      ]
    },
    {
      "cell_type": "code",
      "execution_count": null,
      "metadata": {
        "id": "7RJr0KA2UerU"
      },
      "outputs": [],
      "source": [
        "def backward_pass(self, x, z, y_real, h, y_pred):\n",
        "    # Propagación de error en la capa de salida\n",
        "    # Calculo de error en la capa de salida g_out\n",
        "    #error_salida =  (y_pred - y_real) * self.derivada_sigmoide(y_pred)\n",
        "    error_salida =  y_pred - y_real\n",
        "\n",
        "    # gradiente de los pesos respecto a la capa de salida\n",
        "    # X_in * g_out = error_salida * h.T\n",
        "    # X_in = h es la entrada a la capa de salida\n",
        "    self.gradiente_pesos_capa_salida = np.matmul(error_salida, h.T)\n",
        "    # gradiente de los bias respecto a la capa de salida\n",
        "    self.gradiente_bias_capa_salida = error_salida\n",
        "\n",
        "    # Propagación de error en la capa oculta\n",
        "    # gradiente respecto a la capa oculta\n",
        "    # (g_out * W) * relu'(X_in)\n",
        "    # X_in en esta capa es la salida de aplicar la primera transformación\n",
        "    error_oculta = np.matmul(self.pesos_capa_salida.T, error_salida) * self.derivada_relu(z)\n",
        "    # gradientes con respecto a la capa oculta, de nuevo g_out * X_in\n",
        "    self.gradiente_pesos_capa_oculta = np.matmul(error_oculta, x.T)\n",
        "    self.gradiente_bias_capa_oculta = error_oculta"
      ]
    },
    {
      "cell_type": "code",
      "execution_count": null,
      "metadata": {
        "id": "ovUXfvjJUerU"
      },
      "outputs": [],
      "source": [
        "# Añadimos nuestro nuevo método\n",
        "setattr(PerceptronMulticapa, 'backward_pass', backward_pass)"
      ]
    },
    {
      "cell_type": "code",
      "execution_count": null,
      "metadata": {
        "id": "-9gBkITlUerU"
      },
      "outputs": [],
      "source": [
        "# calcular propagación de errores\n",
        "mlp.backward_pass(x_i, z, y_real, h, y_pred)"
      ]
    },
    {
      "cell_type": "code",
      "execution_count": null,
      "metadata": {
        "id": "sjd2NixAUerV",
        "outputId": "4efe9d4d-8793-423b-df3a-8aa68ede7545"
      },
      "outputs": [
        {
          "name": "stdout",
          "output_type": "stream",
          "text": [
            "Dimensión gradientes capa oculta: (50, 2)\n",
            "Gradientes capa oculta: [[-8.14789923e-13  9.33629314e-13]\n",
            " [-1.64987027e-11  1.89050846e-11]\n",
            " [-8.14956162e-12  9.33819800e-12]\n",
            " [-1.31845056e-11  1.51075026e-11]\n",
            " [-2.35283225e-11  2.69599942e-11]\n",
            " [-6.46280811e-12  7.40542677e-12]\n",
            " [-1.06390243e-11  1.21907558e-11]\n",
            " [-1.95873816e-11  2.24442561e-11]\n",
            " [-5.93150715e-12  6.79663407e-12]\n",
            " [-1.99567547e-12  2.28675032e-12]\n",
            " [-7.51169840e-12  8.60730064e-12]\n",
            " [-4.17960177e-12  4.78920839e-12]\n",
            " [-2.41020651e-11  2.76174187e-11]\n",
            " [-2.09502196e-11  2.40058678e-11]\n",
            " [-1.64207563e-11  1.88157695e-11]\n",
            " [-2.25922909e-11  2.58874398e-11]\n",
            " [-2.08348990e-11  2.38737273e-11]\n",
            " [-4.83675923e-12  5.54221410e-12]\n",
            " [-2.31392593e-11  2.65141851e-11]\n",
            " [-1.39822466e-11  1.60215964e-11]\n",
            " [-2.09325850e-11  2.39856612e-11]\n",
            " [-2.32308329e-11  2.66191149e-11]\n",
            " [-8.24412154e-12  9.44654975e-12]\n",
            " [-2.85305512e-12  3.26918119e-12]\n",
            " [-5.90913412e-12  6.77099787e-12]\n",
            " [-1.10726102e-11  1.26875814e-11]\n",
            " [-2.12067279e-11  2.42997885e-11]\n",
            " [-2.23141195e-11  2.55686963e-11]\n",
            " [-1.80231392e-13  2.06518646e-13]\n",
            " [-1.32409334e-11  1.51721606e-11]\n",
            " [-1.08212247e-11  1.23995306e-11]\n",
            " [-5.75806219e-12  6.59789168e-12]\n",
            " [-3.10746496e-12  3.56069743e-12]\n",
            " [-8.75254746e-12  1.00291310e-11]\n",
            " [-2.44445826e-11  2.80098934e-11]\n",
            " [-8.37891553e-12  9.60100382e-12]\n",
            " [-1.34494535e-11  1.54110939e-11]\n",
            " [-1.82255044e-11  2.08837453e-11]\n",
            " [-9.42696189e-12  1.08019107e-11]\n",
            " [-2.51930882e-11  2.88675707e-11]\n",
            " [-2.49510873e-11  2.85902733e-11]\n",
            " [-6.52736216e-12  7.47939620e-12]\n",
            " [-1.28909822e-11  1.47711680e-11]\n",
            " [-7.80015802e-12  8.93783290e-12]\n",
            " [-7.38438363e-12  8.46141666e-12]\n",
            " [-9.56280359e-13  1.09575653e-12]\n",
            " [-1.58027281e-11  1.81076003e-11]\n",
            " [-1.30317663e-11  1.49324859e-11]\n",
            " [-1.33456744e-12  1.52921783e-12]\n",
            " [-7.22380571e-12  8.27741800e-12]]\n"
          ]
        }
      ],
      "source": [
        "print('Dimensión gradientes capa oculta: {}'.format(mlp.gradiente_pesos_capa_oculta.shape))\n",
        "print('Gradientes capa oculta: {}'.format(mlp.gradiente_pesos_capa_oculta))"
      ]
    },
    {
      "cell_type": "markdown",
      "metadata": {
        "id": "fCP8I2uzUerV"
      },
      "source": [
        "## 5. Entrenamiento\n",
        "\n",
        "Método para iterar sobre todo el conjunto de datos y entrenar la red. Antes se deberá generar otro método que haga la respectiva actualización de pesos, una vez ya los gradientes son calculados."
      ]
    },
    {
      "cell_type": "code",
      "execution_count": null,
      "metadata": {
        "id": "ZLs-Zx04UerV"
      },
      "outputs": [],
      "source": [
        "def actualizar_pesos(self):\n",
        "    # actualizar pesos aplicando gradiente descendiente\n",
        "    self.pesos_capa_salida -= self.lr * self.gradiente_pesos_capa_salida\n",
        "    self.bias_capa_salida -= self.lr * self.gradiente_bias_capa_salida\n",
        "    self.pesos_capa_oculta -= self.lr * self.gradiente_pesos_capa_oculta\n",
        "    self.bias_capa_oculta -= self.lr * self.gradiente_bias_capa_oculta\n",
        "\n",
        "def entrenar(self, X, y):\n",
        "    # almacenar el costo de cada iteración\n",
        "    self.costo_historia = []\n",
        "\n",
        "    # iterar sobre el número de épocas\n",
        "    for iteracion in tqdm(range(self.epochs), desc='Iteraciones'):\n",
        "        # iterar sobre los datos de entrenamiento\n",
        "        error_total = 0 # error para la iteración i\n",
        "        # iterar sobre todo el conjunto de datos\n",
        "        for i, (x_i, y_i) in tqdm(enumerate(zip(X,y)), desc='Datos', leave=False):\n",
        "            # asegurar de que la entrada y la salida solo tenga una columna\n",
        "            x_i = x_i.reshape(-1, 1)\n",
        "            y_i = y_i.reshape(-1, 1)\n",
        "            # aplicar propagación hacia adelante\n",
        "            z, h, y_pred = self.forward_pass(x_i)\n",
        "            # calcular la perdida de entropia cruzada\n",
        "            perdida = self.calcular_perdida_entropia_cruzada(y_i, y_pred)\n",
        "            error_total += perdida\n",
        "            # aplicar propagación hacia atras\n",
        "            self.backward_pass(x_i, z,  y_i, h, y_pred)\n",
        "            # actualizar pesos y bias usando gradiente descendiente\n",
        "            self.actualizar_pesos()\n",
        "\n",
        "        # almacenar los costos de cada iteración\n",
        "        self.costo = error_total / len(X)\n",
        "        self.costo_historia.append(self.costo)\n",
        "\n",
        "    #print(f'costo: {self.costo[0][0]} en la iteración: {iteracion}')"
      ]
    },
    {
      "cell_type": "code",
      "execution_count": null,
      "metadata": {
        "id": "_HJfAC0RUerV"
      },
      "outputs": [],
      "source": [
        "# Añadimos nuestros nuevos métodos\n",
        "setattr(PerceptronMulticapa, 'actualizar_pesos', actualizar_pesos)\n",
        "setattr(PerceptronMulticapa, 'entrenar', entrenar)"
      ]
    },
    {
      "cell_type": "code",
      "execution_count": null,
      "metadata": {
        "id": "zuv-lm4bUerW",
        "outputId": "ad5d491c-fe80-4cef-88cc-337e4dc73af7",
        "colab": {
          "referenced_widgets": [
            "77912adcdb714cfb8def685a6413f794",
            "",
            "4e92c06394fb4e62a94598a9820ba891",
            "45c276c2eecd4d778daab87703864290",
            "e4e91f25109d40f19ca2a02579c895f5",
            "d936cedc94864c2696a05f6a029b41e1",
            "5b0de8b7463644a5bca7d5deeeb28d37",
            "216ba68717a048708d958c4f5c83d5ad",
            "55dbd43b4c954bffa8157249bfb83a19",
            "4bfd6b60c5154e9ab14c85c2f33dcd12",
            "6ccdb7f26119492ba8ab551477738125",
            "2bb9799be53949b7b2539fbb3dbbf016",
            "59bc579b853a4c658f3e8a56449a99bf",
            "c94fe55256294d4c81f36292798bbb9b",
            "493e4fbe5277402da8795903904c0a62",
            "25eb3f62493e4ae4a311840cb56fd94e",
            "46dd78c52fbe4bffa422786967b192c6",
            "f0818fceba5142a4a9bb10f645e4a787",
            "f3069c81d50d4eb88eb6c47e3d329693",
            "0f07a557f0ed4734b1c2eb7ab0d952d7",
            "333e9a690de14955a86bea0a8e30f9a5",
            "41de71e94e8c47d99f8ebc8cfb4b3a94",
            "9b8739333b3f48858f9a4ede2ede846c",
            "52ad49dc83774e76979d19a920dec1b4",
            "5dfa2814804b4b2f8bf0c99df5ad329c",
            "8fbe737585774560b6d42b58588953f8",
            "ca42bdfee24540c49dd8326eaf63a17c",
            "64bf90e9dd4f4bffaa08e99f0203c6ba",
            "d2ca4ac67f0f410d930e4d14022724db",
            "647e44d4e2a84e57b320fe7ebf618eb6",
            "ad122f994caf4f19bdab47a2ff1b6287",
            "0501eaf5c64e46e08d28b4fca2de6bd7",
            "a3058624250a49029c8c3eb76844f7a8",
            "80b8311b44ac4e1e8c19ea2000008b6a",
            "af1a03cf2cf645ef883d4a3d69ff3859",
            "a5dbe3ff848f492b9f05fe032dca0526",
            "f4ef1e3d427547988130c0d5011cb93f",
            "37d640286adf423bbae7c2665b3155f4",
            "ce513d432e8849eea093d5f490731acd",
            "b155cc3f5d3e42aca45f422615129f2b",
            "d15b28fe4f154b20a9f4668de3efb1b8",
            "ed45f9372b644065939f1538ea984735",
            "960a9774751d412fa907176454d883a6",
            "0fe627f85bd4456c942ee719a4552b2a",
            "4a757e94ee3b417eb1782a8204d7724d",
            "2e9a8c2cb7254ceea94186f7f19aeda4",
            "eaaee5ced71b48b992a087313ba1c354",
            "b4107f7131ce443eabcb046b59963a2a",
            "06576bf36f1c4a0db89e2ae36cc9b3ac",
            "d41b1df1e6c043f7b336210e7f134f8b",
            "6c9bb4f4bc6a4166b175149140fdbceb",
            "58150ed1b3d34271a4a0e02c09656401",
            "37fe59aa54d2438e816afa2b45767410"
          ]
        }
      },
      "outputs": [
        {
          "data": {
            "application/vnd.jupyter.widget-view+json": {
              "model_id": "77912adcdb714cfb8def685a6413f794",
              "version_major": 2,
              "version_minor": 0
            },
            "text/plain": [
              "Iteraciones:   0%|          | 0/100 [00:00<?, ?it/s]"
            ]
          },
          "metadata": {},
          "output_type": "display_data"
        },
        {
          "data": {
            "application/vnd.jupyter.widget-view+json": {
              "model_id": "",
              "version_major": 2,
              "version_minor": 0
            },
            "text/plain": [
              "Datos: 0it [00:00, ?it/s]"
            ]
          },
          "metadata": {},
          "output_type": "display_data"
        },
        {
          "data": {
            "application/vnd.jupyter.widget-view+json": {
              "model_id": "",
              "version_major": 2,
              "version_minor": 0
            },
            "text/plain": [
              "Datos: 0it [00:00, ?it/s]"
            ]
          },
          "metadata": {},
          "output_type": "display_data"
        },
        {
          "data": {
            "application/vnd.jupyter.widget-view+json": {
              "model_id": "",
              "version_major": 2,
              "version_minor": 0
            },
            "text/plain": [
              "Datos: 0it [00:00, ?it/s]"
            ]
          },
          "metadata": {},
          "output_type": "display_data"
        },
        {
          "data": {
            "application/vnd.jupyter.widget-view+json": {
              "model_id": "",
              "version_major": 2,
              "version_minor": 0
            },
            "text/plain": [
              "Datos: 0it [00:00, ?it/s]"
            ]
          },
          "metadata": {},
          "output_type": "display_data"
        },
        {
          "data": {
            "application/vnd.jupyter.widget-view+json": {
              "model_id": "",
              "version_major": 2,
              "version_minor": 0
            },
            "text/plain": [
              "Datos: 0it [00:00, ?it/s]"
            ]
          },
          "metadata": {},
          "output_type": "display_data"
        },
        {
          "data": {
            "application/vnd.jupyter.widget-view+json": {
              "model_id": "",
              "version_major": 2,
              "version_minor": 0
            },
            "text/plain": [
              "Datos: 0it [00:00, ?it/s]"
            ]
          },
          "metadata": {},
          "output_type": "display_data"
        },
        {
          "data": {
            "application/vnd.jupyter.widget-view+json": {
              "model_id": "",
              "version_major": 2,
              "version_minor": 0
            },
            "text/plain": [
              "Datos: 0it [00:00, ?it/s]"
            ]
          },
          "metadata": {},
          "output_type": "display_data"
        },
        {
          "data": {
            "application/vnd.jupyter.widget-view+json": {
              "model_id": "",
              "version_major": 2,
              "version_minor": 0
            },
            "text/plain": [
              "Datos: 0it [00:00, ?it/s]"
            ]
          },
          "metadata": {},
          "output_type": "display_data"
        },
        {
          "data": {
            "application/vnd.jupyter.widget-view+json": {
              "model_id": "",
              "version_major": 2,
              "version_minor": 0
            },
            "text/plain": [
              "Datos: 0it [00:00, ?it/s]"
            ]
          },
          "metadata": {},
          "output_type": "display_data"
        },
        {
          "data": {
            "application/vnd.jupyter.widget-view+json": {
              "model_id": "",
              "version_major": 2,
              "version_minor": 0
            },
            "text/plain": [
              "Datos: 0it [00:00, ?it/s]"
            ]
          },
          "metadata": {},
          "output_type": "display_data"
        },
        {
          "data": {
            "application/vnd.jupyter.widget-view+json": {
              "model_id": "",
              "version_major": 2,
              "version_minor": 0
            },
            "text/plain": [
              "Datos: 0it [00:00, ?it/s]"
            ]
          },
          "metadata": {},
          "output_type": "display_data"
        },
        {
          "data": {
            "application/vnd.jupyter.widget-view+json": {
              "model_id": "",
              "version_major": 2,
              "version_minor": 0
            },
            "text/plain": [
              "Datos: 0it [00:00, ?it/s]"
            ]
          },
          "metadata": {},
          "output_type": "display_data"
        },
        {
          "data": {
            "application/vnd.jupyter.widget-view+json": {
              "model_id": "",
              "version_major": 2,
              "version_minor": 0
            },
            "text/plain": [
              "Datos: 0it [00:00, ?it/s]"
            ]
          },
          "metadata": {},
          "output_type": "display_data"
        },
        {
          "data": {
            "application/vnd.jupyter.widget-view+json": {
              "model_id": "",
              "version_major": 2,
              "version_minor": 0
            },
            "text/plain": [
              "Datos: 0it [00:00, ?it/s]"
            ]
          },
          "metadata": {},
          "output_type": "display_data"
        },
        {
          "data": {
            "application/vnd.jupyter.widget-view+json": {
              "model_id": "",
              "version_major": 2,
              "version_minor": 0
            },
            "text/plain": [
              "Datos: 0it [00:00, ?it/s]"
            ]
          },
          "metadata": {},
          "output_type": "display_data"
        },
        {
          "data": {
            "application/vnd.jupyter.widget-view+json": {
              "model_id": "",
              "version_major": 2,
              "version_minor": 0
            },
            "text/plain": [
              "Datos: 0it [00:00, ?it/s]"
            ]
          },
          "metadata": {},
          "output_type": "display_data"
        },
        {
          "data": {
            "application/vnd.jupyter.widget-view+json": {
              "model_id": "",
              "version_major": 2,
              "version_minor": 0
            },
            "text/plain": [
              "Datos: 0it [00:00, ?it/s]"
            ]
          },
          "metadata": {},
          "output_type": "display_data"
        },
        {
          "data": {
            "application/vnd.jupyter.widget-view+json": {
              "model_id": "",
              "version_major": 2,
              "version_minor": 0
            },
            "text/plain": [
              "Datos: 0it [00:00, ?it/s]"
            ]
          },
          "metadata": {},
          "output_type": "display_data"
        },
        {
          "data": {
            "application/vnd.jupyter.widget-view+json": {
              "model_id": "",
              "version_major": 2,
              "version_minor": 0
            },
            "text/plain": [
              "Datos: 0it [00:00, ?it/s]"
            ]
          },
          "metadata": {},
          "output_type": "display_data"
        },
        {
          "data": {
            "application/vnd.jupyter.widget-view+json": {
              "model_id": "",
              "version_major": 2,
              "version_minor": 0
            },
            "text/plain": [
              "Datos: 0it [00:00, ?it/s]"
            ]
          },
          "metadata": {},
          "output_type": "display_data"
        },
        {
          "data": {
            "application/vnd.jupyter.widget-view+json": {
              "model_id": "",
              "version_major": 2,
              "version_minor": 0
            },
            "text/plain": [
              "Datos: 0it [00:00, ?it/s]"
            ]
          },
          "metadata": {},
          "output_type": "display_data"
        },
        {
          "data": {
            "application/vnd.jupyter.widget-view+json": {
              "model_id": "",
              "version_major": 2,
              "version_minor": 0
            },
            "text/plain": [
              "Datos: 0it [00:00, ?it/s]"
            ]
          },
          "metadata": {},
          "output_type": "display_data"
        },
        {
          "data": {
            "application/vnd.jupyter.widget-view+json": {
              "model_id": "",
              "version_major": 2,
              "version_minor": 0
            },
            "text/plain": [
              "Datos: 0it [00:00, ?it/s]"
            ]
          },
          "metadata": {},
          "output_type": "display_data"
        },
        {
          "data": {
            "application/vnd.jupyter.widget-view+json": {
              "model_id": "",
              "version_major": 2,
              "version_minor": 0
            },
            "text/plain": [
              "Datos: 0it [00:00, ?it/s]"
            ]
          },
          "metadata": {},
          "output_type": "display_data"
        },
        {
          "data": {
            "application/vnd.jupyter.widget-view+json": {
              "model_id": "",
              "version_major": 2,
              "version_minor": 0
            },
            "text/plain": [
              "Datos: 0it [00:00, ?it/s]"
            ]
          },
          "metadata": {},
          "output_type": "display_data"
        },
        {
          "data": {
            "application/vnd.jupyter.widget-view+json": {
              "model_id": "",
              "version_major": 2,
              "version_minor": 0
            },
            "text/plain": [
              "Datos: 0it [00:00, ?it/s]"
            ]
          },
          "metadata": {},
          "output_type": "display_data"
        },
        {
          "data": {
            "application/vnd.jupyter.widget-view+json": {
              "model_id": "",
              "version_major": 2,
              "version_minor": 0
            },
            "text/plain": [
              "Datos: 0it [00:00, ?it/s]"
            ]
          },
          "metadata": {},
          "output_type": "display_data"
        },
        {
          "data": {
            "application/vnd.jupyter.widget-view+json": {
              "model_id": "",
              "version_major": 2,
              "version_minor": 0
            },
            "text/plain": [
              "Datos: 0it [00:00, ?it/s]"
            ]
          },
          "metadata": {},
          "output_type": "display_data"
        },
        {
          "data": {
            "application/vnd.jupyter.widget-view+json": {
              "model_id": "",
              "version_major": 2,
              "version_minor": 0
            },
            "text/plain": [
              "Datos: 0it [00:00, ?it/s]"
            ]
          },
          "metadata": {},
          "output_type": "display_data"
        },
        {
          "data": {
            "application/vnd.jupyter.widget-view+json": {
              "model_id": "",
              "version_major": 2,
              "version_minor": 0
            },
            "text/plain": [
              "Datos: 0it [00:00, ?it/s]"
            ]
          },
          "metadata": {},
          "output_type": "display_data"
        },
        {
          "data": {
            "application/vnd.jupyter.widget-view+json": {
              "model_id": "",
              "version_major": 2,
              "version_minor": 0
            },
            "text/plain": [
              "Datos: 0it [00:00, ?it/s]"
            ]
          },
          "metadata": {},
          "output_type": "display_data"
        },
        {
          "data": {
            "application/vnd.jupyter.widget-view+json": {
              "model_id": "",
              "version_major": 2,
              "version_minor": 0
            },
            "text/plain": [
              "Datos: 0it [00:00, ?it/s]"
            ]
          },
          "metadata": {},
          "output_type": "display_data"
        },
        {
          "data": {
            "application/vnd.jupyter.widget-view+json": {
              "model_id": "",
              "version_major": 2,
              "version_minor": 0
            },
            "text/plain": [
              "Datos: 0it [00:00, ?it/s]"
            ]
          },
          "metadata": {},
          "output_type": "display_data"
        },
        {
          "data": {
            "application/vnd.jupyter.widget-view+json": {
              "model_id": "",
              "version_major": 2,
              "version_minor": 0
            },
            "text/plain": [
              "Datos: 0it [00:00, ?it/s]"
            ]
          },
          "metadata": {},
          "output_type": "display_data"
        },
        {
          "data": {
            "application/vnd.jupyter.widget-view+json": {
              "model_id": "",
              "version_major": 2,
              "version_minor": 0
            },
            "text/plain": [
              "Datos: 0it [00:00, ?it/s]"
            ]
          },
          "metadata": {},
          "output_type": "display_data"
        },
        {
          "data": {
            "application/vnd.jupyter.widget-view+json": {
              "model_id": "",
              "version_major": 2,
              "version_minor": 0
            },
            "text/plain": [
              "Datos: 0it [00:00, ?it/s]"
            ]
          },
          "metadata": {},
          "output_type": "display_data"
        },
        {
          "data": {
            "application/vnd.jupyter.widget-view+json": {
              "model_id": "",
              "version_major": 2,
              "version_minor": 0
            },
            "text/plain": [
              "Datos: 0it [00:00, ?it/s]"
            ]
          },
          "metadata": {},
          "output_type": "display_data"
        },
        {
          "data": {
            "application/vnd.jupyter.widget-view+json": {
              "model_id": "",
              "version_major": 2,
              "version_minor": 0
            },
            "text/plain": [
              "Datos: 0it [00:00, ?it/s]"
            ]
          },
          "metadata": {},
          "output_type": "display_data"
        },
        {
          "data": {
            "application/vnd.jupyter.widget-view+json": {
              "model_id": "",
              "version_major": 2,
              "version_minor": 0
            },
            "text/plain": [
              "Datos: 0it [00:00, ?it/s]"
            ]
          },
          "metadata": {},
          "output_type": "display_data"
        },
        {
          "data": {
            "application/vnd.jupyter.widget-view+json": {
              "model_id": "",
              "version_major": 2,
              "version_minor": 0
            },
            "text/plain": [
              "Datos: 0it [00:00, ?it/s]"
            ]
          },
          "metadata": {},
          "output_type": "display_data"
        },
        {
          "data": {
            "application/vnd.jupyter.widget-view+json": {
              "model_id": "",
              "version_major": 2,
              "version_minor": 0
            },
            "text/plain": [
              "Datos: 0it [00:00, ?it/s]"
            ]
          },
          "metadata": {},
          "output_type": "display_data"
        },
        {
          "data": {
            "application/vnd.jupyter.widget-view+json": {
              "model_id": "",
              "version_major": 2,
              "version_minor": 0
            },
            "text/plain": [
              "Datos: 0it [00:00, ?it/s]"
            ]
          },
          "metadata": {},
          "output_type": "display_data"
        },
        {
          "data": {
            "application/vnd.jupyter.widget-view+json": {
              "model_id": "",
              "version_major": 2,
              "version_minor": 0
            },
            "text/plain": [
              "Datos: 0it [00:00, ?it/s]"
            ]
          },
          "metadata": {},
          "output_type": "display_data"
        },
        {
          "data": {
            "application/vnd.jupyter.widget-view+json": {
              "model_id": "",
              "version_major": 2,
              "version_minor": 0
            },
            "text/plain": [
              "Datos: 0it [00:00, ?it/s]"
            ]
          },
          "metadata": {},
          "output_type": "display_data"
        },
        {
          "data": {
            "application/vnd.jupyter.widget-view+json": {
              "model_id": "",
              "version_major": 2,
              "version_minor": 0
            },
            "text/plain": [
              "Datos: 0it [00:00, ?it/s]"
            ]
          },
          "metadata": {},
          "output_type": "display_data"
        },
        {
          "data": {
            "application/vnd.jupyter.widget-view+json": {
              "model_id": "",
              "version_major": 2,
              "version_minor": 0
            },
            "text/plain": [
              "Datos: 0it [00:00, ?it/s]"
            ]
          },
          "metadata": {},
          "output_type": "display_data"
        },
        {
          "data": {
            "application/vnd.jupyter.widget-view+json": {
              "model_id": "",
              "version_major": 2,
              "version_minor": 0
            },
            "text/plain": [
              "Datos: 0it [00:00, ?it/s]"
            ]
          },
          "metadata": {},
          "output_type": "display_data"
        },
        {
          "data": {
            "application/vnd.jupyter.widget-view+json": {
              "model_id": "",
              "version_major": 2,
              "version_minor": 0
            },
            "text/plain": [
              "Datos: 0it [00:00, ?it/s]"
            ]
          },
          "metadata": {},
          "output_type": "display_data"
        },
        {
          "data": {
            "application/vnd.jupyter.widget-view+json": {
              "model_id": "",
              "version_major": 2,
              "version_minor": 0
            },
            "text/plain": [
              "Datos: 0it [00:00, ?it/s]"
            ]
          },
          "metadata": {},
          "output_type": "display_data"
        },
        {
          "data": {
            "application/vnd.jupyter.widget-view+json": {
              "model_id": "4e92c06394fb4e62a94598a9820ba891",
              "version_major": 2,
              "version_minor": 0
            },
            "text/plain": [
              "Datos: 0it [00:00, ?it/s]"
            ]
          },
          "metadata": {},
          "output_type": "display_data"
        },
        {
          "data": {
            "application/vnd.jupyter.widget-view+json": {
              "model_id": "45c276c2eecd4d778daab87703864290",
              "version_major": 2,
              "version_minor": 0
            },
            "text/plain": [
              "Datos: 0it [00:00, ?it/s]"
            ]
          },
          "metadata": {},
          "output_type": "display_data"
        },
        {
          "data": {
            "application/vnd.jupyter.widget-view+json": {
              "model_id": "e4e91f25109d40f19ca2a02579c895f5",
              "version_major": 2,
              "version_minor": 0
            },
            "text/plain": [
              "Datos: 0it [00:00, ?it/s]"
            ]
          },
          "metadata": {},
          "output_type": "display_data"
        },
        {
          "data": {
            "application/vnd.jupyter.widget-view+json": {
              "model_id": "d936cedc94864c2696a05f6a029b41e1",
              "version_major": 2,
              "version_minor": 0
            },
            "text/plain": [
              "Datos: 0it [00:00, ?it/s]"
            ]
          },
          "metadata": {},
          "output_type": "display_data"
        },
        {
          "data": {
            "application/vnd.jupyter.widget-view+json": {
              "model_id": "5b0de8b7463644a5bca7d5deeeb28d37",
              "version_major": 2,
              "version_minor": 0
            },
            "text/plain": [
              "Datos: 0it [00:00, ?it/s]"
            ]
          },
          "metadata": {},
          "output_type": "display_data"
        },
        {
          "data": {
            "application/vnd.jupyter.widget-view+json": {
              "model_id": "216ba68717a048708d958c4f5c83d5ad",
              "version_major": 2,
              "version_minor": 0
            },
            "text/plain": [
              "Datos: 0it [00:00, ?it/s]"
            ]
          },
          "metadata": {},
          "output_type": "display_data"
        },
        {
          "data": {
            "application/vnd.jupyter.widget-view+json": {
              "model_id": "55dbd43b4c954bffa8157249bfb83a19",
              "version_major": 2,
              "version_minor": 0
            },
            "text/plain": [
              "Datos: 0it [00:00, ?it/s]"
            ]
          },
          "metadata": {},
          "output_type": "display_data"
        },
        {
          "data": {
            "application/vnd.jupyter.widget-view+json": {
              "model_id": "4bfd6b60c5154e9ab14c85c2f33dcd12",
              "version_major": 2,
              "version_minor": 0
            },
            "text/plain": [
              "Datos: 0it [00:00, ?it/s]"
            ]
          },
          "metadata": {},
          "output_type": "display_data"
        },
        {
          "data": {
            "application/vnd.jupyter.widget-view+json": {
              "model_id": "6ccdb7f26119492ba8ab551477738125",
              "version_major": 2,
              "version_minor": 0
            },
            "text/plain": [
              "Datos: 0it [00:00, ?it/s]"
            ]
          },
          "metadata": {},
          "output_type": "display_data"
        },
        {
          "data": {
            "application/vnd.jupyter.widget-view+json": {
              "model_id": "2bb9799be53949b7b2539fbb3dbbf016",
              "version_major": 2,
              "version_minor": 0
            },
            "text/plain": [
              "Datos: 0it [00:00, ?it/s]"
            ]
          },
          "metadata": {},
          "output_type": "display_data"
        },
        {
          "data": {
            "application/vnd.jupyter.widget-view+json": {
              "model_id": "59bc579b853a4c658f3e8a56449a99bf",
              "version_major": 2,
              "version_minor": 0
            },
            "text/plain": [
              "Datos: 0it [00:00, ?it/s]"
            ]
          },
          "metadata": {},
          "output_type": "display_data"
        },
        {
          "data": {
            "application/vnd.jupyter.widget-view+json": {
              "model_id": "c94fe55256294d4c81f36292798bbb9b",
              "version_major": 2,
              "version_minor": 0
            },
            "text/plain": [
              "Datos: 0it [00:00, ?it/s]"
            ]
          },
          "metadata": {},
          "output_type": "display_data"
        },
        {
          "data": {
            "application/vnd.jupyter.widget-view+json": {
              "model_id": "493e4fbe5277402da8795903904c0a62",
              "version_major": 2,
              "version_minor": 0
            },
            "text/plain": [
              "Datos: 0it [00:00, ?it/s]"
            ]
          },
          "metadata": {},
          "output_type": "display_data"
        },
        {
          "data": {
            "application/vnd.jupyter.widget-view+json": {
              "model_id": "25eb3f62493e4ae4a311840cb56fd94e",
              "version_major": 2,
              "version_minor": 0
            },
            "text/plain": [
              "Datos: 0it [00:00, ?it/s]"
            ]
          },
          "metadata": {},
          "output_type": "display_data"
        },
        {
          "data": {
            "application/vnd.jupyter.widget-view+json": {
              "model_id": "46dd78c52fbe4bffa422786967b192c6",
              "version_major": 2,
              "version_minor": 0
            },
            "text/plain": [
              "Datos: 0it [00:00, ?it/s]"
            ]
          },
          "metadata": {},
          "output_type": "display_data"
        },
        {
          "data": {
            "application/vnd.jupyter.widget-view+json": {
              "model_id": "f0818fceba5142a4a9bb10f645e4a787",
              "version_major": 2,
              "version_minor": 0
            },
            "text/plain": [
              "Datos: 0it [00:00, ?it/s]"
            ]
          },
          "metadata": {},
          "output_type": "display_data"
        },
        {
          "data": {
            "application/vnd.jupyter.widget-view+json": {
              "model_id": "f3069c81d50d4eb88eb6c47e3d329693",
              "version_major": 2,
              "version_minor": 0
            },
            "text/plain": [
              "Datos: 0it [00:00, ?it/s]"
            ]
          },
          "metadata": {},
          "output_type": "display_data"
        },
        {
          "data": {
            "application/vnd.jupyter.widget-view+json": {
              "model_id": "0f07a557f0ed4734b1c2eb7ab0d952d7",
              "version_major": 2,
              "version_minor": 0
            },
            "text/plain": [
              "Datos: 0it [00:00, ?it/s]"
            ]
          },
          "metadata": {},
          "output_type": "display_data"
        },
        {
          "data": {
            "application/vnd.jupyter.widget-view+json": {
              "model_id": "333e9a690de14955a86bea0a8e30f9a5",
              "version_major": 2,
              "version_minor": 0
            },
            "text/plain": [
              "Datos: 0it [00:00, ?it/s]"
            ]
          },
          "metadata": {},
          "output_type": "display_data"
        },
        {
          "data": {
            "application/vnd.jupyter.widget-view+json": {
              "model_id": "41de71e94e8c47d99f8ebc8cfb4b3a94",
              "version_major": 2,
              "version_minor": 0
            },
            "text/plain": [
              "Datos: 0it [00:00, ?it/s]"
            ]
          },
          "metadata": {},
          "output_type": "display_data"
        },
        {
          "data": {
            "application/vnd.jupyter.widget-view+json": {
              "model_id": "9b8739333b3f48858f9a4ede2ede846c",
              "version_major": 2,
              "version_minor": 0
            },
            "text/plain": [
              "Datos: 0it [00:00, ?it/s]"
            ]
          },
          "metadata": {},
          "output_type": "display_data"
        },
        {
          "data": {
            "application/vnd.jupyter.widget-view+json": {
              "model_id": "52ad49dc83774e76979d19a920dec1b4",
              "version_major": 2,
              "version_minor": 0
            },
            "text/plain": [
              "Datos: 0it [00:00, ?it/s]"
            ]
          },
          "metadata": {},
          "output_type": "display_data"
        },
        {
          "data": {
            "application/vnd.jupyter.widget-view+json": {
              "model_id": "5dfa2814804b4b2f8bf0c99df5ad329c",
              "version_major": 2,
              "version_minor": 0
            },
            "text/plain": [
              "Datos: 0it [00:00, ?it/s]"
            ]
          },
          "metadata": {},
          "output_type": "display_data"
        },
        {
          "data": {
            "application/vnd.jupyter.widget-view+json": {
              "model_id": "8fbe737585774560b6d42b58588953f8",
              "version_major": 2,
              "version_minor": 0
            },
            "text/plain": [
              "Datos: 0it [00:00, ?it/s]"
            ]
          },
          "metadata": {},
          "output_type": "display_data"
        },
        {
          "data": {
            "application/vnd.jupyter.widget-view+json": {
              "model_id": "ca42bdfee24540c49dd8326eaf63a17c",
              "version_major": 2,
              "version_minor": 0
            },
            "text/plain": [
              "Datos: 0it [00:00, ?it/s]"
            ]
          },
          "metadata": {},
          "output_type": "display_data"
        },
        {
          "data": {
            "application/vnd.jupyter.widget-view+json": {
              "model_id": "64bf90e9dd4f4bffaa08e99f0203c6ba",
              "version_major": 2,
              "version_minor": 0
            },
            "text/plain": [
              "Datos: 0it [00:00, ?it/s]"
            ]
          },
          "metadata": {},
          "output_type": "display_data"
        },
        {
          "data": {
            "application/vnd.jupyter.widget-view+json": {
              "model_id": "d2ca4ac67f0f410d930e4d14022724db",
              "version_major": 2,
              "version_minor": 0
            },
            "text/plain": [
              "Datos: 0it [00:00, ?it/s]"
            ]
          },
          "metadata": {},
          "output_type": "display_data"
        },
        {
          "data": {
            "application/vnd.jupyter.widget-view+json": {
              "model_id": "647e44d4e2a84e57b320fe7ebf618eb6",
              "version_major": 2,
              "version_minor": 0
            },
            "text/plain": [
              "Datos: 0it [00:00, ?it/s]"
            ]
          },
          "metadata": {},
          "output_type": "display_data"
        },
        {
          "data": {
            "application/vnd.jupyter.widget-view+json": {
              "model_id": "ad122f994caf4f19bdab47a2ff1b6287",
              "version_major": 2,
              "version_minor": 0
            },
            "text/plain": [
              "Datos: 0it [00:00, ?it/s]"
            ]
          },
          "metadata": {},
          "output_type": "display_data"
        },
        {
          "data": {
            "application/vnd.jupyter.widget-view+json": {
              "model_id": "0501eaf5c64e46e08d28b4fca2de6bd7",
              "version_major": 2,
              "version_minor": 0
            },
            "text/plain": [
              "Datos: 0it [00:00, ?it/s]"
            ]
          },
          "metadata": {},
          "output_type": "display_data"
        },
        {
          "data": {
            "application/vnd.jupyter.widget-view+json": {
              "model_id": "a3058624250a49029c8c3eb76844f7a8",
              "version_major": 2,
              "version_minor": 0
            },
            "text/plain": [
              "Datos: 0it [00:00, ?it/s]"
            ]
          },
          "metadata": {},
          "output_type": "display_data"
        },
        {
          "data": {
            "application/vnd.jupyter.widget-view+json": {
              "model_id": "80b8311b44ac4e1e8c19ea2000008b6a",
              "version_major": 2,
              "version_minor": 0
            },
            "text/plain": [
              "Datos: 0it [00:00, ?it/s]"
            ]
          },
          "metadata": {},
          "output_type": "display_data"
        },
        {
          "data": {
            "application/vnd.jupyter.widget-view+json": {
              "model_id": "af1a03cf2cf645ef883d4a3d69ff3859",
              "version_major": 2,
              "version_minor": 0
            },
            "text/plain": [
              "Datos: 0it [00:00, ?it/s]"
            ]
          },
          "metadata": {},
          "output_type": "display_data"
        },
        {
          "data": {
            "application/vnd.jupyter.widget-view+json": {
              "model_id": "a5dbe3ff848f492b9f05fe032dca0526",
              "version_major": 2,
              "version_minor": 0
            },
            "text/plain": [
              "Datos: 0it [00:00, ?it/s]"
            ]
          },
          "metadata": {},
          "output_type": "display_data"
        },
        {
          "data": {
            "application/vnd.jupyter.widget-view+json": {
              "model_id": "f4ef1e3d427547988130c0d5011cb93f",
              "version_major": 2,
              "version_minor": 0
            },
            "text/plain": [
              "Datos: 0it [00:00, ?it/s]"
            ]
          },
          "metadata": {},
          "output_type": "display_data"
        },
        {
          "data": {
            "application/vnd.jupyter.widget-view+json": {
              "model_id": "37d640286adf423bbae7c2665b3155f4",
              "version_major": 2,
              "version_minor": 0
            },
            "text/plain": [
              "Datos: 0it [00:00, ?it/s]"
            ]
          },
          "metadata": {},
          "output_type": "display_data"
        },
        {
          "data": {
            "application/vnd.jupyter.widget-view+json": {
              "model_id": "ce513d432e8849eea093d5f490731acd",
              "version_major": 2,
              "version_minor": 0
            },
            "text/plain": [
              "Datos: 0it [00:00, ?it/s]"
            ]
          },
          "metadata": {},
          "output_type": "display_data"
        },
        {
          "data": {
            "application/vnd.jupyter.widget-view+json": {
              "model_id": "b155cc3f5d3e42aca45f422615129f2b",
              "version_major": 2,
              "version_minor": 0
            },
            "text/plain": [
              "Datos: 0it [00:00, ?it/s]"
            ]
          },
          "metadata": {},
          "output_type": "display_data"
        },
        {
          "data": {
            "application/vnd.jupyter.widget-view+json": {
              "model_id": "d15b28fe4f154b20a9f4668de3efb1b8",
              "version_major": 2,
              "version_minor": 0
            },
            "text/plain": [
              "Datos: 0it [00:00, ?it/s]"
            ]
          },
          "metadata": {},
          "output_type": "display_data"
        },
        {
          "data": {
            "application/vnd.jupyter.widget-view+json": {
              "model_id": "ed45f9372b644065939f1538ea984735",
              "version_major": 2,
              "version_minor": 0
            },
            "text/plain": [
              "Datos: 0it [00:00, ?it/s]"
            ]
          },
          "metadata": {},
          "output_type": "display_data"
        },
        {
          "data": {
            "application/vnd.jupyter.widget-view+json": {
              "model_id": "960a9774751d412fa907176454d883a6",
              "version_major": 2,
              "version_minor": 0
            },
            "text/plain": [
              "Datos: 0it [00:00, ?it/s]"
            ]
          },
          "metadata": {},
          "output_type": "display_data"
        },
        {
          "data": {
            "application/vnd.jupyter.widget-view+json": {
              "model_id": "0fe627f85bd4456c942ee719a4552b2a",
              "version_major": 2,
              "version_minor": 0
            },
            "text/plain": [
              "Datos: 0it [00:00, ?it/s]"
            ]
          },
          "metadata": {},
          "output_type": "display_data"
        },
        {
          "data": {
            "application/vnd.jupyter.widget-view+json": {
              "model_id": "4a757e94ee3b417eb1782a8204d7724d",
              "version_major": 2,
              "version_minor": 0
            },
            "text/plain": [
              "Datos: 0it [00:00, ?it/s]"
            ]
          },
          "metadata": {},
          "output_type": "display_data"
        },
        {
          "data": {
            "application/vnd.jupyter.widget-view+json": {
              "model_id": "2e9a8c2cb7254ceea94186f7f19aeda4",
              "version_major": 2,
              "version_minor": 0
            },
            "text/plain": [
              "Datos: 0it [00:00, ?it/s]"
            ]
          },
          "metadata": {},
          "output_type": "display_data"
        },
        {
          "data": {
            "application/vnd.jupyter.widget-view+json": {
              "model_id": "eaaee5ced71b48b992a087313ba1c354",
              "version_major": 2,
              "version_minor": 0
            },
            "text/plain": [
              "Datos: 0it [00:00, ?it/s]"
            ]
          },
          "metadata": {},
          "output_type": "display_data"
        },
        {
          "data": {
            "application/vnd.jupyter.widget-view+json": {
              "model_id": "b4107f7131ce443eabcb046b59963a2a",
              "version_major": 2,
              "version_minor": 0
            },
            "text/plain": [
              "Datos: 0it [00:00, ?it/s]"
            ]
          },
          "metadata": {},
          "output_type": "display_data"
        },
        {
          "data": {
            "application/vnd.jupyter.widget-view+json": {
              "model_id": "06576bf36f1c4a0db89e2ae36cc9b3ac",
              "version_major": 2,
              "version_minor": 0
            },
            "text/plain": [
              "Datos: 0it [00:00, ?it/s]"
            ]
          },
          "metadata": {},
          "output_type": "display_data"
        },
        {
          "data": {
            "application/vnd.jupyter.widget-view+json": {
              "model_id": "d41b1df1e6c043f7b336210e7f134f8b",
              "version_major": 2,
              "version_minor": 0
            },
            "text/plain": [
              "Datos: 0it [00:00, ?it/s]"
            ]
          },
          "metadata": {},
          "output_type": "display_data"
        },
        {
          "data": {
            "application/vnd.jupyter.widget-view+json": {
              "model_id": "6c9bb4f4bc6a4166b175149140fdbceb",
              "version_major": 2,
              "version_minor": 0
            },
            "text/plain": [
              "Datos: 0it [00:00, ?it/s]"
            ]
          },
          "metadata": {},
          "output_type": "display_data"
        },
        {
          "data": {
            "application/vnd.jupyter.widget-view+json": {
              "model_id": "58150ed1b3d34271a4a0e02c09656401",
              "version_major": 2,
              "version_minor": 0
            },
            "text/plain": [
              "Datos: 0it [00:00, ?it/s]"
            ]
          },
          "metadata": {},
          "output_type": "display_data"
        },
        {
          "data": {
            "application/vnd.jupyter.widget-view+json": {
              "model_id": "37fe59aa54d2438e816afa2b45767410",
              "version_major": 2,
              "version_minor": 0
            },
            "text/plain": [
              "Datos: 0it [00:00, ?it/s]"
            ]
          },
          "metadata": {},
          "output_type": "display_data"
        }
      ],
      "source": [
        "# realizamos el respectivo entrenamiento\n",
        "mlp.entrenar(X_train, y_train)"
      ]
    },
    {
      "cell_type": "code",
      "execution_count": null,
      "metadata": {
        "id": "-_At5gosUerX",
        "outputId": "f5334d66-ea75-4d98-973c-c2bda419f939"
      },
      "outputs": [
        {
          "name": "stdout",
          "output_type": "stream",
          "text": [
            "Costo final: [[0.44965122]]\n"
          ]
        }
      ],
      "source": [
        "print(f'Costo final: {mlp.costo}')"
      ]
    },
    {
      "cell_type": "code",
      "execution_count": null,
      "metadata": {
        "id": "yz_AhoOIUerX",
        "outputId": "24dc3c7c-cbb6-4b9f-d042-ba634a70263e"
      },
      "outputs": [
        {
          "data": {
            "image/png": "[encoded data removed]",
            "text/plain": [
              "<Figure size 800x400 with 1 Axes>"
            ]
          },
          "metadata": {},
          "output_type": "display_data"
        }
      ],
      "source": [
        "# Visualizar el cambio del costo durante el entrenamiento\n",
        "plot_cost_history(np.array(mlp.costo_historia).ravel())"
      ]
    },
    {
      "cell_type": "markdown",
      "metadata": {
        "id": "5OKU5rFSUerX"
      },
      "source": [
        "## Evaluación\n",
        "\n",
        "Para evaluar nuestro modelo con la información de test, creamos primero la función de predicción y seguidamente evaluamos el rendimiento en test."
      ]
    },
    {
      "cell_type": "code",
      "execution_count": null,
      "metadata": {
        "id": "sP6MT0_fUerX"
      },
      "outputs": [],
      "source": [
        "def prediccion(self, X):\n",
        "    predicciones = []\n",
        "    for x_i in X:\n",
        "        x_i = x_i.reshape(-1, 1)  # Asegurar que x_i sea una columna\n",
        "        z, _, y_pred = self.forward_pass(x_i)\n",
        "        predicciones.append(y_pred)\n",
        "    return np.array(predicciones).flatten()\n",
        "\n",
        "def evaluar(self, X, y, umbral):\n",
        "    # generar predicciones\n",
        "    y_pred = self.prediccion(X)\n",
        "    # convertir a 0 y 1 bajo un umbral\n",
        "    y_pred = np.where(y_pred >= umbral, 1, 0)\n",
        "    # generar reporte de clasificación y matriz de confusión\n",
        "    print(classification_report(y, y_pred))\n",
        "    cm = confusion_matrix(y, y_pred)\n",
        "\n",
        "    # visualizacion de la matriz de confusion\n",
        "    ConfusionMatrixDisplay(cm).plot()\n",
        "    plt.show()\n",
        "\n",
        "    return y_pred, cm"
      ]
    },
    {
      "cell_type": "code",
      "execution_count": null,
      "metadata": {
        "id": "aDbP575XUerY"
      },
      "outputs": [],
      "source": [
        "# Añadimos nuestros nuevos métodos\n",
        "setattr(PerceptronMulticapa, 'prediccion', prediccion)\n",
        "setattr(PerceptronMulticapa, 'evaluar', evaluar)"
      ]
    },
    {
      "cell_type": "code",
      "execution_count": null,
      "metadata": {
        "id": "IwuYekuwUerY",
        "outputId": "987df30a-fcec-41c7-fe3d-f064b103d50f"
      },
      "outputs": [
        {
          "name": "stdout",
          "output_type": "stream",
          "text": [
            "              precision    recall  f1-score   support\n",
            "\n",
            "           0       0.81      0.81      0.81        26\n",
            "           1       0.74      0.74      0.74        19\n",
            "\n",
            "    accuracy                           0.78        45\n",
            "   macro avg       0.77      0.77      0.77        45\n",
            "weighted avg       0.78      0.78      0.78        45\n",
            "\n"
          ]
        },
        {
          "data": {
            "image/png": "[encoded data removed]",
            "text/plain": [
              "<Figure size 640x480 with 2 Axes>"
            ]
          },
          "metadata": {},
          "output_type": "display_data"
        }
      ],
      "source": [
        "# evaluar y visualizar la matriz de confusion usando sklearn\n",
        "y_pred, cm = mlp.evaluar(X_test, y_test, umbral=0.5)"
      ]
    },
    {
      "cell_type": "markdown",
      "metadata": {
        "id": "ITfz3QEaUerY"
      },
      "source": [
        "## 7. Interpretabilidad\n",
        "\n",
        "Gráficamos algunos aspectos de interpretabilidad como la frontera de decisión generada."
      ]
    },
    {
      "cell_type": "code",
      "execution_count": null,
      "metadata": {
        "id": "LgElXgNqUerY",
        "outputId": "0f88d5a8-e080-4ccf-a7d7-15118e1aa1d5"
      },
      "outputs": [
        {
          "data": {
            "image/png": "[encoded data removed]",
            "text/plain": [
              "<Figure size 1200x500 with 2 Axes>"
            ]
          },
          "metadata": {},
          "output_type": "display_data"
        }
      ],
      "source": [
        "plot_decision_boundary(mlp, X, y, h=0.02)"
      ]
    },
    {
      "cell_type": "markdown",
      "metadata": {
        "id": "b4MSwCoxUerZ"
      },
      "source": [
        "## Clase python PerceptronMulticapa Completo"
      ]
    },
    {
      "cell_type": "code",
      "execution_count": null,
      "metadata": {
        "id": "ipd6lMQA1AdB"
      },
      "outputs": [],
      "source": [
        "class PerceptronMulticapa():\n",
        "    def __init__(self, params=None):\n",
        "        # Asignación de hiperparámetros\n",
        "        self.capa_entrada = params['capa_entrada']\n",
        "        self.capa_oculta = params['capa_oculta']\n",
        "        self.capa_salida = params['capa_salida']\n",
        "        self.epochs = params['epochs']\n",
        "        self.lr = params['lr']\n",
        "        self.relu = (lambda x: x*(x > 0))\n",
        "        self.derivada_relu = (lambda x: 1 * (x>0))\n",
        "        self.sigmoide = (lambda x: 1/(1 + np.exp(-x)))\n",
        "        self.derivada_sigmoide = (lambda x: x*(1-x))\n",
        "\n",
        "        # inicialización de pesos y bias\n",
        "        self.inicializacion()\n",
        "\n",
        "    def inicializacion(self):\n",
        "        # inicialización de pesos y bias aleatoria\n",
        "        np.random.seed(42) # fijar una semilla para reproducir resultados\n",
        "\n",
        "        # Capa Oculta\n",
        "        self.pesos_capa_oculta = np.random.rand(self.capa_oculta, self.capa_entrada)\n",
        "        self.bias_capa_oculta = np.ones((self.capa_oculta, 1))\n",
        "\n",
        "        # Capa de salida\n",
        "        self.pesos_capa_salida = np.random.rand(self.capa_salida, self.capa_oculta)\n",
        "        self.bias_capa_salida = np.ones((self.capa_salida, 1))\n",
        "\n",
        "    def forward_pass(self, x):\n",
        "        # Realizar la operacion Wx + b de la capa oculta, x = x_0\n",
        "        z = np.matmul(self.pesos_capa_oculta, x) + self.bias_capa_oculta\n",
        "        # Aplicar función de activación\n",
        "        h = self.relu(z) # z = x_1, h = x_2\n",
        "\n",
        "        # Aplicar la operación Wh + b para generar la salida, y = x_3\n",
        "        y = np.matmul(self.pesos_capa_salida, h) + self.bias_capa_salida\n",
        "        # Aplicar función de activación softmax para la clasificación\n",
        "        y_pred = self.sigmoide(y) # y = x_4\n",
        "\n",
        "        return z, h, y_pred\n",
        "\n",
        "    def actualizar_pesos(self):\n",
        "        # actualizar pesos aplicando gradiente descendiente\n",
        "        self.pesos_capa_salida -= self.lr * self.gradiente_pesos_capa_salida\n",
        "        self.bias_capa_salida -= self.lr * self.gradiente_bias_capa_salida\n",
        "        self.pesos_capa_oculta -= self.lr * self.gradiente_pesos_capa_oculta\n",
        "        self.bias_capa_oculta -= self.lr * self.gradiente_bias_capa_oculta\n",
        "\n",
        "    def backward_pass(self, x, z, y_real, h, y_pred):\n",
        "        # Propagación de error en la capa de salida\n",
        "        # Calculo de error en la capa de salida g_out\n",
        "        #error_salida =  (y_pred - y_real) * self.derivada_sigmoide(y_pred)\n",
        "        error_salida =  y_pred - y_real\n",
        "\n",
        "        # gradiente de los pesos respecto a la capa de salida\n",
        "        # X_in * g_out = error_salida * h.T\n",
        "        # X_in = h es la entrada a la capa de salida\n",
        "        self.gradiente_pesos_capa_salida = np.matmul(error_salida, h.T)\n",
        "        # gradiente de los bias respecto a la capa de salida\n",
        "        self.gradiente_bias_capa_salida = error_salida\n",
        "\n",
        "        # Propagación de error en la capa oculta\n",
        "        # gradiente respecto a la capa oculta\n",
        "        # (g_out * W) * relu'(X_in)\n",
        "        # X_in en esta capa es la salida de aplicar la primera transformación\n",
        "        error_oculta = np.matmul(self.pesos_capa_salida.T, error_salida) * self.derivada_relu(z)\n",
        "        # gradientes con respecto a la capa oculta, de nuevo g_out * X_in\n",
        "        self.gradiente_pesos_capa_oculta = np.matmul(error_oculta, x.T)\n",
        "        self.gradiente_bias_capa_oculta = error_oculta\n",
        "\n",
        "    def entrenar(self, X, y):\n",
        "        # almacenar el costo de cada iteración\n",
        "        self.costo_historia = []\n",
        "\n",
        "        # iterar sobre el número de épocas\n",
        "        for iteracion in tqdm(range(self.epochs), desc='Iteraciones'):\n",
        "            # iterar sobre los datos de entrenamiento\n",
        "            error_total = 0 # error para la iteración i\n",
        "            # iterar sobre todo el conjunto de datos\n",
        "            for i, (x_i, y_i) in tqdm(enumerate(zip(X,y)), desc='Datos', leave=False):\n",
        "                # asegurar de que la entrada y la salida solo tenga una columna\n",
        "                x_i = x_i.reshape(-1, 1)\n",
        "                y_i = y_i.reshape(-1, 1)\n",
        "                # aplicar propagación hacia adelante\n",
        "                z, h, y_pred = self.forward_pass(x_i)\n",
        "                # calcular la perdida de entropia cruzada\n",
        "                perdida = self.calcular_perdida_entropia_cruzada(y_i, y_pred)\n",
        "                error_total += perdida\n",
        "                # aplicar propagación hacia atras\n",
        "                self.backward_pass(x_i, z,  y_i, h, y_pred)\n",
        "                # actualizar pesos y bias usando gradiente descendiente\n",
        "                self.actualizar_pesos()\n",
        "\n",
        "            # almacenar los costos de cada iteración\n",
        "            self.costo = error_total / len(X)\n",
        "            self.costo_historia.append(self.costo)\n",
        "\n",
        "        #print(f'costo: {self.costo[0][0]} en la iteración: {iteracion}')\n",
        "\n",
        "    def calcular_perdida_entropia_cruzada(self, y_real, y_pred):\n",
        "        epsilon = 1e-12\n",
        "        # asegura que los valores de las predicciones esten en un rango\n",
        "        # seguro para evitar logaritmos de 0 y 1\n",
        "        y_pred = np.clip(y_pred, epsilon, 1 - epsilon)\n",
        "        # calculo de la perdida\n",
        "        perdida = -(((1 - y_real) * np.log(1 - y_pred + epsilon)) + (y_real * np.log(y_pred + epsilon)))\n",
        "\n",
        "        return perdida\n",
        "\n",
        "    def prediccion(self, X):\n",
        "        predicciones = []\n",
        "        for x_i in X:\n",
        "            x_i = x_i.reshape(-1, 1)  # Asegurar que x_i sea una columna\n",
        "            z, _, y_pred = self.forward_pass(x_i)\n",
        "            predicciones.append(y_pred)\n",
        "        return np.array(predicciones).flatten()\n",
        "\n",
        "    def evaluar(self, X, y, umbral):\n",
        "        # generar predicciones\n",
        "        y_pred = self.prediccion(X)\n",
        "        # convertir a 0 y 1 bajo un umbral\n",
        "        y_pred = np.where(y_pred >= umbral, 1, 0)\n",
        "        # generar reporte de clasificación y matriz de confusión\n",
        "        print(classification_report(y, y_pred))\n",
        "        cm = confusion_matrix(y, y_pred)\n",
        "\n",
        "        # visualizacion de la matriz de confusion\n",
        "        ConfusionMatrixDisplay(cm).plot()\n",
        "        plt.show()\n",
        "\n",
        "        return y_pred, cm\n"
      ]
    }
  ],
  "metadata": {
    "colab": {
      "provenance": []
    },
    "kernelspec": {
      "display_name": "Python 3 (ipykernel)",
      "language": "python",
      "name": "python3"
    },
    "language_info": {
      "codemirror_mode": {
        "name": "ipython",
        "version": 3
      },
      "file_extension": ".py",
      "mimetype": "text/x-python",
      "name": "python",
      "nbconvert_exporter": "python",
      "pygments_lexer": "ipython3",
      "version": "3.10.12"
    },
    "widgets": {
      "application/vnd.jupyter.widget-state+json": {}
    }
  },
  "nbformat": 4,
  "nbformat_minor": 0
}